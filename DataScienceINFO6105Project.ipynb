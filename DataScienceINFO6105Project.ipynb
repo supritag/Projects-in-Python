{
 "cells": [
  {
   "cell_type": "markdown",
   "metadata": {},
   "source": [
    "# ELO RECOMMENDATION SYSTEM FOR IMPROVING CUSTOMER LOYALTY SCORE\n",
    "\n",
    "Authors: Suprita Ganesh (NU ID : 001490723), Shreya Ganesh (NU ID: 001421148)"
   ]
  },
  {
   "cell_type": "markdown",
   "metadata": {},
   "source": [
    "# Objective \n",
    "Elo is a brazilian credit card company that is trying to predict the customer loyalty score and wants to understand the factors that can improve its customer loyalty score  \n"
   ]
  },
  {
   "cell_type": "markdown",
   "metadata": {},
   "source": [
    " # A simple recommendation system in layman's term\n",
    "A recommendation system is a new age product suggesting tool that utilizes the machine learning algorithms to come up with the most possible next choice that a user would choose keeping in mind his/her previous browsing patterns. In terms of business it can be seen as a marketing strategy used by big companies to retain their customer base, expand their domains and provide better quality services to the existing customers\n",
    "Some of the best examples of the recommendations systems are the Netflix's movie recommendation system,or the amazon telling its shopper the best deals an user can grab based on his/her previous shopping experiences."
   ]
  },
  {
   "cell_type": "markdown",
   "metadata": {},
   "source": [
    "# Algorithms and Softwares used in the project\n",
    "LightGBM: Light GBM is a gradient boosting framework that uses tree based learning algorithm.Light GBM grows tree vertically while other algorithm grows trees horizontally meaning that Light GBM grows tree leaf-wise while other algorithm grows level-wise. It will choose the leaf with max delta loss to grow. When growing the same leaf, Leaf-wise algorithm can reduce more loss than a level-wise algorithm.The size of data is increasing day by day and it is becoming difficult for traditional data science algorithms to give faster results. Light GBM is prefixed as ‘Light’ because of its high speed. Light GBM can handle the large size of data and takes lower memory to run. Another reason of why Light GBM is popular is because it focuses on accuracy of results. LGBM also supports GPU learning and thus data scientists are widely using LGBM for data science application development\n",
    "\n",
    "h20:h2o is an open source machine learning software which is used to find the best machine learning algorithm that can be implemented on a given dataset"
   ]
  },
  {
   "cell_type": "markdown",
   "metadata": {},
   "source": [
    "# Walking through the code with documentation"
   ]
  },
  {
   "cell_type": "markdown",
   "metadata": {},
   "source": [
    "We conducted the preliminary simple exploratory data analysis which involved cleaning the dataset and identifying the missing values. After the initial data cleaning process we used some of the machine learning data visualization tools to understand the data patterns and correlation between the dependent and independent variables of the dataset.Additionally, we have also used h2o to understand which learners works best in the model and trying to implement the model which gives the least Root mean square error for our model and fits our criterion accurately"
   ]
  },
  {
   "cell_type": "markdown",
   "metadata": {},
   "source": [
    "# Importing h2o package in the Jupyter notebook\n",
    "The h2o can be installed in the anaconda package typing the command conda install -c h2oai h2o and after that it can be imported in the Jupyter environment by simply typing the next set of commands in the Jupyter notebook"
   ]
  },
  {
   "cell_type": "code",
   "execution_count": 55,
   "metadata": {
    "scrolled": true
   },
   "outputs": [
    {
     "name": "stdout",
     "output_type": "stream",
     "text": [
      "Checking whether there is an H2O instance running at http://localhost:54321. connected.\n"
     ]
    },
    {
     "data": {
      "text/html": [
       "<div style=\"overflow:auto\"><table style=\"width:50%\"><tr><td>H2O cluster uptime:</td>\n",
       "<td>1 min 02 secs</td></tr>\n",
       "<tr><td>H2O cluster timezone:</td>\n",
       "<td>America/New_York</td></tr>\n",
       "<tr><td>H2O data parsing timezone:</td>\n",
       "<td>UTC</td></tr>\n",
       "<tr><td>H2O cluster version:</td>\n",
       "<td>3.18.0.2</td></tr>\n",
       "<tr><td>H2O cluster version age:</td>\n",
       "<td>9 months and 6 days !!!</td></tr>\n",
       "<tr><td>H2O cluster name:</td>\n",
       "<td>H2O_from_python_Suprita_Ganesh_owoa3p</td></tr>\n",
       "<tr><td>H2O cluster total nodes:</td>\n",
       "<td>1</td></tr>\n",
       "<tr><td>H2O cluster free memory:</td>\n",
       "<td>3.508 Gb</td></tr>\n",
       "<tr><td>H2O cluster total cores:</td>\n",
       "<td>8</td></tr>\n",
       "<tr><td>H2O cluster allowed cores:</td>\n",
       "<td>8</td></tr>\n",
       "<tr><td>H2O cluster status:</td>\n",
       "<td>locked, healthy</td></tr>\n",
       "<tr><td>H2O connection url:</td>\n",
       "<td>http://localhost:54321</td></tr>\n",
       "<tr><td>H2O connection proxy:</td>\n",
       "<td>None</td></tr>\n",
       "<tr><td>H2O internal security:</td>\n",
       "<td>False</td></tr>\n",
       "<tr><td>H2O API Extensions:</td>\n",
       "<td>Algos, AutoML, Core V3, Core V4</td></tr>\n",
       "<tr><td>Python version:</td>\n",
       "<td>3.6.7 final</td></tr></table></div>"
      ],
      "text/plain": [
       "--------------------------  -------------------------------------\n",
       "H2O cluster uptime:         1 min 02 secs\n",
       "H2O cluster timezone:       America/New_York\n",
       "H2O data parsing timezone:  UTC\n",
       "H2O cluster version:        3.18.0.2\n",
       "H2O cluster version age:    9 months and 6 days !!!\n",
       "H2O cluster name:           H2O_from_python_Suprita_Ganesh_owoa3p\n",
       "H2O cluster total nodes:    1\n",
       "H2O cluster free memory:    3.508 Gb\n",
       "H2O cluster total cores:    8\n",
       "H2O cluster allowed cores:  8\n",
       "H2O cluster status:         locked, healthy\n",
       "H2O connection url:         http://localhost:54321\n",
       "H2O connection proxy:\n",
       "H2O internal security:      False\n",
       "H2O API Extensions:         Algos, AutoML, Core V3, Core V4\n",
       "Python version:             3.6.7 final\n",
       "--------------------------  -------------------------------------"
      ]
     },
     "metadata": {},
     "output_type": "display_data"
    }
   ],
   "source": [
    "# Import h2o package and specific estimator \n",
    "import h2o\n",
    "from h2o.automl import H2OAutoML\n",
    "h2o.init(strict_version_check=False) # start h2o\n"
   ]
  },
  {
   "cell_type": "markdown",
   "metadata": {},
   "source": [
    "# Declaring the file path "
   ]
  },
  {
   "cell_type": "markdown",
   "metadata": {},
   "source": [
    "# Setting the value of target variable and output for Regression and Classification Problems"
   ]
  },
  {
   "cell_type": "code",
   "execution_count": 57,
   "metadata": {},
   "outputs": [
    {
     "data": {
      "text/plain": [
       "'/Users/Suprita Ganesh/Desktop/ML3\\\\train.csv'"
      ]
     },
     "execution_count": 57,
     "metadata": {},
     "output_type": "execute_result"
    }
   ],
   "source": [
    "import os\n",
    "\n",
    "data_path=os.path.join(server_path,data_file) \n",
    "data_path"
   ]
  },
  {
   "cell_type": "code",
   "execution_count": 56,
   "metadata": {},
   "outputs": [],
   "source": [
    "#target='' #For Classification and Logistic Regression\n",
    "output='target' #For Linear Regression \n",
    "data_file='train.csv'#Dataset\n",
    "run_time=500\n",
    "run_id='SOME_ID_20180617_221529' \n",
    "server_path='/Users/Suprita Ganesh/Desktop/ML3'\n",
    "classification=True\n",
    "scale=False\n",
    "max_models=None\n",
    "balance_y=False # balance_classes=balance_y\n",
    "balance_threshold=0.2\n",
    "project =\"automl_test\"  # project_name = project"
   ]
  },
  {
   "cell_type": "code",
   "execution_count": 58,
   "metadata": {},
   "outputs": [],
   "source": [
    "# Loading packages\n",
    "import numpy as np \n",
    "import pandas as pd \n",
    "import matplotlib.pyplot as plt \n",
    "import seaborn as sns \n",
    "from scipy.stats import norm \n",
    "from sklearn.preprocessing import StandardScaler \n",
    "from scipy import stats \n",
    "import warnings \n",
    "%matplotlib inline\n",
    "import gc\n",
    "import lightgbm as lgb\n",
    "from sklearn.model_selection import KFold\n",
    "import time\n",
    "import sys\n",
    "import datetime\n",
    "from sklearn.metrics import mean_squared_error\n",
    "warnings.simplefilter(action='ignore', category=FutureWarning)\n",
    "pd.set_option('display.max_columns', 500)\n",
    "warnings.simplefilter(action='ignore', category=FutureWarning)\n"
   ]
  },
  {
   "cell_type": "code",
   "execution_count": 59,
   "metadata": {},
   "outputs": [
    {
     "data": {
      "text/html": [
       "<div>\n",
       "<style scoped>\n",
       "    .dataframe tbody tr th:only-of-type {\n",
       "        vertical-align: middle;\n",
       "    }\n",
       "\n",
       "    .dataframe tbody tr th {\n",
       "        vertical-align: top;\n",
       "    }\n",
       "\n",
       "    .dataframe thead th {\n",
       "        text-align: right;\n",
       "    }\n",
       "</style>\n",
       "<table border=\"1\" class=\"dataframe\">\n",
       "  <thead>\n",
       "    <tr style=\"text-align: right;\">\n",
       "      <th></th>\n",
       "      <th>first_active_month</th>\n",
       "      <th>card_id</th>\n",
       "      <th>feature_1</th>\n",
       "      <th>feature_2</th>\n",
       "      <th>feature_3</th>\n",
       "      <th>target</th>\n",
       "    </tr>\n",
       "  </thead>\n",
       "  <tbody>\n",
       "    <tr>\n",
       "      <th>0</th>\n",
       "      <td>2017-06</td>\n",
       "      <td>C_ID_92a2005557</td>\n",
       "      <td>5</td>\n",
       "      <td>2</td>\n",
       "      <td>1</td>\n",
       "      <td>-0.820283</td>\n",
       "    </tr>\n",
       "    <tr>\n",
       "      <th>1</th>\n",
       "      <td>2017-01</td>\n",
       "      <td>C_ID_3d0044924f</td>\n",
       "      <td>4</td>\n",
       "      <td>1</td>\n",
       "      <td>0</td>\n",
       "      <td>0.392913</td>\n",
       "    </tr>\n",
       "    <tr>\n",
       "      <th>2</th>\n",
       "      <td>2016-08</td>\n",
       "      <td>C_ID_d639edf6cd</td>\n",
       "      <td>2</td>\n",
       "      <td>2</td>\n",
       "      <td>0</td>\n",
       "      <td>0.688056</td>\n",
       "    </tr>\n",
       "    <tr>\n",
       "      <th>3</th>\n",
       "      <td>2017-09</td>\n",
       "      <td>C_ID_186d6a6901</td>\n",
       "      <td>4</td>\n",
       "      <td>3</td>\n",
       "      <td>0</td>\n",
       "      <td>0.142495</td>\n",
       "    </tr>\n",
       "    <tr>\n",
       "      <th>4</th>\n",
       "      <td>2017-11</td>\n",
       "      <td>C_ID_cdbd2c0db2</td>\n",
       "      <td>1</td>\n",
       "      <td>3</td>\n",
       "      <td>0</td>\n",
       "      <td>-0.159749</td>\n",
       "    </tr>\n",
       "  </tbody>\n",
       "</table>\n",
       "</div>"
      ],
      "text/plain": [
       "  first_active_month          card_id  feature_1  feature_2  feature_3  \\\n",
       "0            2017-06  C_ID_92a2005557          5          2          1   \n",
       "1            2017-01  C_ID_3d0044924f          4          1          0   \n",
       "2            2016-08  C_ID_d639edf6cd          2          2          0   \n",
       "3            2017-09  C_ID_186d6a6901          4          3          0   \n",
       "4            2017-11  C_ID_cdbd2c0db2          1          3          0   \n",
       "\n",
       "     target  \n",
       "0 -0.820283  \n",
       "1  0.392913  \n",
       "2  0.688056  \n",
       "3  0.142495  \n",
       "4 -0.159749  "
      ]
     },
     "execution_count": 59,
     "metadata": {},
     "output_type": "execute_result"
    }
   ],
   "source": [
    " train= pd.read_csv(\"train.csv\")## train's data set\n",
    "train.head()"
   ]
  },
  {
   "cell_type": "code",
   "execution_count": 60,
   "metadata": {},
   "outputs": [
    {
     "data": {
      "text/plain": [
       "(201917, 6)"
      ]
     },
     "execution_count": 60,
     "metadata": {},
     "output_type": "execute_result"
    }
   ],
   "source": [
    "train.shape # Looking at the shape of the train dataset"
   ]
  },
  {
   "cell_type": "code",
   "execution_count": 61,
   "metadata": {},
   "outputs": [
    {
     "data": {
      "text/html": [
       "<div>\n",
       "<style scoped>\n",
       "    .dataframe tbody tr th:only-of-type {\n",
       "        vertical-align: middle;\n",
       "    }\n",
       "\n",
       "    .dataframe tbody tr th {\n",
       "        vertical-align: top;\n",
       "    }\n",
       "\n",
       "    .dataframe thead th {\n",
       "        text-align: right;\n",
       "    }\n",
       "</style>\n",
       "<table border=\"1\" class=\"dataframe\">\n",
       "  <thead>\n",
       "    <tr style=\"text-align: right;\">\n",
       "      <th></th>\n",
       "      <th>first_active_month</th>\n",
       "      <th>card_id</th>\n",
       "      <th>feature_1</th>\n",
       "      <th>feature_2</th>\n",
       "      <th>feature_3</th>\n",
       "    </tr>\n",
       "  </thead>\n",
       "  <tbody>\n",
       "    <tr>\n",
       "      <th>0</th>\n",
       "      <td>2017-04</td>\n",
       "      <td>C_ID_0ab67a22ab</td>\n",
       "      <td>3</td>\n",
       "      <td>3</td>\n",
       "      <td>1</td>\n",
       "    </tr>\n",
       "    <tr>\n",
       "      <th>1</th>\n",
       "      <td>2017-01</td>\n",
       "      <td>C_ID_130fd0cbdd</td>\n",
       "      <td>2</td>\n",
       "      <td>3</td>\n",
       "      <td>0</td>\n",
       "    </tr>\n",
       "    <tr>\n",
       "      <th>2</th>\n",
       "      <td>2017-08</td>\n",
       "      <td>C_ID_b709037bc5</td>\n",
       "      <td>5</td>\n",
       "      <td>1</td>\n",
       "      <td>1</td>\n",
       "    </tr>\n",
       "    <tr>\n",
       "      <th>3</th>\n",
       "      <td>2017-12</td>\n",
       "      <td>C_ID_d27d835a9f</td>\n",
       "      <td>2</td>\n",
       "      <td>1</td>\n",
       "      <td>0</td>\n",
       "    </tr>\n",
       "    <tr>\n",
       "      <th>4</th>\n",
       "      <td>2015-12</td>\n",
       "      <td>C_ID_2b5e3df5c2</td>\n",
       "      <td>5</td>\n",
       "      <td>1</td>\n",
       "      <td>1</td>\n",
       "    </tr>\n",
       "  </tbody>\n",
       "</table>\n",
       "</div>"
      ],
      "text/plain": [
       "  first_active_month          card_id  feature_1  feature_2  feature_3\n",
       "0            2017-04  C_ID_0ab67a22ab          3          3          1\n",
       "1            2017-01  C_ID_130fd0cbdd          2          3          0\n",
       "2            2017-08  C_ID_b709037bc5          5          1          1\n",
       "3            2017-12  C_ID_d27d835a9f          2          1          0\n",
       "4            2015-12  C_ID_2b5e3df5c2          5          1          1"
      ]
     },
     "execution_count": 61,
     "metadata": {},
     "output_type": "execute_result"
    }
   ],
   "source": [
    "test= pd.read_csv(\"test.csv\")## train's data set\n",
    "test.head()"
   ]
  },
  {
   "cell_type": "markdown",
   "metadata": {},
   "source": [
    "#  Data Visualization to understand  relationship between first active month count in train set, test set and the number of cards"
   ]
  },
  {
   "cell_type": "code",
   "execution_count": 13,
   "metadata": {},
   "outputs": [
    {
     "data": {
      "image/png": "[encoded data removed]",
      "text/plain": [
       "<Figure size 1008x432 with 1 Axes>"
      ]
     },
     "metadata": {
      "needs_background": "light"
     },
     "output_type": "display_data"
    },
    {
     "data": {
      "image/png": "[encoded data removed]",
      "text/plain": [
       "<Figure size 1008x432 with 1 Axes>"
      ]
     },
     "metadata": {
      "needs_background": "light"
     },
     "output_type": "display_data"
    }
   ],
   "source": [
    "train['first_active_month']= pd.to_datetime(train['first_active_month'], errors='coerce')\n",
    "cnt_srs = train['first_active_month'].dt.date.value_counts()\n",
    "cnt_srs = cnt_srs.sort_index()\n",
    "plt.figure(figsize=(14,6))\n",
    "sns.barplot(cnt_srs.index, cnt_srs.values, alpha=0.8, color='violet')\n",
    "plt.xticks(rotation='vertical')\n",
    "plt.xlabel('First active month', fontsize=12)\n",
    "plt.ylabel('Number of cards', fontsize=12)\n",
    "plt.title(\"First active month count in train set\")\n",
    "plt.show()\n",
    "test['first_active_month']= pd.to_datetime(test['first_active_month'], errors='coerce')\n",
    "cnt_srs = test['first_active_month'].dt.date.value_counts()\n",
    "cnt_srs = cnt_srs.sort_index()\n",
    "plt.figure(figsize=(14,6))\n",
    "sns.barplot(cnt_srs.index, cnt_srs.values,palette=\"GnBu_d\", alpha=1, color='pink')\n",
    "plt.xticks(rotation='vertical')\n",
    "plt.xlabel('First active month', fontsize=12)\n",
    "plt.ylabel('Number of cards', fontsize=12)\n",
    "plt.title(\"First active month count in test set\")\n",
    "plt.show()\n"
   ]
  },
  {
   "cell_type": "markdown",
   "metadata": {},
   "source": [
    "# Using train set to find correlation between feature 1, feature 2, feature 3 ad target variable"
   ]
  },
  {
   "cell_type": "code",
   "execution_count": 37,
   "metadata": {},
   "outputs": [
    {
     "data": {
      "text/html": [
       "<div>\n",
       "<style scoped>\n",
       "    .dataframe tbody tr th:only-of-type {\n",
       "        vertical-align: middle;\n",
       "    }\n",
       "\n",
       "    .dataframe tbody tr th {\n",
       "        vertical-align: top;\n",
       "    }\n",
       "\n",
       "    .dataframe thead th {\n",
       "        text-align: right;\n",
       "    }\n",
       "</style>\n",
       "<table border=\"1\" class=\"dataframe\">\n",
       "  <thead>\n",
       "    <tr style=\"text-align: right;\">\n",
       "      <th></th>\n",
       "      <th>feature_1</th>\n",
       "      <th>feature_2</th>\n",
       "      <th>feature_3</th>\n",
       "      <th>target</th>\n",
       "    </tr>\n",
       "  </thead>\n",
       "  <tbody>\n",
       "    <tr>\n",
       "      <th>feature_1</th>\n",
       "      <td>1.000000</td>\n",
       "      <td>-0.130969</td>\n",
       "      <td>0.583092</td>\n",
       "      <td>-0.014251</td>\n",
       "    </tr>\n",
       "    <tr>\n",
       "      <th>feature_2</th>\n",
       "      <td>-0.130969</td>\n",
       "      <td>1.000000</td>\n",
       "      <td>0.060925</td>\n",
       "      <td>-0.006242</td>\n",
       "    </tr>\n",
       "    <tr>\n",
       "      <th>feature_3</th>\n",
       "      <td>0.583092</td>\n",
       "      <td>0.060925</td>\n",
       "      <td>1.000000</td>\n",
       "      <td>-0.008125</td>\n",
       "    </tr>\n",
       "    <tr>\n",
       "      <th>target</th>\n",
       "      <td>-0.014251</td>\n",
       "      <td>-0.006242</td>\n",
       "      <td>-0.008125</td>\n",
       "      <td>1.000000</td>\n",
       "    </tr>\n",
       "  </tbody>\n",
       "</table>\n",
       "</div>"
      ],
      "text/plain": [
       "           feature_1  feature_2  feature_3    target\n",
       "feature_1   1.000000  -0.130969   0.583092 -0.014251\n",
       "feature_2  -0.130969   1.000000   0.060925 -0.006242\n",
       "feature_3   0.583092   0.060925   1.000000 -0.008125\n",
       "target     -0.014251  -0.006242  -0.008125  1.000000"
      ]
     },
     "execution_count": 37,
     "metadata": {},
     "output_type": "execute_result"
    }
   ],
   "source": [
    "train.corr()\n"
   ]
  },
  {
   "cell_type": "markdown",
   "metadata": {},
   "source": [
    "# Histograms plotting to understand the distribution of the target variable"
   ]
  },
  {
   "cell_type": "code",
   "execution_count": 15,
   "metadata": {},
   "outputs": [
    {
     "data": {
      "text/plain": [
       "<matplotlib.axes._subplots.AxesSubplot at 0x1f91b134978>"
      ]
     },
     "execution_count": 15,
     "metadata": {},
     "output_type": "execute_result"
    },
    {
     "data": {
      "image/png": "[encoded data removed]",
      "text/plain": [
       "<Figure size 1008x432 with 1 Axes>"
      ]
     },
     "metadata": {
      "needs_background": "light"
     },
     "output_type": "display_data"
    }
   ],
   "source": [
    "#histogram\n",
    "f, ax = plt.subplots(figsize=(14, 6))\n",
    "sns.distplot(train['target'],vertical=True,color='brown')\n"
   ]
  },
  {
   "cell_type": "code",
   "execution_count": 62,
   "metadata": {},
   "outputs": [
    {
     "data": {
      "text/plain": [
       "count    201917.000000\n",
       "mean         -0.393636\n",
       "std           3.850500\n",
       "min         -33.219281\n",
       "25%          -0.883110\n",
       "50%          -0.023437\n",
       "75%           0.765453\n",
       "max          17.965068\n",
       "Name: target, dtype: float64"
      ]
     },
     "execution_count": 62,
     "metadata": {},
     "output_type": "execute_result"
    }
   ],
   "source": [
    "train['target'].describe()\n"
   ]
  },
  {
   "cell_type": "markdown",
   "metadata": {},
   "source": [
    "# Using box and Violin plot visualize relationship between feature 1 and target "
   ]
  },
  {
   "cell_type": "code",
   "execution_count": 17,
   "metadata": {},
   "outputs": [
    {
     "data": {
      "image/png": "[encoded data removed]",
      "text/plain": [
       "<Figure size 1008x576 with 2 Axes>"
      ]
     },
     "metadata": {
      "needs_background": "light"
     },
     "output_type": "display_data"
    }
   ],
   "source": [
    "fig, ((ax1, ax2)) = plt.subplots(nrows=1, ncols=2, figsize=(14,8))\n",
    "\n",
    "data = pd.concat([train['target'], train['feature_1']], axis=1)\n",
    "fig = sns.boxplot(x='feature_1', y=\"target\", data=data,ax=ax1)\n",
    "\n",
    "# feature 1\n",
    "sns.violinplot(x=\"feature_1\", y=\"target\", data=data,ax=ax2)\n",
    "plt.xticks(rotation='vertical')\n",
    "plt.xlabel('Feature 1', fontsize=12)\n",
    "plt.ylabel('target', fontsize=12)\n",
    "plt.title(\"Feature 1 distribution\")\n",
    "plt.show()\n"
   ]
  },
  {
   "cell_type": "markdown",
   "metadata": {},
   "source": [
    "# Using box and Violin plot visualize relationship between feature 2 and target"
   ]
  },
  {
   "cell_type": "code",
   "execution_count": 18,
   "metadata": {},
   "outputs": [
    {
     "data": {
      "image/png": "[encoded data removed]",
      "text/plain": [
       "<Figure size 1008x576 with 2 Axes>"
      ]
     },
     "metadata": {
      "needs_background": "light"
     },
     "output_type": "display_data"
    }
   ],
   "source": [
    "fig, ((ax1, ax2)) = plt.subplots(nrows=1, ncols=2, figsize=(14,8))\n",
    "\n",
    "data = pd.concat([train['target'], train['feature_2']], axis=1)\n",
    "fig = sns.boxplot(x='feature_2', y=\"target\", data=data,ax=ax1)\n",
    "\n",
    "# feature 1\n",
    "sns.violinplot(x=\"feature_2\", y=\"target\", data=data,ax=ax2)\n",
    "plt.xticks(rotation='vertical')\n",
    "plt.xlabel('Feature 2', fontsize=12)\n",
    "plt.ylabel('target', fontsize=12)\n",
    "plt.title(\"Feature 2 distribution\")\n",
    "plt.show()\n"
   ]
  },
  {
   "cell_type": "markdown",
   "metadata": {},
   "source": [
    "# Using box and Violin plot visualize relationship between feature 3 and target "
   ]
  },
  {
   "cell_type": "code",
   "execution_count": 19,
   "metadata": {},
   "outputs": [
    {
     "data": {
      "image/png": "[encoded data removed]",
      "text/plain": [
       "<Figure size 1008x576 with 2 Axes>"
      ]
     },
     "metadata": {
      "needs_background": "light"
     },
     "output_type": "display_data"
    }
   ],
   "source": [
    "fig, ((ax1, ax2)) = plt.subplots(nrows=1, ncols=2, figsize=(14,8))\n",
    "\n",
    "data = pd.concat([train['target'], train['feature_3']], axis=1)\n",
    "fig = sns.boxplot(x='feature_3', y=\"target\", data=data,ax=ax1)\n",
    "\n",
    "# feature 1\n",
    "sns.violinplot(x=\"feature_3\", y=\"target\", data=data,ax=ax2)\n",
    "plt.xticks(rotation='vertical')\n",
    "plt.xlabel('feature_3', fontsize=12)\n",
    "plt.ylabel('target', fontsize=12)\n",
    "plt.title(\"feature_3 distribution\")\n",
    "plt.show()\n"
   ]
  },
  {
   "cell_type": "markdown",
   "metadata": {},
   "source": [
    "#  Plotting feature 1 and feature 3 using boxplot"
   ]
  },
  {
   "cell_type": "code",
   "execution_count": 20,
   "metadata": {},
   "outputs": [
    {
     "data": {
      "text/plain": [
       "<matplotlib.axes._subplots.AxesSubplot at 0x1f921c30da0>"
      ]
     },
     "execution_count": 20,
     "metadata": {},
     "output_type": "execute_result"
    },
    {
     "data": {
      "image/png": "[encoded data removed]",
      "text/plain": [
       "<Figure size 1008x576 with 2 Axes>"
      ]
     },
     "metadata": {
      "needs_background": "light"
     },
     "output_type": "display_data"
    }
   ],
   "source": [
    "fig, ((ax1, ax2)) = plt.subplots(nrows=1, ncols=2, figsize=(14,8))\n",
    "\n",
    "sns.boxplot(x=\"feature_1\", y=\"target\", hue=\"feature_3\",\n",
    "               data=train, palette=\"Blues\",ax=ax1)\n",
    "\n",
    "sns.boxplot(x=\"feature_3\", y=\"target\", hue=\"feature_1\",\n",
    "               data=train, palette=\"Blues\",ax=ax2)\n"
   ]
  },
  {
   "cell_type": "markdown",
   "metadata": {},
   "source": [
    "# Plotting feature 1 and feature 2 with respect to target and each other"
   ]
  },
  {
   "cell_type": "code",
   "execution_count": 21,
   "metadata": {},
   "outputs": [
    {
     "data": {
      "text/plain": [
       "<matplotlib.axes._subplots.AxesSubplot at 0x1f91fed92b0>"
      ]
     },
     "execution_count": 21,
     "metadata": {},
     "output_type": "execute_result"
    },
    {
     "data": {
      "image/png": "[encoded data removed]",
      "text/plain": [
       "<Figure size 1008x576 with 2 Axes>"
      ]
     },
     "metadata": {
      "needs_background": "light"
     },
     "output_type": "display_data"
    }
   ],
   "source": [
    "fig, ((ax1, ax2)) = plt.subplots(nrows=1, ncols=2, figsize=(14,8))\n",
    "\n",
    "sns.boxplot(x=\"feature_1\", y=\"target\", hue=\"feature_2\",\n",
    "               data=train, palette=\"Set3\",ax=ax1)\n",
    "\n",
    "sns.boxplot(x=\"feature_2\", y=\"target\", hue=\"feature_1\",\n",
    "               data=train, palette=\"Set3\",ax=ax2)\n"
   ]
  },
  {
   "cell_type": "code",
   "execution_count": 63,
   "metadata": {},
   "outputs": [
    {
     "data": {
      "text/html": [
       "<div>\n",
       "<style scoped>\n",
       "    .dataframe tbody tr th:only-of-type {\n",
       "        vertical-align: middle;\n",
       "    }\n",
       "\n",
       "    .dataframe tbody tr th {\n",
       "        vertical-align: top;\n",
       "    }\n",
       "\n",
       "    .dataframe thead th {\n",
       "        text-align: right;\n",
       "    }\n",
       "</style>\n",
       "<table border=\"1\" class=\"dataframe\">\n",
       "  <thead>\n",
       "    <tr style=\"text-align: right;\">\n",
       "      <th></th>\n",
       "      <th>Total</th>\n",
       "      <th>Percent</th>\n",
       "    </tr>\n",
       "  </thead>\n",
       "  <tbody>\n",
       "    <tr>\n",
       "      <th>target</th>\n",
       "      <td>0</td>\n",
       "      <td>0.0</td>\n",
       "    </tr>\n",
       "    <tr>\n",
       "      <th>feature_3</th>\n",
       "      <td>0</td>\n",
       "      <td>0.0</td>\n",
       "    </tr>\n",
       "    <tr>\n",
       "      <th>feature_2</th>\n",
       "      <td>0</td>\n",
       "      <td>0.0</td>\n",
       "    </tr>\n",
       "    <tr>\n",
       "      <th>feature_1</th>\n",
       "      <td>0</td>\n",
       "      <td>0.0</td>\n",
       "    </tr>\n",
       "    <tr>\n",
       "      <th>card_id</th>\n",
       "      <td>0</td>\n",
       "      <td>0.0</td>\n",
       "    </tr>\n",
       "    <tr>\n",
       "      <th>first_active_month</th>\n",
       "      <td>0</td>\n",
       "      <td>0.0</td>\n",
       "    </tr>\n",
       "  </tbody>\n",
       "</table>\n",
       "</div>"
      ],
      "text/plain": [
       "                    Total  Percent\n",
       "target                  0      0.0\n",
       "feature_3               0      0.0\n",
       "feature_2               0      0.0\n",
       "feature_1               0      0.0\n",
       "card_id                 0      0.0\n",
       "first_active_month      0      0.0"
      ]
     },
     "execution_count": 63,
     "metadata": {},
     "output_type": "execute_result"
    }
   ],
   "source": [
    "# checking missing data\n",
    "total = train.isnull().sum().sort_values(ascending = False)\n",
    "percent = (train.isnull().sum()/train.isnull().count()*100).sort_values(ascending = False)\n",
    "missing_data  = pd.concat([total, percent], axis=1, keys=['Total', 'Percent'])\n",
    "missing_data.head(20)\n"
   ]
  },
  {
   "cell_type": "code",
   "execution_count": 64,
   "metadata": {},
   "outputs": [
    {
     "data": {
      "text/html": [
       "<div>\n",
       "<style scoped>\n",
       "    .dataframe tbody tr th:only-of-type {\n",
       "        vertical-align: middle;\n",
       "    }\n",
       "\n",
       "    .dataframe tbody tr th {\n",
       "        vertical-align: top;\n",
       "    }\n",
       "\n",
       "    .dataframe thead th {\n",
       "        text-align: right;\n",
       "    }\n",
       "</style>\n",
       "<table border=\"1\" class=\"dataframe\">\n",
       "  <thead>\n",
       "    <tr style=\"text-align: right;\">\n",
       "      <th></th>\n",
       "      <th>Total</th>\n",
       "      <th>Percent</th>\n",
       "    </tr>\n",
       "  </thead>\n",
       "  <tbody>\n",
       "    <tr>\n",
       "      <th>first_active_month</th>\n",
       "      <td>1</td>\n",
       "      <td>0.000809</td>\n",
       "    </tr>\n",
       "    <tr>\n",
       "      <th>feature_3</th>\n",
       "      <td>0</td>\n",
       "      <td>0.000000</td>\n",
       "    </tr>\n",
       "    <tr>\n",
       "      <th>feature_2</th>\n",
       "      <td>0</td>\n",
       "      <td>0.000000</td>\n",
       "    </tr>\n",
       "    <tr>\n",
       "      <th>feature_1</th>\n",
       "      <td>0</td>\n",
       "      <td>0.000000</td>\n",
       "    </tr>\n",
       "    <tr>\n",
       "      <th>card_id</th>\n",
       "      <td>0</td>\n",
       "      <td>0.000000</td>\n",
       "    </tr>\n",
       "  </tbody>\n",
       "</table>\n",
       "</div>"
      ],
      "text/plain": [
       "                    Total   Percent\n",
       "first_active_month      1  0.000809\n",
       "feature_3               0  0.000000\n",
       "feature_2               0  0.000000\n",
       "feature_1               0  0.000000\n",
       "card_id                 0  0.000000"
      ]
     },
     "execution_count": 64,
     "metadata": {},
     "output_type": "execute_result"
    }
   ],
   "source": [
    "# checking missing data\n",
    "total = test.isnull().sum().sort_values(ascending = False)\n",
    "percent = (test.isnull().sum()/test.isnull().count()*100).sort_values(ascending = False)\n",
    "missing_data  = pd.concat([total, percent], axis=1, keys=['Total', 'Percent'])\n",
    "missing_data.head(20)"
   ]
  },
  {
   "cell_type": "code",
   "execution_count": 65,
   "metadata": {},
   "outputs": [],
   "source": [
    "import datetime\n",
    "\n",
    "for df in [train,test]:\n",
    "    df['first_active_month'] = pd.to_datetime(df['first_active_month'])\n",
    "    df['year'] = df['first_active_month'].dt.year\n",
    "    df['month'] = df['first_active_month'].dt.month\n",
    "    df['elapsed_time'] = (datetime.date(2018, 2, 1) - df['first_active_month'].dt.date).dt.days\n",
    "\n",
    "target = train['target']\n",
    "del train['target']\n"
   ]
  },
  {
   "cell_type": "code",
   "execution_count": 66,
   "metadata": {},
   "outputs": [
    {
     "data": {
      "text/html": [
       "<div>\n",
       "<style scoped>\n",
       "    .dataframe tbody tr th:only-of-type {\n",
       "        vertical-align: middle;\n",
       "    }\n",
       "\n",
       "    .dataframe tbody tr th {\n",
       "        vertical-align: top;\n",
       "    }\n",
       "\n",
       "    .dataframe thead th {\n",
       "        text-align: right;\n",
       "    }\n",
       "</style>\n",
       "<table border=\"1\" class=\"dataframe\">\n",
       "  <thead>\n",
       "    <tr style=\"text-align: right;\">\n",
       "      <th></th>\n",
       "      <th>first_active_month</th>\n",
       "      <th>card_id</th>\n",
       "      <th>feature_1</th>\n",
       "      <th>feature_2</th>\n",
       "      <th>feature_3</th>\n",
       "      <th>year</th>\n",
       "      <th>month</th>\n",
       "      <th>elapsed_time</th>\n",
       "    </tr>\n",
       "  </thead>\n",
       "  <tbody>\n",
       "    <tr>\n",
       "      <th>0</th>\n",
       "      <td>2017-06-01</td>\n",
       "      <td>C_ID_92a2005557</td>\n",
       "      <td>5</td>\n",
       "      <td>2</td>\n",
       "      <td>1</td>\n",
       "      <td>2017</td>\n",
       "      <td>6</td>\n",
       "      <td>245</td>\n",
       "    </tr>\n",
       "    <tr>\n",
       "      <th>1</th>\n",
       "      <td>2017-01-01</td>\n",
       "      <td>C_ID_3d0044924f</td>\n",
       "      <td>4</td>\n",
       "      <td>1</td>\n",
       "      <td>0</td>\n",
       "      <td>2017</td>\n",
       "      <td>1</td>\n",
       "      <td>396</td>\n",
       "    </tr>\n",
       "    <tr>\n",
       "      <th>2</th>\n",
       "      <td>2016-08-01</td>\n",
       "      <td>C_ID_d639edf6cd</td>\n",
       "      <td>2</td>\n",
       "      <td>2</td>\n",
       "      <td>0</td>\n",
       "      <td>2016</td>\n",
       "      <td>8</td>\n",
       "      <td>549</td>\n",
       "    </tr>\n",
       "    <tr>\n",
       "      <th>3</th>\n",
       "      <td>2017-09-01</td>\n",
       "      <td>C_ID_186d6a6901</td>\n",
       "      <td>4</td>\n",
       "      <td>3</td>\n",
       "      <td>0</td>\n",
       "      <td>2017</td>\n",
       "      <td>9</td>\n",
       "      <td>153</td>\n",
       "    </tr>\n",
       "    <tr>\n",
       "      <th>4</th>\n",
       "      <td>2017-11-01</td>\n",
       "      <td>C_ID_cdbd2c0db2</td>\n",
       "      <td>1</td>\n",
       "      <td>3</td>\n",
       "      <td>0</td>\n",
       "      <td>2017</td>\n",
       "      <td>11</td>\n",
       "      <td>92</td>\n",
       "    </tr>\n",
       "  </tbody>\n",
       "</table>\n",
       "</div>"
      ],
      "text/plain": [
       "  first_active_month          card_id  feature_1  feature_2  feature_3  year  \\\n",
       "0         2017-06-01  C_ID_92a2005557          5          2          1  2017   \n",
       "1         2017-01-01  C_ID_3d0044924f          4          1          0  2017   \n",
       "2         2016-08-01  C_ID_d639edf6cd          2          2          0  2016   \n",
       "3         2017-09-01  C_ID_186d6a6901          4          3          0  2017   \n",
       "4         2017-11-01  C_ID_cdbd2c0db2          1          3          0  2017   \n",
       "\n",
       "   month  elapsed_time  \n",
       "0      6           245  \n",
       "1      1           396  \n",
       "2      8           549  \n",
       "3      9           153  \n",
       "4     11            92  "
      ]
     },
     "execution_count": 66,
     "metadata": {},
     "output_type": "execute_result"
    }
   ],
   "source": [
    "train.head() # Looking at how the data looks like\n"
   ]
  },
  {
   "cell_type": "markdown",
   "metadata": {},
   "source": [
    "# Simple Exploration : historical_transactions¶\n"
   ]
  },
  {
   "cell_type": "code",
   "execution_count": 67,
   "metadata": {},
   "outputs": [
    {
     "name": "stdout",
     "output_type": "stream",
     "text": [
      "shape of historical_transactions :  (29112361, 14)\n"
     ]
    }
   ],
   "source": [
    "\n",
    "ht = pd.read_csv(\"historical_transactions.csv\")#historical transactions\n",
    "print(\"shape of historical_transactions : \",ht.shape)\n"
   ]
  },
  {
   "cell_type": "code",
   "execution_count": 68,
   "metadata": {},
   "outputs": [
    {
     "data": {
      "text/html": [
       "<div>\n",
       "<style scoped>\n",
       "    .dataframe tbody tr th:only-of-type {\n",
       "        vertical-align: middle;\n",
       "    }\n",
       "\n",
       "    .dataframe tbody tr th {\n",
       "        vertical-align: top;\n",
       "    }\n",
       "\n",
       "    .dataframe thead th {\n",
       "        text-align: right;\n",
       "    }\n",
       "</style>\n",
       "<table border=\"1\" class=\"dataframe\">\n",
       "  <thead>\n",
       "    <tr style=\"text-align: right;\">\n",
       "      <th></th>\n",
       "      <th>authorized_flag</th>\n",
       "      <th>card_id</th>\n",
       "      <th>city_id</th>\n",
       "      <th>category_1</th>\n",
       "      <th>installments</th>\n",
       "      <th>category_3</th>\n",
       "      <th>merchant_category_id</th>\n",
       "      <th>merchant_id</th>\n",
       "      <th>month_lag</th>\n",
       "      <th>purchase_amount</th>\n",
       "      <th>purchase_date</th>\n",
       "      <th>category_2</th>\n",
       "      <th>state_id</th>\n",
       "      <th>subsector_id</th>\n",
       "    </tr>\n",
       "  </thead>\n",
       "  <tbody>\n",
       "    <tr>\n",
       "      <th>0</th>\n",
       "      <td>Y</td>\n",
       "      <td>C_ID_4e6213e9bc</td>\n",
       "      <td>88</td>\n",
       "      <td>N</td>\n",
       "      <td>0</td>\n",
       "      <td>A</td>\n",
       "      <td>80</td>\n",
       "      <td>M_ID_e020e9b302</td>\n",
       "      <td>-8</td>\n",
       "      <td>-0.703331</td>\n",
       "      <td>2017-06-25 15:33:07</td>\n",
       "      <td>1.0</td>\n",
       "      <td>16</td>\n",
       "      <td>37</td>\n",
       "    </tr>\n",
       "    <tr>\n",
       "      <th>1</th>\n",
       "      <td>Y</td>\n",
       "      <td>C_ID_4e6213e9bc</td>\n",
       "      <td>88</td>\n",
       "      <td>N</td>\n",
       "      <td>0</td>\n",
       "      <td>A</td>\n",
       "      <td>367</td>\n",
       "      <td>M_ID_86ec983688</td>\n",
       "      <td>-7</td>\n",
       "      <td>-0.733128</td>\n",
       "      <td>2017-07-15 12:10:45</td>\n",
       "      <td>1.0</td>\n",
       "      <td>16</td>\n",
       "      <td>16</td>\n",
       "    </tr>\n",
       "    <tr>\n",
       "      <th>2</th>\n",
       "      <td>Y</td>\n",
       "      <td>C_ID_4e6213e9bc</td>\n",
       "      <td>88</td>\n",
       "      <td>N</td>\n",
       "      <td>0</td>\n",
       "      <td>A</td>\n",
       "      <td>80</td>\n",
       "      <td>M_ID_979ed661fc</td>\n",
       "      <td>-6</td>\n",
       "      <td>-0.720386</td>\n",
       "      <td>2017-08-09 22:04:29</td>\n",
       "      <td>1.0</td>\n",
       "      <td>16</td>\n",
       "      <td>37</td>\n",
       "    </tr>\n",
       "    <tr>\n",
       "      <th>3</th>\n",
       "      <td>Y</td>\n",
       "      <td>C_ID_4e6213e9bc</td>\n",
       "      <td>88</td>\n",
       "      <td>N</td>\n",
       "      <td>0</td>\n",
       "      <td>A</td>\n",
       "      <td>560</td>\n",
       "      <td>M_ID_e6d5ae8ea6</td>\n",
       "      <td>-5</td>\n",
       "      <td>-0.735352</td>\n",
       "      <td>2017-09-02 10:06:26</td>\n",
       "      <td>1.0</td>\n",
       "      <td>16</td>\n",
       "      <td>34</td>\n",
       "    </tr>\n",
       "    <tr>\n",
       "      <th>4</th>\n",
       "      <td>Y</td>\n",
       "      <td>C_ID_4e6213e9bc</td>\n",
       "      <td>88</td>\n",
       "      <td>N</td>\n",
       "      <td>0</td>\n",
       "      <td>A</td>\n",
       "      <td>80</td>\n",
       "      <td>M_ID_e020e9b302</td>\n",
       "      <td>-11</td>\n",
       "      <td>-0.722865</td>\n",
       "      <td>2017-03-10 01:14:19</td>\n",
       "      <td>1.0</td>\n",
       "      <td>16</td>\n",
       "      <td>37</td>\n",
       "    </tr>\n",
       "  </tbody>\n",
       "</table>\n",
       "</div>"
      ],
      "text/plain": [
       "  authorized_flag          card_id  city_id category_1  installments  \\\n",
       "0               Y  C_ID_4e6213e9bc       88          N             0   \n",
       "1               Y  C_ID_4e6213e9bc       88          N             0   \n",
       "2               Y  C_ID_4e6213e9bc       88          N             0   \n",
       "3               Y  C_ID_4e6213e9bc       88          N             0   \n",
       "4               Y  C_ID_4e6213e9bc       88          N             0   \n",
       "\n",
       "  category_3  merchant_category_id      merchant_id  month_lag  \\\n",
       "0          A                    80  M_ID_e020e9b302         -8   \n",
       "1          A                   367  M_ID_86ec983688         -7   \n",
       "2          A                    80  M_ID_979ed661fc         -6   \n",
       "3          A                   560  M_ID_e6d5ae8ea6         -5   \n",
       "4          A                    80  M_ID_e020e9b302        -11   \n",
       "\n",
       "   purchase_amount        purchase_date  category_2  state_id  subsector_id  \n",
       "0        -0.703331  2017-06-25 15:33:07         1.0        16            37  \n",
       "1        -0.733128  2017-07-15 12:10:45         1.0        16            16  \n",
       "2        -0.720386  2017-08-09 22:04:29         1.0        16            37  \n",
       "3        -0.735352  2017-09-02 10:06:26         1.0        16            34  \n",
       "4        -0.722865  2017-03-10 01:14:19         1.0        16            37  "
      ]
     },
     "execution_count": 68,
     "metadata": {},
     "output_type": "execute_result"
    }
   ],
   "source": [
    "h=ht\n",
    "hist=ht #to be able to retrieve the data\n",
    "ht.head()\n"
   ]
  },
  {
   "cell_type": "markdown",
   "metadata": {},
   "source": [
    "# Customer Transaction Approval for a particular category"
   ]
  },
  {
   "cell_type": "code",
   "execution_count": 28,
   "metadata": {},
   "outputs": [
    {
     "data": {
      "image/png": "[encoded data removed]",
      "text/plain": [
       "<Figure size 432x432 with 1 Axes>"
      ]
     },
     "metadata": {
      "needs_background": "light"
     },
     "output_type": "display_data"
    }
   ],
   "source": [
    "#Does customer approve transaction ? For this category?\n",
    "temp = ht[\"authorized_flag\"].value_counts()\n",
    "df = pd.DataFrame({'labels': temp.index,\n",
    "                   'values': temp.values\n",
    "                  })\n",
    "plt.figure(figsize = (6,6))\n",
    "plt.title('authorized_flag - Y or N')\n",
    "sns.set_color_codes(\"pastel\")\n",
    "sns.barplot(x = 'labels', y=\"values\", data=df, color=\"magenta\")\n",
    "locs, labels = plt.xticks()\n",
    "plt.show()"
   ]
  },
  {
   "cell_type": "code",
   "execution_count": 30,
   "metadata": {},
   "outputs": [
    {
     "data": {
      "image/png": "[encoded data removed]",
      "text/plain": [
       "<Figure size 432x432 with 1 Axes>"
      ]
     },
     "metadata": {
      "needs_background": "light"
     },
     "output_type": "display_data"
    }
   ],
   "source": [
    "temp = ht[\"category_1\"].value_counts()\n",
    "df = pd.DataFrame({'labels': temp.index,\n",
    "                   'values': temp.values\n",
    "                  })\n",
    "plt.figure(figsize = (6,6))\n",
    "plt.title('category_1 - Y or N')\n",
    "sns.set_color_codes(\"pastel\")\n",
    "sns.barplot(x = 'labels', y=\"values\", data=df, color=\"indigo\")\n",
    "locs, labels = plt.xticks()\n",
    "plt.show()\n"
   ]
  },
  {
   "cell_type": "code",
   "execution_count": 31,
   "metadata": {},
   "outputs": [
    {
     "data": {
      "image/png": "[encoded data removed]",
      "text/plain": [
       "<Figure size 432x432 with 1 Axes>"
      ]
     },
     "metadata": {
      "needs_background": "light"
     },
     "output_type": "display_data"
    }
   ],
   "source": [
    "temp = ht[\"category_3\"].value_counts()\n",
    "df = pd.DataFrame({'labels': temp.index,\n",
    "                   'values': temp.values\n",
    "                  })\n",
    "plt.figure(figsize = (6,6))\n",
    "plt.title('category_3 - A B C')\n",
    "sns.set_color_codes(\"pastel\")\n",
    "sns.barplot(x = 'labels', y=\"values\",color= 'blue', data=df)\n",
    "locs, labels = plt.xticks()\n",
    "plt.show()\n"
   ]
  },
  {
   "cell_type": "code",
   "execution_count": 33,
   "metadata": {},
   "outputs": [
    {
     "data": {
      "image/png": "[encoded data removed]",
      "text/plain": [
       "<Figure size 432x432 with 1 Axes>"
      ]
     },
     "metadata": {
      "needs_background": "light"
     },
     "output_type": "display_data"
    }
   ],
   "source": [
    "temp = ht[\"category_2\"].value_counts()\n",
    "df = pd.DataFrame({'labels': temp.index,\n",
    "                   'values': temp.values\n",
    "                  })\n",
    "plt.figure(figsize = (6,6))\n",
    "plt.title('category_2 - 1,2,3,4,5')\n",
    "sns.barplot(x = 'labels', y=\"values\",palette=\"rocket\", data=df)\n",
    "locs, labels = plt.xticks()\n",
    "plt.show()\n"
   ]
  },
  {
   "cell_type": "markdown",
   "metadata": {},
   "source": [
    "# Data Visualization Using Histogram"
   ]
  },
  {
   "cell_type": "code",
   "execution_count": 34,
   "metadata": {},
   "outputs": [
    {
     "data": {
      "text/plain": [
       "<matplotlib.axes._subplots.AxesSubplot at 0x1f9264311d0>"
      ]
     },
     "execution_count": 34,
     "metadata": {},
     "output_type": "execute_result"
    },
    {
     "data": {
      "image/png": "[encoded data removed]",
      "text/plain": [
       "<Figure size 1008x432 with 1 Axes>"
      ]
     },
     "metadata": {
      "needs_background": "light"
     },
     "output_type": "display_data"
    }
   ],
   "source": [
    "#histogram\n",
    "f, ax = plt.subplots(figsize=(14, 6))\n",
    "sns.distplot(ht['month_lag'], color=\"orange\")\n"
   ]
  },
  {
   "cell_type": "code",
   "execution_count": 37,
   "metadata": {},
   "outputs": [
    {
     "data": {
      "text/plain": [
       "<matplotlib.axes._subplots.AxesSubplot at 0x1f9219f49b0>"
      ]
     },
     "execution_count": 37,
     "metadata": {},
     "output_type": "execute_result"
    },
    {
     "data": {
      "image/png": "[encoded data removed]",
      "text/plain": [
       "<Figure size 1008x432 with 1 Axes>"
      ]
     },
     "metadata": {
      "needs_background": "light"
     },
     "output_type": "display_data"
    }
   ],
   "source": [
    "#histogram#\n",
    "f, ax = plt.subplots(figsize=(14, 6))\n",
    "sns.distplot(ht['purchase_amount'], color=\"orange\")\n"
   ]
  },
  {
   "cell_type": "code",
   "execution_count": 38,
   "metadata": {},
   "outputs": [
    {
     "data": {
      "text/plain": [
       "<matplotlib.axes._subplots.AxesSubplot at 0x1f922901908>"
      ]
     },
     "execution_count": 38,
     "metadata": {},
     "output_type": "execute_result"
    },
    {
     "data": {
      "image/png": "[encoded data removed]",
      "text/plain": [
       "<Figure size 1008x432 with 1 Axes>"
      ]
     },
     "metadata": {
      "needs_background": "light"
     },
     "output_type": "display_data"
    }
   ],
   "source": [
    "#histogram\n",
    "f, ax = plt.subplots(figsize=(14, 6))\n",
    "sns.distplot(ht['installments'], color=\"orange\")\n"
   ]
  },
  {
   "cell_type": "markdown",
   "metadata": {},
   "source": [
    "# Bar plots using different city_id"
   ]
  },
  {
   "cell_type": "code",
   "execution_count": 42,
   "metadata": {},
   "outputs": [
    {
     "data": {
      "image/png": "[encoded data removed]",
      "text/plain": [
       "<Figure size 1296x576 with 1 Axes>"
      ]
     },
     "metadata": {
      "needs_background": "light"
     },
     "output_type": "display_data"
    }
   ],
   "source": [
    "temp = ht[\"city_id\"].value_counts()\n",
    "df = pd.DataFrame({'labels': temp.index,\n",
    "                   'values': temp.values\n",
    "                  })\n",
    "plt.figure(figsize = (18,8))\n",
    "plt.title('city_id')\n",
    "sns.set_color_codes(\"pastel\")\n",
    "sns.barplot(x = 'labels', y=\"values\",  data=df)\n",
    "locs, labels = plt.xticks()\n",
    "plt.show()"
   ]
  },
  {
   "cell_type": "markdown",
   "metadata": {},
   "source": [
    "# Mapping the categorical variable "
   ]
  },
  {
   "cell_type": "code",
   "execution_count": 69,
   "metadata": {},
   "outputs": [],
   "source": [
    "ht['authorized_flag'] = ht['authorized_flag'].map({'Y':1, 'N':0})\n"
   ]
  },
  {
   "cell_type": "markdown",
   "metadata": {},
   "source": [
    "# Aggregating historical transactions "
   ]
  },
  {
   "cell_type": "code",
   "execution_count": 70,
   "metadata": {},
   "outputs": [
    {
     "data": {
      "text/plain": [
       "315"
      ]
     },
     "execution_count": 70,
     "metadata": {},
     "output_type": "execute_result"
    }
   ],
   "source": [
    "def aggregate_historical_transactions(history):\n",
    "    \n",
    "    history.loc[:, 'purchase_date'] = pd.DatetimeIndex(history['purchase_date']).\\\n",
    "                                      astype(np.int64) * 1e-9\n",
    "    \n",
    "    agg_func = {\n",
    "        'authorized_flag': ['sum', 'mean'],\n",
    "        'merchant_id': ['nunique'],\n",
    "        'city_id': ['nunique'],\n",
    "        'purchase_amount': ['sum', 'median', 'max', 'min', 'std'],\n",
    "        'installments': ['sum', 'median', 'max', 'min', 'std'],\n",
    "        'purchase_date': [np.ptp],\n",
    "        'month_lag': ['min', 'max']\n",
    "        }\n",
    "    agg_history = history.groupby(['card_id']).agg(agg_func)\n",
    "    agg_history.columns = ['hist_' + '_'.join(col).strip() \n",
    "                           for col in agg_history.columns.values]\n",
    "    agg_history.reset_index(inplace=True)\n",
    "    \n",
    "    df = (history.groupby('card_id')\n",
    "          .size()\n",
    "          .reset_index(name='hist_transactions_count'))\n",
    "    \n",
    "    agg_history = pd.merge(df, agg_history, on='card_id', how='left')\n",
    "    \n",
    "    return agg_history\n",
    "\n",
    "history = aggregate_historical_transactions(ht)\n",
    "del ht\n",
    "gc.collect()\n",
    "#To stop memory wastage \n"
   ]
  },
  {
   "cell_type": "code",
   "execution_count": 71,
   "metadata": {},
   "outputs": [
    {
     "data": {
      "text/html": [
       "<div>\n",
       "<style scoped>\n",
       "    .dataframe tbody tr th:only-of-type {\n",
       "        vertical-align: middle;\n",
       "    }\n",
       "\n",
       "    .dataframe tbody tr th {\n",
       "        vertical-align: top;\n",
       "    }\n",
       "\n",
       "    .dataframe thead th {\n",
       "        text-align: right;\n",
       "    }\n",
       "</style>\n",
       "<table border=\"1\" class=\"dataframe\">\n",
       "  <thead>\n",
       "    <tr style=\"text-align: right;\">\n",
       "      <th></th>\n",
       "      <th>card_id</th>\n",
       "      <th>hist_transactions_count</th>\n",
       "      <th>hist_authorized_flag_sum</th>\n",
       "      <th>hist_authorized_flag_mean</th>\n",
       "      <th>hist_merchant_id_nunique</th>\n",
       "      <th>hist_city_id_nunique</th>\n",
       "      <th>hist_purchase_amount_sum</th>\n",
       "      <th>hist_purchase_amount_median</th>\n",
       "      <th>hist_purchase_amount_max</th>\n",
       "      <th>hist_purchase_amount_min</th>\n",
       "      <th>hist_purchase_amount_std</th>\n",
       "      <th>hist_installments_sum</th>\n",
       "      <th>hist_installments_median</th>\n",
       "      <th>hist_installments_max</th>\n",
       "      <th>hist_installments_min</th>\n",
       "      <th>hist_installments_std</th>\n",
       "      <th>hist_purchase_date_ptp</th>\n",
       "      <th>hist_month_lag_min</th>\n",
       "      <th>hist_month_lag_max</th>\n",
       "    </tr>\n",
       "  </thead>\n",
       "  <tbody>\n",
       "    <tr>\n",
       "      <th>0</th>\n",
       "      <td>C_ID_00007093c1</td>\n",
       "      <td>149</td>\n",
       "      <td>114</td>\n",
       "      <td>0.765101</td>\n",
       "      <td>29</td>\n",
       "      <td>4</td>\n",
       "      <td>-76.845041</td>\n",
       "      <td>-0.587627</td>\n",
       "      <td>1.507069</td>\n",
       "      <td>-0.728876</td>\n",
       "      <td>0.298141</td>\n",
       "      <td>192</td>\n",
       "      <td>1.0</td>\n",
       "      <td>6</td>\n",
       "      <td>1</td>\n",
       "      <td>0.764900</td>\n",
       "      <td>32627654.0</td>\n",
       "      <td>-12</td>\n",
       "      <td>0</td>\n",
       "    </tr>\n",
       "    <tr>\n",
       "      <th>1</th>\n",
       "      <td>C_ID_0001238066</td>\n",
       "      <td>123</td>\n",
       "      <td>120</td>\n",
       "      <td>0.975610</td>\n",
       "      <td>65</td>\n",
       "      <td>18</td>\n",
       "      <td>-72.447201</td>\n",
       "      <td>-0.648184</td>\n",
       "      <td>0.768095</td>\n",
       "      <td>-0.734887</td>\n",
       "      <td>0.190235</td>\n",
       "      <td>198</td>\n",
       "      <td>1.0</td>\n",
       "      <td>10</td>\n",
       "      <td>-1</td>\n",
       "      <td>1.485637</td>\n",
       "      <td>13110825.0</td>\n",
       "      <td>-5</td>\n",
       "      <td>0</td>\n",
       "    </tr>\n",
       "    <tr>\n",
       "      <th>2</th>\n",
       "      <td>C_ID_0001506ef0</td>\n",
       "      <td>66</td>\n",
       "      <td>62</td>\n",
       "      <td>0.939394</td>\n",
       "      <td>28</td>\n",
       "      <td>3</td>\n",
       "      <td>-34.601879</td>\n",
       "      <td>-0.703707</td>\n",
       "      <td>1.493545</td>\n",
       "      <td>-0.740491</td>\n",
       "      <td>0.472284</td>\n",
       "      <td>1</td>\n",
       "      <td>0.0</td>\n",
       "      <td>1</td>\n",
       "      <td>0</td>\n",
       "      <td>0.123091</td>\n",
       "      <td>34460275.0</td>\n",
       "      <td>-13</td>\n",
       "      <td>0</td>\n",
       "    </tr>\n",
       "    <tr>\n",
       "      <th>3</th>\n",
       "      <td>C_ID_0001793786</td>\n",
       "      <td>216</td>\n",
       "      <td>189</td>\n",
       "      <td>0.875000</td>\n",
       "      <td>119</td>\n",
       "      <td>10</td>\n",
       "      <td>-36.786013</td>\n",
       "      <td>-0.487911</td>\n",
       "      <td>4.554145</td>\n",
       "      <td>-0.745405</td>\n",
       "      <td>0.836046</td>\n",
       "      <td>5</td>\n",
       "      <td>0.0</td>\n",
       "      <td>1</td>\n",
       "      <td>0</td>\n",
       "      <td>0.150723</td>\n",
       "      <td>24487497.0</td>\n",
       "      <td>-9</td>\n",
       "      <td>0</td>\n",
       "    </tr>\n",
       "    <tr>\n",
       "      <th>4</th>\n",
       "      <td>C_ID_000183fdda</td>\n",
       "      <td>144</td>\n",
       "      <td>137</td>\n",
       "      <td>0.951389</td>\n",
       "      <td>73</td>\n",
       "      <td>9</td>\n",
       "      <td>-68.837938</td>\n",
       "      <td>-0.661294</td>\n",
       "      <td>2.764788</td>\n",
       "      <td>-0.737892</td>\n",
       "      <td>0.524948</td>\n",
       "      <td>264</td>\n",
       "      <td>1.0</td>\n",
       "      <td>10</td>\n",
       "      <td>-1</td>\n",
       "      <td>2.118846</td>\n",
       "      <td>17492874.0</td>\n",
       "      <td>-6</td>\n",
       "      <td>0</td>\n",
       "    </tr>\n",
       "  </tbody>\n",
       "</table>\n",
       "</div>"
      ],
      "text/plain": [
       "           card_id  hist_transactions_count  hist_authorized_flag_sum  \\\n",
       "0  C_ID_00007093c1                      149                       114   \n",
       "1  C_ID_0001238066                      123                       120   \n",
       "2  C_ID_0001506ef0                       66                        62   \n",
       "3  C_ID_0001793786                      216                       189   \n",
       "4  C_ID_000183fdda                      144                       137   \n",
       "\n",
       "   hist_authorized_flag_mean  hist_merchant_id_nunique  hist_city_id_nunique  \\\n",
       "0                   0.765101                        29                     4   \n",
       "1                   0.975610                        65                    18   \n",
       "2                   0.939394                        28                     3   \n",
       "3                   0.875000                       119                    10   \n",
       "4                   0.951389                        73                     9   \n",
       "\n",
       "   hist_purchase_amount_sum  hist_purchase_amount_median  \\\n",
       "0                -76.845041                    -0.587627   \n",
       "1                -72.447201                    -0.648184   \n",
       "2                -34.601879                    -0.703707   \n",
       "3                -36.786013                    -0.487911   \n",
       "4                -68.837938                    -0.661294   \n",
       "\n",
       "   hist_purchase_amount_max  hist_purchase_amount_min  \\\n",
       "0                  1.507069                 -0.728876   \n",
       "1                  0.768095                 -0.734887   \n",
       "2                  1.493545                 -0.740491   \n",
       "3                  4.554145                 -0.745405   \n",
       "4                  2.764788                 -0.737892   \n",
       "\n",
       "   hist_purchase_amount_std  hist_installments_sum  hist_installments_median  \\\n",
       "0                  0.298141                    192                       1.0   \n",
       "1                  0.190235                    198                       1.0   \n",
       "2                  0.472284                      1                       0.0   \n",
       "3                  0.836046                      5                       0.0   \n",
       "4                  0.524948                    264                       1.0   \n",
       "\n",
       "   hist_installments_max  hist_installments_min  hist_installments_std  \\\n",
       "0                      6                      1               0.764900   \n",
       "1                     10                     -1               1.485637   \n",
       "2                      1                      0               0.123091   \n",
       "3                      1                      0               0.150723   \n",
       "4                     10                     -1               2.118846   \n",
       "\n",
       "   hist_purchase_date_ptp  hist_month_lag_min  hist_month_lag_max  \n",
       "0              32627654.0                 -12                   0  \n",
       "1              13110825.0                  -5                   0  \n",
       "2              34460275.0                 -13                   0  \n",
       "3              24487497.0                  -9                   0  \n",
       "4              17492874.0                  -6                   0  "
      ]
     },
     "execution_count": 71,
     "metadata": {},
     "output_type": "execute_result"
    }
   ],
   "source": [
    "#This traces history of transactions of every card\n",
    "history.head()"
   ]
  },
  {
   "cell_type": "code",
   "execution_count": 72,
   "metadata": {},
   "outputs": [],
   "source": [
    "train = pd.merge(train, history, on='card_id', how='left')\n",
    "test = pd.merge(test, history, on='card_id', how='left')\n",
    "#Extract historic data of a specific customer"
   ]
  },
  {
   "cell_type": "markdown",
   "metadata": {},
   "source": [
    "# Data Exploration of the merchants Dataset"
   ]
  },
  {
   "cell_type": "code",
   "execution_count": 50,
   "metadata": {},
   "outputs": [
    {
     "name": "stdout",
     "output_type": "stream",
     "text": [
      "<class 'pandas.core.frame.DataFrame'>\n",
      "RangeIndex: 334696 entries, 0 to 334695\n",
      "Data columns (total 22 columns):\n",
      "merchant_id                    334696 non-null object\n",
      "merchant_group_id              334696 non-null int64\n",
      "merchant_category_id           334696 non-null int64\n",
      "subsector_id                   334696 non-null int64\n",
      "numerical_1                    334696 non-null float64\n",
      "numerical_2                    334696 non-null float64\n",
      "category_1                     334696 non-null object\n",
      "most_recent_sales_range        334696 non-null object\n",
      "most_recent_purchases_range    334696 non-null object\n",
      "avg_sales_lag3                 334683 non-null float64\n",
      "avg_purchases_lag3             334696 non-null float64\n",
      "active_months_lag3             334696 non-null int64\n",
      "avg_sales_lag6                 334683 non-null float64\n",
      "avg_purchases_lag6             334696 non-null float64\n",
      "active_months_lag6             334696 non-null int64\n",
      "avg_sales_lag12                334683 non-null float64\n",
      "avg_purchases_lag12            334696 non-null float64\n",
      "active_months_lag12            334696 non-null int64\n",
      "category_4                     334696 non-null object\n",
      "city_id                        334696 non-null int64\n",
      "state_id                       334696 non-null int64\n",
      "category_2                     322809 non-null float64\n",
      "dtypes: float64(9), int64(8), object(5)\n",
      "memory usage: 56.2+ MB\n"
     ]
    }
   ],
   "source": [
    "merchant = pd.read_csv(\"merchants.csv\") # Reading the merchants csv file\n",
    "merchant.info()"
   ]
  },
  {
   "cell_type": "code",
   "execution_count": 51,
   "metadata": {},
   "outputs": [
    {
     "data": {
      "text/html": [
       "<div>\n",
       "<style scoped>\n",
       "    .dataframe tbody tr th:only-of-type {\n",
       "        vertical-align: middle;\n",
       "    }\n",
       "\n",
       "    .dataframe tbody tr th {\n",
       "        vertical-align: top;\n",
       "    }\n",
       "\n",
       "    .dataframe thead th {\n",
       "        text-align: right;\n",
       "    }\n",
       "</style>\n",
       "<table border=\"1\" class=\"dataframe\">\n",
       "  <thead>\n",
       "    <tr style=\"text-align: right;\">\n",
       "      <th></th>\n",
       "      <th>merchant_id</th>\n",
       "      <th>merchant_group_id</th>\n",
       "      <th>merchant_category_id</th>\n",
       "      <th>subsector_id</th>\n",
       "      <th>numerical_1</th>\n",
       "      <th>numerical_2</th>\n",
       "      <th>category_1</th>\n",
       "      <th>most_recent_sales_range</th>\n",
       "      <th>most_recent_purchases_range</th>\n",
       "      <th>avg_sales_lag3</th>\n",
       "      <th>avg_purchases_lag3</th>\n",
       "      <th>active_months_lag3</th>\n",
       "      <th>avg_sales_lag6</th>\n",
       "      <th>avg_purchases_lag6</th>\n",
       "      <th>active_months_lag6</th>\n",
       "      <th>avg_sales_lag12</th>\n",
       "      <th>avg_purchases_lag12</th>\n",
       "      <th>active_months_lag12</th>\n",
       "      <th>category_4</th>\n",
       "      <th>city_id</th>\n",
       "      <th>state_id</th>\n",
       "      <th>category_2</th>\n",
       "    </tr>\n",
       "  </thead>\n",
       "  <tbody>\n",
       "    <tr>\n",
       "      <th>0</th>\n",
       "      <td>M_ID_838061e48c</td>\n",
       "      <td>8353</td>\n",
       "      <td>792</td>\n",
       "      <td>9</td>\n",
       "      <td>-0.057471</td>\n",
       "      <td>-0.057471</td>\n",
       "      <td>N</td>\n",
       "      <td>E</td>\n",
       "      <td>E</td>\n",
       "      <td>-0.40</td>\n",
       "      <td>9.666667</td>\n",
       "      <td>3</td>\n",
       "      <td>-2.25</td>\n",
       "      <td>18.666667</td>\n",
       "      <td>6</td>\n",
       "      <td>-2.32</td>\n",
       "      <td>13.916667</td>\n",
       "      <td>12</td>\n",
       "      <td>N</td>\n",
       "      <td>242</td>\n",
       "      <td>9</td>\n",
       "      <td>1.0</td>\n",
       "    </tr>\n",
       "    <tr>\n",
       "      <th>1</th>\n",
       "      <td>M_ID_9339d880ad</td>\n",
       "      <td>3184</td>\n",
       "      <td>840</td>\n",
       "      <td>20</td>\n",
       "      <td>-0.057471</td>\n",
       "      <td>-0.057471</td>\n",
       "      <td>N</td>\n",
       "      <td>E</td>\n",
       "      <td>E</td>\n",
       "      <td>-0.72</td>\n",
       "      <td>1.750000</td>\n",
       "      <td>3</td>\n",
       "      <td>-0.74</td>\n",
       "      <td>1.291667</td>\n",
       "      <td>6</td>\n",
       "      <td>-0.57</td>\n",
       "      <td>1.687500</td>\n",
       "      <td>12</td>\n",
       "      <td>N</td>\n",
       "      <td>22</td>\n",
       "      <td>16</td>\n",
       "      <td>1.0</td>\n",
       "    </tr>\n",
       "    <tr>\n",
       "      <th>2</th>\n",
       "      <td>M_ID_e726bbae1e</td>\n",
       "      <td>447</td>\n",
       "      <td>690</td>\n",
       "      <td>1</td>\n",
       "      <td>-0.057471</td>\n",
       "      <td>-0.057471</td>\n",
       "      <td>N</td>\n",
       "      <td>E</td>\n",
       "      <td>E</td>\n",
       "      <td>-82.13</td>\n",
       "      <td>260.000000</td>\n",
       "      <td>2</td>\n",
       "      <td>-82.13</td>\n",
       "      <td>260.000000</td>\n",
       "      <td>2</td>\n",
       "      <td>-82.13</td>\n",
       "      <td>260.000000</td>\n",
       "      <td>2</td>\n",
       "      <td>N</td>\n",
       "      <td>-1</td>\n",
       "      <td>5</td>\n",
       "      <td>5.0</td>\n",
       "    </tr>\n",
       "    <tr>\n",
       "      <th>3</th>\n",
       "      <td>M_ID_a70e9c5f81</td>\n",
       "      <td>5026</td>\n",
       "      <td>792</td>\n",
       "      <td>9</td>\n",
       "      <td>-0.057471</td>\n",
       "      <td>-0.057471</td>\n",
       "      <td>Y</td>\n",
       "      <td>E</td>\n",
       "      <td>E</td>\n",
       "      <td>NaN</td>\n",
       "      <td>1.666667</td>\n",
       "      <td>3</td>\n",
       "      <td>NaN</td>\n",
       "      <td>4.666667</td>\n",
       "      <td>6</td>\n",
       "      <td>NaN</td>\n",
       "      <td>3.833333</td>\n",
       "      <td>12</td>\n",
       "      <td>Y</td>\n",
       "      <td>-1</td>\n",
       "      <td>-1</td>\n",
       "      <td>NaN</td>\n",
       "    </tr>\n",
       "    <tr>\n",
       "      <th>4</th>\n",
       "      <td>M_ID_64456c37ce</td>\n",
       "      <td>2228</td>\n",
       "      <td>222</td>\n",
       "      <td>21</td>\n",
       "      <td>-0.057471</td>\n",
       "      <td>-0.057471</td>\n",
       "      <td>Y</td>\n",
       "      <td>E</td>\n",
       "      <td>E</td>\n",
       "      <td>NaN</td>\n",
       "      <td>0.500000</td>\n",
       "      <td>3</td>\n",
       "      <td>NaN</td>\n",
       "      <td>0.361111</td>\n",
       "      <td>6</td>\n",
       "      <td>NaN</td>\n",
       "      <td>0.347222</td>\n",
       "      <td>12</td>\n",
       "      <td>Y</td>\n",
       "      <td>-1</td>\n",
       "      <td>-1</td>\n",
       "      <td>NaN</td>\n",
       "    </tr>\n",
       "  </tbody>\n",
       "</table>\n",
       "</div>"
      ],
      "text/plain": [
       "       merchant_id  merchant_group_id  merchant_category_id  subsector_id  \\\n",
       "0  M_ID_838061e48c               8353                   792             9   \n",
       "1  M_ID_9339d880ad               3184                   840            20   \n",
       "2  M_ID_e726bbae1e                447                   690             1   \n",
       "3  M_ID_a70e9c5f81               5026                   792             9   \n",
       "4  M_ID_64456c37ce               2228                   222            21   \n",
       "\n",
       "   numerical_1  numerical_2 category_1 most_recent_sales_range  \\\n",
       "0    -0.057471    -0.057471          N                       E   \n",
       "1    -0.057471    -0.057471          N                       E   \n",
       "2    -0.057471    -0.057471          N                       E   \n",
       "3    -0.057471    -0.057471          Y                       E   \n",
       "4    -0.057471    -0.057471          Y                       E   \n",
       "\n",
       "  most_recent_purchases_range  avg_sales_lag3  avg_purchases_lag3  \\\n",
       "0                           E           -0.40            9.666667   \n",
       "1                           E           -0.72            1.750000   \n",
       "2                           E          -82.13          260.000000   \n",
       "3                           E             NaN            1.666667   \n",
       "4                           E             NaN            0.500000   \n",
       "\n",
       "   active_months_lag3  avg_sales_lag6  avg_purchases_lag6  active_months_lag6  \\\n",
       "0                   3           -2.25           18.666667                   6   \n",
       "1                   3           -0.74            1.291667                   6   \n",
       "2                   2          -82.13          260.000000                   2   \n",
       "3                   3             NaN            4.666667                   6   \n",
       "4                   3             NaN            0.361111                   6   \n",
       "\n",
       "   avg_sales_lag12  avg_purchases_lag12  active_months_lag12 category_4  \\\n",
       "0            -2.32            13.916667                   12          N   \n",
       "1            -0.57             1.687500                   12          N   \n",
       "2           -82.13           260.000000                    2          N   \n",
       "3              NaN             3.833333                   12          Y   \n",
       "4              NaN             0.347222                   12          Y   \n",
       "\n",
       "   city_id  state_id  category_2  \n",
       "0      242         9         1.0  \n",
       "1       22        16         1.0  \n",
       "2       -1         5         5.0  \n",
       "3       -1        -1         NaN  \n",
       "4       -1        -1         NaN  "
      ]
     },
     "execution_count": 51,
     "metadata": {},
     "output_type": "execute_result"
    }
   ],
   "source": [
    "merchant.head()\n"
   ]
  },
  {
   "cell_type": "code",
   "execution_count": 52,
   "metadata": {},
   "outputs": [
    {
     "data": {
      "text/html": [
       "<div>\n",
       "<style scoped>\n",
       "    .dataframe tbody tr th:only-of-type {\n",
       "        vertical-align: middle;\n",
       "    }\n",
       "\n",
       "    .dataframe tbody tr th {\n",
       "        vertical-align: top;\n",
       "    }\n",
       "\n",
       "    .dataframe thead th {\n",
       "        text-align: right;\n",
       "    }\n",
       "</style>\n",
       "<table border=\"1\" class=\"dataframe\">\n",
       "  <thead>\n",
       "    <tr style=\"text-align: right;\">\n",
       "      <th></th>\n",
       "      <th>Total</th>\n",
       "      <th>Percent</th>\n",
       "    </tr>\n",
       "  </thead>\n",
       "  <tbody>\n",
       "    <tr>\n",
       "      <th>category_2</th>\n",
       "      <td>11887</td>\n",
       "      <td>3.551581</td>\n",
       "    </tr>\n",
       "    <tr>\n",
       "      <th>avg_sales_lag3</th>\n",
       "      <td>13</td>\n",
       "      <td>0.003884</td>\n",
       "    </tr>\n",
       "    <tr>\n",
       "      <th>avg_sales_lag12</th>\n",
       "      <td>13</td>\n",
       "      <td>0.003884</td>\n",
       "    </tr>\n",
       "    <tr>\n",
       "      <th>avg_sales_lag6</th>\n",
       "      <td>13</td>\n",
       "      <td>0.003884</td>\n",
       "    </tr>\n",
       "    <tr>\n",
       "      <th>merchant_group_id</th>\n",
       "      <td>0</td>\n",
       "      <td>0.000000</td>\n",
       "    </tr>\n",
       "    <tr>\n",
       "      <th>merchant_category_id</th>\n",
       "      <td>0</td>\n",
       "      <td>0.000000</td>\n",
       "    </tr>\n",
       "    <tr>\n",
       "      <th>subsector_id</th>\n",
       "      <td>0</td>\n",
       "      <td>0.000000</td>\n",
       "    </tr>\n",
       "    <tr>\n",
       "      <th>numerical_1</th>\n",
       "      <td>0</td>\n",
       "      <td>0.000000</td>\n",
       "    </tr>\n",
       "    <tr>\n",
       "      <th>numerical_2</th>\n",
       "      <td>0</td>\n",
       "      <td>0.000000</td>\n",
       "    </tr>\n",
       "    <tr>\n",
       "      <th>category_1</th>\n",
       "      <td>0</td>\n",
       "      <td>0.000000</td>\n",
       "    </tr>\n",
       "    <tr>\n",
       "      <th>most_recent_sales_range</th>\n",
       "      <td>0</td>\n",
       "      <td>0.000000</td>\n",
       "    </tr>\n",
       "    <tr>\n",
       "      <th>most_recent_purchases_range</th>\n",
       "      <td>0</td>\n",
       "      <td>0.000000</td>\n",
       "    </tr>\n",
       "    <tr>\n",
       "      <th>avg_purchases_lag3</th>\n",
       "      <td>0</td>\n",
       "      <td>0.000000</td>\n",
       "    </tr>\n",
       "    <tr>\n",
       "      <th>state_id</th>\n",
       "      <td>0</td>\n",
       "      <td>0.000000</td>\n",
       "    </tr>\n",
       "    <tr>\n",
       "      <th>active_months_lag3</th>\n",
       "      <td>0</td>\n",
       "      <td>0.000000</td>\n",
       "    </tr>\n",
       "    <tr>\n",
       "      <th>avg_purchases_lag6</th>\n",
       "      <td>0</td>\n",
       "      <td>0.000000</td>\n",
       "    </tr>\n",
       "    <tr>\n",
       "      <th>active_months_lag6</th>\n",
       "      <td>0</td>\n",
       "      <td>0.000000</td>\n",
       "    </tr>\n",
       "    <tr>\n",
       "      <th>avg_purchases_lag12</th>\n",
       "      <td>0</td>\n",
       "      <td>0.000000</td>\n",
       "    </tr>\n",
       "    <tr>\n",
       "      <th>active_months_lag12</th>\n",
       "      <td>0</td>\n",
       "      <td>0.000000</td>\n",
       "    </tr>\n",
       "    <tr>\n",
       "      <th>category_4</th>\n",
       "      <td>0</td>\n",
       "      <td>0.000000</td>\n",
       "    </tr>\n",
       "  </tbody>\n",
       "</table>\n",
       "</div>"
      ],
      "text/plain": [
       "                             Total   Percent\n",
       "category_2                   11887  3.551581\n",
       "avg_sales_lag3                  13  0.003884\n",
       "avg_sales_lag12                 13  0.003884\n",
       "avg_sales_lag6                  13  0.003884\n",
       "merchant_group_id                0  0.000000\n",
       "merchant_category_id             0  0.000000\n",
       "subsector_id                     0  0.000000\n",
       "numerical_1                      0  0.000000\n",
       "numerical_2                      0  0.000000\n",
       "category_1                       0  0.000000\n",
       "most_recent_sales_range          0  0.000000\n",
       "most_recent_purchases_range      0  0.000000\n",
       "avg_purchases_lag3               0  0.000000\n",
       "state_id                         0  0.000000\n",
       "active_months_lag3               0  0.000000\n",
       "avg_purchases_lag6               0  0.000000\n",
       "active_months_lag6               0  0.000000\n",
       "avg_purchases_lag12              0  0.000000\n",
       "active_months_lag12              0  0.000000\n",
       "category_4                       0  0.000000"
      ]
     },
     "execution_count": 52,
     "metadata": {},
     "output_type": "execute_result"
    }
   ],
   "source": [
    "# checking missing data\n",
    "total = merchant.isnull().sum().sort_values(ascending = False)\n",
    "percent = (merchant.isnull().sum()/merchant.isnull().count()*100).sort_values(ascending = False)\n",
    "missing_data  = pd.concat([total, percent], axis=1, keys=['Total', 'Percent'])\n",
    "missing_data.head(20)\n"
   ]
  },
  {
   "cell_type": "markdown",
   "metadata": {},
   "source": [
    "# Plotting Histograms for the merchants dataset"
   ]
  },
  {
   "cell_type": "code",
   "execution_count": 53,
   "metadata": {},
   "outputs": [
    {
     "data": {
      "text/plain": [
       "<matplotlib.axes._subplots.AxesSubplot at 0x1f920786e10>"
      ]
     },
     "execution_count": 53,
     "metadata": {},
     "output_type": "execute_result"
    },
    {
     "data": {
      "image/png": "[encoded data removed]",
      "text/plain": [
       "<Figure size 1008x432 with 1 Axes>"
      ]
     },
     "metadata": {
      "needs_background": "light"
     },
     "output_type": "display_data"
    }
   ],
   "source": [
    "f, ax = plt.subplots(figsize=(14, 6))\n",
    "sns.distplot(merchant['numerical_1'],color='green')\n"
   ]
  },
  {
   "cell_type": "code",
   "execution_count": 54,
   "metadata": {},
   "outputs": [
    {
     "data": {
      "text/plain": [
       "<matplotlib.axes._subplots.AxesSubplot at 0x1f9281bb0f0>"
      ]
     },
     "execution_count": 54,
     "metadata": {},
     "output_type": "execute_result"
    },
    {
     "data": {
      "image/png": "[encoded data removed]",
      "text/plain": [
       "<Figure size 1008x432 with 1 Axes>"
      ]
     },
     "metadata": {
      "needs_background": "light"
     },
     "output_type": "display_data"
    }
   ],
   "source": [
    "#histogram\n",
    "f, ax = plt.subplots(figsize=(14, 6))\n",
    "sns.distplot(merchant['numerical_2'], color='magenta')\n"
   ]
  },
  {
   "cell_type": "code",
   "execution_count": 42,
   "metadata": {},
   "outputs": [
    {
     "data": {
      "image/png": "[encoded data removed]",
      "text/plain": [
       "<Figure size 432x432 with 1 Axes>"
      ]
     },
     "metadata": {
      "needs_background": "light"
     },
     "output_type": "display_data"
    }
   ],
   "source": [
    "temp = merchant[\"category_1\"].value_counts()\n",
    "df = pd.DataFrame({'labels': temp.index,'values': temp.values})\n",
    "plt.figure(figsize = (6,6))\n",
    "plt.title('category_1 in merchant')\n",
    "sns.set_color_codes(\"pastel\")\n",
    "sns.barplot(x = 'labels', y=\"values\", data=df)\n",
    "locs, labels = plt.xticks()\n",
    "plt.show()\n"
   ]
  },
  {
   "cell_type": "code",
   "execution_count": 55,
   "metadata": {},
   "outputs": [
    {
     "data": {
      "image/png": "[encoded data removed]",
      "text/plain": [
       "<Figure size 432x432 with 1 Axes>"
      ]
     },
     "metadata": {
      "needs_background": "light"
     },
     "output_type": "display_data"
    }
   ],
   "source": [
    "#most_recent_sales_range, most_recent_purchases_range, category_4\n",
    "temp = merchant[\"category_2\"].value_counts()\n",
    "df = pd.DataFrame({'labels': temp.index,\n",
    "                   'values': temp.values\n",
    "                  })\n",
    "plt.figure(figsize = (6,6))\n",
    "plt.title('category_2 in merchant')\n",
    "sns.set_color_codes(\"pastel\")\n",
    "sns.barplot(x = 'labels', y=\"values\", data=df)\n",
    "locs, labels = plt.xticks()\n",
    "plt.show()\n"
   ]
  },
  {
   "cell_type": "code",
   "execution_count": 56,
   "metadata": {},
   "outputs": [
    {
     "data": {
      "image/png": "[encoded data removed]",
      "text/plain": [
       "<Figure size 432x432 with 1 Axes>"
      ]
     },
     "metadata": {
      "needs_background": "light"
     },
     "output_type": "display_data"
    }
   ],
   "source": [
    "#most_recent_sales_range, most_recent_purchases_range, category_4\n",
    "temp = merchant[\"most_recent_sales_range\"].value_counts()\n",
    "df = pd.DataFrame({'labels': temp.index,\n",
    "                   'values': temp.values\n",
    "                  })\n",
    "plt.figure(figsize = (6,6))\n",
    "plt.title('most_recent_sales_range in merchant')\n",
    "sns.set_color_codes(\"pastel\")\n",
    "sns.barplot(x = 'labels', y=\"values\", data=df)\n",
    "locs, labels = plt.xticks()\n",
    "plt.show()\n"
   ]
  },
  {
   "cell_type": "code",
   "execution_count": 57,
   "metadata": {},
   "outputs": [
    {
     "data": {
      "image/png": "[encoded data removed]",
      "text/plain": [
       "<Figure size 432x432 with 1 Axes>"
      ]
     },
     "metadata": {
      "needs_background": "light"
     },
     "output_type": "display_data"
    }
   ],
   "source": [
    "#most_recent_sales_range, most_recent_purchases_range, category_4\n",
    "temp = merchant[\"most_recent_purchases_range\"].value_counts()\n",
    "df = pd.DataFrame({'labels': temp.index,\n",
    "                   'values': temp.values\n",
    "                  })\n",
    "plt.figure(figsize = (6,6))\n",
    "plt.title('most_recent_purchases_range in merchant')\n",
    "sns.set_color_codes(\"pastel\")\n",
    "sns.barplot(x = 'labels', y=\"values\", data=df)\n",
    "locs, labels = plt.xticks()\n",
    "plt.show()\n"
   ]
  },
  {
   "cell_type": "code",
   "execution_count": 58,
   "metadata": {},
   "outputs": [
    {
     "data": {
      "image/png": "[encoded data removed]",
      "text/plain": [
       "<Figure size 432x432 with 1 Axes>"
      ]
     },
     "metadata": {
      "needs_background": "light"
     },
     "output_type": "display_data"
    }
   ],
   "source": [
    "#most_recent_sales_range, most_recent_purchases_range, category_4\n",
    "temp = merchant[\"category_4\"].value_counts()\n",
    "df = pd.DataFrame({'labels': temp.index,\n",
    "                   'values': temp.values\n",
    "                  })\n",
    "plt.figure(figsize = (6,6))\n",
    "plt.title('category_4 in merchant')\n",
    "sns.set_color_codes(\"pastel\")\n",
    "sns.barplot(x = 'labels', y=\"values\", data=df)\n",
    "locs, labels = plt.xticks()\n",
    "plt.show()\n"
   ]
  },
  {
   "cell_type": "markdown",
   "metadata": {},
   "source": [
    "# Data Exploration of New Customers"
   ]
  },
  {
   "cell_type": "code",
   "execution_count": 73,
   "metadata": {},
   "outputs": [
    {
     "name": "stdout",
     "output_type": "stream",
     "text": [
      "shape of new_merchant_transactions :  (1963031, 14)\n"
     ]
    }
   ],
   "source": [
    "new_merchant = pd.read_csv(\"new_merchant_transactions.csv\")\n",
    "print(\"shape of new_merchant_transactions : \",new_merchant.shape)\n"
   ]
  },
  {
   "cell_type": "code",
   "execution_count": 74,
   "metadata": {},
   "outputs": [
    {
     "data": {
      "text/html": [
       "<div>\n",
       "<style scoped>\n",
       "    .dataframe tbody tr th:only-of-type {\n",
       "        vertical-align: middle;\n",
       "    }\n",
       "\n",
       "    .dataframe tbody tr th {\n",
       "        vertical-align: top;\n",
       "    }\n",
       "\n",
       "    .dataframe thead th {\n",
       "        text-align: right;\n",
       "    }\n",
       "</style>\n",
       "<table border=\"1\" class=\"dataframe\">\n",
       "  <thead>\n",
       "    <tr style=\"text-align: right;\">\n",
       "      <th></th>\n",
       "      <th>authorized_flag</th>\n",
       "      <th>card_id</th>\n",
       "      <th>city_id</th>\n",
       "      <th>category_1</th>\n",
       "      <th>installments</th>\n",
       "      <th>category_3</th>\n",
       "      <th>merchant_category_id</th>\n",
       "      <th>merchant_id</th>\n",
       "      <th>month_lag</th>\n",
       "      <th>purchase_amount</th>\n",
       "      <th>purchase_date</th>\n",
       "      <th>category_2</th>\n",
       "      <th>state_id</th>\n",
       "      <th>subsector_id</th>\n",
       "    </tr>\n",
       "  </thead>\n",
       "  <tbody>\n",
       "    <tr>\n",
       "      <th>0</th>\n",
       "      <td>Y</td>\n",
       "      <td>C_ID_415bb3a509</td>\n",
       "      <td>107</td>\n",
       "      <td>N</td>\n",
       "      <td>1</td>\n",
       "      <td>B</td>\n",
       "      <td>307</td>\n",
       "      <td>M_ID_b0c793002c</td>\n",
       "      <td>1</td>\n",
       "      <td>-0.557574</td>\n",
       "      <td>2018-03-11 14:57:36</td>\n",
       "      <td>1.0</td>\n",
       "      <td>9</td>\n",
       "      <td>19</td>\n",
       "    </tr>\n",
       "    <tr>\n",
       "      <th>1</th>\n",
       "      <td>Y</td>\n",
       "      <td>C_ID_415bb3a509</td>\n",
       "      <td>140</td>\n",
       "      <td>N</td>\n",
       "      <td>1</td>\n",
       "      <td>B</td>\n",
       "      <td>307</td>\n",
       "      <td>M_ID_88920c89e8</td>\n",
       "      <td>1</td>\n",
       "      <td>-0.569580</td>\n",
       "      <td>2018-03-19 18:53:37</td>\n",
       "      <td>1.0</td>\n",
       "      <td>9</td>\n",
       "      <td>19</td>\n",
       "    </tr>\n",
       "    <tr>\n",
       "      <th>2</th>\n",
       "      <td>Y</td>\n",
       "      <td>C_ID_415bb3a509</td>\n",
       "      <td>330</td>\n",
       "      <td>N</td>\n",
       "      <td>1</td>\n",
       "      <td>B</td>\n",
       "      <td>507</td>\n",
       "      <td>M_ID_ad5237ef6b</td>\n",
       "      <td>2</td>\n",
       "      <td>-0.551037</td>\n",
       "      <td>2018-04-26 14:08:44</td>\n",
       "      <td>1.0</td>\n",
       "      <td>9</td>\n",
       "      <td>14</td>\n",
       "    </tr>\n",
       "    <tr>\n",
       "      <th>3</th>\n",
       "      <td>Y</td>\n",
       "      <td>C_ID_415bb3a509</td>\n",
       "      <td>-1</td>\n",
       "      <td>Y</td>\n",
       "      <td>1</td>\n",
       "      <td>B</td>\n",
       "      <td>661</td>\n",
       "      <td>M_ID_9e84cda3b1</td>\n",
       "      <td>1</td>\n",
       "      <td>-0.671925</td>\n",
       "      <td>2018-03-07 09:43:21</td>\n",
       "      <td>NaN</td>\n",
       "      <td>-1</td>\n",
       "      <td>8</td>\n",
       "    </tr>\n",
       "    <tr>\n",
       "      <th>4</th>\n",
       "      <td>Y</td>\n",
       "      <td>C_ID_ef55cf8d4b</td>\n",
       "      <td>-1</td>\n",
       "      <td>Y</td>\n",
       "      <td>1</td>\n",
       "      <td>B</td>\n",
       "      <td>166</td>\n",
       "      <td>M_ID_3c86fa3831</td>\n",
       "      <td>1</td>\n",
       "      <td>-0.659904</td>\n",
       "      <td>2018-03-22 21:07:53</td>\n",
       "      <td>NaN</td>\n",
       "      <td>-1</td>\n",
       "      <td>29</td>\n",
       "    </tr>\n",
       "  </tbody>\n",
       "</table>\n",
       "</div>"
      ],
      "text/plain": [
       "  authorized_flag          card_id  city_id category_1  installments  \\\n",
       "0               Y  C_ID_415bb3a509      107          N             1   \n",
       "1               Y  C_ID_415bb3a509      140          N             1   \n",
       "2               Y  C_ID_415bb3a509      330          N             1   \n",
       "3               Y  C_ID_415bb3a509       -1          Y             1   \n",
       "4               Y  C_ID_ef55cf8d4b       -1          Y             1   \n",
       "\n",
       "  category_3  merchant_category_id      merchant_id  month_lag  \\\n",
       "0          B                   307  M_ID_b0c793002c          1   \n",
       "1          B                   307  M_ID_88920c89e8          1   \n",
       "2          B                   507  M_ID_ad5237ef6b          2   \n",
       "3          B                   661  M_ID_9e84cda3b1          1   \n",
       "4          B                   166  M_ID_3c86fa3831          1   \n",
       "\n",
       "   purchase_amount        purchase_date  category_2  state_id  subsector_id  \n",
       "0        -0.557574  2018-03-11 14:57:36         1.0         9            19  \n",
       "1        -0.569580  2018-03-19 18:53:37         1.0         9            19  \n",
       "2        -0.551037  2018-04-26 14:08:44         1.0         9            14  \n",
       "3        -0.671925  2018-03-07 09:43:21         NaN        -1             8  \n",
       "4        -0.659904  2018-03-22 21:07:53         NaN        -1            29  "
      ]
     },
     "execution_count": 74,
     "metadata": {},
     "output_type": "execute_result"
    }
   ],
   "source": [
    "new_merchant.head()\n"
   ]
  },
  {
   "cell_type": "code",
   "execution_count": 75,
   "metadata": {},
   "outputs": [
    {
     "data": {
      "text/html": [
       "<div>\n",
       "<style scoped>\n",
       "    .dataframe tbody tr th:only-of-type {\n",
       "        vertical-align: middle;\n",
       "    }\n",
       "\n",
       "    .dataframe tbody tr th {\n",
       "        vertical-align: top;\n",
       "    }\n",
       "\n",
       "    .dataframe thead th {\n",
       "        text-align: right;\n",
       "    }\n",
       "</style>\n",
       "<table border=\"1\" class=\"dataframe\">\n",
       "  <thead>\n",
       "    <tr style=\"text-align: right;\">\n",
       "      <th></th>\n",
       "      <th>Total</th>\n",
       "      <th>Percent</th>\n",
       "    </tr>\n",
       "  </thead>\n",
       "  <tbody>\n",
       "    <tr>\n",
       "      <th>category_2</th>\n",
       "      <td>111745</td>\n",
       "      <td>5.692473</td>\n",
       "    </tr>\n",
       "    <tr>\n",
       "      <th>category_3</th>\n",
       "      <td>55922</td>\n",
       "      <td>2.848758</td>\n",
       "    </tr>\n",
       "    <tr>\n",
       "      <th>merchant_id</th>\n",
       "      <td>26216</td>\n",
       "      <td>1.335486</td>\n",
       "    </tr>\n",
       "    <tr>\n",
       "      <th>subsector_id</th>\n",
       "      <td>0</td>\n",
       "      <td>0.000000</td>\n",
       "    </tr>\n",
       "    <tr>\n",
       "      <th>state_id</th>\n",
       "      <td>0</td>\n",
       "      <td>0.000000</td>\n",
       "    </tr>\n",
       "    <tr>\n",
       "      <th>purchase_date</th>\n",
       "      <td>0</td>\n",
       "      <td>0.000000</td>\n",
       "    </tr>\n",
       "    <tr>\n",
       "      <th>purchase_amount</th>\n",
       "      <td>0</td>\n",
       "      <td>0.000000</td>\n",
       "    </tr>\n",
       "    <tr>\n",
       "      <th>month_lag</th>\n",
       "      <td>0</td>\n",
       "      <td>0.000000</td>\n",
       "    </tr>\n",
       "    <tr>\n",
       "      <th>merchant_category_id</th>\n",
       "      <td>0</td>\n",
       "      <td>0.000000</td>\n",
       "    </tr>\n",
       "    <tr>\n",
       "      <th>installments</th>\n",
       "      <td>0</td>\n",
       "      <td>0.000000</td>\n",
       "    </tr>\n",
       "    <tr>\n",
       "      <th>category_1</th>\n",
       "      <td>0</td>\n",
       "      <td>0.000000</td>\n",
       "    </tr>\n",
       "    <tr>\n",
       "      <th>city_id</th>\n",
       "      <td>0</td>\n",
       "      <td>0.000000</td>\n",
       "    </tr>\n",
       "    <tr>\n",
       "      <th>card_id</th>\n",
       "      <td>0</td>\n",
       "      <td>0.000000</td>\n",
       "    </tr>\n",
       "    <tr>\n",
       "      <th>authorized_flag</th>\n",
       "      <td>0</td>\n",
       "      <td>0.000000</td>\n",
       "    </tr>\n",
       "  </tbody>\n",
       "</table>\n",
       "</div>"
      ],
      "text/plain": [
       "                       Total   Percent\n",
       "category_2            111745  5.692473\n",
       "category_3             55922  2.848758\n",
       "merchant_id            26216  1.335486\n",
       "subsector_id               0  0.000000\n",
       "state_id                   0  0.000000\n",
       "purchase_date              0  0.000000\n",
       "purchase_amount            0  0.000000\n",
       "month_lag                  0  0.000000\n",
       "merchant_category_id       0  0.000000\n",
       "installments               0  0.000000\n",
       "category_1                 0  0.000000\n",
       "city_id                    0  0.000000\n",
       "card_id                    0  0.000000\n",
       "authorized_flag            0  0.000000"
      ]
     },
     "execution_count": 75,
     "metadata": {},
     "output_type": "execute_result"
    }
   ],
   "source": [
    "# checking missing data\n",
    "total = new_merchant.isnull().sum().sort_values(ascending = False)\n",
    "percent = (new_merchant.isnull().sum()/new_merchant.isnull().count()*100).sort_values(ascending = False)\n",
    "missing_data  = pd.concat([total, percent], axis=1, keys=['Total', 'Percent'])\n",
    "missing_data.head(20)\n"
   ]
  },
  {
   "cell_type": "markdown",
   "metadata": {},
   "source": [
    "# Mapping Categorical Variables"
   ]
  },
  {
   "cell_type": "code",
   "execution_count": 76,
   "metadata": {},
   "outputs": [],
   "source": [
    "new_merchant['authorized_flag'] = new_merchant['authorized_flag'].map({'Y':1, 'N':0}) \n"
   ]
  },
  {
   "cell_type": "markdown",
   "metadata": {},
   "source": [
    "# Aggregating new transcations"
   ]
  },
  {
   "cell_type": "code",
   "execution_count": 77,
   "metadata": {},
   "outputs": [],
   "source": [
    "def aggregate_new_transactions(new_trans):    \n",
    "    agg_func = {\n",
    "        'authorized_flag': ['sum', 'mean'],\n",
    "        'merchant_id': ['nunique'],\n",
    "        'city_id': ['nunique'],\n",
    "        'purchase_amount': ['sum', 'median', 'max', 'min', 'std'],\n",
    "        'installments': ['sum', 'median', 'max', 'min', 'std'],\n",
    "        'month_lag': ['min', 'max']\n",
    "        }\n",
    "    agg_new_trans = new_trans.groupby(['card_id']).agg(agg_func)\n",
    "    agg_new_trans.columns = ['new_' + '_'.join(col).strip() \n",
    "                           for col in agg_new_trans.columns.values]\n",
    "    agg_new_trans.reset_index(inplace=True)\n",
    "    \n",
    "    df = (new_trans.groupby('card_id')\n",
    "          .size()\n",
    "          .reset_index(name='new_transactions_count'))\n",
    "    \n",
    "    agg_new_trans = pd.merge(df, agg_new_trans, on='card_id', how='left')\n",
    "    \n",
    "    return agg_new_trans\n",
    "\n",
    "new_trans = aggregate_new_transactions(new_merchant)\n"
   ]
  },
  {
   "cell_type": "code",
   "execution_count": 78,
   "metadata": {},
   "outputs": [
    {
     "data": {
      "text/html": [
       "<div>\n",
       "<style scoped>\n",
       "    .dataframe tbody tr th:only-of-type {\n",
       "        vertical-align: middle;\n",
       "    }\n",
       "\n",
       "    .dataframe tbody tr th {\n",
       "        vertical-align: top;\n",
       "    }\n",
       "\n",
       "    .dataframe thead th {\n",
       "        text-align: right;\n",
       "    }\n",
       "</style>\n",
       "<table border=\"1\" class=\"dataframe\">\n",
       "  <thead>\n",
       "    <tr style=\"text-align: right;\">\n",
       "      <th></th>\n",
       "      <th>card_id</th>\n",
       "      <th>new_transactions_count</th>\n",
       "      <th>new_authorized_flag_sum</th>\n",
       "      <th>new_authorized_flag_mean</th>\n",
       "      <th>new_merchant_id_nunique</th>\n",
       "      <th>new_city_id_nunique</th>\n",
       "      <th>new_purchase_amount_sum</th>\n",
       "      <th>new_purchase_amount_median</th>\n",
       "      <th>new_purchase_amount_max</th>\n",
       "      <th>new_purchase_amount_min</th>\n",
       "      <th>new_purchase_amount_std</th>\n",
       "      <th>new_installments_sum</th>\n",
       "      <th>new_installments_median</th>\n",
       "      <th>new_installments_max</th>\n",
       "      <th>new_installments_min</th>\n",
       "      <th>new_installments_std</th>\n",
       "      <th>new_month_lag_min</th>\n",
       "      <th>new_month_lag_max</th>\n",
       "    </tr>\n",
       "  </thead>\n",
       "  <tbody>\n",
       "    <tr>\n",
       "      <th>0</th>\n",
       "      <td>C_ID_00007093c1</td>\n",
       "      <td>2</td>\n",
       "      <td>2</td>\n",
       "      <td>1</td>\n",
       "      <td>2</td>\n",
       "      <td>2</td>\n",
       "      <td>-1.328524</td>\n",
       "      <td>-0.664262</td>\n",
       "      <td>-0.656749</td>\n",
       "      <td>-0.671775</td>\n",
       "      <td>0.010625</td>\n",
       "      <td>2</td>\n",
       "      <td>1.0</td>\n",
       "      <td>1</td>\n",
       "      <td>1</td>\n",
       "      <td>0.000000</td>\n",
       "      <td>2</td>\n",
       "      <td>2</td>\n",
       "    </tr>\n",
       "    <tr>\n",
       "      <th>1</th>\n",
       "      <td>C_ID_0001238066</td>\n",
       "      <td>26</td>\n",
       "      <td>26</td>\n",
       "      <td>1</td>\n",
       "      <td>25</td>\n",
       "      <td>8</td>\n",
       "      <td>-14.850055</td>\n",
       "      <td>-0.649235</td>\n",
       "      <td>-0.078318</td>\n",
       "      <td>-0.740897</td>\n",
       "      <td>0.173436</td>\n",
       "      <td>42</td>\n",
       "      <td>1.0</td>\n",
       "      <td>10</td>\n",
       "      <td>-1</td>\n",
       "      <td>2.079941</td>\n",
       "      <td>1</td>\n",
       "      <td>2</td>\n",
       "    </tr>\n",
       "    <tr>\n",
       "      <th>2</th>\n",
       "      <td>C_ID_0001506ef0</td>\n",
       "      <td>2</td>\n",
       "      <td>2</td>\n",
       "      <td>1</td>\n",
       "      <td>1</td>\n",
       "      <td>1</td>\n",
       "      <td>-1.447354</td>\n",
       "      <td>-0.723677</td>\n",
       "      <td>-0.715352</td>\n",
       "      <td>-0.732001</td>\n",
       "      <td>0.011773</td>\n",
       "      <td>0</td>\n",
       "      <td>0.0</td>\n",
       "      <td>0</td>\n",
       "      <td>0</td>\n",
       "      <td>0.000000</td>\n",
       "      <td>1</td>\n",
       "      <td>1</td>\n",
       "    </tr>\n",
       "    <tr>\n",
       "      <th>3</th>\n",
       "      <td>C_ID_0001793786</td>\n",
       "      <td>31</td>\n",
       "      <td>31</td>\n",
       "      <td>1</td>\n",
       "      <td>31</td>\n",
       "      <td>7</td>\n",
       "      <td>-0.229620</td>\n",
       "      <td>-0.372748</td>\n",
       "      <td>3.129932</td>\n",
       "      <td>-0.737892</td>\n",
       "      <td>0.947223</td>\n",
       "      <td>0</td>\n",
       "      <td>0.0</td>\n",
       "      <td>0</td>\n",
       "      <td>0</td>\n",
       "      <td>0.000000</td>\n",
       "      <td>1</td>\n",
       "      <td>2</td>\n",
       "    </tr>\n",
       "    <tr>\n",
       "      <th>4</th>\n",
       "      <td>C_ID_000183fdda</td>\n",
       "      <td>11</td>\n",
       "      <td>11</td>\n",
       "      <td>1</td>\n",
       "      <td>11</td>\n",
       "      <td>2</td>\n",
       "      <td>-6.590778</td>\n",
       "      <td>-0.665765</td>\n",
       "      <td>-0.107680</td>\n",
       "      <td>-0.732332</td>\n",
       "      <td>0.182877</td>\n",
       "      <td>16</td>\n",
       "      <td>1.0</td>\n",
       "      <td>4</td>\n",
       "      <td>-1</td>\n",
       "      <td>1.293340</td>\n",
       "      <td>1</td>\n",
       "      <td>2</td>\n",
       "    </tr>\n",
       "  </tbody>\n",
       "</table>\n",
       "</div>"
      ],
      "text/plain": [
       "           card_id  new_transactions_count  new_authorized_flag_sum  \\\n",
       "0  C_ID_00007093c1                       2                        2   \n",
       "1  C_ID_0001238066                      26                       26   \n",
       "2  C_ID_0001506ef0                       2                        2   \n",
       "3  C_ID_0001793786                      31                       31   \n",
       "4  C_ID_000183fdda                      11                       11   \n",
       "\n",
       "   new_authorized_flag_mean  new_merchant_id_nunique  new_city_id_nunique  \\\n",
       "0                         1                        2                    2   \n",
       "1                         1                       25                    8   \n",
       "2                         1                        1                    1   \n",
       "3                         1                       31                    7   \n",
       "4                         1                       11                    2   \n",
       "\n",
       "   new_purchase_amount_sum  new_purchase_amount_median  \\\n",
       "0                -1.328524                   -0.664262   \n",
       "1               -14.850055                   -0.649235   \n",
       "2                -1.447354                   -0.723677   \n",
       "3                -0.229620                   -0.372748   \n",
       "4                -6.590778                   -0.665765   \n",
       "\n",
       "   new_purchase_amount_max  new_purchase_amount_min  new_purchase_amount_std  \\\n",
       "0                -0.656749                -0.671775                 0.010625   \n",
       "1                -0.078318                -0.740897                 0.173436   \n",
       "2                -0.715352                -0.732001                 0.011773   \n",
       "3                 3.129932                -0.737892                 0.947223   \n",
       "4                -0.107680                -0.732332                 0.182877   \n",
       "\n",
       "   new_installments_sum  new_installments_median  new_installments_max  \\\n",
       "0                     2                      1.0                     1   \n",
       "1                    42                      1.0                    10   \n",
       "2                     0                      0.0                     0   \n",
       "3                     0                      0.0                     0   \n",
       "4                    16                      1.0                     4   \n",
       "\n",
       "   new_installments_min  new_installments_std  new_month_lag_min  \\\n",
       "0                     1              0.000000                  2   \n",
       "1                    -1              2.079941                  1   \n",
       "2                     0              0.000000                  1   \n",
       "3                     0              0.000000                  1   \n",
       "4                    -1              1.293340                  1   \n",
       "\n",
       "   new_month_lag_max  \n",
       "0                  2  \n",
       "1                  2  \n",
       "2                  1  \n",
       "3                  2  \n",
       "4                  2  "
      ]
     },
     "execution_count": 78,
     "metadata": {},
     "output_type": "execute_result"
    }
   ],
   "source": [
    "new_trans.head()"
   ]
  },
  {
   "cell_type": "code",
   "execution_count": 79,
   "metadata": {},
   "outputs": [],
   "source": [
    "train = pd.merge(train, new_trans, on='card_id', how='left') \n",
    "test = pd.merge(test, new_trans, on='card_id', how='left')\n"
   ]
  },
  {
   "cell_type": "code",
   "execution_count": 80,
   "metadata": {},
   "outputs": [
    {
     "data": {
      "text/html": [
       "<div>\n",
       "<style scoped>\n",
       "    .dataframe tbody tr th:only-of-type {\n",
       "        vertical-align: middle;\n",
       "    }\n",
       "\n",
       "    .dataframe tbody tr th {\n",
       "        vertical-align: top;\n",
       "    }\n",
       "\n",
       "    .dataframe thead th {\n",
       "        text-align: right;\n",
       "    }\n",
       "</style>\n",
       "<table border=\"1\" class=\"dataframe\">\n",
       "  <thead>\n",
       "    <tr style=\"text-align: right;\">\n",
       "      <th></th>\n",
       "      <th>first_active_month</th>\n",
       "      <th>card_id</th>\n",
       "      <th>feature_1</th>\n",
       "      <th>feature_2</th>\n",
       "      <th>feature_3</th>\n",
       "      <th>year</th>\n",
       "      <th>month</th>\n",
       "      <th>elapsed_time</th>\n",
       "      <th>hist_transactions_count</th>\n",
       "      <th>hist_authorized_flag_sum</th>\n",
       "      <th>hist_authorized_flag_mean</th>\n",
       "      <th>hist_merchant_id_nunique</th>\n",
       "      <th>hist_city_id_nunique</th>\n",
       "      <th>hist_purchase_amount_sum</th>\n",
       "      <th>hist_purchase_amount_median</th>\n",
       "      <th>hist_purchase_amount_max</th>\n",
       "      <th>hist_purchase_amount_min</th>\n",
       "      <th>hist_purchase_amount_std</th>\n",
       "      <th>hist_installments_sum</th>\n",
       "      <th>hist_installments_median</th>\n",
       "      <th>hist_installments_max</th>\n",
       "      <th>hist_installments_min</th>\n",
       "      <th>hist_installments_std</th>\n",
       "      <th>hist_purchase_date_ptp</th>\n",
       "      <th>hist_month_lag_min</th>\n",
       "      <th>hist_month_lag_max</th>\n",
       "      <th>new_transactions_count</th>\n",
       "      <th>new_authorized_flag_sum</th>\n",
       "      <th>new_authorized_flag_mean</th>\n",
       "      <th>new_merchant_id_nunique</th>\n",
       "      <th>new_city_id_nunique</th>\n",
       "      <th>new_purchase_amount_sum</th>\n",
       "      <th>new_purchase_amount_median</th>\n",
       "      <th>new_purchase_amount_max</th>\n",
       "      <th>new_purchase_amount_min</th>\n",
       "      <th>new_purchase_amount_std</th>\n",
       "      <th>new_installments_sum</th>\n",
       "      <th>new_installments_median</th>\n",
       "      <th>new_installments_max</th>\n",
       "      <th>new_installments_min</th>\n",
       "      <th>new_installments_std</th>\n",
       "      <th>new_month_lag_min</th>\n",
       "      <th>new_month_lag_max</th>\n",
       "    </tr>\n",
       "  </thead>\n",
       "  <tbody>\n",
       "    <tr>\n",
       "      <th>0</th>\n",
       "      <td>2017-06-01</td>\n",
       "      <td>C_ID_92a2005557</td>\n",
       "      <td>5</td>\n",
       "      <td>2</td>\n",
       "      <td>1</td>\n",
       "      <td>2017</td>\n",
       "      <td>6</td>\n",
       "      <td>245</td>\n",
       "      <td>260</td>\n",
       "      <td>247</td>\n",
       "      <td>0.950000</td>\n",
       "      <td>94</td>\n",
       "      <td>7</td>\n",
       "      <td>-165.968739</td>\n",
       "      <td>-0.698042</td>\n",
       "      <td>2.258395</td>\n",
       "      <td>-0.739395</td>\n",
       "      <td>0.212139</td>\n",
       "      <td>4</td>\n",
       "      <td>0.0</td>\n",
       "      <td>1</td>\n",
       "      <td>0</td>\n",
       "      <td>0.123314</td>\n",
       "      <td>20977987.0</td>\n",
       "      <td>-8</td>\n",
       "      <td>0</td>\n",
       "      <td>23.0</td>\n",
       "      <td>23.0</td>\n",
       "      <td>1.0</td>\n",
       "      <td>23.0</td>\n",
       "      <td>3.0</td>\n",
       "      <td>-13.244202</td>\n",
       "      <td>-0.581180</td>\n",
       "      <td>-0.296112</td>\n",
       "      <td>-0.724368</td>\n",
       "      <td>0.135812</td>\n",
       "      <td>0.0</td>\n",
       "      <td>0.0</td>\n",
       "      <td>0.0</td>\n",
       "      <td>0.0</td>\n",
       "      <td>0.000000</td>\n",
       "      <td>1.0</td>\n",
       "      <td>2.0</td>\n",
       "    </tr>\n",
       "    <tr>\n",
       "      <th>1</th>\n",
       "      <td>2017-01-01</td>\n",
       "      <td>C_ID_3d0044924f</td>\n",
       "      <td>4</td>\n",
       "      <td>1</td>\n",
       "      <td>0</td>\n",
       "      <td>2017</td>\n",
       "      <td>1</td>\n",
       "      <td>396</td>\n",
       "      <td>350</td>\n",
       "      <td>339</td>\n",
       "      <td>0.968571</td>\n",
       "      <td>142</td>\n",
       "      <td>9</td>\n",
       "      <td>-210.006336</td>\n",
       "      <td>-0.708590</td>\n",
       "      <td>4.630299</td>\n",
       "      <td>-0.742400</td>\n",
       "      <td>0.384967</td>\n",
       "      <td>543</td>\n",
       "      <td>1.0</td>\n",
       "      <td>10</td>\n",
       "      <td>-1</td>\n",
       "      <td>1.510777</td>\n",
       "      <td>33717687.0</td>\n",
       "      <td>-12</td>\n",
       "      <td>0</td>\n",
       "      <td>6.0</td>\n",
       "      <td>6.0</td>\n",
       "      <td>1.0</td>\n",
       "      <td>6.0</td>\n",
       "      <td>1.0</td>\n",
       "      <td>-4.355735</td>\n",
       "      <td>-0.732633</td>\n",
       "      <td>-0.701858</td>\n",
       "      <td>-0.739410</td>\n",
       "      <td>0.014326</td>\n",
       "      <td>6.0</td>\n",
       "      <td>1.0</td>\n",
       "      <td>1.0</td>\n",
       "      <td>1.0</td>\n",
       "      <td>0.000000</td>\n",
       "      <td>1.0</td>\n",
       "      <td>2.0</td>\n",
       "    </tr>\n",
       "    <tr>\n",
       "      <th>2</th>\n",
       "      <td>2016-08-01</td>\n",
       "      <td>C_ID_d639edf6cd</td>\n",
       "      <td>2</td>\n",
       "      <td>2</td>\n",
       "      <td>0</td>\n",
       "      <td>2016</td>\n",
       "      <td>8</td>\n",
       "      <td>549</td>\n",
       "      <td>43</td>\n",
       "      <td>41</td>\n",
       "      <td>0.953488</td>\n",
       "      <td>13</td>\n",
       "      <td>5</td>\n",
       "      <td>-29.167391</td>\n",
       "      <td>-0.698868</td>\n",
       "      <td>-0.145847</td>\n",
       "      <td>-0.730138</td>\n",
       "      <td>0.087380</td>\n",
       "      <td>0</td>\n",
       "      <td>0.0</td>\n",
       "      <td>0</td>\n",
       "      <td>0</td>\n",
       "      <td>0.000000</td>\n",
       "      <td>35635623.0</td>\n",
       "      <td>-13</td>\n",
       "      <td>0</td>\n",
       "      <td>1.0</td>\n",
       "      <td>1.0</td>\n",
       "      <td>1.0</td>\n",
       "      <td>1.0</td>\n",
       "      <td>1.0</td>\n",
       "      <td>-0.700326</td>\n",
       "      <td>-0.700326</td>\n",
       "      <td>-0.700326</td>\n",
       "      <td>-0.700326</td>\n",
       "      <td>NaN</td>\n",
       "      <td>0.0</td>\n",
       "      <td>0.0</td>\n",
       "      <td>0.0</td>\n",
       "      <td>0.0</td>\n",
       "      <td>NaN</td>\n",
       "      <td>2.0</td>\n",
       "      <td>2.0</td>\n",
       "    </tr>\n",
       "    <tr>\n",
       "      <th>3</th>\n",
       "      <td>2017-09-01</td>\n",
       "      <td>C_ID_186d6a6901</td>\n",
       "      <td>4</td>\n",
       "      <td>3</td>\n",
       "      <td>0</td>\n",
       "      <td>2017</td>\n",
       "      <td>9</td>\n",
       "      <td>153</td>\n",
       "      <td>77</td>\n",
       "      <td>77</td>\n",
       "      <td>1.000000</td>\n",
       "      <td>50</td>\n",
       "      <td>7</td>\n",
       "      <td>-49.491364</td>\n",
       "      <td>-0.707989</td>\n",
       "      <td>1.445596</td>\n",
       "      <td>-0.740897</td>\n",
       "      <td>0.261624</td>\n",
       "      <td>84</td>\n",
       "      <td>1.0</td>\n",
       "      <td>3</td>\n",
       "      <td>-1</td>\n",
       "      <td>0.588974</td>\n",
       "      <td>13375339.0</td>\n",
       "      <td>-5</td>\n",
       "      <td>0</td>\n",
       "      <td>7.0</td>\n",
       "      <td>7.0</td>\n",
       "      <td>1.0</td>\n",
       "      <td>7.0</td>\n",
       "      <td>2.0</td>\n",
       "      <td>-4.654372</td>\n",
       "      <td>-0.691610</td>\n",
       "      <td>-0.566740</td>\n",
       "      <td>-0.734135</td>\n",
       "      <td>0.065882</td>\n",
       "      <td>5.0</td>\n",
       "      <td>1.0</td>\n",
       "      <td>1.0</td>\n",
       "      <td>-1.0</td>\n",
       "      <td>0.755929</td>\n",
       "      <td>1.0</td>\n",
       "      <td>2.0</td>\n",
       "    </tr>\n",
       "    <tr>\n",
       "      <th>4</th>\n",
       "      <td>2017-11-01</td>\n",
       "      <td>C_ID_cdbd2c0db2</td>\n",
       "      <td>1</td>\n",
       "      <td>3</td>\n",
       "      <td>0</td>\n",
       "      <td>2017</td>\n",
       "      <td>11</td>\n",
       "      <td>92</td>\n",
       "      <td>133</td>\n",
       "      <td>128</td>\n",
       "      <td>0.962406</td>\n",
       "      <td>66</td>\n",
       "      <td>6</td>\n",
       "      <td>-48.687656</td>\n",
       "      <td>-0.689807</td>\n",
       "      <td>7.193041</td>\n",
       "      <td>-0.746156</td>\n",
       "      <td>1.352094</td>\n",
       "      <td>182</td>\n",
       "      <td>1.0</td>\n",
       "      <td>12</td>\n",
       "      <td>1</td>\n",
       "      <td>1.896862</td>\n",
       "      <td>9405641.0</td>\n",
       "      <td>-3</td>\n",
       "      <td>0</td>\n",
       "      <td>36.0</td>\n",
       "      <td>36.0</td>\n",
       "      <td>1.0</td>\n",
       "      <td>36.0</td>\n",
       "      <td>5.0</td>\n",
       "      <td>-19.926237</td>\n",
       "      <td>-0.607447</td>\n",
       "      <td>0.450886</td>\n",
       "      <td>-0.739395</td>\n",
       "      <td>0.223821</td>\n",
       "      <td>35.0</td>\n",
       "      <td>1.0</td>\n",
       "      <td>2.0</td>\n",
       "      <td>-1.0</td>\n",
       "      <td>0.376913</td>\n",
       "      <td>1.0</td>\n",
       "      <td>2.0</td>\n",
       "    </tr>\n",
       "  </tbody>\n",
       "</table>\n",
       "</div>"
      ],
      "text/plain": [
       "  first_active_month          card_id  feature_1  feature_2  feature_3  year  \\\n",
       "0         2017-06-01  C_ID_92a2005557          5          2          1  2017   \n",
       "1         2017-01-01  C_ID_3d0044924f          4          1          0  2017   \n",
       "2         2016-08-01  C_ID_d639edf6cd          2          2          0  2016   \n",
       "3         2017-09-01  C_ID_186d6a6901          4          3          0  2017   \n",
       "4         2017-11-01  C_ID_cdbd2c0db2          1          3          0  2017   \n",
       "\n",
       "   month  elapsed_time  hist_transactions_count  hist_authorized_flag_sum  \\\n",
       "0      6           245                      260                       247   \n",
       "1      1           396                      350                       339   \n",
       "2      8           549                       43                        41   \n",
       "3      9           153                       77                        77   \n",
       "4     11            92                      133                       128   \n",
       "\n",
       "   hist_authorized_flag_mean  hist_merchant_id_nunique  hist_city_id_nunique  \\\n",
       "0                   0.950000                        94                     7   \n",
       "1                   0.968571                       142                     9   \n",
       "2                   0.953488                        13                     5   \n",
       "3                   1.000000                        50                     7   \n",
       "4                   0.962406                        66                     6   \n",
       "\n",
       "   hist_purchase_amount_sum  hist_purchase_amount_median  \\\n",
       "0               -165.968739                    -0.698042   \n",
       "1               -210.006336                    -0.708590   \n",
       "2                -29.167391                    -0.698868   \n",
       "3                -49.491364                    -0.707989   \n",
       "4                -48.687656                    -0.689807   \n",
       "\n",
       "   hist_purchase_amount_max  hist_purchase_amount_min  \\\n",
       "0                  2.258395                 -0.739395   \n",
       "1                  4.630299                 -0.742400   \n",
       "2                 -0.145847                 -0.730138   \n",
       "3                  1.445596                 -0.740897   \n",
       "4                  7.193041                 -0.746156   \n",
       "\n",
       "   hist_purchase_amount_std  hist_installments_sum  hist_installments_median  \\\n",
       "0                  0.212139                      4                       0.0   \n",
       "1                  0.384967                    543                       1.0   \n",
       "2                  0.087380                      0                       0.0   \n",
       "3                  0.261624                     84                       1.0   \n",
       "4                  1.352094                    182                       1.0   \n",
       "\n",
       "   hist_installments_max  hist_installments_min  hist_installments_std  \\\n",
       "0                      1                      0               0.123314   \n",
       "1                     10                     -1               1.510777   \n",
       "2                      0                      0               0.000000   \n",
       "3                      3                     -1               0.588974   \n",
       "4                     12                      1               1.896862   \n",
       "\n",
       "   hist_purchase_date_ptp  hist_month_lag_min  hist_month_lag_max  \\\n",
       "0              20977987.0                  -8                   0   \n",
       "1              33717687.0                 -12                   0   \n",
       "2              35635623.0                 -13                   0   \n",
       "3              13375339.0                  -5                   0   \n",
       "4               9405641.0                  -3                   0   \n",
       "\n",
       "   new_transactions_count  new_authorized_flag_sum  new_authorized_flag_mean  \\\n",
       "0                    23.0                     23.0                       1.0   \n",
       "1                     6.0                      6.0                       1.0   \n",
       "2                     1.0                      1.0                       1.0   \n",
       "3                     7.0                      7.0                       1.0   \n",
       "4                    36.0                     36.0                       1.0   \n",
       "\n",
       "   new_merchant_id_nunique  new_city_id_nunique  new_purchase_amount_sum  \\\n",
       "0                     23.0                  3.0               -13.244202   \n",
       "1                      6.0                  1.0                -4.355735   \n",
       "2                      1.0                  1.0                -0.700326   \n",
       "3                      7.0                  2.0                -4.654372   \n",
       "4                     36.0                  5.0               -19.926237   \n",
       "\n",
       "   new_purchase_amount_median  new_purchase_amount_max  \\\n",
       "0                   -0.581180                -0.296112   \n",
       "1                   -0.732633                -0.701858   \n",
       "2                   -0.700326                -0.700326   \n",
       "3                   -0.691610                -0.566740   \n",
       "4                   -0.607447                 0.450886   \n",
       "\n",
       "   new_purchase_amount_min  new_purchase_amount_std  new_installments_sum  \\\n",
       "0                -0.724368                 0.135812                   0.0   \n",
       "1                -0.739410                 0.014326                   6.0   \n",
       "2                -0.700326                      NaN                   0.0   \n",
       "3                -0.734135                 0.065882                   5.0   \n",
       "4                -0.739395                 0.223821                  35.0   \n",
       "\n",
       "   new_installments_median  new_installments_max  new_installments_min  \\\n",
       "0                      0.0                   0.0                   0.0   \n",
       "1                      1.0                   1.0                   1.0   \n",
       "2                      0.0                   0.0                   0.0   \n",
       "3                      1.0                   1.0                  -1.0   \n",
       "4                      1.0                   2.0                  -1.0   \n",
       "\n",
       "   new_installments_std  new_month_lag_min  new_month_lag_max  \n",
       "0              0.000000                1.0                2.0  \n",
       "1              0.000000                1.0                2.0  \n",
       "2                   NaN                2.0                2.0  \n",
       "3              0.755929                1.0                2.0  \n",
       "4              0.376913                1.0                2.0  "
      ]
     },
     "execution_count": 80,
     "metadata": {},
     "output_type": "execute_result"
    }
   ],
   "source": [
    "train.head()"
   ]
  },
  {
   "cell_type": "code",
   "execution_count": 81,
   "metadata": {},
   "outputs": [],
   "source": [
    "use_cols = [col for col in train.columns if col not in ['card_id', 'first_active_month']]\n",
    "train = train[use_cols]\n",
    "test = test[use_cols]\n",
    "features = list(train[use_cols].columns)\n",
    "categorical_features = [col for col in features if 'feature_' in col]\n",
    "#Make all categorical data numerical."
   ]
  },
  {
   "cell_type": "code",
   "execution_count": 82,
   "metadata": {},
   "outputs": [],
   "source": [
    "from sklearn.preprocessing import LabelEncoder\n",
    "for col in categorical_features:\n",
    "    lbl = LabelEncoder()\n",
    "    lbl.fit(list(train[col].values.astype('str')) + list(test[col].values.astype('str')))\n",
    "    train[col] = lbl.transform(list(train[col].values.astype('str')))\n",
    "    test[col] = lbl.transform(list(test[col].values.astype('str')))\n",
    "#Run Cookie-cutter for labelencoder for all categorical predictor columns"
   ]
  },
  {
   "cell_type": "code",
   "execution_count": 84,
   "metadata": {},
   "outputs": [],
   "source": [
    "df_all = pd.concat([train, test])\n",
    "df_all = pd.get_dummies(df_all, columns=categorical_features)\n",
    "\n",
    "len_train = train.shape[0]\n",
    "\n",
    "train = df_all[:len_train]\n",
    "test = df_all[len_train:]\n"
   ]
  },
  {
   "cell_type": "code",
   "execution_count": 85,
   "metadata": {},
   "outputs": [
    {
     "name": "stdout",
     "output_type": "stream",
     "text": [
      "     year  month  elapsed_time  hist_transactions_count  \\\n",
      "0  2017.0    6.0         245.0                      260   \n",
      "1  2017.0    1.0         396.0                      350   \n",
      "2  2016.0    8.0         549.0                       43   \n",
      "3  2017.0    9.0         153.0                       77   \n",
      "4  2017.0   11.0          92.0                      133   \n",
      "\n",
      "   hist_authorized_flag_sum  hist_authorized_flag_mean  \\\n",
      "0                       247                   0.950000   \n",
      "1                       339                   0.968571   \n",
      "2                        41                   0.953488   \n",
      "3                        77                   1.000000   \n",
      "4                       128                   0.962406   \n",
      "\n",
      "   hist_merchant_id_nunique  hist_city_id_nunique  hist_purchase_amount_sum  \\\n",
      "0                        94                     7               -165.968739   \n",
      "1                       142                     9               -210.006336   \n",
      "2                        13                     5                -29.167391   \n",
      "3                        50                     7                -49.491364   \n",
      "4                        66                     6                -48.687656   \n",
      "\n",
      "   hist_purchase_amount_median  hist_purchase_amount_max  \\\n",
      "0                    -0.698042                  2.258395   \n",
      "1                    -0.708590                  4.630299   \n",
      "2                    -0.698868                 -0.145847   \n",
      "3                    -0.707989                  1.445596   \n",
      "4                    -0.689807                  7.193041   \n",
      "\n",
      "   hist_purchase_amount_min  hist_purchase_amount_std  hist_installments_sum  \\\n",
      "0                 -0.739395                  0.212139                      4   \n",
      "1                 -0.742400                  0.384967                    543   \n",
      "2                 -0.730138                  0.087380                      0   \n",
      "3                 -0.740897                  0.261624                     84   \n",
      "4                 -0.746156                  1.352094                    182   \n",
      "\n",
      "   hist_installments_median  hist_installments_max  hist_installments_min  \\\n",
      "0                       0.0                      1                      0   \n",
      "1                       1.0                     10                     -1   \n",
      "2                       0.0                      0                      0   \n",
      "3                       1.0                      3                     -1   \n",
      "4                       1.0                     12                      1   \n",
      "\n",
      "   hist_installments_std  hist_purchase_date_ptp  hist_month_lag_min  \\\n",
      "0               0.123314              20977987.0                  -8   \n",
      "1               1.510777              33717687.0                 -12   \n",
      "2               0.000000              35635623.0                 -13   \n",
      "3               0.588974              13375339.0                  -5   \n",
      "4               1.896862               9405641.0                  -3   \n",
      "\n",
      "   hist_month_lag_max  new_transactions_count  new_authorized_flag_sum  \\\n",
      "0                   0                    23.0                     23.0   \n",
      "1                   0                     6.0                      6.0   \n",
      "2                   0                     1.0                      1.0   \n",
      "3                   0                     7.0                      7.0   \n",
      "4                   0                    36.0                     36.0   \n",
      "\n",
      "   new_authorized_flag_mean  new_merchant_id_nunique  new_city_id_nunique  \\\n",
      "0                       1.0                     23.0                  3.0   \n",
      "1                       1.0                      6.0                  1.0   \n",
      "2                       1.0                      1.0                  1.0   \n",
      "3                       1.0                      7.0                  2.0   \n",
      "4                       1.0                     36.0                  5.0   \n",
      "\n",
      "   new_purchase_amount_sum  new_purchase_amount_median  \\\n",
      "0               -13.244202                   -0.581180   \n",
      "1                -4.355735                   -0.732633   \n",
      "2                -0.700326                   -0.700326   \n",
      "3                -4.654372                   -0.691610   \n",
      "4               -19.926237                   -0.607447   \n",
      "\n",
      "   new_purchase_amount_max  new_purchase_amount_min  new_purchase_amount_std  \\\n",
      "0                -0.296112                -0.724368                 0.135812   \n",
      "1                -0.701858                -0.739410                 0.014326   \n",
      "2                -0.700326                -0.700326                      NaN   \n",
      "3                -0.566740                -0.734135                 0.065882   \n",
      "4                 0.450886                -0.739395                 0.223821   \n",
      "\n",
      "   new_installments_sum  new_installments_median  new_installments_max  \\\n",
      "0                   0.0                      0.0                   0.0   \n",
      "1                   6.0                      1.0                   1.0   \n",
      "2                   0.0                      0.0                   0.0   \n",
      "3                   5.0                      1.0                   1.0   \n",
      "4                  35.0                      1.0                   2.0   \n",
      "\n",
      "   new_installments_min  new_installments_std  new_month_lag_min  \\\n",
      "0                   0.0              0.000000                1.0   \n",
      "1                   1.0              0.000000                1.0   \n",
      "2                   0.0                   NaN                2.0   \n",
      "3                  -1.0              0.755929                1.0   \n",
      "4                  -1.0              0.376913                1.0   \n",
      "\n",
      "   new_month_lag_max  feature_1_0  feature_1_1  feature_1_2  feature_1_3  \\\n",
      "0                2.0            0            0            0            0   \n",
      "1                2.0            0            0            0            1   \n",
      "2                2.0            0            1            0            0   \n",
      "3                2.0            0            0            0            1   \n",
      "4                2.0            1            0            0            0   \n",
      "\n",
      "   feature_1_4  feature_2_0  feature_2_1  feature_2_2  feature_3_0  \\\n",
      "0            1            0            1            0            0   \n",
      "1            0            1            0            0            1   \n",
      "2            0            0            1            0            1   \n",
      "3            0            0            0            1            1   \n",
      "4            0            0            0            1            1   \n",
      "\n",
      "   feature_3_1  \n",
      "0            1  \n",
      "1            0  \n",
      "2            0  \n",
      "3            0  \n",
      "4            0  \n",
      "     year  month  elapsed_time  hist_transactions_count  \\\n",
      "0  2017.0    4.0         306.0                       68   \n",
      "1  2017.0    1.0         396.0                       78   \n",
      "2  2017.0    8.0         184.0                       13   \n",
      "3  2017.0   12.0          62.0                       26   \n",
      "4  2015.0   12.0         793.0                      110   \n",
      "\n",
      "   hist_authorized_flag_sum  hist_authorized_flag_mean  \\\n",
      "0                        44                   0.647059   \n",
      "1                        77                   0.987179   \n",
      "2                         9                   0.692308   \n",
      "3                        26                   1.000000   \n",
      "4                        87                   0.790909   \n",
      "\n",
      "   hist_merchant_id_nunique  hist_city_id_nunique  hist_purchase_amount_sum  \\\n",
      "0                        24                     7                -40.733733   \n",
      "1                        27                     4                -49.136513   \n",
      "2                         9                     4                  4.528840   \n",
      "3                        23                     1                -13.690715   \n",
      "4                        47                     5                 25.139384   \n",
      "\n",
      "   hist_purchase_amount_median  hist_purchase_amount_max  \\\n",
      "0                    -0.689206                  0.235676   \n",
      "1                    -0.679288                  0.318817   \n",
      "2                     0.214624                  2.525866   \n",
      "3                    -0.587492                  0.087965   \n",
      "4                    -0.671775                 15.782255   \n",
      "\n",
      "   hist_purchase_amount_min  hist_purchase_amount_std  hist_installments_sum  \\\n",
      "0                 -0.743902                  0.192268                    141   \n",
      "1                 -0.731881                  0.154999                     83   \n",
      "2                 -0.536537                  0.906547                     44   \n",
      "3                 -0.731881                  0.219162                     38   \n",
      "4                 -0.746758                  2.777764                    120   \n",
      "\n",
      "   hist_installments_median  hist_installments_max  hist_installments_min  \\\n",
      "0                       1.0                     12                      1   \n",
      "1                       1.0                      4                      1   \n",
      "2                       4.0                     10                     -1   \n",
      "3                       1.0                      6                     -1   \n",
      "4                       1.0                      4                      1   \n",
      "\n",
      "   hist_installments_std  hist_purchase_date_ptp  hist_month_lag_min  \\\n",
      "0               2.061127              23179380.0                  -8   \n",
      "1               0.405794              34667913.0                 -13   \n",
      "2               3.686427              13924886.0                  -6   \n",
      "3               1.475961               6734846.0                  -2   \n",
      "4               0.439880              36283897.0                 -13   \n",
      "\n",
      "   hist_month_lag_max  new_transactions_count  new_authorized_flag_sum  \\\n",
      "0                   0                     3.0                      3.0   \n",
      "1                   0                     9.0                      9.0   \n",
      "2                   0                     2.0                      2.0   \n",
      "3                   0                    10.0                     10.0   \n",
      "4                   0                     6.0                      6.0   \n",
      "\n",
      "   new_authorized_flag_mean  new_merchant_id_nunique  new_city_id_nunique  \\\n",
      "0                       1.0                      3.0                  3.0   \n",
      "1                       1.0                      9.0                  2.0   \n",
      "2                       1.0                      2.0                  2.0   \n",
      "3                       1.0                     10.0                  3.0   \n",
      "4                       1.0                      6.0                  2.0   \n",
      "\n",
      "   new_purchase_amount_sum  new_purchase_amount_median  \\\n",
      "0                -1.777156                   -0.671775   \n",
      "1                -5.944698                   -0.656749   \n",
      "2                 0.180138                    0.090069   \n",
      "3                -5.743674                   -0.581391   \n",
      "4                12.064997                   -0.654495   \n",
      "\n",
      "   new_purchase_amount_max  new_purchase_amount_min  new_purchase_amount_std  \\\n",
      "0                -0.383266                -0.722114                 0.182843   \n",
      "1                -0.506484                -0.740897                 0.071147   \n",
      "2                 0.904506                -0.724368                 1.151788   \n",
      "3                -0.447880                -0.671775                 0.073166   \n",
      "4                14.279604                -0.704082                 6.028671   \n",
      "\n",
      "   new_installments_sum  new_installments_median  new_installments_max  \\\n",
      "0                   5.0                      1.0                   3.0   \n",
      "1                  11.0                      1.0                   3.0   \n",
      "2                  11.0                      5.5                  10.0   \n",
      "3                  29.0                      2.0                  12.0   \n",
      "4                   5.0                      1.0                   2.0   \n",
      "\n",
      "   new_installments_min  new_installments_std  new_month_lag_min  \\\n",
      "0                   1.0              1.154701                2.0   \n",
      "1                   1.0              0.666667                1.0   \n",
      "2                   1.0              6.363961                1.0   \n",
      "3                   1.0              3.348300                1.0   \n",
      "4                  -1.0              0.983192                1.0   \n",
      "\n",
      "   new_month_lag_max  feature_1_0  feature_1_1  feature_1_2  feature_1_3  \\\n",
      "0                2.0            0            0            1            0   \n",
      "1                2.0            0            1            0            0   \n",
      "2                1.0            0            0            0            0   \n",
      "3                2.0            0            1            0            0   \n",
      "4                2.0            0            0            0            0   \n",
      "\n",
      "   feature_1_4  feature_2_0  feature_2_1  feature_2_2  feature_3_0  \\\n",
      "0            0            0            0            1            0   \n",
      "1            0            0            0            1            1   \n",
      "2            1            1            0            0            0   \n",
      "3            0            1            0            0            1   \n",
      "4            1            1            0            0            0   \n",
      "\n",
      "   feature_3_1  \n",
      "0            1  \n",
      "1            0  \n",
      "2            1  \n",
      "3            0  \n"
     ]
    },
    {
     "name": "stdout",
     "output_type": "stream",
     "text": [
      "4            1  \n"
     ]
    }
   ],
   "source": [
    "print(train.head())\n",
    "print(test.head())"
   ]
  },
  {
   "cell_type": "markdown",
   "metadata": {},
   "source": [
    "# Data Analysis Using h2o"
   ]
  },
  {
   "cell_type": "markdown",
   "metadata": {},
   "source": [
    "# Creating test and train dataframes"
   ]
  },
  {
   "cell_type": "code",
   "execution_count": 75,
   "metadata": {},
   "outputs": [
    {
     "name": "stdout",
     "output_type": "stream",
     "text": [
      "Parse progress: |█████████████████████████████████████████████████████████| 100%\n",
      "Parse progress: |█████████████████████████████████████████████████████████| 100%\n"
     ]
    }
   ],
   "source": [
    "trainhf = h2o.H2OFrame(train)\n",
    "testhf = h2o.H2OFrame(test)\n",
    "#Get Train dataset and test dataset in h20 dataframes."
   ]
  },
  {
   "cell_type": "code",
   "execution_count": 78,
   "metadata": {},
   "outputs": [],
   "source": [
    "result = pd.concat([train, target], axis=1, join_axes=[train.index])\n",
    "#prepare train dataset for autoML in h20"
   ]
  },
  {
   "cell_type": "code",
   "execution_count": 69,
   "metadata": {},
   "outputs": [
    {
     "data": {
      "text/html": [
       "<div>\n",
       "<style scoped>\n",
       "    .dataframe tbody tr th:only-of-type {\n",
       "        vertical-align: middle;\n",
       "    }\n",
       "\n",
       "    .dataframe tbody tr th {\n",
       "        vertical-align: top;\n",
       "    }\n",
       "\n",
       "    .dataframe thead th {\n",
       "        text-align: right;\n",
       "    }\n",
       "</style>\n",
       "<table border=\"1\" class=\"dataframe\">\n",
       "  <thead>\n",
       "    <tr style=\"text-align: right;\">\n",
       "      <th></th>\n",
       "      <th>year</th>\n",
       "      <th>month</th>\n",
       "      <th>elapsed_time</th>\n",
       "      <th>hist_transactions_count</th>\n",
       "      <th>hist_authorized_flag_sum</th>\n",
       "      <th>hist_authorized_flag_mean</th>\n",
       "      <th>hist_merchant_id_nunique</th>\n",
       "      <th>hist_city_id_nunique</th>\n",
       "      <th>hist_purchase_amount_sum</th>\n",
       "      <th>hist_purchase_amount_median</th>\n",
       "      <th>hist_purchase_amount_max</th>\n",
       "      <th>hist_purchase_amount_min</th>\n",
       "      <th>hist_purchase_amount_std</th>\n",
       "      <th>hist_installments_sum</th>\n",
       "      <th>hist_installments_median</th>\n",
       "      <th>hist_installments_max</th>\n",
       "      <th>hist_installments_min</th>\n",
       "      <th>hist_installments_std</th>\n",
       "      <th>hist_purchase_date_ptp</th>\n",
       "      <th>hist_month_lag_min</th>\n",
       "      <th>hist_month_lag_max</th>\n",
       "      <th>new_transactions_count</th>\n",
       "      <th>new_authorized_flag_sum</th>\n",
       "      <th>new_authorized_flag_mean</th>\n",
       "      <th>new_merchant_id_nunique</th>\n",
       "      <th>new_city_id_nunique</th>\n",
       "      <th>new_purchase_amount_sum</th>\n",
       "      <th>new_purchase_amount_median</th>\n",
       "      <th>new_purchase_amount_max</th>\n",
       "      <th>new_purchase_amount_min</th>\n",
       "      <th>new_purchase_amount_std</th>\n",
       "      <th>new_installments_sum</th>\n",
       "      <th>new_installments_median</th>\n",
       "      <th>new_installments_max</th>\n",
       "      <th>new_installments_min</th>\n",
       "      <th>new_installments_std</th>\n",
       "      <th>new_month_lag_min</th>\n",
       "      <th>new_month_lag_max</th>\n",
       "      <th>feature_1_0</th>\n",
       "      <th>feature_1_1</th>\n",
       "      <th>feature_1_2</th>\n",
       "      <th>feature_1_3</th>\n",
       "      <th>feature_1_4</th>\n",
       "      <th>feature_2_0</th>\n",
       "      <th>feature_2_1</th>\n",
       "      <th>feature_2_2</th>\n",
       "      <th>feature_3_0</th>\n",
       "      <th>feature_3_1</th>\n",
       "      <th>target</th>\n",
       "    </tr>\n",
       "  </thead>\n",
       "  <tbody>\n",
       "    <tr>\n",
       "      <th>0</th>\n",
       "      <td>2017.0</td>\n",
       "      <td>6.0</td>\n",
       "      <td>245.0</td>\n",
       "      <td>260</td>\n",
       "      <td>247</td>\n",
       "      <td>0.950000</td>\n",
       "      <td>94</td>\n",
       "      <td>7</td>\n",
       "      <td>-165.968739</td>\n",
       "      <td>-0.698042</td>\n",
       "      <td>2.258395</td>\n",
       "      <td>-0.739395</td>\n",
       "      <td>0.212139</td>\n",
       "      <td>4</td>\n",
       "      <td>0.0</td>\n",
       "      <td>1</td>\n",
       "      <td>0</td>\n",
       "      <td>0.123314</td>\n",
       "      <td>20977987.0</td>\n",
       "      <td>-8</td>\n",
       "      <td>0</td>\n",
       "      <td>23.0</td>\n",
       "      <td>23.0</td>\n",
       "      <td>1.0</td>\n",
       "      <td>23.0</td>\n",
       "      <td>3.0</td>\n",
       "      <td>-13.244202</td>\n",
       "      <td>-0.581180</td>\n",
       "      <td>-0.296112</td>\n",
       "      <td>-0.724368</td>\n",
       "      <td>0.135812</td>\n",
       "      <td>0.0</td>\n",
       "      <td>0.0</td>\n",
       "      <td>0.0</td>\n",
       "      <td>0.0</td>\n",
       "      <td>0.000000</td>\n",
       "      <td>1.0</td>\n",
       "      <td>2.0</td>\n",
       "      <td>0</td>\n",
       "      <td>0</td>\n",
       "      <td>0</td>\n",
       "      <td>0</td>\n",
       "      <td>1</td>\n",
       "      <td>0</td>\n",
       "      <td>1</td>\n",
       "      <td>0</td>\n",
       "      <td>0</td>\n",
       "      <td>1</td>\n",
       "      <td>-0.820283</td>\n",
       "    </tr>\n",
       "    <tr>\n",
       "      <th>1</th>\n",
       "      <td>2017.0</td>\n",
       "      <td>1.0</td>\n",
       "      <td>396.0</td>\n",
       "      <td>350</td>\n",
       "      <td>339</td>\n",
       "      <td>0.968571</td>\n",
       "      <td>142</td>\n",
       "      <td>9</td>\n",
       "      <td>-210.006336</td>\n",
       "      <td>-0.708590</td>\n",
       "      <td>4.630299</td>\n",
       "      <td>-0.742400</td>\n",
       "      <td>0.384967</td>\n",
       "      <td>543</td>\n",
       "      <td>1.0</td>\n",
       "      <td>10</td>\n",
       "      <td>-1</td>\n",
       "      <td>1.510777</td>\n",
       "      <td>33717687.0</td>\n",
       "      <td>-12</td>\n",
       "      <td>0</td>\n",
       "      <td>6.0</td>\n",
       "      <td>6.0</td>\n",
       "      <td>1.0</td>\n",
       "      <td>6.0</td>\n",
       "      <td>1.0</td>\n",
       "      <td>-4.355735</td>\n",
       "      <td>-0.732633</td>\n",
       "      <td>-0.701858</td>\n",
       "      <td>-0.739410</td>\n",
       "      <td>0.014326</td>\n",
       "      <td>6.0</td>\n",
       "      <td>1.0</td>\n",
       "      <td>1.0</td>\n",
       "      <td>1.0</td>\n",
       "      <td>0.000000</td>\n",
       "      <td>1.0</td>\n",
       "      <td>2.0</td>\n",
       "      <td>0</td>\n",
       "      <td>0</td>\n",
       "      <td>0</td>\n",
       "      <td>1</td>\n",
       "      <td>0</td>\n",
       "      <td>1</td>\n",
       "      <td>0</td>\n",
       "      <td>0</td>\n",
       "      <td>1</td>\n",
       "      <td>0</td>\n",
       "      <td>0.392913</td>\n",
       "    </tr>\n",
       "    <tr>\n",
       "      <th>2</th>\n",
       "      <td>2016.0</td>\n",
       "      <td>8.0</td>\n",
       "      <td>549.0</td>\n",
       "      <td>43</td>\n",
       "      <td>41</td>\n",
       "      <td>0.953488</td>\n",
       "      <td>13</td>\n",
       "      <td>5</td>\n",
       "      <td>-29.167391</td>\n",
       "      <td>-0.698868</td>\n",
       "      <td>-0.145847</td>\n",
       "      <td>-0.730138</td>\n",
       "      <td>0.087380</td>\n",
       "      <td>0</td>\n",
       "      <td>0.0</td>\n",
       "      <td>0</td>\n",
       "      <td>0</td>\n",
       "      <td>0.000000</td>\n",
       "      <td>35635623.0</td>\n",
       "      <td>-13</td>\n",
       "      <td>0</td>\n",
       "      <td>1.0</td>\n",
       "      <td>1.0</td>\n",
       "      <td>1.0</td>\n",
       "      <td>1.0</td>\n",
       "      <td>1.0</td>\n",
       "      <td>-0.700326</td>\n",
       "      <td>-0.700326</td>\n",
       "      <td>-0.700326</td>\n",
       "      <td>-0.700326</td>\n",
       "      <td>NaN</td>\n",
       "      <td>0.0</td>\n",
       "      <td>0.0</td>\n",
       "      <td>0.0</td>\n",
       "      <td>0.0</td>\n",
       "      <td>NaN</td>\n",
       "      <td>2.0</td>\n",
       "      <td>2.0</td>\n",
       "      <td>0</td>\n",
       "      <td>1</td>\n",
       "      <td>0</td>\n",
       "      <td>0</td>\n",
       "      <td>0</td>\n",
       "      <td>0</td>\n",
       "      <td>1</td>\n",
       "      <td>0</td>\n",
       "      <td>1</td>\n",
       "      <td>0</td>\n",
       "      <td>0.688056</td>\n",
       "    </tr>\n",
       "    <tr>\n",
       "      <th>3</th>\n",
       "      <td>2017.0</td>\n",
       "      <td>9.0</td>\n",
       "      <td>153.0</td>\n",
       "      <td>77</td>\n",
       "      <td>77</td>\n",
       "      <td>1.000000</td>\n",
       "      <td>50</td>\n",
       "      <td>7</td>\n",
       "      <td>-49.491364</td>\n",
       "      <td>-0.707989</td>\n",
       "      <td>1.445596</td>\n",
       "      <td>-0.740897</td>\n",
       "      <td>0.261624</td>\n",
       "      <td>84</td>\n",
       "      <td>1.0</td>\n",
       "      <td>3</td>\n",
       "      <td>-1</td>\n",
       "      <td>0.588974</td>\n",
       "      <td>13375339.0</td>\n",
       "      <td>-5</td>\n",
       "      <td>0</td>\n",
       "      <td>7.0</td>\n",
       "      <td>7.0</td>\n",
       "      <td>1.0</td>\n",
       "      <td>7.0</td>\n",
       "      <td>2.0</td>\n",
       "      <td>-4.654372</td>\n",
       "      <td>-0.691610</td>\n",
       "      <td>-0.566740</td>\n",
       "      <td>-0.734135</td>\n",
       "      <td>0.065882</td>\n",
       "      <td>5.0</td>\n",
       "      <td>1.0</td>\n",
       "      <td>1.0</td>\n",
       "      <td>-1.0</td>\n",
       "      <td>0.755929</td>\n",
       "      <td>1.0</td>\n",
       "      <td>2.0</td>\n",
       "      <td>0</td>\n",
       "      <td>0</td>\n",
       "      <td>0</td>\n",
       "      <td>1</td>\n",
       "      <td>0</td>\n",
       "      <td>0</td>\n",
       "      <td>0</td>\n",
       "      <td>1</td>\n",
       "      <td>1</td>\n",
       "      <td>0</td>\n",
       "      <td>0.142495</td>\n",
       "    </tr>\n",
       "    <tr>\n",
       "      <th>4</th>\n",
       "      <td>2017.0</td>\n",
       "      <td>11.0</td>\n",
       "      <td>92.0</td>\n",
       "      <td>133</td>\n",
       "      <td>128</td>\n",
       "      <td>0.962406</td>\n",
       "      <td>66</td>\n",
       "      <td>6</td>\n",
       "      <td>-48.687656</td>\n",
       "      <td>-0.689807</td>\n",
       "      <td>7.193041</td>\n",
       "      <td>-0.746156</td>\n",
       "      <td>1.352094</td>\n",
       "      <td>182</td>\n",
       "      <td>1.0</td>\n",
       "      <td>12</td>\n",
       "      <td>1</td>\n",
       "      <td>1.896862</td>\n",
       "      <td>9405641.0</td>\n",
       "      <td>-3</td>\n",
       "      <td>0</td>\n",
       "      <td>36.0</td>\n",
       "      <td>36.0</td>\n",
       "      <td>1.0</td>\n",
       "      <td>36.0</td>\n",
       "      <td>5.0</td>\n",
       "      <td>-19.926237</td>\n",
       "      <td>-0.607447</td>\n",
       "      <td>0.450886</td>\n",
       "      <td>-0.739395</td>\n",
       "      <td>0.223821</td>\n",
       "      <td>35.0</td>\n",
       "      <td>1.0</td>\n",
       "      <td>2.0</td>\n",
       "      <td>-1.0</td>\n",
       "      <td>0.376913</td>\n",
       "      <td>1.0</td>\n",
       "      <td>2.0</td>\n",
       "      <td>1</td>\n",
       "      <td>0</td>\n",
       "      <td>0</td>\n",
       "      <td>0</td>\n",
       "      <td>0</td>\n",
       "      <td>0</td>\n",
       "      <td>0</td>\n",
       "      <td>1</td>\n",
       "      <td>1</td>\n",
       "      <td>0</td>\n",
       "      <td>-0.159749</td>\n",
       "    </tr>\n",
       "  </tbody>\n",
       "</table>\n",
       "</div>"
      ],
      "text/plain": [
       "     year  month  elapsed_time  hist_transactions_count  \\\n",
       "0  2017.0    6.0         245.0                      260   \n",
       "1  2017.0    1.0         396.0                      350   \n",
       "2  2016.0    8.0         549.0                       43   \n",
       "3  2017.0    9.0         153.0                       77   \n",
       "4  2017.0   11.0          92.0                      133   \n",
       "\n",
       "   hist_authorized_flag_sum  hist_authorized_flag_mean  \\\n",
       "0                       247                   0.950000   \n",
       "1                       339                   0.968571   \n",
       "2                        41                   0.953488   \n",
       "3                        77                   1.000000   \n",
       "4                       128                   0.962406   \n",
       "\n",
       "   hist_merchant_id_nunique  hist_city_id_nunique  hist_purchase_amount_sum  \\\n",
       "0                        94                     7               -165.968739   \n",
       "1                       142                     9               -210.006336   \n",
       "2                        13                     5                -29.167391   \n",
       "3                        50                     7                -49.491364   \n",
       "4                        66                     6                -48.687656   \n",
       "\n",
       "   hist_purchase_amount_median  hist_purchase_amount_max  \\\n",
       "0                    -0.698042                  2.258395   \n",
       "1                    -0.708590                  4.630299   \n",
       "2                    -0.698868                 -0.145847   \n",
       "3                    -0.707989                  1.445596   \n",
       "4                    -0.689807                  7.193041   \n",
       "\n",
       "   hist_purchase_amount_min  hist_purchase_amount_std  hist_installments_sum  \\\n",
       "0                 -0.739395                  0.212139                      4   \n",
       "1                 -0.742400                  0.384967                    543   \n",
       "2                 -0.730138                  0.087380                      0   \n",
       "3                 -0.740897                  0.261624                     84   \n",
       "4                 -0.746156                  1.352094                    182   \n",
       "\n",
       "   hist_installments_median  hist_installments_max  hist_installments_min  \\\n",
       "0                       0.0                      1                      0   \n",
       "1                       1.0                     10                     -1   \n",
       "2                       0.0                      0                      0   \n",
       "3                       1.0                      3                     -1   \n",
       "4                       1.0                     12                      1   \n",
       "\n",
       "   hist_installments_std  hist_purchase_date_ptp  hist_month_lag_min  \\\n",
       "0               0.123314              20977987.0                  -8   \n",
       "1               1.510777              33717687.0                 -12   \n",
       "2               0.000000              35635623.0                 -13   \n",
       "3               0.588974              13375339.0                  -5   \n",
       "4               1.896862               9405641.0                  -3   \n",
       "\n",
       "   hist_month_lag_max  new_transactions_count  new_authorized_flag_sum  \\\n",
       "0                   0                    23.0                     23.0   \n",
       "1                   0                     6.0                      6.0   \n",
       "2                   0                     1.0                      1.0   \n",
       "3                   0                     7.0                      7.0   \n",
       "4                   0                    36.0                     36.0   \n",
       "\n",
       "   new_authorized_flag_mean  new_merchant_id_nunique  new_city_id_nunique  \\\n",
       "0                       1.0                     23.0                  3.0   \n",
       "1                       1.0                      6.0                  1.0   \n",
       "2                       1.0                      1.0                  1.0   \n",
       "3                       1.0                      7.0                  2.0   \n",
       "4                       1.0                     36.0                  5.0   \n",
       "\n",
       "   new_purchase_amount_sum  new_purchase_amount_median  \\\n",
       "0               -13.244202                   -0.581180   \n",
       "1                -4.355735                   -0.732633   \n",
       "2                -0.700326                   -0.700326   \n",
       "3                -4.654372                   -0.691610   \n",
       "4               -19.926237                   -0.607447   \n",
       "\n",
       "   new_purchase_amount_max  new_purchase_amount_min  new_purchase_amount_std  \\\n",
       "0                -0.296112                -0.724368                 0.135812   \n",
       "1                -0.701858                -0.739410                 0.014326   \n",
       "2                -0.700326                -0.700326                      NaN   \n",
       "3                -0.566740                -0.734135                 0.065882   \n",
       "4                 0.450886                -0.739395                 0.223821   \n",
       "\n",
       "   new_installments_sum  new_installments_median  new_installments_max  \\\n",
       "0                   0.0                      0.0                   0.0   \n",
       "1                   6.0                      1.0                   1.0   \n",
       "2                   0.0                      0.0                   0.0   \n",
       "3                   5.0                      1.0                   1.0   \n",
       "4                  35.0                      1.0                   2.0   \n",
       "\n",
       "   new_installments_min  new_installments_std  new_month_lag_min  \\\n",
       "0                   0.0              0.000000                1.0   \n",
       "1                   1.0              0.000000                1.0   \n",
       "2                   0.0                   NaN                2.0   \n",
       "3                  -1.0              0.755929                1.0   \n",
       "4                  -1.0              0.376913                1.0   \n",
       "\n",
       "   new_month_lag_max  feature_1_0  feature_1_1  feature_1_2  feature_1_3  \\\n",
       "0                2.0            0            0            0            0   \n",
       "1                2.0            0            0            0            1   \n",
       "2                2.0            0            1            0            0   \n",
       "3                2.0            0            0            0            1   \n",
       "4                2.0            1            0            0            0   \n",
       "\n",
       "   feature_1_4  feature_2_0  feature_2_1  feature_2_2  feature_3_0  \\\n",
       "0            1            0            1            0            0   \n",
       "1            0            1            0            0            1   \n",
       "2            0            0            1            0            1   \n",
       "3            0            0            0            1            1   \n",
       "4            0            0            0            1            1   \n",
       "\n",
       "   feature_3_1    target  \n",
       "0            1 -0.820283  \n",
       "1            0  0.392913  \n",
       "2            0  0.688056  \n",
       "3            0  0.142495  \n",
       "4            0 -0.159749  "
      ]
     },
     "execution_count": 69,
     "metadata": {},
     "output_type": "execute_result"
    }
   ],
   "source": [
    "result.head()"
   ]
  },
  {
   "cell_type": "code",
   "execution_count": 79,
   "metadata": {},
   "outputs": [
    {
     "name": "stdout",
     "output_type": "stream",
     "text": [
      "Parse progress: |█████████████████████████████████████████████████████████| 100%\n"
     ]
    }
   ],
   "source": [
    "resulthf = h2o.H2OFrame(result)\n"
   ]
  },
  {
   "cell_type": "code",
   "execution_count": 80,
   "metadata": {},
   "outputs": [
    {
     "name": "stdout",
     "output_type": "stream",
     "text": [
      "Rows:201917\n",
      "Cols:49\n",
      "\n",
      "\n"
     ]
    },
    {
     "data": {
      "text/html": [
       "<table>\n",
       "<thead>\n",
       "<tr><th>       </th><th>year              </th><th>month             </th><th>elapsed_time     </th><th>hist_transactions_count  </th><th>hist_authorized_flag_sum  </th><th>hist_authorized_flag_mean  </th><th>hist_merchant_id_nunique  </th><th>hist_city_id_nunique  </th><th>hist_purchase_amount_sum  </th><th>hist_purchase_amount_median  </th><th>hist_purchase_amount_max  </th><th>hist_purchase_amount_min  </th><th>hist_purchase_amount_std  </th><th>hist_installments_sum  </th><th>hist_installments_median  </th><th>hist_installments_max  </th><th>hist_installments_min  </th><th>hist_installments_std  </th><th>hist_purchase_date_ptp  </th><th>hist_month_lag_min  </th><th>hist_month_lag_max  </th><th>new_transactions_count  </th><th>new_authorized_flag_sum  </th><th>new_authorized_flag_mean  </th><th>new_merchant_id_nunique  </th><th>new_city_id_nunique  </th><th>new_purchase_amount_sum  </th><th>new_purchase_amount_median  </th><th>new_purchase_amount_max  </th><th>new_purchase_amount_min  </th><th>new_purchase_amount_std  </th><th>new_installments_sum  </th><th>new_installments_median  </th><th>new_installments_max  </th><th>new_installments_min  </th><th>new_installments_std  </th><th>new_month_lag_min  </th><th>new_month_lag_max  </th><th>feature_1_0        </th><th>feature_1_1        </th><th>feature_1_2        </th><th>feature_1_3        </th><th>feature_1_4        </th><th>feature_2_0        </th><th>feature_2_1        </th><th>feature_2_2        </th><th>feature_3_0       </th><th>feature_3_1       </th><th>target              </th></tr>\n",
       "</thead>\n",
       "<tbody>\n",
       "<tr><td>type   </td><td>int               </td><td>int               </td><td>int              </td><td>int                      </td><td>int                       </td><td>real                       </td><td>int                       </td><td>int                   </td><td>real                      </td><td>real                         </td><td>real                      </td><td>real                      </td><td>real                      </td><td>int                    </td><td>real                      </td><td>int                    </td><td>int                    </td><td>real                   </td><td>int                     </td><td>int                 </td><td>int                 </td><td>int                     </td><td>int                      </td><td>int                       </td><td>int                      </td><td>int                  </td><td>real                     </td><td>real                        </td><td>real                     </td><td>real                     </td><td>real                     </td><td>int                   </td><td>real                     </td><td>int                   </td><td>int                   </td><td>real                  </td><td>int                </td><td>int                </td><td>int                </td><td>int                </td><td>int                </td><td>int                </td><td>int                </td><td>int                </td><td>int                </td><td>int                </td><td>int               </td><td>int               </td><td>real                </td></tr>\n",
       "<tr><td>mins   </td><td>2011.0            </td><td>1.0               </td><td>0.0              </td><td>2.0                      </td><td>2.0                       </td><td>0.03048780487804878        </td><td>1.0                       </td><td>1.0                   </td><td>-2088.0125263300793       </td><td>-0.74689277                  </td><td>-0.74531499               </td><td>-0.7469078                </td><td>0.0                       </td><td>-9.0                   </td><td>-1.0                      </td><td>0.0                    </td><td>-1.0                   </td><td>0.0                    </td><td>152065.0                </td><td>-13.0               </td><td>-11.0               </td><td>1.0                     </td><td>1.0                      </td><td>1.0                       </td><td>0.0                      </td><td>1.0                  </td><td>-70.81348874000001       </td><td>-0.74689277                 </td><td>-0.74689277              </td><td>-0.74689277              </td><td>0.0                      </td><td>-6.0                  </td><td>-1.0                     </td><td>-1.0                  </td><td>-1.0                  </td><td>0.0                   </td><td>1.0                </td><td>1.0                </td><td>0.0                </td><td>0.0                </td><td>0.0                </td><td>0.0                </td><td>0.0                </td><td>0.0                </td><td>0.0                </td><td>0.0                </td><td>0.0               </td><td>0.0               </td><td>-33.21928095        </td></tr>\n",
       "<tr><td>mean   </td><td>2016.5092983750749</td><td>7.378744731746215 </td><td>381.9789814626802</td><td>89.29416047187713        </td><td>81.55898215603433         </td><td>0.8933534742625053         </td><td>33.67957130900326         </td><td>4.901627896610983     </td><td>14.425674130460056        </td><td>-0.6246353656277084          </td><td>66.67166002565287         </td><td>-0.7299929271800293       </td><td>12.653665461579756        </td><td>57.854048940901485     </td><td>0.6260319834387393        </td><td>4.253163428537464      </td><td>0.05599330417944013    </td><td>0.7958600276516435     </td><td>21098360.77233715       </td><td>-7.877776512131219  </td><td>-0.1660583308983394 </td><td>6.776554843154475       </td><td>6.776554843154475        </td><td>1.0                       </td><td>6.68335314968942         </td><td>2.3094296223039574   </td><td>-3.741887008611667       </td><td>-0.5817924620056562         </td><td>-0.13169066018340317     </td><td>-0.660581518438434       </td><td>0.23155338109342613      </td><td>4.626559843543384     </td><td>0.6616764637249566       </td><td>1.4797484248774924    </td><td>0.3286366717411353    </td><td>0.5197332072742253    </td><td>1.1586790083673173 </td><td>1.8153856411054186 </td><td>0.05961360360940386</td><td>0.27633631640723666</td><td>0.36437248968635627</td><td>0.09848105904901519</td><td>0.20119653124798803</td><td>0.44197368225558026</td><td>0.37064239266629356</td><td>0.18738392507812615</td><td>0.4344309790656557</td><td>0.5655690209343444</td><td>-0.39363629907798764</td></tr>\n",
       "<tr><td>maxs   </td><td>2018.0            </td><td>12.0              </td><td>2284.0           </td><td>2912.0                   </td><td>2537.0                    </td><td>1.0                        </td><td>398.0                     </td><td>67.0                  </td><td>6010596.056687671         </td><td>29.3061158                   </td><td>6010603.9717525           </td><td>28.55479021               </td><td>1735112.1182583524        </td><td>2413.0                 </td><td>12.0                      </td><td>999.0                  </td><td>10.0                   </td><td>276.34199361641987     </td><td>36626924.0              </td><td>-1.0                </td><td>0.0                 </td><td>109.0                   </td><td>109.0                    </td><td>1.0                       </td><td>109.0                    </td><td>28.0                 </td><td>109.08620958             </td><td>44.18236247                 </td><td>76.68290431              </td><td>44.18236247              </td><td>47.32774555470021        </td><td>1004.0                </td><td>12.0                     </td><td>999.0                 </td><td>12.0                  </td><td>185.47687838054935    </td><td>2.0                </td><td>2.0                </td><td>1.0                </td><td>1.0                </td><td>1.0                </td><td>1.0                </td><td>1.0                </td><td>1.0                </td><td>1.0                </td><td>1.0                </td><td>1.0               </td><td>1.0               </td><td>17.9650684          </td></tr>\n",
       "<tr><td>sigma  </td><td>0.7881987797584785</td><td>3.3407178705432297</td><td>293.7101762588666</td><td>104.60597962401933       </td><td>99.24335719330448         </td><td>0.11444551174244734        </td><td>30.694613456920703        </td><td>3.4962638044201944    </td><td>13449.15789837491         </td><td>0.2838218367185942           </td><td>13448.549335754906        </td><td>0.09189951929871792       </td><td>3865.2394015035334        </td><td>100.70877360623975     </td><td>0.8158945632239231        </td><td>22.9411582353378       </td><td>0.723224614280829      </td><td>3.0578917443732516     </td><td>10219697.465676388      </td><td>3.843313220560592   </td><td>0.6369720519000303  </td><td>6.694579468595416       </td><td>6.694579468595416        </td><td>0.0                       </td><td>6.650088979337292        </td><td>1.670109402647818    </td><td>4.395308968885091        </td><td>0.5099587260290795          </td><td>1.5321300562826763       </td><td>0.43340949283818775      </td><td>0.5922969385502688       </td><td>8.195394052141918     </td><td>1.0625806685951862       </td><td>3.359907420745747     </td><td>1.0369219111610508    </td><td>1.0946252291350524    </td><td>0.3653775066958175 </td><td>0.38798548135534544</td><td>0.23677014067113566</td><td>0.44718625540887563</td><td>0.4812549485287373 </td><td>0.2979647290502188 </td><td>0.40089560114689593</td><td>0.49662276217682494</td><td>0.4829780167776804 </td><td>0.39022037854501057</td><td>0.4956832863228728</td><td>0.4956832863228728</td><td>3.850499995486102   </td></tr>\n",
       "<tr><td>zeros  </td><td>0                 </td><td>0                 </td><td>1                </td><td>0                        </td><td>0                         </td><td>0                          </td><td>0                         </td><td>0                     </td><td>0                         </td><td>0                            </td><td>0                         </td><td>0                         </td><td>257                       </td><td>50983                  </td><td>96049                     </td><td>51020                  </td><td>98684                  </td><td>58062                  </td><td>0                       </td><td>0                   </td><td>181709              </td><td>0                       </td><td>0                        </td><td>0                         </td><td>586                      </td><td>0                    </td><td>0                        </td><td>0                           </td><td>0                        </td><td>0                        </td><td>208                      </td><td>86531                 </td><td>87530                    </td><td>85222                 </td><td>86722                 </td><td>98757                 </td><td>0                  </td><td>0                  </td><td>189880             </td><td>146120             </td><td>128344             </td><td>182032             </td><td>161292             </td><td>112675             </td><td>127078             </td><td>164081             </td><td>114198            </td><td>87719             </td><td>1630                </td></tr>\n",
       "<tr><td>missing</td><td>0                 </td><td>0                 </td><td>0                </td><td>0                        </td><td>0                         </td><td>0                          </td><td>0                         </td><td>0                     </td><td>0                         </td><td>0                            </td><td>0                         </td><td>0                         </td><td>0                         </td><td>0                      </td><td>0                         </td><td>0                      </td><td>0                      </td><td>0                      </td><td>0                       </td><td>0                   </td><td>0                   </td><td>21931                   </td><td>21931                    </td><td>21931                     </td><td>21931                    </td><td>21931                </td><td>21931                    </td><td>21931                       </td><td>21931                    </td><td>21931                    </td><td>48718                    </td><td>21931                 </td><td>21931                    </td><td>21931                 </td><td>21931                 </td><td>48718                 </td><td>21931              </td><td>21931              </td><td>0                  </td><td>0                  </td><td>0                  </td><td>0                  </td><td>0                  </td><td>0                  </td><td>0                  </td><td>0                  </td><td>0                 </td><td>0                 </td><td>0                   </td></tr>\n",
       "<tr><td>0      </td><td>2017.0            </td><td>6.0               </td><td>245.0            </td><td>260.0                    </td><td>247.0                     </td><td>0.95                       </td><td>94.0                      </td><td>7.0                   </td><td>-165.96873942000005       </td><td>-0.6980415799999999          </td><td>2.25839456                </td><td>-0.73939454               </td><td>0.21213938736114407       </td><td>4.0                    </td><td>0.0                       </td><td>1.0                    </td><td>0.0                    </td><td>0.12331429441234788    </td><td>20977987.0              </td><td>-8.0                </td><td>0.0                 </td><td>23.0                    </td><td>23.0                     </td><td>1.0                       </td><td>23.0                     </td><td>3.0                  </td><td>-13.24420221             </td><td>-0.5811804                  </td><td>-0.29611244              </td><td>-0.72436803              </td><td>0.1358115441628509       </td><td>0.0                   </td><td>0.0                      </td><td>0.0                   </td><td>0.0                   </td><td>0.0                   </td><td>1.0                </td><td>2.0                </td><td>0.0                </td><td>0.0                </td><td>0.0                </td><td>0.0                </td><td>1.0                </td><td>0.0                </td><td>1.0                </td><td>0.0                </td><td>0.0               </td><td>1.0               </td><td>-0.8202826          </td></tr>\n",
       "<tr><td>1      </td><td>2017.0            </td><td>1.0               </td><td>396.0            </td><td>350.0                    </td><td>339.0                     </td><td>0.9685714285714284         </td><td>142.0                     </td><td>9.0                   </td><td>-210.00633633000007       </td><td>-0.70859019                  </td><td>4.6302994                 </td><td>-0.74239984               </td><td>0.3849672629732728        </td><td>543.0                  </td><td>1.0                       </td><td>10.0                   </td><td>-1.0                   </td><td>1.5107772205290846     </td><td>33717687.0              </td><td>-12.0               </td><td>0.0                 </td><td>6.0                     </td><td>6.0                      </td><td>1.0                       </td><td>6.0                      </td><td>1.0                  </td><td>-4.355734969999999       </td><td>-0.732632605                </td><td>-0.70185831              </td><td>-0.73940957              </td><td>0.014326049188823022     </td><td>6.0                   </td><td>1.0                      </td><td>1.0                   </td><td>1.0                   </td><td>0.0                   </td><td>1.0                </td><td>2.0                </td><td>0.0                </td><td>0.0                </td><td>0.0                </td><td>1.0                </td><td>0.0                </td><td>1.0                </td><td>0.0                </td><td>0.0                </td><td>1.0               </td><td>0.0               </td><td>0.39291325          </td></tr>\n",
       "<tr><td>2      </td><td>2016.0            </td><td>8.0               </td><td>549.0            </td><td>43.0                     </td><td>41.0                      </td><td>0.9534883720930232         </td><td>13.0                      </td><td>5.0                   </td><td>-29.16739109              </td><td>-0.69886804                  </td><td>-0.14584732               </td><td>-0.73013821               </td><td>0.08738039367510522       </td><td>0.0                    </td><td>0.0                       </td><td>0.0                    </td><td>0.0                    </td><td>0.0                    </td><td>35635623.0              </td><td>-13.0               </td><td>0.0                 </td><td>1.0                     </td><td>1.0                      </td><td>1.0                       </td><td>1.0                      </td><td>1.0                  </td><td>-0.70032561              </td><td>-0.70032561                 </td><td>-0.70032561              </td><td>-0.70032561              </td><td>nan                      </td><td>0.0                   </td><td>0.0                      </td><td>0.0                   </td><td>0.0                   </td><td>nan                   </td><td>2.0                </td><td>2.0                </td><td>0.0                </td><td>1.0                </td><td>0.0                </td><td>0.0                </td><td>0.0                </td><td>0.0                </td><td>1.0                </td><td>0.0                </td><td>1.0               </td><td>0.0               </td><td>0.68805599          </td></tr>\n",
       "<tr><td>3      </td><td>2017.0            </td><td>9.0               </td><td>153.0            </td><td>77.0                     </td><td>77.0                      </td><td>1.0                        </td><td>50.0                      </td><td>7.0                   </td><td>-49.49136434999999        </td><td>-0.70798913                  </td><td>1.44559551                </td><td>-0.74089719               </td><td>0.2616243078208126        </td><td>84.0                   </td><td>1.0                       </td><td>3.0                    </td><td>-1.0                   </td><td>0.5889736430037511     </td><td>13375339.0              </td><td>-5.0                </td><td>0.0                 </td><td>7.0                     </td><td>7.0                      </td><td>1.0                       </td><td>7.0                      </td><td>2.0                  </td><td>-4.6543718599999995      </td><td>-0.69161023                 </td><td>-0.56673992              </td><td>-0.73413526              </td><td>0.06588177852550099      </td><td>5.0                   </td><td>1.0                      </td><td>1.0                   </td><td>-1.0                  </td><td>0.7559289460184545    </td><td>1.0                </td><td>2.0                </td><td>0.0                </td><td>0.0                </td><td>0.0                </td><td>1.0                </td><td>0.0                </td><td>0.0                </td><td>0.0                </td><td>1.0                </td><td>1.0               </td><td>0.0               </td><td>0.1424952           </td></tr>\n",
       "<tr><td>4      </td><td>2017.0            </td><td>11.0              </td><td>92.0             </td><td>133.0                    </td><td>128.0                     </td><td>0.962406015037594          </td><td>66.0                      </td><td>6.0                   </td><td>-48.68765632              </td><td>-0.68980705                  </td><td>7.19304093                </td><td>-0.74615647               </td><td>1.3520944999076254        </td><td>182.0                  </td><td>1.0                       </td><td>12.0                   </td><td>1.0                    </td><td>1.8968621785469588     </td><td>9405641.0               </td><td>-3.0                </td><td>0.0                 </td><td>36.0                    </td><td>36.0                     </td><td>1.0                       </td><td>36.0                     </td><td>5.0                  </td><td>-19.926236549999995      </td><td>-0.60744674                 </td><td>0.45088551               </td><td>-0.73939454              </td><td>0.22382088599551864      </td><td>35.0                  </td><td>1.0                      </td><td>2.0                   </td><td>-1.0                  </td><td>0.3769131094343789    </td><td>1.0                </td><td>2.0                </td><td>1.0                </td><td>0.0                </td><td>0.0                </td><td>0.0                </td><td>0.0                </td><td>0.0                </td><td>0.0                </td><td>1.0                </td><td>1.0               </td><td>0.0               </td><td>-0.15974919         </td></tr>\n",
       "<tr><td>5      </td><td>2016.0            </td><td>9.0               </td><td>518.0            </td><td>33.0                     </td><td>32.0                      </td><td>0.9696969696969696         </td><td>22.0                      </td><td>4.0                   </td><td>-13.776230870000004       </td><td>-0.43180184                  </td><td>0.03371949                </td><td>-0.67928849               </td><td>0.18194726746014647       </td><td>99.0                   </td><td>3.0                       </td><td>10.0                   </td><td>1.0                    </td><td>1.9685019685029528     </td><td>17274145.0              </td><td>-6.0                </td><td>0.0                 </td><td>4.0                     </td><td>4.0                      </td><td>1.0                       </td><td>4.0                      </td><td>1.0                  </td><td>-1.40006519              </td><td>-0.37274014                 </td><td>-9.016e-05               </td><td>-0.65449475              </td><td>0.28035158587495757      </td><td>11.0                  </td><td>2.5                      </td><td>5.0                   </td><td>1.0                   </td><td>1.707825127659933     </td><td>1.0                </td><td>2.0                </td><td>0.0                </td><td>0.0                </td><td>0.0                </td><td>1.0                </td><td>0.0                </td><td>0.0                </td><td>1.0                </td><td>0.0                </td><td>1.0               </td><td>0.0               </td><td>0.87158529          </td></tr>\n",
       "<tr><td>6      </td><td>2016.0            </td><td>12.0              </td><td>427.0            </td><td>260.0                    </td><td>243.0                     </td><td>0.9346153846153846         </td><td>63.0                      </td><td>6.0                   </td><td>-185.4215807500001        </td><td>-0.72136273                  </td><td>-0.55072166               </td><td>-0.74212936               </td><td>0.030292803323529283      </td><td>0.0                    </td><td>0.0                       </td><td>0.0                    </td><td>0.0                    </td><td>0.0                    </td><td>35783408.0              </td><td>-13.0               </td><td>0.0                 </td><td>5.0                     </td><td>5.0                      </td><td>1.0                       </td><td>5.0                      </td><td>1.0                  </td><td>-3.60260621              </td><td>-0.72451829                 </td><td>-0.68834948              </td><td>-0.74202418              </td><td>0.019606111541767324     </td><td>0.0                   </td><td>0.0                      </td><td>0.0                   </td><td>0.0                   </td><td>0.0                   </td><td>1.0                </td><td>2.0                </td><td>0.0                </td><td>0.0                </td><td>1.0                </td><td>0.0                </td><td>0.0                </td><td>0.0                </td><td>1.0                </td><td>0.0                </td><td>0.0               </td><td>1.0               </td><td>0.23012899          </td></tr>\n",
       "<tr><td>7      </td><td>2017.0            </td><td>9.0               </td><td>153.0            </td><td>22.0                     </td><td>19.0                      </td><td>0.8636363636363636         </td><td>9.0                       </td><td>2.0                   </td><td>-13.56584466              </td><td>-0.66426198                  </td><td>-0.05568825               </td><td>-0.74540514               </td><td>0.18180441888853616       </td><td>0.0                    </td><td>0.0                       </td><td>0.0                    </td><td>0.0                    </td><td>0.0                    </td><td>7251596.0               </td><td>-3.0                </td><td>0.0                 </td><td>3.0                     </td><td>3.0                      </td><td>1.0                       </td><td>3.0                      </td><td>2.0                  </td><td>-2.09830211              </td><td>-0.69915354                 </td><td>-0.69732031              </td><td>-0.70182826              </td><td>0.002267027147087815     </td><td>0.0                   </td><td>0.0                      </td><td>0.0                   </td><td>0.0                   </td><td>0.0                   </td><td>2.0                </td><td>2.0                </td><td>0.0                </td><td>0.0                </td><td>1.0                </td><td>0.0                </td><td>0.0                </td><td>0.0                </td><td>1.0                </td><td>0.0                </td><td>0.0               </td><td>1.0               </td><td>2.13584976          </td></tr>\n",
       "<tr><td>8      </td><td>2017.0            </td><td>8.0               </td><td>184.0            </td><td>15.0                     </td><td>11.0                      </td><td>0.7333333333333333         </td><td>8.0                       </td><td>2.0                   </td><td>-8.70837448               </td><td>-0.59825051                  </td><td>-0.2514236                </td><td>-0.74615647               </td><td>0.1606832467702732        </td><td>16.0                   </td><td>1.0                       </td><td>2.0                    </td><td>1.0                    </td><td>0.2581988897471611     </td><td>9751281.0               </td><td>-6.0                </td><td>-2.0                </td><td>2.0                     </td><td>2.0                      </td><td>1.0                       </td><td>2.0                      </td><td>1.0                  </td><td>-1.26315863              </td><td>-0.631579315                </td><td>-0.58071457              </td><td>-0.68244406              </td><td>0.07193361222564909      </td><td>2.0                   </td><td>1.0                      </td><td>1.0                   </td><td>1.0                   </td><td>0.0                   </td><td>1.0                </td><td>1.0                </td><td>0.0                </td><td>1.0                </td><td>0.0                </td><td>0.0                </td><td>0.0                </td><td>1.0                </td><td>0.0                </td><td>0.0                </td><td>1.0               </td><td>0.0               </td><td>-0.06540639         </td></tr>\n",
       "<tr><td>9      </td><td>2016.0            </td><td>8.0               </td><td>549.0            </td><td>113.0                    </td><td>99.0                      </td><td>0.8761061946902655         </td><td>59.0                      </td><td>6.0                   </td><td>-76.99712368000003        </td><td>-0.71463085                  </td><td>-0.37133516               </td><td>-0.74330143               </td><td>0.08457496343547033       </td><td>3.0                    </td><td>0.0                       </td><td>1.0                    </td><td>0.0                    </td><td>0.16147628038720263    </td><td>35859021.0              </td><td>-13.0               </td><td>0.0                 </td><td>3.0                     </td><td>3.0                      </td><td>1.0                       </td><td>3.0                      </td><td>1.0                  </td><td>-2.14034629              </td><td>-0.73248234                 </td><td>-0.66621543              </td><td>-0.74164852              </td><td>0.04116121411330612      </td><td>0.0                   </td><td>0.0                      </td><td>0.0                   </td><td>0.0                   </td><td>0.0                   </td><td>2.0                </td><td>2.0                </td><td>0.0                </td><td>1.0                </td><td>0.0                </td><td>0.0                </td><td>0.0                </td><td>0.0                </td><td>1.0                </td><td>0.0                </td><td>1.0               </td><td>0.0               </td><td>0.30006168          </td></tr>\n",
       "</tbody>\n",
       "</table>"
      ]
     },
     "metadata": {},
     "output_type": "display_data"
    }
   ],
   "source": [
    "resulthf.describe() # Looking into how the data set is distributed "
   ]
  },
  {
   "cell_type": "markdown",
   "metadata": {},
   "source": [
    "# Setting up X and y"
   ]
  },
  {
   "cell_type": "code",
   "execution_count": 81,
   "metadata": {},
   "outputs": [
    {
     "name": "stdout",
     "output_type": "stream",
     "text": [
      "target\n",
      "['year', 'month', 'elapsed_time', 'hist_transactions_count', 'hist_authorized_flag_sum', 'hist_authorized_flag_mean', 'hist_merchant_id_nunique', 'hist_city_id_nunique', 'hist_purchase_amount_sum', 'hist_purchase_amount_median', 'hist_purchase_amount_max', 'hist_purchase_amount_min', 'hist_purchase_amount_std', 'hist_installments_sum', 'hist_installments_median', 'hist_installments_max', 'hist_installments_min', 'hist_installments_std', 'hist_purchase_date_ptp', 'hist_month_lag_min', 'hist_month_lag_max', 'new_transactions_count', 'new_authorized_flag_sum', 'new_authorized_flag_mean', 'new_merchant_id_nunique', 'new_city_id_nunique', 'new_purchase_amount_sum', 'new_purchase_amount_median', 'new_purchase_amount_max', 'new_purchase_amount_min', 'new_purchase_amount_std', 'new_installments_sum', 'new_installments_median', 'new_installments_max', 'new_installments_min', 'new_installments_std', 'new_month_lag_min', 'new_month_lag_max', 'feature_1_0', 'feature_1_1', 'feature_1_2', 'feature_1_3', 'feature_1_4', 'feature_2_0', 'feature_2_1', 'feature_2_2', 'feature_3_0', 'feature_3_1']\n"
     ]
    }
   ],
   "source": [
    "y = 'target'\n",
    "X = [name for name in resulthf.columns if name != y]\n",
    "print(y)\n",
    "print(X)\n"
   ]
  },
  {
   "cell_type": "code",
   "execution_count": 83,
   "metadata": {},
   "outputs": [
    {
     "name": "stdout",
     "output_type": "stream",
     "text": [
      "['year', 'month', 'elapsed_time', 'hist_transactions_count', 'hist_authorized_flag_sum', 'hist_merchant_id_nunique', 'hist_city_id_nunique', 'hist_installments_sum', 'hist_installments_max', 'hist_installments_min', 'hist_purchase_date_ptp', 'hist_month_lag_min', 'hist_month_lag_max', 'new_transactions_count', 'new_authorized_flag_sum', 'new_authorized_flag_mean', 'new_merchant_id_nunique', 'new_city_id_nunique', 'new_installments_sum', 'new_installments_max', 'new_installments_min', 'new_month_lag_min', 'new_month_lag_max', 'feature_1_0', 'feature_1_1', 'feature_1_2', 'feature_1_3', 'feature_1_4', 'feature_2_0', 'feature_2_1', 'feature_2_2', 'feature_3_0', 'feature_3_1']\n",
      "[]\n",
      "['hist_authorized_flag_mean', 'hist_purchase_amount_sum', 'hist_purchase_amount_median', 'hist_purchase_amount_max', 'hist_purchase_amount_min', 'hist_purchase_amount_std', 'hist_installments_median', 'hist_installments_std', 'new_purchase_amount_sum', 'new_purchase_amount_median', 'new_purchase_amount_max', 'new_purchase_amount_min', 'new_purchase_amount_std', 'new_installments_median', 'new_installments_std']\n"
     ]
    }
   ],
   "source": [
    "# determine column types\n",
    "ints, reals, enums = [], [], []\n",
    "for key, val in resulthf.types.items():\n",
    "    if key in X:\n",
    "        if val == 'enum':\n",
    "            enums.append(key)\n",
    "        elif val == 'int':\n",
    "            ints.append(key)            \n",
    "        else: \n",
    "            reals.append(key)\n",
    "\n",
    "print(ints)\n",
    "print(enums)\n",
    "print(reals)\n"
   ]
  },
  {
   "cell_type": "code",
   "execution_count": 91,
   "metadata": {},
   "outputs": [],
   "source": [
    "run_time=500\n",
    "classification=True\n",
    "scale=False\n",
    "max_models=None\n",
    "balance_y=False # balance_classes=balance_y\n",
    "balance_threshold=0.2\n",
    "project =\"automl_test for credit card dataset\"  # project_name = project"
   ]
  },
  {
   "cell_type": "code",
   "execution_count": 89,
   "metadata": {},
   "outputs": [],
   "source": [
    "# impute missing values\n",
    "_=resulthf[reals].impute(method='mean')\n",
    "_=resulthf[ints].impute(method='median')\n",
    "\n",
    "if scale:\n",
    "    resulthf[reals] = resulthf[reals].scale()\n",
    "    resulthf[ints] = resulthf[ints].scale()\n"
   ]
  },
  {
   "cell_type": "markdown",
   "metadata": {},
   "source": [
    "# Balance classes for classification"
   ]
  },
  {
   "cell_type": "code",
   "execution_count": 93,
   "metadata": {},
   "outputs": [],
   "source": [
    "if classification:\n",
    "    class_percentage = y_balance=resulthf[y].mean()[0]/(resulthf[y].max()-resulthf[y].min())\n",
    "    if class_percentage < balance_threshold:\n",
    "        balance_y=True\n"
   ]
  },
  {
   "cell_type": "code",
   "execution_count": 94,
   "metadata": {},
   "outputs": [
    {
     "name": "stdout",
     "output_type": "stream",
     "text": [
      "500\n"
     ]
    },
    {
     "data": {
      "text/plain": [
       "int"
      ]
     },
     "execution_count": 94,
     "metadata": {},
     "output_type": "execute_result"
    }
   ],
   "source": [
    "print(run_time)\n",
    "type(run_time)"
   ]
  },
  {
   "cell_type": "code",
   "execution_count": 97,
   "metadata": {},
   "outputs": [
    {
     "name": "stdout",
     "output_type": "stream",
     "text": [
      "AutoML progress: |████████████████████████████████████████████████████████| 100%\n",
      "Parse progress: |█████████████████████████████████████████████████████████| 100%\n"
     ]
    }
   ],
   "source": [
    "aml = H2OAutoML(max_runtime_secs=run_time,project_name = project) # init automl, run for 500 seconds\n",
    "aml.train(x=X,  \n",
    "           y=y,\n",
    "           training_frame=resulthf)\n"
   ]
  },
  {
   "cell_type": "markdown",
   "metadata": {},
   "source": [
    "# Leaderboard results predicting the best models and their rmse values"
   ]
  },
  {
   "cell_type": "code",
   "execution_count": 98,
   "metadata": {},
   "outputs": [
    {
     "data": {
      "text/html": [
       "<table>\n",
       "<thead>\n",
       "<tr><th>model_id                                             </th><th style=\"text-align: right;\">  mean_residual_deviance</th><th style=\"text-align: right;\">   rmse</th><th style=\"text-align: right;\">    mae</th><th style=\"text-align: right;\">  rmsle</th></tr>\n",
       "</thead>\n",
       "<tbody>\n",
       "<tr><td>StackedEnsemble_AllModels_0_AutoML_20181214_220313   </td><td style=\"text-align: right;\">                 14.2068</td><td style=\"text-align: right;\">3.76918</td><td style=\"text-align: right;\">1.58365</td><td style=\"text-align: right;\">    nan</td></tr>\n",
       "<tr><td>StackedEnsemble_BestOfFamily_0_AutoML_20181214_220313</td><td style=\"text-align: right;\">                 14.2068</td><td style=\"text-align: right;\">3.76918</td><td style=\"text-align: right;\">1.58365</td><td style=\"text-align: right;\">    nan</td></tr>\n",
       "<tr><td>XRT_0_AutoML_20181214_220313                         </td><td style=\"text-align: right;\">                 14.461 </td><td style=\"text-align: right;\">3.80277</td><td style=\"text-align: right;\">1.6685 </td><td style=\"text-align: right;\">    nan</td></tr>\n",
       "<tr><td>DRF_0_AutoML_20181214_220313                         </td><td style=\"text-align: right;\">                 14.4765</td><td style=\"text-align: right;\">3.8048 </td><td style=\"text-align: right;\">1.67397</td><td style=\"text-align: right;\">    nan</td></tr>\n",
       "</tbody>\n",
       "</table>"
      ]
     },
     "metadata": {},
     "output_type": "display_data"
    },
    {
     "data": {
      "text/plain": []
     },
     "execution_count": 98,
     "metadata": {},
     "output_type": "execute_result"
    }
   ],
   "source": [
    "#View leaderboard\n",
    "lb = aml.leaderboard\n",
    "lb\n"
   ]
  },
  {
   "cell_type": "markdown",
   "metadata": {},
   "source": [
    "# Output using Stacked Ensemble with rmse of 3.76918"
   ]
  },
  {
   "cell_type": "code",
   "execution_count": 99,
   "metadata": {},
   "outputs": [
    {
     "name": "stdout",
     "output_type": "stream",
     "text": [
      "Model Details\n",
      "=============\n",
      "H2OStackedEnsembleEstimator :  Stacked Ensemble\n",
      "Model Key:  StackedEnsemble_AllModels_0_AutoML_20181214_220313\n",
      "No model summary for this model\n",
      "\n",
      "\n",
      "ModelMetricsRegressionGLM: stackedensemble\n",
      "** Reported on train data. **\n",
      "\n",
      "MSE: 5.867579391652967\n",
      "RMSE: 2.4223086904135416\n",
      "MAE: 1.1235602254441324\n",
      "RMSLE: NaN\n",
      "R^2: 0.6083716708076452\n",
      "Mean Residual Deviance: 5.867579391652967\n",
      "Null degrees of freedom: 161427\n",
      "Residual degrees of freedom: 161425\n",
      "Null deviance: 2418598.286771331\n",
      "Residual deviance: 947191.6060357551\n",
      "AIC: 743758.3312121301\n",
      "\n",
      "ModelMetricsRegressionGLM: stackedensemble\n",
      "** Reported on validation data. **\n",
      "\n",
      "MSE: 13.425209768085088\n",
      "RMSE: 3.6640428174470188\n",
      "MAE: 1.5585101732437352\n",
      "RMSLE: NaN\n",
      "R^2: 0.05470572525443096\n",
      "Mean Residual Deviance: 13.425209768085088\n",
      "Null degrees of freedom: 40488\n",
      "Residual degrees of freedom: 40486\n",
      "Null deviance: 575091.0170361355\n",
      "Residual deviance: 543573.3182999971\n",
      "AIC: 220066.17381590017\n",
      "\n",
      "ModelMetricsRegressionGLM: stackedensemble\n",
      "** Reported on cross-validation data. **\n",
      "\n",
      "MSE: 14.206753647774596\n",
      "RMSE: 3.7691847457738916\n",
      "MAE: 1.5836481901990949\n",
      "RMSLE: NaN\n",
      "R^2: 0.05177811445717828\n",
      "Mean Residual Deviance: 14.206753647774596\n",
      "Null degrees of freedom: 161427\n",
      "Residual degrees of freedom: 161425\n",
      "Null deviance: 2418644.92455427\n",
      "Residual deviance: 2293367.8278529574\n",
      "AIC: 886505.1212962684\n"
     ]
    },
    {
     "data": {
      "text/plain": []
     },
     "execution_count": 99,
     "metadata": {},
     "output_type": "execute_result"
    }
   ],
   "source": [
    "aml.leader"
   ]
  },
  {
   "cell_type": "markdown",
   "metadata": {},
   "source": [
    "# Using LightGBM for predicting most important features"
   ]
  },
  {
   "cell_type": "code",
   "execution_count": 63,
   "metadata": {},
   "outputs": [
    {
     "name": "stdout",
     "output_type": "stream",
     "text": [
      "LGB 0--------------------------------------------------\n",
      "Training until validation scores don't improve for 50 rounds.\n",
      "[1000]\ttraining's rmse: 3.37542\tvalid_1's rmse: 3.85572\n",
      "Early stopping, best iteration is:\n",
      "[1135]\ttraining's rmse: 3.35385\tvalid_1's rmse: 3.85487\n",
      "LGB 1--------------------------------------------------\n",
      "Training until validation scores don't improve for 50 rounds.\n",
      "[1000]\ttraining's rmse: 3.40392\tvalid_1's rmse: 3.61389\n",
      "Early stopping, best iteration is:\n",
      "[1372]\ttraining's rmse: 3.35407\tvalid_1's rmse: 3.61169\n",
      "LGB 2--------------------------------------------------\n",
      "Training until validation scores don't improve for 50 rounds.\n",
      "[1000]\ttraining's rmse: 3.38765\tvalid_1's rmse: 3.74961\n",
      "Early stopping, best iteration is:\n",
      "[1047]\ttraining's rmse: 3.37988\tvalid_1's rmse: 3.74955\n",
      "LGB 3--------------------------------------------------\n",
      "Training until validation scores don't improve for 50 rounds.\n",
      "[1000]\ttraining's rmse: 3.41007\tvalid_1's rmse: 3.57906\n",
      "Early stopping, best iteration is:\n",
      "[1124]\ttraining's rmse: 3.38943\tvalid_1's rmse: 3.57886\n",
      "LGB 4--------------------------------------------------\n",
      "Training until validation scores don't improve for 50 rounds.\n",
      "[1000]\ttraining's rmse: 3.38348\tvalid_1's rmse: 3.77326\n",
      "Early stopping, best iteration is:\n",
      "[1304]\ttraining's rmse: 3.33771\tvalid_1's rmse: 3.77192\n",
      "LGB 5--------------------------------------------------\n",
      "Training until validation scores don't improve for 50 rounds.\n",
      "[1000]\ttraining's rmse: 3.39484\tvalid_1's rmse: 3.68996\n",
      "Early stopping, best iteration is:\n",
      "[1334]\ttraining's rmse: 3.34673\tvalid_1's rmse: 3.68777\n",
      "LGB 6--------------------------------------------------\n",
      "Training until validation scores don't improve for 50 rounds.\n",
      "[1000]\ttraining's rmse: 3.39664\tvalid_1's rmse: 3.73282\n",
      "Early stopping, best iteration is:\n",
      "[1405]\ttraining's rmse: 3.34458\tvalid_1's rmse: 3.73096\n",
      "LGB 7--------------------------------------------------\n",
      "Training until validation scores don't improve for 50 rounds.\n",
      "[1000]\ttraining's rmse: 3.39687\tvalid_1's rmse: 3.67784\n",
      "Early stopping, best iteration is:\n",
      "[1435]\ttraining's rmse: 3.34261\tvalid_1's rmse: 3.6759\n",
      "LGB 8--------------------------------------------------\n",
      "Training until validation scores don't improve for 50 rounds.\n",
      "[1000]\ttraining's rmse: 3.39769\tvalid_1's rmse: 3.65604\n",
      "Early stopping, best iteration is:\n",
      "[1171]\ttraining's rmse: 3.3717\tvalid_1's rmse: 3.65552\n",
      "3.702757273647599\n"
     ]
    }
   ],
   "source": [
    "from sklearn.model_selection import KFold\n",
    "from sklearn.metrics import mean_squared_error\n",
    "import lightgbm as lgb\n",
    "\n",
    "\n",
    "lgb_params = {\"objective\" : \"regression\", \"metric\" : \"rmse\", \n",
    "               \"max_depth\": 11, \"min_child_samples\": 20, \n",
    "               \"reg_alpha\": 1, \"reg_lambda\": 1,\n",
    "               \"num_leaves\" : 128, \"learning_rate\" : 0.005, \n",
    "               \"subsample\" : 0.8, \"colsample_bytree\" : 0.8, \n",
    "               \"verbosity\": -1}\n",
    "\n",
    "FOLDs = KFold(n_splits=9, shuffle=True, random_state=1989) # Using K-fold Cross Validation\n",
    "\n",
    "oof_lgb = np.zeros(len(train))\n",
    "predictions_lgb = np.zeros(len(test))\n",
    "\n",
    "features_lgb = list(train.columns)\n",
    "feature_importance_df_lgb = pd.DataFrame()\n",
    "\n",
    "for fold_, (trn_idx, val_idx) in enumerate(FOLDs.split(train)):\n",
    "    trn_data = lgb.Dataset(train.iloc[trn_idx], label=target.iloc[trn_idx])\n",
    "    val_data = lgb.Dataset(train.iloc[val_idx], label=target.iloc[val_idx])\n",
    "\n",
    "    print(\"LGB \" + str(fold_) + \"-\" * 50)\n",
    "    num_round = 10000\n",
    "    clf = lgb.train(lgb_params, trn_data, num_round, valid_sets = [trn_data, val_data], verbose_eval=1000, early_stopping_rounds = 50)\n",
    "    oof_lgb[val_idx] = clf.predict(train.iloc[val_idx], num_iteration=clf.best_iteration)\n",
    "\n",
    "    fold_importance_df_lgb = pd.DataFrame()\n",
    "    fold_importance_df_lgb[\"feature\"] = features_lgb\n",
    "    fold_importance_df_lgb[\"importance\"] = clf.feature_importance()\n",
    "    fold_importance_df_lgb[\"fold\"] = fold_ + 1\n",
    "    feature_importance_df_lgb = pd.concat([feature_importance_df_lgb, fold_importance_df_lgb], axis=0)\n",
    "    predictions_lgb += clf.predict(test, num_iteration=clf.best_iteration) / FOLDs.n_splits\n",
    "    \n",
    "\n",
    "print(np.sqrt(mean_squared_error(oof_lgb, target)))\n"
   ]
  },
  {
   "cell_type": "markdown",
   "metadata": {},
   "source": [
    "# Output: \n",
    "The LightGBM gives a better output than Stacked ensembles as it is able to reduce the RMSE significantly better with a value of 3.702757273647599"
   ]
  },
  {
   "cell_type": "markdown",
   "metadata": {},
   "source": [
    "# Finding the most significant features using LightGBM"
   ]
  },
  {
   "cell_type": "code",
   "execution_count": 68,
   "metadata": {
    "scrolled": true
   },
   "outputs": [
    {
     "data": {
      "image/png": "[encoded data removed]",
      "text/plain": [
       "<Figure size 1008x1008 with 1 Axes>"
      ]
     },
     "metadata": {
      "needs_background": "light"
     },
     "output_type": "display_data"
    }
   ],
   "source": [
    "cols = (feature_importance_df_lgb[[\"feature\", \"importance\"]]\n",
    "        .groupby(\"feature\")\n",
    "        .mean()\n",
    "        .sort_values(by=\"importance\", ascending=False)[:1000].index)\n",
    "\n",
    "best_features = feature_importance_df_lgb.loc[feature_importance_df_lgb.feature.isin(cols)]\n",
    "\n",
    "plt.figure(figsize=(14,14))\n",
    "sns.barplot(x=\"importance\",\n",
    "            y=\"feature\",\n",
    "            data=best_features.sort_values(by=\"importance\",\n",
    "                                           ascending=False))\n",
    "plt.title('LightGBM Features (avg over folds)')\n",
    "plt.tight_layout()\n",
    "plt.savefig('lgbm_importances.png')\n"
   ]
  },
  {
   "cell_type": "code",
   "execution_count": null,
   "metadata": {},
   "outputs": [],
   "source": [
    "These are the most important features when predicting customer satisfaction."
   ]
  },
  {
   "cell_type": "markdown",
   "metadata": {},
   "source": [
    "# Using Collaborative Filtering Algorithm"
   ]
  },
  {
   "cell_type": "code",
   "execution_count": 2,
   "metadata": {},
   "outputs": [],
   "source": [
    "import json\n",
    "import pandas as pd\n",
    "from sklearn.cluster import KMeans\n",
    "import numpy as np\n",
    "import scipy as sp\n",
    "import matplotlib.pyplot as plt\n",
    "import sklearn.datasets as sk_data\n",
    "import sklearn.metrics as metrics\n",
    "import seaborn as sns\n",
    "from sklearn.manifold import MDS\n",
    "from matplotlib import pyplot\n",
    "from sklearn.feature_extraction.text import CountVectorizer\n",
    "from nltk.stem import SnowballStemmer\n",
    "from collections import OrderedDict\n",
    "from scipy.cluster.hierarchy import fcluster,dendrogram, linkage, cophenet\n",
    "from sklearn import mixture\n",
    "from scipy.spatial.distance import pdist\n",
    "import pandas as pd\n",
    "%matplotlib inline\n",
    "import matplotlib\n",
    "import matplotlib.pyplot as plt\n",
    "import numpy as np\n"
   ]
  },
  {
   "cell_type": "code",
   "execution_count": 3,
   "metadata": {},
   "outputs": [
    {
     "data": {
      "text/html": [
       "<div>\n",
       "<style scoped>\n",
       "    .dataframe tbody tr th:only-of-type {\n",
       "        vertical-align: middle;\n",
       "    }\n",
       "\n",
       "    .dataframe tbody tr th {\n",
       "        vertical-align: top;\n",
       "    }\n",
       "\n",
       "    .dataframe thead th {\n",
       "        text-align: right;\n",
       "    }\n",
       "</style>\n",
       "<table border=\"1\" class=\"dataframe\">\n",
       "  <thead>\n",
       "    <tr style=\"text-align: right;\">\n",
       "      <th></th>\n",
       "      <th>authorized_flag</th>\n",
       "      <th>card_id</th>\n",
       "      <th>city_id</th>\n",
       "      <th>category_1</th>\n",
       "      <th>installments</th>\n",
       "      <th>category_3</th>\n",
       "      <th>merchant_category_id</th>\n",
       "      <th>merchant_id</th>\n",
       "      <th>month_lag</th>\n",
       "      <th>purchase_amount</th>\n",
       "      <th>purchase_date</th>\n",
       "      <th>category_2</th>\n",
       "      <th>state_id</th>\n",
       "      <th>subsector_id</th>\n",
       "    </tr>\n",
       "  </thead>\n",
       "  <tbody>\n",
       "    <tr>\n",
       "      <th>0</th>\n",
       "      <td>Y</td>\n",
       "      <td>C_ID_4e6213e9bc</td>\n",
       "      <td>88</td>\n",
       "      <td>N</td>\n",
       "      <td>0</td>\n",
       "      <td>A</td>\n",
       "      <td>80</td>\n",
       "      <td>M_ID_e020e9b302</td>\n",
       "      <td>-8</td>\n",
       "      <td>-0.703331</td>\n",
       "      <td>2017-06-25 15:33:07</td>\n",
       "      <td>1.0</td>\n",
       "      <td>16</td>\n",
       "      <td>37</td>\n",
       "    </tr>\n",
       "    <tr>\n",
       "      <th>1</th>\n",
       "      <td>Y</td>\n",
       "      <td>C_ID_4e6213e9bc</td>\n",
       "      <td>88</td>\n",
       "      <td>N</td>\n",
       "      <td>0</td>\n",
       "      <td>A</td>\n",
       "      <td>367</td>\n",
       "      <td>M_ID_86ec983688</td>\n",
       "      <td>-7</td>\n",
       "      <td>-0.733128</td>\n",
       "      <td>2017-07-15 12:10:45</td>\n",
       "      <td>1.0</td>\n",
       "      <td>16</td>\n",
       "      <td>16</td>\n",
       "    </tr>\n",
       "    <tr>\n",
       "      <th>2</th>\n",
       "      <td>Y</td>\n",
       "      <td>C_ID_4e6213e9bc</td>\n",
       "      <td>88</td>\n",
       "      <td>N</td>\n",
       "      <td>0</td>\n",
       "      <td>A</td>\n",
       "      <td>80</td>\n",
       "      <td>M_ID_979ed661fc</td>\n",
       "      <td>-6</td>\n",
       "      <td>-0.720386</td>\n",
       "      <td>2017-08-09 22:04:29</td>\n",
       "      <td>1.0</td>\n",
       "      <td>16</td>\n",
       "      <td>37</td>\n",
       "    </tr>\n",
       "    <tr>\n",
       "      <th>3</th>\n",
       "      <td>Y</td>\n",
       "      <td>C_ID_4e6213e9bc</td>\n",
       "      <td>88</td>\n",
       "      <td>N</td>\n",
       "      <td>0</td>\n",
       "      <td>A</td>\n",
       "      <td>560</td>\n",
       "      <td>M_ID_e6d5ae8ea6</td>\n",
       "      <td>-5</td>\n",
       "      <td>-0.735352</td>\n",
       "      <td>2017-09-02 10:06:26</td>\n",
       "      <td>1.0</td>\n",
       "      <td>16</td>\n",
       "      <td>34</td>\n",
       "    </tr>\n",
       "    <tr>\n",
       "      <th>4</th>\n",
       "      <td>Y</td>\n",
       "      <td>C_ID_4e6213e9bc</td>\n",
       "      <td>88</td>\n",
       "      <td>N</td>\n",
       "      <td>0</td>\n",
       "      <td>A</td>\n",
       "      <td>80</td>\n",
       "      <td>M_ID_e020e9b302</td>\n",
       "      <td>-11</td>\n",
       "      <td>-0.722865</td>\n",
       "      <td>2017-03-10 01:14:19</td>\n",
       "      <td>1.0</td>\n",
       "      <td>16</td>\n",
       "      <td>37</td>\n",
       "    </tr>\n",
       "  </tbody>\n",
       "</table>\n",
       "</div>"
      ],
      "text/plain": [
       "  authorized_flag          card_id  city_id category_1  installments  \\\n",
       "0               Y  C_ID_4e6213e9bc       88          N             0   \n",
       "1               Y  C_ID_4e6213e9bc       88          N             0   \n",
       "2               Y  C_ID_4e6213e9bc       88          N             0   \n",
       "3               Y  C_ID_4e6213e9bc       88          N             0   \n",
       "4               Y  C_ID_4e6213e9bc       88          N             0   \n",
       "\n",
       "  category_3  merchant_category_id      merchant_id  month_lag  \\\n",
       "0          A                    80  M_ID_e020e9b302         -8   \n",
       "1          A                   367  M_ID_86ec983688         -7   \n",
       "2          A                    80  M_ID_979ed661fc         -6   \n",
       "3          A                   560  M_ID_e6d5ae8ea6         -5   \n",
       "4          A                    80  M_ID_e020e9b302        -11   \n",
       "\n",
       "   purchase_amount        purchase_date  category_2  state_id  subsector_id  \n",
       "0        -0.703331  2017-06-25 15:33:07         1.0        16            37  \n",
       "1        -0.733128  2017-07-15 12:10:45         1.0        16            16  \n",
       "2        -0.720386  2017-08-09 22:04:29         1.0        16            37  \n",
       "3        -0.735352  2017-09-02 10:06:26         1.0        16            34  \n",
       "4        -0.722865  2017-03-10 01:14:19         1.0        16            37  "
      ]
     },
     "execution_count": 3,
     "metadata": {},
     "output_type": "execute_result"
    }
   ],
   "source": [
    "ht = pd.read_csv(\"historical_transactions.csv\")#historical transactions\n",
    "ht.head()\n"
   ]
  },
  {
   "cell_type": "code",
   "execution_count": 6,
   "metadata": {},
   "outputs": [],
   "source": [
    "#Predict on \n",
    "users = ht.filter([ 'card_id','category_1','category_2','category_3','city_id'],axis=1)\n",
    "authorisation = ht.filter([ 'card_id','merchant_id','authorized_flag','purchase_date'],axis=1)\n",
    "merchants = ht.filter([ 'merchant_id','merchant_category_id','purchase_amount'],axis=1)\n",
    "rcols=ht.filter(['card_id','card_id','authorized_flag','purchase_date'],axis=1)\n"
   ]
  },
  {
   "cell_type": "code",
   "execution_count": 7,
   "metadata": {},
   "outputs": [],
   "source": [
    "authorisation=authorisation.head(5000)"
   ]
  },
  {
   "cell_type": "code",
   "execution_count": 8,
   "metadata": {},
   "outputs": [],
   "source": [
    "from sklearn.model_selection import train_test_split\n",
    "\n",
    "train, test = train_test_split(authorisation, test_size=0.2)\n"
   ]
  },
  {
   "cell_type": "code",
   "execution_count": 9,
   "metadata": {},
   "outputs": [],
   "source": [
    "n_users = authorisation.card_id.unique().shape[0]\n",
    "n_merchants = authorisation.merchant_id.unique().shape[0]\n",
    "\n"
   ]
  },
  {
   "cell_type": "code",
   "execution_count": 10,
   "metadata": {},
   "outputs": [
    {
     "data": {
      "text/plain": [
       "0    C_ID_4e6213e9bc\n",
       "1    C_ID_4e6213e9bc\n",
       "2    C_ID_4e6213e9bc\n",
       "3    C_ID_4e6213e9bc\n",
       "4    C_ID_4e6213e9bc\n",
       "Name: card_id, dtype: object"
      ]
     },
     "execution_count": 10,
     "metadata": {},
     "output_type": "execute_result"
    }
   ],
   "source": [
    "authorisation.card_id.head()"
   ]
  },
  {
   "cell_type": "code",
   "execution_count": 11,
   "metadata": {},
   "outputs": [
    {
     "data": {
      "text/plain": [
       "0    M_ID_e020e9b302\n",
       "1    M_ID_86ec983688\n",
       "2    M_ID_979ed661fc\n",
       "3    M_ID_e6d5ae8ea6\n",
       "4    M_ID_e020e9b302\n",
       "Name: merchant_id, dtype: object"
      ]
     },
     "execution_count": 11,
     "metadata": {},
     "output_type": "execute_result"
    }
   ],
   "source": [
    "authorisation.merchant_id.head()"
   ]
  },
  {
   "cell_type": "markdown",
   "metadata": {},
   "source": [
    "# Checking for the missing values"
   ]
  },
  {
   "cell_type": "code",
   "execution_count": 12,
   "metadata": {},
   "outputs": [
    {
     "data": {
      "text/plain": [
       "card_id             0\n",
       "merchant_id        29\n",
       "authorized_flag     0\n",
       "purchase_date       0\n",
       "dtype: int64"
      ]
     },
     "execution_count": 12,
     "metadata": {},
     "output_type": "execute_result"
    }
   ],
   "source": [
    "authorisation.isnull().sum() \n"
   ]
  },
  {
   "cell_type": "markdown",
   "metadata": {},
   "source": [
    "# Dropping na's"
   ]
  },
  {
   "cell_type": "code",
   "execution_count": 13,
   "metadata": {},
   "outputs": [
    {
     "data": {
      "text/plain": [
       "card_id            0\n",
       "merchant_id        0\n",
       "authorized_flag    0\n",
       "purchase_date      0\n",
       "dtype: int64"
      ]
     },
     "execution_count": 13,
     "metadata": {},
     "output_type": "execute_result"
    }
   ],
   "source": [
    "authorisation=authorisation.dropna()\n",
    "authorisation.isnull().sum()\n"
   ]
  },
  {
   "cell_type": "markdown",
   "metadata": {},
   "source": [
    "# Using label encoding to convert categorical variables into numerical"
   ]
  },
  {
   "cell_type": "code",
   "execution_count": 14,
   "metadata": {},
   "outputs": [],
   "source": [
    "from sklearn.preprocessing import LabelEncoder\n",
    "\n",
    "le = LabelEncoder()\n",
    "le.fit(authorisation.card_id.drop_duplicates()) \n",
    "authorisation.card_id = le.transform(authorisation.card_id)\n",
    "le.fit(authorisation.merchant_id.drop_duplicates())\n",
    "authorisation.merchant_id= le.fit_transform(authorisation.merchant_id)\n",
    "\n"
   ]
  },
  {
   "cell_type": "code",
   "execution_count": 15,
   "metadata": {},
   "outputs": [],
   "source": [
    "le.fit(authorisation.authorized_flag.drop_duplicates())\n",
    "authorisation.authorized_flag= le.fit_transform(authorisation.authorized_flag)\n"
   ]
  },
  {
   "cell_type": "code",
   "execution_count": 16,
   "metadata": {},
   "outputs": [
    {
     "name": "stdout",
     "output_type": "stream",
     "text": [
      "<class 'pandas.core.frame.DataFrame'>\n",
      "Int64Index: 4971 entries, 0 to 4999\n",
      "Data columns (total 3 columns):\n",
      "card_id            4971 non-null int32\n",
      "merchant_id        4971 non-null int32\n",
      "authorized_flag    4971 non-null int32\n",
      "dtypes: int32(3)\n",
      "memory usage: 97.1 KB\n"
     ]
    }
   ],
   "source": [
    "authorisation = authorisation.filter([ 'card_id','merchant_id','authorized_flag'],axis=1)\n",
    "authorisation.info()\n"
   ]
  },
  {
   "cell_type": "code",
   "execution_count": 17,
   "metadata": {},
   "outputs": [
    {
     "name": "stdout",
     "output_type": "stream",
     "text": [
      "19\n",
      "1387\n"
     ]
    }
   ],
   "source": [
    "n_users = authorisation.card_id.unique().shape[0]\n",
    "n_merchants = authorisation.merchant_id.unique().shape[0]\n",
    "print(n_users)\n",
    "print(n_merchants)"
   ]
  },
  {
   "cell_type": "markdown",
   "metadata": {},
   "source": [
    "# Creating Data Matrix"
   ]
  },
  {
   "cell_type": "code",
   "execution_count": 18,
   "metadata": {
    "scrolled": true
   },
   "outputs": [
    {
     "data": {
      "text/plain": [
       "dtype('float64')"
      ]
     },
     "execution_count": 18,
     "metadata": {},
     "output_type": "execute_result"
    }
   ],
   "source": [
    "data_matrix = np.zeros((n_users, n_merchants))\n",
    "data_matrix.dtype"
   ]
  },
  {
   "cell_type": "markdown",
   "metadata": {},
   "source": [
    "# Using cosine similarity"
   ]
  },
  {
   "cell_type": "code",
   "execution_count": 19,
   "metadata": {},
   "outputs": [],
   "source": [
    "for line in authorisation.itertuples():\n",
    "    data_matrix[line[1]-1, line[2]-1] = line[3]"
   ]
  },
  {
   "cell_type": "code",
   "execution_count": 20,
   "metadata": {},
   "outputs": [],
   "source": [
    "from sklearn.metrics.pairwise import pairwise_distances \n",
    "user_similarity = pairwise_distances(data_matrix, metric='cosine')\n",
    "merchant_similarity = pairwise_distances(data_matrix.T, metric='cosine')\n"
   ]
  },
  {
   "cell_type": "code",
   "execution_count": 21,
   "metadata": {},
   "outputs": [],
   "source": [
    "def predict(ratings, similarity, type='user'):\n",
    "    if type == 'user':\n",
    "        mean_user_rating = ratings.mean(axis=1)\n",
    "        #We use np.newaxis so that mean_user_rating has same format as ratings\n",
    "        ratings_diff = (ratings - mean_user_rating[:, np.newaxis])\n",
    "        pred = mean_user_rating[:, np.newaxis] + similarity.dot(ratings_diff) / np.array([np.abs(similarity).sum(axis=1)]).T\n",
    "    elif type == 'item':\n",
    "        pred = ratings.dot(similarity) / np.array([np.abs(similarity).sum(axis=1)])\n",
    "    return pred"
   ]
  },
  {
   "cell_type": "code",
   "execution_count": 22,
   "metadata": {},
   "outputs": [],
   "source": [
    "user_prediction = predict(data_matrix, user_similarity, type='user')\n",
    "item_prediction = predict(data_matrix, merchant_similarity, type='item')\n"
   ]
  },
  {
   "cell_type": "code",
   "execution_count": 23,
   "metadata": {},
   "outputs": [
    {
     "data": {
      "text/plain": [
       "array([[ 0.10644122,  0.05144423, -0.00423932, ...,  0.05153985,\n",
       "         0.05144423,  0.05132121],\n",
       "       [ 0.09991756,  0.04252792,  0.04373927, ...,  0.04344716,\n",
       "         0.04252792,  0.04296066],\n",
       "       [ 0.14064382,  0.02999006,  0.08621271, ...,  0.08600647,\n",
       "         0.02999006,  0.0844721 ],\n",
       "       ...,\n",
       "       [ 0.0719629 ,  0.01714705,  0.01682862, ...,  0.01636724,\n",
       "         0.01714705,  0.01693087],\n",
       "       [ 0.11518405,  0.05999253,  0.05982393, ...,  0.05957965,\n",
       "         0.05999253,  0.05987807],\n",
       "       [ 0.15955   ,  0.10539002,  0.10616219, ...,  0.10597599,\n",
       "         0.10539002,  0.10566587]])"
      ]
     },
     "execution_count": 23,
     "metadata": {},
     "output_type": "execute_result"
    }
   ],
   "source": [
    "user_prediction#User based prediction result"
   ]
  },
  {
   "cell_type": "code",
   "execution_count": 24,
   "metadata": {},
   "outputs": [
    {
     "data": {
      "text/plain": [
       "array([[0.05180575, 0.05386194, 0.00057438, ..., 0.05582374, 0.05386194,\n",
       "        0.05249978],\n",
       "       [0.0435056 , 0.04429936, 0.04379688, ..., 0.04642417, 0.04429936,\n",
       "        0.04371895],\n",
       "       [0.08543915, 0.00278107, 0.0862611 , ..., 0.09189021, 0.00278107,\n",
       "        0.08580671],\n",
       "       ...,\n",
       "       [0.01709604, 0.01782732, 0.01725675, ..., 0.01807069, 0.01782732,\n",
       "        0.01737647],\n",
       "       [0.0601059 , 0.06247891, 0.06047925, ..., 0.06418048, 0.06247891,\n",
       "        0.06089883],\n",
       "       [0.10444159, 0.10869048, 0.10597662, ..., 0.11306224, 0.10869048,\n",
       "        0.10648163]])"
      ]
     },
     "execution_count": 24,
     "metadata": {},
     "output_type": "execute_result"
    }
   ],
   "source": [
    "item_prediction#Item based prediction result"
   ]
  },
  {
   "cell_type": "markdown",
   "metadata": {},
   "source": [
    "These predictions can be used to implement more robust and more complicated algorithms in recommender system which are initiation of further analysis in the rich domain of machine learning."
   ]
  },
  {
   "cell_type": "markdown",
   "metadata": {},
   "source": [
    "# Sources and References"
   ]
  },
  {
   "cell_type": "code",
   "execution_count": null,
   "metadata": {},
   "outputs": [],
   "source": [
    "References\n",
    "https://www.h2o.ai/\n",
    "https://www.analyticsvidhya.com/blog/2016/02/complete-guide-parameter-tuning-gradient-boosting-gbm-python/\n",
    "https://www.kaggle.com/sudalairajkumar/simple-exploration-notebook-elo\n",
    "https://www.analyticsvidhya.com/blog/2018/06/comprehensive-guide-recommendation-engine-python/\n",
    "https://dataninjago.com/2017/08/04/iot-ml-tuning-hyper-parameters-using-grid-search/"
   ]
  }
 ],
 "metadata": {
  "kernelspec": {
   "display_name": "Python 3",
   "language": "python",
   "name": "python3"
  },
  "language_info": {
   "codemirror_mode": {
    "name": "ipython",
    "version": 3
   },
   "file_extension": ".py",
   "mimetype": "text/x-python",
   "name": "python",
   "nbconvert_exporter": "python",
   "pygments_lexer": "ipython3",
   "version": "3.6.7"
  }
 },
 "nbformat": 4,
 "nbformat_minor": 2
}
