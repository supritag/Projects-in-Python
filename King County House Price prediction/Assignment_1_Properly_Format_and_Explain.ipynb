{
  "nbformat": 4,
  "nbformat_minor": 0,
  "metadata": {
    "colab": {
      "name": "Assignment_1_Properly_Format_and_Explain.ipynb",
      "version": "0.3.2",
      "provenance": []
    },
    "kernelspec": {
      "display_name": "Python 3",
      "language": "python",
      "name": "python3"
    }
  },
  "cells": [
    {
      "metadata": {
        "id": "AAEIVXEC7kaR",
        "colab_type": "text"
      },
      "cell_type": "markdown",
      "source": [
        "#  King County House Price Prediction"
      ]
    },
    {
      "metadata": {
        "id": "eFdXTLDd7kaV",
        "colab_type": "text"
      },
      "cell_type": "markdown",
      "source": [
        "# Assignment 1\n",
        "\n",
        "\n",
        "\n",
        "\n",
        " An assignment must have:\n",
        " \n",
        " * an abstract   \n",
        " * explainations of the analysis and interpretaions of figures and graphs    \n",
        " * a conclusion      \n",
        " * contributions statement  \n",
        " * citations  \n",
        " * a license \n",
        " \n",
        " \n",
        "**Abstract**  \n",
        "In abstracts, you must get the essence of what your report is about, usually in about 200 words.  \n",
        " * Aim or purpose of research  \n",
        " * Method used  \n",
        " * Findings/results   \n",
        " * Conclusion \n",
        " \n",
        "**Conclusions** \n",
        "\n",
        "Summarize your results in a few sentences and use this summary to support your conclusion. State whether your results support or contradict your hypothesis. \n",
        "\n",
        "\n",
        "If you are comparing many models create a table that orders the models and their evaluation and hyperparameters.\n",
        "\n",
        "\n",
        "**Contributions statement**\n",
        "Must explain what was done by you and estimate a percentage of the code written by you.  Assume everything given to you was not written by you and focus on the additional code that you add for your contributions statement. \n",
        "\n",
        "\n",
        "**Citations**\n",
        "You must cite any code used.\n",
        "\n",
        "Add your additional citations to:\n",
        "* Random forest Classifer : https://www.datacamp.com/community/tutorials/random-forests-classifier-python\n",
        "* Random Forest Regression : https://towardsdatascience.com/hyperparameter-tuning-the-random-forest-in-python-using-scikit-learn-28d2aa77dd74\n",
        "* XGBoost Classifier & XGBoost Regression : \n",
        "    * https://machinelearningmastery.com/develop-first-xgboost-model-python-scikit-learn/\n",
        "    * https://machinelearningmastery.com/tune-number-size-decision-trees-xgboost-python/\n",
        "* Logistic Regression : http://www.michaeljgrogan.com/statsmodels-sklearn-linear-regression/ \n",
        "\n",
        "**License **\n",
        "\n",
        "Must have a license such as the MIT License. [https://opensource.org/licenses/MIT](https://opensource.org/licenses/MIT)\n",
        "\n",
        "**Clean Up Logical Errors**\n",
        "\n",
        "You must clean up logical errors in the code.  \n",
        "\n",
        "For example, if a line like the below is suppossed to represent the best hyper-parameters\n",
        "\n",
        "__best_model = XGBClassifier(max_depth=3, n_estimators=150)__\n",
        "\n",
        "should actually be\n",
        "\n",
        "__best_model = XGBClassifier(max_depth=6, n_estimators=250)__\n",
        "\n",
        "\n",
        "you should rewrite the code so that it is not possible to pass non-optimal parameters.  "
      ]
    },
    {
      "metadata": {
        "id": "KHp-bkYg7kaX",
        "colab_type": "text"
      },
      "cell_type": "markdown",
      "source": [
        "# Abstract\n",
        "This project aims to determine and predict selling price of a house in King County based on various predictor determinants such as year of its building, square feet are of various segments in the house, number of various types of rooms etc. . We consider these parameters independent of each other as an assumption and later predict selling price using Regression models. These Classification and Regression models include Random Forest,XGBoost, Logistic Regression Gradient Boosting method, \n",
        "\n",
        "In abstracts, you must get the essence of what your report is about, usually in about 200 words.  \n",
        " * Aim or purpose of research  \n",
        " * Method used  \n",
        " * Findings/results   \n",
        " * Conclusion   \n",
        "\n"
      ]
    },
    {
      "metadata": {
        "id": "8vwbblZm7kac",
        "colab_type": "text"
      },
      "cell_type": "markdown",
      "source": [
        "## Approach\n",
        "\n",
        "Algorithms used.\n",
        "\n",
        "* For Part B:\n",
        "    * Logistic Regression\n",
        "* For Part C:\n",
        "    * Bagging Algo : Random Forest Regressor\n",
        "    * Boosting Algo : XGBoost Regressor\n",
        "* For Part D:\n",
        "    * You must add Linear Regression and some form of Regression Regularization (like Ridge Regression or Lasso Regression)\n",
        "* For Part E:\n",
        "    * ??? Another supervised algorithm\n",
        "    \n",
        "You need to add linear regression and some form of regression regularization (like ridge regression or lasso regression) and tune at least one hyperparameter for regression regularization.  \n",
        "\n",
        "You need add another supervised algorithm and tune at least one hyperparametert for that algorithm.       \n"
      ]
    },
    {
      "metadata": {
        "id": "QN5YdK_47kae",
        "colab_type": "text"
      },
      "cell_type": "markdown",
      "source": [
        "## Dataset\n",
        "* King County House Price prediction [https://www.kaggle.com/harlfoxem/housesalesprediction/home](https://www.kaggle.com/harlfoxem/housesalesprediction/home)  This dataset contains house sale prices for King County, which includes Seattle. It includes homes sold between May 2014 and May 2015.  \n",
        "* In order to perform classification tasks, I have converted the price quantitative variable to a binary classification variable with HIGH price as 1 and LOW price as -1(For logistic regression I am taking LOW as 0)"
      ]
    },
    {
      "metadata": {
        "id": "uxCwZRFKnEKE",
        "colab_type": "text"
      },
      "cell_type": "markdown",
      "source": [
        "* For Part A:\n",
        "    * Bagging Algo : Random Forest Classifier\n",
        "    * Boosting Algo : XGBoost Classifier\n"
      ]
    },
    {
      "metadata": {
        "id": "ai8u1SR97kaf",
        "colab_type": "code",
        "colab": {}
      },
      "cell_type": "code",
      "source": [
        "import pandas as pd #Data Processing and maipulation\n",
        "import numpy as np\n",
        "from pandas import Series\n",
        "import seaborn as sns # Data Visualisation\n",
        "import matplotlib.pyplot as plt # Data Visualization\n",
        "%matplotlib inline\n"
      ],
      "execution_count": 0,
      "outputs": []
    },
    {
      "metadata": {
        "id": "PlKi865C9RBQ",
        "colab_type": "code",
        "outputId": "56b8f379-47f4-4183-b1f6-14e62fda613f",
        "colab": {
          "resources": {
            "http://localhost:8080/nbextensions/google.colab/files.js": {
              "data": "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",
              "ok": true,
              "headers": [
                [
                  "content-type",
                  "application/javascript"
                ]
              ],
              "status": 200,
              "status_text": ""
            }
          },
          "base_uri": "https://localhost:8080/",
          "height": 72
        }
      },
      "cell_type": "code",
      "source": [
        "#To import dataset file in google colab by uploading from file destination\n",
        "from google.colab import files\n",
        "uploaded = files.upload()\n"
      ],
      "execution_count": 2,
      "outputs": [
        {
          "output_type": "display_data",
          "data": {
            "text/html": [
              "\n",
              "     <input type=\"file\" id=\"files-bf0e14d4-6b5f-44f8-b0d1-356343b14e96\" name=\"files[]\" multiple disabled />\n",
              "     <output id=\"result-bf0e14d4-6b5f-44f8-b0d1-356343b14e96\">\n",
              "      Upload widget is only available when the cell has been executed in the\n",
              "      current browser session. Please rerun this cell to enable.\n",
              "      </output>\n",
              "      <script src=\"/nbextensions/google.colab/files.js\"></script> "
            ],
            "text/plain": [
              "<IPython.core.display.HTML object>"
            ]
          },
          "metadata": {
            "tags": []
          }
        },
        {
          "output_type": "stream",
          "text": [
            "Saving king_county_cleansed.csv to king_county_cleansed.csv\n"
          ],
          "name": "stdout"
        }
      ]
    },
    {
      "metadata": {
        "id": "K66HY6M--uEs",
        "colab_type": "code",
        "colab": {}
      },
      "cell_type": "code",
      "source": [
        "#To read dataset from the uploaded file into desired dataframe via input-output stream\n",
        "import io\n",
        "features = pd.read_csv(io.BytesIO(uploaded['king_county_cleansed.csv']))\n"
      ],
      "execution_count": 0,
      "outputs": []
    },
    {
      "metadata": {
        "scrolled": true,
        "id": "2EAcqTEE7kan",
        "colab_type": "code",
        "outputId": "b07ec18d-621d-473a-f0a1-1d5b7943cfe9",
        "colab": {
          "base_uri": "https://localhost:8080/",
          "height": 255
        }
      },
      "cell_type": "code",
      "source": [
        "#A peep into the dataset to identify types of attributes whether categorical or continuous variable\n",
        "features.head(5)"
      ],
      "execution_count": 5,
      "outputs": [
        {
          "output_type": "execute_result",
          "data": {
            "text/html": [
              "<div>\n",
              "<style scoped>\n",
              "    .dataframe tbody tr th:only-of-type {\n",
              "        vertical-align: middle;\n",
              "    }\n",
              "\n",
              "    .dataframe tbody tr th {\n",
              "        vertical-align: top;\n",
              "    }\n",
              "\n",
              "    .dataframe thead th {\n",
              "        text-align: right;\n",
              "    }\n",
              "</style>\n",
              "<table border=\"1\" class=\"dataframe\">\n",
              "  <thead>\n",
              "    <tr style=\"text-align: right;\">\n",
              "      <th></th>\n",
              "      <th>index</th>\n",
              "      <th>price</th>\n",
              "      <th>bedrooms</th>\n",
              "      <th>bathrooms</th>\n",
              "      <th>sqft_living</th>\n",
              "      <th>sqft_lot</th>\n",
              "      <th>waterfront</th>\n",
              "      <th>sqft_above</th>\n",
              "      <th>sqft_basement</th>\n",
              "      <th>yr_built</th>\n",
              "      <th>...</th>\n",
              "      <th>grade#10</th>\n",
              "      <th>grade#11</th>\n",
              "      <th>grade#12</th>\n",
              "      <th>grade#13</th>\n",
              "      <th>zipcode#98004</th>\n",
              "      <th>zipcode#98102</th>\n",
              "      <th>zipcode#98109</th>\n",
              "      <th>zipcode#98112</th>\n",
              "      <th>zipcode#98039</th>\n",
              "      <th>zipcode#98040</th>\n",
              "    </tr>\n",
              "  </thead>\n",
              "  <tbody>\n",
              "    <tr>\n",
              "      <th>0</th>\n",
              "      <td>16768</td>\n",
              "      <td>437500</td>\n",
              "      <td>3</td>\n",
              "      <td>2.25</td>\n",
              "      <td>1970</td>\n",
              "      <td>35100</td>\n",
              "      <td>0</td>\n",
              "      <td>1970</td>\n",
              "      <td>0</td>\n",
              "      <td>1977</td>\n",
              "      <td>...</td>\n",
              "      <td>0</td>\n",
              "      <td>0</td>\n",
              "      <td>0</td>\n",
              "      <td>0</td>\n",
              "      <td>0</td>\n",
              "      <td>0</td>\n",
              "      <td>0</td>\n",
              "      <td>0</td>\n",
              "      <td>0</td>\n",
              "      <td>0</td>\n",
              "    </tr>\n",
              "    <tr>\n",
              "      <th>1</th>\n",
              "      <td>9596</td>\n",
              "      <td>790000</td>\n",
              "      <td>3</td>\n",
              "      <td>2.50</td>\n",
              "      <td>2600</td>\n",
              "      <td>4750</td>\n",
              "      <td>0</td>\n",
              "      <td>1700</td>\n",
              "      <td>900</td>\n",
              "      <td>1951</td>\n",
              "      <td>...</td>\n",
              "      <td>0</td>\n",
              "      <td>0</td>\n",
              "      <td>0</td>\n",
              "      <td>0</td>\n",
              "      <td>0</td>\n",
              "      <td>0</td>\n",
              "      <td>0</td>\n",
              "      <td>0</td>\n",
              "      <td>0</td>\n",
              "      <td>0</td>\n",
              "    </tr>\n",
              "    <tr>\n",
              "      <th>2</th>\n",
              "      <td>9587</td>\n",
              "      <td>675000</td>\n",
              "      <td>5</td>\n",
              "      <td>2.50</td>\n",
              "      <td>2820</td>\n",
              "      <td>67518</td>\n",
              "      <td>0</td>\n",
              "      <td>2820</td>\n",
              "      <td>0</td>\n",
              "      <td>1979</td>\n",
              "      <td>...</td>\n",
              "      <td>0</td>\n",
              "      <td>0</td>\n",
              "      <td>0</td>\n",
              "      <td>0</td>\n",
              "      <td>0</td>\n",
              "      <td>0</td>\n",
              "      <td>0</td>\n",
              "      <td>0</td>\n",
              "      <td>0</td>\n",
              "      <td>0</td>\n",
              "    </tr>\n",
              "    <tr>\n",
              "      <th>3</th>\n",
              "      <td>20602</td>\n",
              "      <td>555000</td>\n",
              "      <td>4</td>\n",
              "      <td>2.50</td>\n",
              "      <td>3310</td>\n",
              "      <td>6500</td>\n",
              "      <td>0</td>\n",
              "      <td>3310</td>\n",
              "      <td>0</td>\n",
              "      <td>2012</td>\n",
              "      <td>...</td>\n",
              "      <td>0</td>\n",
              "      <td>0</td>\n",
              "      <td>0</td>\n",
              "      <td>0</td>\n",
              "      <td>0</td>\n",
              "      <td>0</td>\n",
              "      <td>0</td>\n",
              "      <td>0</td>\n",
              "      <td>0</td>\n",
              "      <td>0</td>\n",
              "    </tr>\n",
              "    <tr>\n",
              "      <th>4</th>\n",
              "      <td>11577</td>\n",
              "      <td>440000</td>\n",
              "      <td>4</td>\n",
              "      <td>2.25</td>\n",
              "      <td>2160</td>\n",
              "      <td>8119</td>\n",
              "      <td>0</td>\n",
              "      <td>1080</td>\n",
              "      <td>1080</td>\n",
              "      <td>1966</td>\n",
              "      <td>...</td>\n",
              "      <td>0</td>\n",
              "      <td>0</td>\n",
              "      <td>0</td>\n",
              "      <td>0</td>\n",
              "      <td>0</td>\n",
              "      <td>0</td>\n",
              "      <td>0</td>\n",
              "      <td>0</td>\n",
              "      <td>0</td>\n",
              "      <td>0</td>\n",
              "    </tr>\n",
              "  </tbody>\n",
              "</table>\n",
              "<p>5 rows × 51 columns</p>\n",
              "</div>"
            ],
            "text/plain": [
              "   index   price  bedrooms  bathrooms  sqft_living  sqft_lot  waterfront  \\\n",
              "0  16768  437500         3       2.25         1970     35100           0   \n",
              "1   9596  790000         3       2.50         2600      4750           0   \n",
              "2   9587  675000         5       2.50         2820     67518           0   \n",
              "3  20602  555000         4       2.50         3310      6500           0   \n",
              "4  11577  440000         4       2.25         2160      8119           0   \n",
              "\n",
              "   sqft_above  sqft_basement  yr_built      ...        grade#10  grade#11  \\\n",
              "0        1970              0      1977      ...               0         0   \n",
              "1        1700            900      1951      ...               0         0   \n",
              "2        2820              0      1979      ...               0         0   \n",
              "3        3310              0      2012      ...               0         0   \n",
              "4        1080           1080      1966      ...               0         0   \n",
              "\n",
              "   grade#12  grade#13  zipcode#98004  zipcode#98102  zipcode#98109  \\\n",
              "0         0         0              0              0              0   \n",
              "1         0         0              0              0              0   \n",
              "2         0         0              0              0              0   \n",
              "3         0         0              0              0              0   \n",
              "4         0         0              0              0              0   \n",
              "\n",
              "   zipcode#98112  zipcode#98039  zipcode#98040  \n",
              "0              0              0              0  \n",
              "1              0              0              0  \n",
              "2              0              0              0  \n",
              "3              0              0              0  \n",
              "4              0              0              0  \n",
              "\n",
              "[5 rows x 51 columns]"
            ]
          },
          "metadata": {
            "tags": []
          },
          "execution_count": 5
        }
      ]
    },
    {
      "metadata": {
        "scrolled": true,
        "id": "6XW75Uph7kav",
        "colab_type": "code",
        "outputId": "f81a7d2e-6336-4157-e5e0-2e5b43a70c41",
        "colab": {
          "base_uri": "https://localhost:8080/",
          "height": 349
        }
      },
      "cell_type": "code",
      "source": [
        "#To identify  distribution of values in various predictor columns\n",
        "features.describe()"
      ],
      "execution_count": 6,
      "outputs": [
        {
          "output_type": "execute_result",
          "data": {
            "text/html": [
              "<div>\n",
              "<style scoped>\n",
              "    .dataframe tbody tr th:only-of-type {\n",
              "        vertical-align: middle;\n",
              "    }\n",
              "\n",
              "    .dataframe tbody tr th {\n",
              "        vertical-align: top;\n",
              "    }\n",
              "\n",
              "    .dataframe thead th {\n",
              "        text-align: right;\n",
              "    }\n",
              "</style>\n",
              "<table border=\"1\" class=\"dataframe\">\n",
              "  <thead>\n",
              "    <tr style=\"text-align: right;\">\n",
              "      <th></th>\n",
              "      <th>index</th>\n",
              "      <th>price</th>\n",
              "      <th>bedrooms</th>\n",
              "      <th>bathrooms</th>\n",
              "      <th>sqft_living</th>\n",
              "      <th>sqft_lot</th>\n",
              "      <th>waterfront</th>\n",
              "      <th>sqft_above</th>\n",
              "      <th>sqft_basement</th>\n",
              "      <th>yr_built</th>\n",
              "      <th>...</th>\n",
              "      <th>grade#10</th>\n",
              "      <th>grade#11</th>\n",
              "      <th>grade#12</th>\n",
              "      <th>grade#13</th>\n",
              "      <th>zipcode#98004</th>\n",
              "      <th>zipcode#98102</th>\n",
              "      <th>zipcode#98109</th>\n",
              "      <th>zipcode#98112</th>\n",
              "      <th>zipcode#98039</th>\n",
              "      <th>zipcode#98040</th>\n",
              "    </tr>\n",
              "  </thead>\n",
              "  <tbody>\n",
              "    <tr>\n",
              "      <th>count</th>\n",
              "      <td>21613.00000</td>\n",
              "      <td>2.161300e+04</td>\n",
              "      <td>21613.000000</td>\n",
              "      <td>21613.000000</td>\n",
              "      <td>21613.000000</td>\n",
              "      <td>2.161300e+04</td>\n",
              "      <td>21613.000000</td>\n",
              "      <td>21613.000000</td>\n",
              "      <td>21613.000000</td>\n",
              "      <td>21613.000000</td>\n",
              "      <td>...</td>\n",
              "      <td>21613.000000</td>\n",
              "      <td>21613.000000</td>\n",
              "      <td>21613.000000</td>\n",
              "      <td>21613.000000</td>\n",
              "      <td>21613.000000</td>\n",
              "      <td>21613.000000</td>\n",
              "      <td>21613.000000</td>\n",
              "      <td>21613.000000</td>\n",
              "      <td>21613.000000</td>\n",
              "      <td>21613.000000</td>\n",
              "    </tr>\n",
              "    <tr>\n",
              "      <th>mean</th>\n",
              "      <td>10806.00000</td>\n",
              "      <td>5.400881e+05</td>\n",
              "      <td>3.370842</td>\n",
              "      <td>2.114757</td>\n",
              "      <td>2079.899736</td>\n",
              "      <td>1.510697e+04</td>\n",
              "      <td>0.007542</td>\n",
              "      <td>1788.390691</td>\n",
              "      <td>291.509045</td>\n",
              "      <td>1971.005136</td>\n",
              "      <td>...</td>\n",
              "      <td>0.052468</td>\n",
              "      <td>0.018461</td>\n",
              "      <td>0.004164</td>\n",
              "      <td>0.000601</td>\n",
              "      <td>0.014667</td>\n",
              "      <td>0.004858</td>\n",
              "      <td>0.005043</td>\n",
              "      <td>0.012446</td>\n",
              "      <td>0.002313</td>\n",
              "      <td>0.013048</td>\n",
              "    </tr>\n",
              "    <tr>\n",
              "      <th>std</th>\n",
              "      <td>6239.28002</td>\n",
              "      <td>3.671272e+05</td>\n",
              "      <td>0.930062</td>\n",
              "      <td>0.770163</td>\n",
              "      <td>918.440897</td>\n",
              "      <td>4.142051e+04</td>\n",
              "      <td>0.086517</td>\n",
              "      <td>828.090978</td>\n",
              "      <td>442.575043</td>\n",
              "      <td>29.373411</td>\n",
              "      <td>...</td>\n",
              "      <td>0.222975</td>\n",
              "      <td>0.134615</td>\n",
              "      <td>0.064397</td>\n",
              "      <td>0.024518</td>\n",
              "      <td>0.120219</td>\n",
              "      <td>0.069533</td>\n",
              "      <td>0.070838</td>\n",
              "      <td>0.110869</td>\n",
              "      <td>0.048043</td>\n",
              "      <td>0.113482</td>\n",
              "    </tr>\n",
              "    <tr>\n",
              "      <th>min</th>\n",
              "      <td>0.00000</td>\n",
              "      <td>7.500000e+04</td>\n",
              "      <td>0.000000</td>\n",
              "      <td>0.000000</td>\n",
              "      <td>290.000000</td>\n",
              "      <td>5.200000e+02</td>\n",
              "      <td>0.000000</td>\n",
              "      <td>290.000000</td>\n",
              "      <td>0.000000</td>\n",
              "      <td>1900.000000</td>\n",
              "      <td>...</td>\n",
              "      <td>0.000000</td>\n",
              "      <td>0.000000</td>\n",
              "      <td>0.000000</td>\n",
              "      <td>0.000000</td>\n",
              "      <td>0.000000</td>\n",
              "      <td>0.000000</td>\n",
              "      <td>0.000000</td>\n",
              "      <td>0.000000</td>\n",
              "      <td>0.000000</td>\n",
              "      <td>0.000000</td>\n",
              "    </tr>\n",
              "    <tr>\n",
              "      <th>25%</th>\n",
              "      <td>5403.00000</td>\n",
              "      <td>3.219500e+05</td>\n",
              "      <td>3.000000</td>\n",
              "      <td>1.750000</td>\n",
              "      <td>1427.000000</td>\n",
              "      <td>5.040000e+03</td>\n",
              "      <td>0.000000</td>\n",
              "      <td>1190.000000</td>\n",
              "      <td>0.000000</td>\n",
              "      <td>1951.000000</td>\n",
              "      <td>...</td>\n",
              "      <td>0.000000</td>\n",
              "      <td>0.000000</td>\n",
              "      <td>0.000000</td>\n",
              "      <td>0.000000</td>\n",
              "      <td>0.000000</td>\n",
              "      <td>0.000000</td>\n",
              "      <td>0.000000</td>\n",
              "      <td>0.000000</td>\n",
              "      <td>0.000000</td>\n",
              "      <td>0.000000</td>\n",
              "    </tr>\n",
              "    <tr>\n",
              "      <th>50%</th>\n",
              "      <td>10806.00000</td>\n",
              "      <td>4.500000e+05</td>\n",
              "      <td>3.000000</td>\n",
              "      <td>2.250000</td>\n",
              "      <td>1910.000000</td>\n",
              "      <td>7.618000e+03</td>\n",
              "      <td>0.000000</td>\n",
              "      <td>1560.000000</td>\n",
              "      <td>0.000000</td>\n",
              "      <td>1975.000000</td>\n",
              "      <td>...</td>\n",
              "      <td>0.000000</td>\n",
              "      <td>0.000000</td>\n",
              "      <td>0.000000</td>\n",
              "      <td>0.000000</td>\n",
              "      <td>0.000000</td>\n",
              "      <td>0.000000</td>\n",
              "      <td>0.000000</td>\n",
              "      <td>0.000000</td>\n",
              "      <td>0.000000</td>\n",
              "      <td>0.000000</td>\n",
              "    </tr>\n",
              "    <tr>\n",
              "      <th>75%</th>\n",
              "      <td>16209.00000</td>\n",
              "      <td>6.450000e+05</td>\n",
              "      <td>4.000000</td>\n",
              "      <td>2.500000</td>\n",
              "      <td>2550.000000</td>\n",
              "      <td>1.068800e+04</td>\n",
              "      <td>0.000000</td>\n",
              "      <td>2210.000000</td>\n",
              "      <td>560.000000</td>\n",
              "      <td>1997.000000</td>\n",
              "      <td>...</td>\n",
              "      <td>0.000000</td>\n",
              "      <td>0.000000</td>\n",
              "      <td>0.000000</td>\n",
              "      <td>0.000000</td>\n",
              "      <td>0.000000</td>\n",
              "      <td>0.000000</td>\n",
              "      <td>0.000000</td>\n",
              "      <td>0.000000</td>\n",
              "      <td>0.000000</td>\n",
              "      <td>0.000000</td>\n",
              "    </tr>\n",
              "    <tr>\n",
              "      <th>max</th>\n",
              "      <td>21612.00000</td>\n",
              "      <td>7.700000e+06</td>\n",
              "      <td>33.000000</td>\n",
              "      <td>8.000000</td>\n",
              "      <td>13540.000000</td>\n",
              "      <td>1.651359e+06</td>\n",
              "      <td>1.000000</td>\n",
              "      <td>9410.000000</td>\n",
              "      <td>4820.000000</td>\n",
              "      <td>2015.000000</td>\n",
              "      <td>...</td>\n",
              "      <td>1.000000</td>\n",
              "      <td>1.000000</td>\n",
              "      <td>1.000000</td>\n",
              "      <td>1.000000</td>\n",
              "      <td>1.000000</td>\n",
              "      <td>1.000000</td>\n",
              "      <td>1.000000</td>\n",
              "      <td>1.000000</td>\n",
              "      <td>1.000000</td>\n",
              "      <td>1.000000</td>\n",
              "    </tr>\n",
              "  </tbody>\n",
              "</table>\n",
              "<p>8 rows × 51 columns</p>\n",
              "</div>"
            ],
            "text/plain": [
              "             index         price      bedrooms     bathrooms   sqft_living  \\\n",
              "count  21613.00000  2.161300e+04  21613.000000  21613.000000  21613.000000   \n",
              "mean   10806.00000  5.400881e+05      3.370842      2.114757   2079.899736   \n",
              "std     6239.28002  3.671272e+05      0.930062      0.770163    918.440897   \n",
              "min        0.00000  7.500000e+04      0.000000      0.000000    290.000000   \n",
              "25%     5403.00000  3.219500e+05      3.000000      1.750000   1427.000000   \n",
              "50%    10806.00000  4.500000e+05      3.000000      2.250000   1910.000000   \n",
              "75%    16209.00000  6.450000e+05      4.000000      2.500000   2550.000000   \n",
              "max    21612.00000  7.700000e+06     33.000000      8.000000  13540.000000   \n",
              "\n",
              "           sqft_lot    waterfront    sqft_above  sqft_basement      yr_built  \\\n",
              "count  2.161300e+04  21613.000000  21613.000000   21613.000000  21613.000000   \n",
              "mean   1.510697e+04      0.007542   1788.390691     291.509045   1971.005136   \n",
              "std    4.142051e+04      0.086517    828.090978     442.575043     29.373411   \n",
              "min    5.200000e+02      0.000000    290.000000       0.000000   1900.000000   \n",
              "25%    5.040000e+03      0.000000   1190.000000       0.000000   1951.000000   \n",
              "50%    7.618000e+03      0.000000   1560.000000       0.000000   1975.000000   \n",
              "75%    1.068800e+04      0.000000   2210.000000     560.000000   1997.000000   \n",
              "max    1.651359e+06      1.000000   9410.000000    4820.000000   2015.000000   \n",
              "\n",
              "           ...            grade#10      grade#11      grade#12      grade#13  \\\n",
              "count      ...        21613.000000  21613.000000  21613.000000  21613.000000   \n",
              "mean       ...            0.052468      0.018461      0.004164      0.000601   \n",
              "std        ...            0.222975      0.134615      0.064397      0.024518   \n",
              "min        ...            0.000000      0.000000      0.000000      0.000000   \n",
              "25%        ...            0.000000      0.000000      0.000000      0.000000   \n",
              "50%        ...            0.000000      0.000000      0.000000      0.000000   \n",
              "75%        ...            0.000000      0.000000      0.000000      0.000000   \n",
              "max        ...            1.000000      1.000000      1.000000      1.000000   \n",
              "\n",
              "       zipcode#98004  zipcode#98102  zipcode#98109  zipcode#98112  \\\n",
              "count   21613.000000   21613.000000   21613.000000   21613.000000   \n",
              "mean        0.014667       0.004858       0.005043       0.012446   \n",
              "std         0.120219       0.069533       0.070838       0.110869   \n",
              "min         0.000000       0.000000       0.000000       0.000000   \n",
              "25%         0.000000       0.000000       0.000000       0.000000   \n",
              "50%         0.000000       0.000000       0.000000       0.000000   \n",
              "75%         0.000000       0.000000       0.000000       0.000000   \n",
              "max         1.000000       1.000000       1.000000       1.000000   \n",
              "\n",
              "       zipcode#98039  zipcode#98040  \n",
              "count   21613.000000   21613.000000  \n",
              "mean        0.002313       0.013048  \n",
              "std         0.048043       0.113482  \n",
              "min         0.000000       0.000000  \n",
              "25%         0.000000       0.000000  \n",
              "50%         0.000000       0.000000  \n",
              "75%         0.000000       0.000000  \n",
              "max         1.000000       1.000000  \n",
              "\n",
              "[8 rows x 51 columns]"
            ]
          },
          "metadata": {
            "tags": []
          },
          "execution_count": 6
        }
      ]
    },
    {
      "metadata": {
        "id": "D8mR4r7A7kaz",
        "colab_type": "code",
        "outputId": "090a0da4-24e9-40c4-b495-7cf26e4dbf8b",
        "colab": {
          "base_uri": "https://localhost:8080/",
          "height": 1031
        }
      },
      "cell_type": "code",
      "source": [
        "#To identify the colinearity between various input attributes and also between input variable and target variable\n",
        "corr = features.corr()\n",
        "mask = np.zeros_like(corr, dtype=np.bool)\n",
        "#To substitute zeros in upper triangular values in correlation matrix\n",
        "mask[np.triu_indices_from(mask)] = True\n",
        "\n",
        "# Set up the matplotlib figure\n",
        "f, ax = plt.subplots(figsize=(20, 20))\n",
        "\n",
        "# Generate a custom diverging colormap\n",
        "cmap = sns.diverging_palette(190, 10, as_cmap=True)\n",
        "\n",
        "# Draw the heatmap with the mask and correct aspect ratio\n",
        "sns.heatmap(corr, mask=mask, cmap=cmap, vmax=.3, center=0,\n",
        "            square=True, linewidths=.5, cbar_kws={\"shrink\": .5})"
      ],
      "execution_count": 8,
      "outputs": [
        {
          "output_type": "execute_result",
          "data": {
            "text/plain": [
              "<matplotlib.axes._subplots.AxesSubplot at 0x7f76e9237908>"
            ]
          },
          "metadata": {
            "tags": []
          },
          "execution_count": 8
        },
        {
          "output_type": "display_data",
          "data": {
            "image/png": "[encoded data removed]",
            "text/plain": [
              "<Figure size 1440x1440 with 2 Axes>"
            ]
          },
          "metadata": {
            "tags": []
          }
        }
      ]
    },
    {
      "metadata": {
        "id": "wRW4qa4n7ka9",
        "colab_type": "code",
        "outputId": "e2b5b336-6654-4cb0-dbac-bf726f9a6ae4",
        "colab": {
          "base_uri": "https://localhost:8080/",
          "height": 34
        }
      },
      "cell_type": "code",
      "source": [
        "#To identify the median of the selling price values of houses sold in King County that are recorded in the dataset\n",
        "median_price = features.loc[:,\"price\"].median()\n",
        "print(median_price)"
      ],
      "execution_count": 9,
      "outputs": [
        {
          "output_type": "stream",
          "text": [
            "450000.0\n"
          ],
          "name": "stdout"
        }
      ]
    },
    {
      "metadata": {
        "id": "X0DZg3Fm7kbC",
        "colab_type": "text"
      },
      "cell_type": "markdown",
      "source": [
        "Adding column to dataframe for holding categorical price value : HIGH/LOW\n",
        "\n",
        "All values < median are LOW and Values >= median are HIGH"
      ]
    },
    {
      "metadata": {
        "id": "IiEfkj1R7kbC",
        "colab_type": "code",
        "colab": {}
      },
      "cell_type": "code",
      "source": [
        "features['price_cat'] = features['price'].apply(lambda x: 1 if x > median_price else -1)"
      ],
      "execution_count": 0,
      "outputs": []
    },
    {
      "metadata": {
        "id": "3zyRH-Dd7kbG",
        "colab_type": "code",
        "outputId": "b34a88c6-cbe1-4ce0-b6e7-3b9b8b24a5aa",
        "colab": {
          "base_uri": "https://localhost:8080/",
          "height": 362
        }
      },
      "cell_type": "code",
      "source": [
        "features[['price','price_cat']].head(10)"
      ],
      "execution_count": 11,
      "outputs": [
        {
          "output_type": "execute_result",
          "data": {
            "text/html": [
              "<div>\n",
              "<style scoped>\n",
              "    .dataframe tbody tr th:only-of-type {\n",
              "        vertical-align: middle;\n",
              "    }\n",
              "\n",
              "    .dataframe tbody tr th {\n",
              "        vertical-align: top;\n",
              "    }\n",
              "\n",
              "    .dataframe thead th {\n",
              "        text-align: right;\n",
              "    }\n",
              "</style>\n",
              "<table border=\"1\" class=\"dataframe\">\n",
              "  <thead>\n",
              "    <tr style=\"text-align: right;\">\n",
              "      <th></th>\n",
              "      <th>price</th>\n",
              "      <th>price_cat</th>\n",
              "    </tr>\n",
              "  </thead>\n",
              "  <tbody>\n",
              "    <tr>\n",
              "      <th>0</th>\n",
              "      <td>437500</td>\n",
              "      <td>-1</td>\n",
              "    </tr>\n",
              "    <tr>\n",
              "      <th>1</th>\n",
              "      <td>790000</td>\n",
              "      <td>1</td>\n",
              "    </tr>\n",
              "    <tr>\n",
              "      <th>2</th>\n",
              "      <td>675000</td>\n",
              "      <td>1</td>\n",
              "    </tr>\n",
              "    <tr>\n",
              "      <th>3</th>\n",
              "      <td>555000</td>\n",
              "      <td>1</td>\n",
              "    </tr>\n",
              "    <tr>\n",
              "      <th>4</th>\n",
              "      <td>440000</td>\n",
              "      <td>-1</td>\n",
              "    </tr>\n",
              "    <tr>\n",
              "      <th>5</th>\n",
              "      <td>295000</td>\n",
              "      <td>-1</td>\n",
              "    </tr>\n",
              "    <tr>\n",
              "      <th>6</th>\n",
              "      <td>470000</td>\n",
              "      <td>1</td>\n",
              "    </tr>\n",
              "    <tr>\n",
              "      <th>7</th>\n",
              "      <td>550000</td>\n",
              "      <td>1</td>\n",
              "    </tr>\n",
              "    <tr>\n",
              "      <th>8</th>\n",
              "      <td>313000</td>\n",
              "      <td>-1</td>\n",
              "    </tr>\n",
              "    <tr>\n",
              "      <th>9</th>\n",
              "      <td>626000</td>\n",
              "      <td>1</td>\n",
              "    </tr>\n",
              "  </tbody>\n",
              "</table>\n",
              "</div>"
            ],
            "text/plain": [
              "    price  price_cat\n",
              "0  437500         -1\n",
              "1  790000          1\n",
              "2  675000          1\n",
              "3  555000          1\n",
              "4  440000         -1\n",
              "5  295000         -1\n",
              "6  470000          1\n",
              "7  550000          1\n",
              "8  313000         -1\n",
              "9  626000          1"
            ]
          },
          "metadata": {
            "tags": []
          },
          "execution_count": 11
        }
      ]
    },
    {
      "metadata": {
        "scrolled": true,
        "id": "kGiOjd0L7kbL",
        "colab_type": "code",
        "outputId": "b9cebd69-aea8-490f-8a1e-fb062a429fa2",
        "colab": {
          "base_uri": "https://localhost:8080/",
          "height": 255
        }
      },
      "cell_type": "code",
      "source": [
        "features.head(5)"
      ],
      "execution_count": 12,
      "outputs": [
        {
          "output_type": "execute_result",
          "data": {
            "text/html": [
              "<div>\n",
              "<style scoped>\n",
              "    .dataframe tbody tr th:only-of-type {\n",
              "        vertical-align: middle;\n",
              "    }\n",
              "\n",
              "    .dataframe tbody tr th {\n",
              "        vertical-align: top;\n",
              "    }\n",
              "\n",
              "    .dataframe thead th {\n",
              "        text-align: right;\n",
              "    }\n",
              "</style>\n",
              "<table border=\"1\" class=\"dataframe\">\n",
              "  <thead>\n",
              "    <tr style=\"text-align: right;\">\n",
              "      <th></th>\n",
              "      <th>index</th>\n",
              "      <th>price</th>\n",
              "      <th>bedrooms</th>\n",
              "      <th>bathrooms</th>\n",
              "      <th>sqft_living</th>\n",
              "      <th>sqft_lot</th>\n",
              "      <th>waterfront</th>\n",
              "      <th>sqft_above</th>\n",
              "      <th>sqft_basement</th>\n",
              "      <th>yr_built</th>\n",
              "      <th>...</th>\n",
              "      <th>grade#11</th>\n",
              "      <th>grade#12</th>\n",
              "      <th>grade#13</th>\n",
              "      <th>zipcode#98004</th>\n",
              "      <th>zipcode#98102</th>\n",
              "      <th>zipcode#98109</th>\n",
              "      <th>zipcode#98112</th>\n",
              "      <th>zipcode#98039</th>\n",
              "      <th>zipcode#98040</th>\n",
              "      <th>price_cat</th>\n",
              "    </tr>\n",
              "  </thead>\n",
              "  <tbody>\n",
              "    <tr>\n",
              "      <th>0</th>\n",
              "      <td>16768</td>\n",
              "      <td>437500</td>\n",
              "      <td>3</td>\n",
              "      <td>2.25</td>\n",
              "      <td>1970</td>\n",
              "      <td>35100</td>\n",
              "      <td>0</td>\n",
              "      <td>1970</td>\n",
              "      <td>0</td>\n",
              "      <td>1977</td>\n",
              "      <td>...</td>\n",
              "      <td>0</td>\n",
              "      <td>0</td>\n",
              "      <td>0</td>\n",
              "      <td>0</td>\n",
              "      <td>0</td>\n",
              "      <td>0</td>\n",
              "      <td>0</td>\n",
              "      <td>0</td>\n",
              "      <td>0</td>\n",
              "      <td>-1</td>\n",
              "    </tr>\n",
              "    <tr>\n",
              "      <th>1</th>\n",
              "      <td>9596</td>\n",
              "      <td>790000</td>\n",
              "      <td>3</td>\n",
              "      <td>2.50</td>\n",
              "      <td>2600</td>\n",
              "      <td>4750</td>\n",
              "      <td>0</td>\n",
              "      <td>1700</td>\n",
              "      <td>900</td>\n",
              "      <td>1951</td>\n",
              "      <td>...</td>\n",
              "      <td>0</td>\n",
              "      <td>0</td>\n",
              "      <td>0</td>\n",
              "      <td>0</td>\n",
              "      <td>0</td>\n",
              "      <td>0</td>\n",
              "      <td>0</td>\n",
              "      <td>0</td>\n",
              "      <td>0</td>\n",
              "      <td>1</td>\n",
              "    </tr>\n",
              "    <tr>\n",
              "      <th>2</th>\n",
              "      <td>9587</td>\n",
              "      <td>675000</td>\n",
              "      <td>5</td>\n",
              "      <td>2.50</td>\n",
              "      <td>2820</td>\n",
              "      <td>67518</td>\n",
              "      <td>0</td>\n",
              "      <td>2820</td>\n",
              "      <td>0</td>\n",
              "      <td>1979</td>\n",
              "      <td>...</td>\n",
              "      <td>0</td>\n",
              "      <td>0</td>\n",
              "      <td>0</td>\n",
              "      <td>0</td>\n",
              "      <td>0</td>\n",
              "      <td>0</td>\n",
              "      <td>0</td>\n",
              "      <td>0</td>\n",
              "      <td>0</td>\n",
              "      <td>1</td>\n",
              "    </tr>\n",
              "    <tr>\n",
              "      <th>3</th>\n",
              "      <td>20602</td>\n",
              "      <td>555000</td>\n",
              "      <td>4</td>\n",
              "      <td>2.50</td>\n",
              "      <td>3310</td>\n",
              "      <td>6500</td>\n",
              "      <td>0</td>\n",
              "      <td>3310</td>\n",
              "      <td>0</td>\n",
              "      <td>2012</td>\n",
              "      <td>...</td>\n",
              "      <td>0</td>\n",
              "      <td>0</td>\n",
              "      <td>0</td>\n",
              "      <td>0</td>\n",
              "      <td>0</td>\n",
              "      <td>0</td>\n",
              "      <td>0</td>\n",
              "      <td>0</td>\n",
              "      <td>0</td>\n",
              "      <td>1</td>\n",
              "    </tr>\n",
              "    <tr>\n",
              "      <th>4</th>\n",
              "      <td>11577</td>\n",
              "      <td>440000</td>\n",
              "      <td>4</td>\n",
              "      <td>2.25</td>\n",
              "      <td>2160</td>\n",
              "      <td>8119</td>\n",
              "      <td>0</td>\n",
              "      <td>1080</td>\n",
              "      <td>1080</td>\n",
              "      <td>1966</td>\n",
              "      <td>...</td>\n",
              "      <td>0</td>\n",
              "      <td>0</td>\n",
              "      <td>0</td>\n",
              "      <td>0</td>\n",
              "      <td>0</td>\n",
              "      <td>0</td>\n",
              "      <td>0</td>\n",
              "      <td>0</td>\n",
              "      <td>0</td>\n",
              "      <td>-1</td>\n",
              "    </tr>\n",
              "  </tbody>\n",
              "</table>\n",
              "<p>5 rows × 52 columns</p>\n",
              "</div>"
            ],
            "text/plain": [
              "   index   price  bedrooms  bathrooms  sqft_living  sqft_lot  waterfront  \\\n",
              "0  16768  437500         3       2.25         1970     35100           0   \n",
              "1   9596  790000         3       2.50         2600      4750           0   \n",
              "2   9587  675000         5       2.50         2820     67518           0   \n",
              "3  20602  555000         4       2.50         3310      6500           0   \n",
              "4  11577  440000         4       2.25         2160      8119           0   \n",
              "\n",
              "   sqft_above  sqft_basement  yr_built    ...      grade#11  grade#12  \\\n",
              "0        1970              0      1977    ...             0         0   \n",
              "1        1700            900      1951    ...             0         0   \n",
              "2        2820              0      1979    ...             0         0   \n",
              "3        3310              0      2012    ...             0         0   \n",
              "4        1080           1080      1966    ...             0         0   \n",
              "\n",
              "   grade#13  zipcode#98004  zipcode#98102  zipcode#98109  zipcode#98112  \\\n",
              "0         0              0              0              0              0   \n",
              "1         0              0              0              0              0   \n",
              "2         0              0              0              0              0   \n",
              "3         0              0              0              0              0   \n",
              "4         0              0              0              0              0   \n",
              "\n",
              "   zipcode#98039  zipcode#98040  price_cat  \n",
              "0              0              0         -1  \n",
              "1              0              0          1  \n",
              "2              0              0          1  \n",
              "3              0              0          1  \n",
              "4              0              0         -1  \n",
              "\n",
              "[5 rows x 52 columns]"
            ]
          },
          "metadata": {
            "tags": []
          },
          "execution_count": 12
        }
      ]
    },
    {
      "metadata": {
        "id": "68Mg8t7F7kbP",
        "colab_type": "text"
      },
      "cell_type": "markdown",
      "source": [
        "## Part A\n",
        "\n",
        "    * Bagging Algo : Random Forest Classifier\n",
        "    * Boosting Algo : XGBoost Classifier\n",
        "    \n",
        "Compare at least one bagging based tree algorithm (e.g. Random Forest) with a boosting based tree algorithm on a classification problem.\n",
        "\n",
        "* Which hyper-parameters are important?\n",
        "* What hyper-parameter values work best?\n",
        "* Which supervised learner works best on the test data?"
      ]
    },
    {
      "metadata": {
        "id": "UPd2OyUS7kbQ",
        "colab_type": "text"
      },
      "cell_type": "markdown",
      "source": [
        "## Random Forest Classifier\n"
      ]
    },
    {
      "metadata": {
        "id": "LArmZVhh7kbR",
        "colab_type": "code",
        "colab": {}
      },
      "cell_type": "code",
      "source": [
        "from sklearn.model_selection import train_test_split"
      ],
      "execution_count": 0,
      "outputs": []
    },
    {
      "metadata": {
        "id": "QqdS-9HB7kbW",
        "colab_type": "code",
        "outputId": "687f574b-c50c-488f-f0f1-13b59b1128d1",
        "colab": {
          "base_uri": "https://localhost:8080/",
          "height": 207
        }
      },
      "cell_type": "code",
      "source": [
        "features.columns"
      ],
      "execution_count": 14,
      "outputs": [
        {
          "output_type": "execute_result",
          "data": {
            "text/plain": [
              "Index(['index', 'price', 'bedrooms', 'bathrooms', 'sqft_living', 'sqft_lot',\n",
              "       'waterfront', 'sqft_above', 'sqft_basement', 'yr_built', 'yr_renovated',\n",
              "       'lat', 'long', 'sqft_living15', 'sqft_lot15', 'basement_present',\n",
              "       'renovated', 'floors#1.0', 'floors#1.5', 'floors#2.0', 'floors#2.5',\n",
              "       'floors#3.0', 'floors#3.5', 'view#0', 'view#1', 'view#2', 'view#3',\n",
              "       'view#4', 'condition#1', 'condition#2', 'condition#3', 'condition#4',\n",
              "       'condition#5', 'grade#1', 'grade#3', 'grade#4', 'grade#5', 'grade#6',\n",
              "       'grade#7', 'grade#8', 'grade#9', 'grade#10', 'grade#11', 'grade#12',\n",
              "       'grade#13', 'zipcode#98004', 'zipcode#98102', 'zipcode#98109',\n",
              "       'zipcode#98112', 'zipcode#98039', 'zipcode#98040', 'price_cat'],\n",
              "      dtype='object')"
            ]
          },
          "metadata": {
            "tags": []
          },
          "execution_count": 14
        }
      ]
    },
    {
      "metadata": {
        "id": "pXfHxxzA7kbd",
        "colab_type": "code",
        "colab": {}
      },
      "cell_type": "code",
      "source": [
        "X_features = ['bedrooms', 'bathrooms', 'sqft_living', 'sqft_lot',\n",
        "       'waterfront', 'sqft_above', 'sqft_basement', 'yr_built', 'yr_renovated',\n",
        "       'lat', 'long', 'sqft_living15', 'sqft_lot15', 'basement_present',\n",
        "       'renovated', 'floors#1.0', 'floors#1.5', 'floors#2.0', 'floors#2.5',\n",
        "       'floors#3.0', 'floors#3.5', 'view#0', 'view#1', 'view#2', 'view#3',\n",
        "       'view#4', 'condition#1', 'condition#2', 'condition#3', 'condition#4',\n",
        "       'condition#5', 'grade#1', 'grade#3', 'grade#4', 'grade#5', 'grade#6',\n",
        "       'grade#7', 'grade#8', 'grade#9', 'grade#10', 'grade#11', 'grade#12',\n",
        "       'grade#13', 'zipcode#98004', 'zipcode#98102', 'zipcode#98109',\n",
        "       'zipcode#98112', 'zipcode#98039', 'zipcode#98040']\n",
        "\n",
        "X=features[['bedrooms', 'bathrooms', 'sqft_living', 'sqft_lot',\n",
        "       'waterfront', 'sqft_above', 'sqft_basement', 'yr_built', 'yr_renovated',\n",
        "       'lat', 'long', 'sqft_living15', 'sqft_lot15', 'basement_present',\n",
        "       'renovated', 'floors#1.0', 'floors#1.5', 'floors#2.0', 'floors#2.5',\n",
        "       'floors#3.0', 'floors#3.5', 'view#0', 'view#1', 'view#2', 'view#3',\n",
        "       'view#4', 'condition#1', 'condition#2', 'condition#3', 'condition#4',\n",
        "       'condition#5', 'grade#1', 'grade#3', 'grade#4', 'grade#5', 'grade#6',\n",
        "       'grade#7', 'grade#8', 'grade#9', 'grade#10', 'grade#11', 'grade#12',\n",
        "       'grade#13', 'zipcode#98004', 'zipcode#98102', 'zipcode#98109',\n",
        "       'zipcode#98112', 'zipcode#98039', 'zipcode#98040']]  # Features\n",
        "\n",
        "y=features['price_cat']  # Labels\n",
        "       \n",
        "# Split dataset into training set and test set\n",
        "X_train, X_test, y_train, y_test = train_test_split(X, y, test_size=0.3) # 70% training and 30% test"
      ],
      "execution_count": 0,
      "outputs": []
    },
    {
      "metadata": {
        "id": "TzQLHyVt7kbh",
        "colab_type": "code",
        "colab": {}
      },
      "cell_type": "code",
      "source": [
        "#Import Random Forest Model\n",
        "from sklearn.ensemble import RandomForestClassifier\n",
        "\n",
        "#Create a Gaussian Classifier\n",
        "clf=RandomForestClassifier(n_estimators=100)\n",
        "\n",
        "#Train the model using the training sets y_pred=clf.predict(X_test)\n",
        "clf.fit(X_train,y_train)\n",
        "\n",
        "y_pred=clf.predict(X_test)\n"
      ],
      "execution_count": 0,
      "outputs": []
    },
    {
      "metadata": {
        "id": "roTTKUgo7kbj",
        "colab_type": "code",
        "colab": {}
      },
      "cell_type": "code",
      "source": [
        "#Import scikit-learn metrics module for accuracy calculation\n",
        "from sklearn import metrics\n",
        "# Model Accuracy, how often is the classifier correct?\n",
        "print(\"Accuracy:\",metrics.accuracy_score(y_test, y_pred))\n"
      ],
      "execution_count": 0,
      "outputs": []
    },
    {
      "metadata": {
        "id": "gEfK2AMq7kbm",
        "colab_type": "code",
        "outputId": "736bc941-cdae-4eb8-f527-d4fbd6e53705",
        "colab": {
          "base_uri": "https://localhost:8080/",
          "height": 138
        }
      },
      "cell_type": "code",
      "source": [
        "RandomForestClassifier(bootstrap=True, class_weight=None, criterion='gini',\n",
        "            max_depth=None, max_features='auto', max_leaf_nodes=None,\n",
        "            min_impurity_split=None,\n",
        "            min_samples_leaf=1, min_samples_split=2,\n",
        "            min_weight_fraction_leaf=0.0, n_estimators=100, n_jobs=1,\n",
        "            oob_score=False, random_state=None, verbose=0,\n",
        "            warm_start=False)"
      ],
      "execution_count": 19,
      "outputs": [
        {
          "output_type": "execute_result",
          "data": {
            "text/plain": [
              "RandomForestClassifier(bootstrap=True, class_weight=None, criterion='gini',\n",
              "            max_depth=None, max_features='auto', max_leaf_nodes=None,\n",
              "            min_impurity_decrease=0.0, min_impurity_split=None,\n",
              "            min_samples_leaf=1, min_samples_split=2,\n",
              "            min_weight_fraction_leaf=0.0, n_estimators=100, n_jobs=1,\n",
              "            oob_score=False, random_state=None, verbose=0,\n",
              "            warm_start=False)"
            ]
          },
          "metadata": {
            "tags": []
          },
          "execution_count": 19
        }
      ]
    },
    {
      "metadata": {
        "id": "ADrKsvcV7kbq",
        "colab_type": "code",
        "outputId": "d1e9dd1c-50df-444c-ecda-a3c771ea2d28",
        "colab": {
          "base_uri": "https://localhost:8080/",
          "height": 883
        }
      },
      "cell_type": "code",
      "source": [
        "feature_imp = pd.Series(clf.feature_importances_,index=X_features).sort_values(ascending=False)\n",
        "feature_imp"
      ],
      "execution_count": 20,
      "outputs": [
        {
          "output_type": "execute_result",
          "data": {
            "text/plain": [
              "lat                 2.695900e-01\n",
              "sqft_living         1.161135e-01\n",
              "sqft_living15       9.029287e-02\n",
              "sqft_above          7.875977e-02\n",
              "long                5.675858e-02\n",
              "sqft_lot15          5.244375e-02\n",
              "yr_built            4.961392e-02\n",
              "sqft_lot            4.721019e-02\n",
              "bathrooms           3.577996e-02\n",
              "grade#7             3.236092e-02\n",
              "sqft_basement       2.456631e-02\n",
              "grade#9             2.204554e-02\n",
              "grade#6             1.694413e-02\n",
              "bedrooms            1.668659e-02\n",
              "grade#8             1.513459e-02\n",
              "basement_present    1.006684e-02\n",
              "floors#1.0          7.692896e-03\n",
              "grade#10            7.444932e-03\n",
              "view#0              6.848467e-03\n",
              "condition#3         5.952612e-03\n",
              "floors#2.0          5.928872e-03\n",
              "condition#4         4.191495e-03\n",
              "floors#1.5          4.095772e-03\n",
              "condition#5         3.353586e-03\n",
              "yr_renovated        2.902102e-03\n",
              "view#2              2.089264e-03\n",
              "renovated           1.746527e-03\n",
              "zipcode#98004       1.484701e-03\n",
              "view#4              1.287958e-03\n",
              "floors#3.0          1.216562e-03\n",
              "view#3              1.208663e-03\n",
              "zipcode#98112       1.064303e-03\n",
              "waterfront          9.983440e-04\n",
              "zipcode#98040       9.952738e-04\n",
              "view#1              8.932408e-04\n",
              "grade#5             8.831317e-04\n",
              "condition#2         6.514414e-04\n",
              "grade#11            6.231661e-04\n",
              "floors#2.5          5.420811e-04\n",
              "zipcode#98109       5.124300e-04\n",
              "zipcode#98102       4.385191e-04\n",
              "condition#1         3.354774e-04\n",
              "zipcode#98039       1.213409e-04\n",
              "grade#4             7.285035e-05\n",
              "floors#3.5          5.500606e-05\n",
              "grade#12            1.499746e-06\n",
              "grade#1             1.087426e-07\n",
              "grade#3             0.000000e+00\n",
              "grade#13            0.000000e+00\n",
              "dtype: float64"
            ]
          },
          "metadata": {
            "tags": []
          },
          "execution_count": 20
        }
      ]
    },
    {
      "metadata": {
        "id": "3MENIhRV7kbt",
        "colab_type": "code",
        "outputId": "29f58d14-b02c-4d54-f159-f7955992992b",
        "colab": {
          "base_uri": "https://localhost:8080/",
          "height": 207
        }
      },
      "cell_type": "code",
      "source": [
        "top_features = feature_imp.head(10)\n",
        "top_features"
      ],
      "execution_count": 21,
      "outputs": [
        {
          "output_type": "execute_result",
          "data": {
            "text/plain": [
              "lat              0.269590\n",
              "sqft_living      0.116113\n",
              "sqft_living15    0.090293\n",
              "sqft_above       0.078760\n",
              "long             0.056759\n",
              "sqft_lot15       0.052444\n",
              "yr_built         0.049614\n",
              "sqft_lot         0.047210\n",
              "bathrooms        0.035780\n",
              "grade#7          0.032361\n",
              "dtype: float64"
            ]
          },
          "metadata": {
            "tags": []
          },
          "execution_count": 21
        }
      ]
    },
    {
      "metadata": {
        "id": "0OkQO-bq7kbw",
        "colab_type": "code",
        "outputId": "c4fe6aa8-c7bc-4e58-c396-71976889c088",
        "colab": {
          "base_uri": "https://localhost:8080/",
          "height": 346
        }
      },
      "cell_type": "code",
      "source": [
        "# Creating a bar plot\n",
        "sns.barplot(x=top_features, y=top_features.index)\n",
        "# Add labels to your graph\n",
        "plt.xlabel('Feature Importance Score')\n",
        "plt.ylabel('Features')\n",
        "plt.title(\"Visualizing Important Features\")\n",
        "plt.legend()\n",
        "plt.show()"
      ],
      "execution_count": 22,
      "outputs": [
        {
          "output_type": "stream",
          "text": [
            "/usr/local/lib/python3.6/dist-packages/seaborn/categorical.py:1428: FutureWarning: remove_na is deprecated and is a private function. Do not use.\n",
            "  stat_data = remove_na(group_data)\n",
            "No handles with labels found to put in legend.\n"
          ],
          "name": "stderr"
        },
        {
          "output_type": "display_data",
          "data": {
            "image/png": "[encoded data removed]",
            "text/plain": [
              "<Figure size 432x288 with 1 Axes>"
            ]
          },
          "metadata": {
            "tags": []
          }
        }
      ]
    },
    {
      "metadata": {
        "id": "viPaQczg7kb1",
        "colab_type": "code",
        "colab": {}
      },
      "cell_type": "code",
      "source": [
        "from pprint import pprint"
      ],
      "execution_count": 0,
      "outputs": []
    },
    {
      "metadata": {
        "id": "AuybEbTr7kb3",
        "colab_type": "code",
        "outputId": "bbe0c90d-3592-406c-99ac-894a1ff73a3f",
        "colab": {
          "base_uri": "https://localhost:8080/",
          "height": 346
        }
      },
      "cell_type": "code",
      "source": [
        "# Look at parameters used by our current forest\n",
        "print('Parameters currently in use:\\n')\n",
        "pprint(clf.get_params())"
      ],
      "execution_count": 24,
      "outputs": [
        {
          "output_type": "stream",
          "text": [
            "Parameters currently in use:\n",
            "\n",
            "{'bootstrap': True,\n",
            " 'class_weight': None,\n",
            " 'criterion': 'gini',\n",
            " 'max_depth': None,\n",
            " 'max_features': 'auto',\n",
            " 'max_leaf_nodes': None,\n",
            " 'min_impurity_decrease': 0.0,\n",
            " 'min_impurity_split': None,\n",
            " 'min_samples_leaf': 1,\n",
            " 'min_samples_split': 2,\n",
            " 'min_weight_fraction_leaf': 0.0,\n",
            " 'n_estimators': 100,\n",
            " 'n_jobs': None,\n",
            " 'oob_score': False,\n",
            " 'random_state': None,\n",
            " 'verbose': 0,\n",
            " 'warm_start': False}\n"
          ],
          "name": "stdout"
        }
      ]
    },
    {
      "metadata": {
        "id": "yQxdiXhX7kb7",
        "colab_type": "text"
      },
      "cell_type": "markdown",
      "source": [
        "According to the documentation, the most important settings are the number of trees in the forest (n_estimators) and the number of features considered for splitting at each leaf node (max_features)"
      ]
    },
    {
      "metadata": {
        "id": "LRgLflSl7kb8",
        "colab_type": "text"
      },
      "cell_type": "markdown",
      "source": [
        "We will try adjusting the following set of hyperparameters:\n",
        "\n"
      ]
    },
    {
      "metadata": {
        "id": "OtbK3GmC7kb9",
        "colab_type": "text"
      },
      "cell_type": "markdown",
      "source": [
        "### Finding important hyper-parameters\n",
        "\n",
        "The important parameters for a Random Forest Classfier are as follows:\n",
        "\n",
        "\n",
        "\n",
        "### We will use RandomSearchCV and GridSearchCV to find the best values for the same"
      ]
    },
    {
      "metadata": {
        "id": "eiY6sImP7kb-",
        "colab_type": "code",
        "colab": {}
      },
      "cell_type": "code",
      "source": [
        "from sklearn.model_selection import RandomizedSearchCV"
      ],
      "execution_count": 0,
      "outputs": []
    },
    {
      "metadata": {
        "id": "4Gn7VW-l7kcA",
        "colab_type": "code",
        "outputId": "42aaf1b7-be74-43df-8b6b-1861948aff54",
        "colab": {
          "base_uri": "https://localhost:8080/",
          "height": 103
        }
      },
      "cell_type": "code",
      "source": [
        "# Number of trees in random forest\n",
        "n_estimators = [int(x) for x in np.linspace(start = 10, stop = 200, num = 5)]\n",
        "# Number of features to consider at every split\n",
        "max_features = ['auto', 'sqrt']\n",
        "# Maximum number of levels in tree\n",
        "max_depth = [int(x) for x in np.linspace(2, 10, num = 5)]\n",
        "max_depth.append(None)\n",
        "# Minimum number of samples required to split a node\n",
        "min_samples_split = [5, 10]\n",
        "# Minimum number of samples required at each leaf node\n",
        "min_samples_leaf = [2, 4]\n",
        "# Method of selecting samples for training each tree\n",
        "#bootstrap = [True, False]\n",
        "# Create the random grid\n",
        "random_grid = {'n_estimators': n_estimators,\n",
        "               'max_features': max_features,\n",
        "               'max_depth': max_depth,\n",
        "               'min_samples_split': min_samples_split,\n",
        "               'min_samples_leaf': min_samples_leaf}\n",
        "pprint(random_grid)"
      ],
      "execution_count": 26,
      "outputs": [
        {
          "output_type": "stream",
          "text": [
            "{'max_depth': [2, 4, 6, 8, 10, None],\n",
            " 'max_features': ['auto', 'sqrt'],\n",
            " 'min_samples_leaf': [2, 4],\n",
            " 'min_samples_split': [5, 10],\n",
            " 'n_estimators': [10, 57, 105, 152, 200]}\n"
          ],
          "name": "stdout"
        }
      ]
    },
    {
      "metadata": {
        "id": "NlSvKwQd7kcD",
        "colab_type": "code",
        "outputId": "6ad6620e-df82-4f07-9445-2d1abd6ccf4a",
        "colab": {
          "base_uri": "https://localhost:8080/",
          "height": 331
        }
      },
      "cell_type": "code",
      "source": [
        "# Use the random grid to search for best hyperparameters\n",
        "# First create the base model to tune\n",
        "clf_base = RandomForestClassifier()\n",
        "# Random search of parameters, using 3 fold cross validation, \n",
        "# search across 100 different combinations, and use all available cores\n",
        "clf_random = RandomizedSearchCV(estimator = clf_base, param_distributions = random_grid, n_iter = 100, cv = 3, verbose=2, random_state=42, n_jobs = -1)\n",
        "# Fit the random search model\n",
        "clf_random.fit(X_train,y_train)"
      ],
      "execution_count": 27,
      "outputs": [
        {
          "output_type": "stream",
          "text": [
            "Fitting 3 folds for each of 100 candidates, totalling 300 fits\n"
          ],
          "name": "stdout"
        },
        {
          "output_type": "stream",
          "text": [
            "[Parallel(n_jobs=-1)]: Using backend LokyBackend with 2 concurrent workers.\n",
            "[Parallel(n_jobs=-1)]: Done  37 tasks      | elapsed:   36.0s\n",
            "[Parallel(n_jobs=-1)]: Done 158 tasks      | elapsed:  1.9min\n",
            "[Parallel(n_jobs=-1)]: Done 300 out of 300 | elapsed:  3.9min finished\n"
          ],
          "name": "stderr"
        },
        {
          "output_type": "execute_result",
          "data": {
            "text/plain": [
              "RandomizedSearchCV(cv=3, error_score='raise-deprecating',\n",
              "          estimator=RandomForestClassifier(bootstrap=True, class_weight=None, criterion='gini',\n",
              "            max_depth=None, max_features='auto', max_leaf_nodes=None,\n",
              "            min_impurity_decrease=0.0, min_impurity_split=None,\n",
              "            min_samples_leaf=1, min_samples_split=2,\n",
              "            min_weight_fraction_leaf=0.0, n_estimators='warn', n_jobs=None,\n",
              "            oob_score=False, random_state=None, verbose=0,\n",
              "            warm_start=False),\n",
              "          fit_params=None, iid='warn', n_iter=100, n_jobs=-1,\n",
              "          param_distributions={'n_estimators': [10, 57, 105, 152, 200], 'max_features': ['auto', 'sqrt'], 'max_depth': [2, 4, 6, 8, 10, None], 'min_samples_split': [5, 10], 'min_samples_leaf': [2, 4]},\n",
              "          pre_dispatch='2*n_jobs', random_state=42, refit=True,\n",
              "          return_train_score='warn', scoring=None, verbose=2)"
            ]
          },
          "metadata": {
            "tags": []
          },
          "execution_count": 27
        }
      ]
    },
    {
      "metadata": {
        "scrolled": true,
        "id": "jJswq3o27kcH",
        "colab_type": "code",
        "outputId": "01ad1799-2fdc-4e8e-b9dc-f9cf0f4b4e90",
        "colab": {
          "base_uri": "https://localhost:8080/",
          "height": 103
        }
      },
      "cell_type": "code",
      "source": [
        "clf_random.best_params_"
      ],
      "execution_count": 28,
      "outputs": [
        {
          "output_type": "execute_result",
          "data": {
            "text/plain": [
              "{'max_depth': None,\n",
              " 'max_features': 'auto',\n",
              " 'min_samples_leaf': 2,\n",
              " 'min_samples_split': 5,\n",
              " 'n_estimators': 200}"
            ]
          },
          "metadata": {
            "tags": []
          },
          "execution_count": 28
        }
      ]
    },
    {
      "metadata": {
        "id": "aKCl-a7q7kcO",
        "colab_type": "text"
      },
      "cell_type": "markdown",
      "source": [
        "### Evaluate Random Search"
      ]
    },
    {
      "metadata": {
        "id": "iYvdyitb7kcQ",
        "colab_type": "code",
        "colab": {}
      },
      "cell_type": "code",
      "source": [
        "## Common Classification algorithm evaluator. It returns the roc_auc\n",
        "from sklearn.metrics import roc_curve, auc\n",
        "def evaluate(model, X_train,y_train, X_test, y_test):\n",
        "    model.fit(X_train,y_train)\n",
        "    predictions = model.predict(X_test)\n",
        "    false_positive_rate, true_positive_rate, thresholds = roc_curve(y_test, predictions)\n",
        "    roc_auc = auc(false_positive_rate, true_positive_rate)\n",
        "    #print(roc)\n",
        "    return roc_auc"
      ],
      "execution_count": 0,
      "outputs": []
    },
    {
      "metadata": {
        "id": "1gbqkNyH7kcU",
        "colab_type": "code",
        "colab": {}
      },
      "cell_type": "code",
      "source": [
        "base_model = RandomForestClassifier(n_estimators = 10, random_state = 42)"
      ],
      "execution_count": 0,
      "outputs": []
    },
    {
      "metadata": {
        "id": "TjVb2idR7kcW",
        "colab_type": "code",
        "colab": {}
      },
      "cell_type": "code",
      "source": [
        "best_random = clf_random.best_estimator_"
      ],
      "execution_count": 0,
      "outputs": []
    },
    {
      "metadata": {
        "scrolled": true,
        "id": "Ss3hb-CH7kcZ",
        "colab_type": "code",
        "outputId": "433bb940-6fdd-46fb-8aab-acff56f97d12",
        "colab": {
          "base_uri": "https://localhost:8080/",
          "height": 51
        }
      },
      "cell_type": "code",
      "source": [
        "print('ROC for base model : ' + str(evaluate(base_model,X_train,y_train, X_test, y_test)))\n",
        "print('ROC for best model : ' + str(evaluate(best_random,X_train,y_train, X_test, y_test)))"
      ],
      "execution_count": 32,
      "outputs": [
        {
          "output_type": "stream",
          "text": [
            "ROC for base model : 0.8962396560857837\n",
            "ROC for best model : 0.9022262249812759\n"
          ],
          "name": "stdout"
        }
      ]
    },
    {
      "metadata": {
        "id": "AuJqCjDO7kcc",
        "colab_type": "text"
      },
      "cell_type": "markdown",
      "source": [
        "### Grid Search with Cross Validation"
      ]
    },
    {
      "metadata": {
        "id": "17PwZp6f7kcd",
        "colab_type": "code",
        "colab": {}
      },
      "cell_type": "code",
      "source": [
        "from sklearn.model_selection import GridSearchCV\n",
        "# Create the parameter grid based on the results of random search \n",
        "param_grid = {\n",
        "    'bootstrap': [True],\n",
        "    'max_features': ['auto'],\n",
        "    'min_samples_leaf': [1,2,3],\n",
        "    'min_samples_split': [3,5,7],\n",
        "    'n_estimators': [100, 200, 2000]\n",
        "}\n",
        "# Create a based model\n",
        "clf = RandomForestClassifier()\n",
        "# Instantiate the grid search model\n",
        "grid_search = GridSearchCV(estimator = clf, param_grid = param_grid, \n",
        "                          cv = 3, n_jobs = -1, verbose = 2)"
      ],
      "execution_count": 0,
      "outputs": []
    },
    {
      "metadata": {
        "scrolled": false,
        "id": "P82DAtZQ7kcg",
        "colab_type": "code",
        "outputId": "476ba985-76dd-479a-f3ea-d78fa231ad00",
        "colab": {
          "base_uri": "https://localhost:8080/",
          "height": 349
        }
      },
      "cell_type": "code",
      "source": [
        "grid_search.fit(X_train, y_train)"
      ],
      "execution_count": 35,
      "outputs": [
        {
          "output_type": "stream",
          "text": [
            "Fitting 3 folds for each of 27 candidates, totalling 81 fits\n"
          ],
          "name": "stdout"
        },
        {
          "output_type": "stream",
          "text": [
            "[Parallel(n_jobs=-1)]: Using backend LokyBackend with 2 concurrent workers.\n",
            "/usr/local/lib/python3.6/dist-packages/sklearn/externals/joblib/externals/loky/process_executor.py:706: UserWarning: A worker stopped while some jobs were given to the executor. This can be caused by a too short worker timeout or by a memory leak.\n",
            "  \"timeout or by a memory leak.\", UserWarning\n",
            "[Parallel(n_jobs=-1)]: Done  37 tasks      | elapsed:  5.7min\n",
            "[Parallel(n_jobs=-1)]: Done  81 out of  81 | elapsed: 12.8min finished\n"
          ],
          "name": "stderr"
        },
        {
          "output_type": "execute_result",
          "data": {
            "text/plain": [
              "GridSearchCV(cv=3, error_score='raise-deprecating',\n",
              "       estimator=RandomForestClassifier(bootstrap=True, class_weight=None, criterion='gini',\n",
              "            max_depth=None, max_features='auto', max_leaf_nodes=None,\n",
              "            min_impurity_decrease=0.0, min_impurity_split=None,\n",
              "            min_samples_leaf=1, min_samples_split=2,\n",
              "            min_weight_fraction_leaf=0.0, n_estimators='warn', n_jobs=None,\n",
              "            oob_score=False, random_state=None, verbose=0,\n",
              "            warm_start=False),\n",
              "       fit_params=None, iid='warn', n_jobs=-1,\n",
              "       param_grid={'bootstrap': [True], 'max_features': ['auto'], 'min_samples_leaf': [1, 2, 3], 'min_samples_split': [3, 5, 7], 'n_estimators': [100, 200, 2000]},\n",
              "       pre_dispatch='2*n_jobs', refit=True, return_train_score='warn',\n",
              "       scoring=None, verbose=2)"
            ]
          },
          "metadata": {
            "tags": []
          },
          "execution_count": 35
        }
      ]
    },
    {
      "metadata": {
        "id": "kRJMVuXq7kcj",
        "colab_type": "code",
        "outputId": "b8d14c45-91c9-4a83-e1bc-75fd659402f2",
        "colab": {
          "base_uri": "https://localhost:8080/",
          "height": 103
        }
      },
      "cell_type": "code",
      "source": [
        "grid_search.best_params_"
      ],
      "execution_count": 36,
      "outputs": [
        {
          "output_type": "execute_result",
          "data": {
            "text/plain": [
              "{'bootstrap': True,\n",
              " 'max_features': 'auto',\n",
              " 'min_samples_leaf': 1,\n",
              " 'min_samples_split': 7,\n",
              " 'n_estimators': 100}"
            ]
          },
          "metadata": {
            "tags": []
          },
          "execution_count": 36
        }
      ]
    },
    {
      "metadata": {
        "id": "OleXPfQ27kcr",
        "colab_type": "code",
        "colab": {}
      },
      "cell_type": "code",
      "source": [
        "best_grid = grid_search.best_estimator_"
      ],
      "execution_count": 0,
      "outputs": []
    },
    {
      "metadata": {
        "id": "kYjouIof7kcv",
        "colab_type": "code",
        "outputId": "8d1e1368-6bd0-4c34-b7a2-3d65e8d94c84",
        "colab": {
          "base_uri": "https://localhost:8080/",
          "height": 34
        }
      },
      "cell_type": "code",
      "source": [
        "print('ROC for best grid search model : ' + str(evaluate(best_grid,X_train,y_train, X_test, y_test)))"
      ],
      "execution_count": 38,
      "outputs": [
        {
          "output_type": "stream",
          "text": [
            "ROC for best grid search model : 0.9048386532056241\n"
          ],
          "name": "stdout"
        }
      ]
    },
    {
      "metadata": {
        "id": "M91zR3Qs7kc1",
        "colab_type": "text"
      },
      "cell_type": "markdown",
      "source": [
        "### Now lets implement XGBoost (eXtreme Gradient Boosting) "
      ]
    },
    {
      "metadata": {
        "id": "-P5qAUzW7kc2",
        "colab_type": "text"
      },
      "cell_type": "markdown",
      "source": [
        "I’ll consider only tree booster here because it always outperforms the linear booster and thus the later is rarely used."
      ]
    },
    {
      "metadata": {
        "id": "b3Zsaisa7kc4",
        "colab_type": "code",
        "colab": {}
      },
      "cell_type": "code",
      "source": [
        "from xgboost import XGBClassifier\n",
        "from sklearn.metrics import accuracy_score"
      ],
      "execution_count": 0,
      "outputs": []
    },
    {
      "metadata": {
        "scrolled": false,
        "id": "m940WYb47kc8",
        "colab_type": "code",
        "outputId": "58931cf9-33f7-454e-a39c-6debb941e11e",
        "colab": {
          "base_uri": "https://localhost:8080/",
          "height": 121
        }
      },
      "cell_type": "code",
      "source": [
        "# fit model on training data\n",
        "xgBoostClassifierModel = XGBClassifier()\n",
        "xgBoostClassifierModel.fit(X_train, y_train)"
      ],
      "execution_count": 40,
      "outputs": [
        {
          "output_type": "execute_result",
          "data": {
            "text/plain": [
              "XGBClassifier(base_score=0.5, booster='gbtree', colsample_bylevel=1,\n",
              "       colsample_bytree=1, gamma=0, learning_rate=0.1, max_delta_step=0,\n",
              "       max_depth=3, min_child_weight=1, missing=None, n_estimators=100,\n",
              "       n_jobs=1, nthread=None, objective='binary:logistic', random_state=0,\n",
              "       reg_alpha=0, reg_lambda=1, scale_pos_weight=1, seed=None,\n",
              "       silent=True, subsample=1)"
            ]
          },
          "metadata": {
            "tags": []
          },
          "execution_count": 40
        }
      ]
    },
    {
      "metadata": {
        "id": "i7declRa7kc-",
        "colab_type": "code",
        "colab": {}
      },
      "cell_type": "code",
      "source": [
        "# make predictions for test data\n",
        "y_pred = xgBoostClassifierModel.predict(X_test)\n",
        "predictions = [round(value) for value in y_pred]"
      ],
      "execution_count": 0,
      "outputs": []
    },
    {
      "metadata": {
        "id": "ue85nGyU7kdB",
        "colab_type": "code",
        "outputId": "1784470e-e477-45c5-85da-984034f03ee4",
        "colab": {
          "base_uri": "https://localhost:8080/",
          "height": 34
        }
      },
      "cell_type": "code",
      "source": [
        "# evaluate predictions\n",
        "accuracy = accuracy_score(y_test, predictions)\n",
        "print(\"Accuracy: %.2f%%\" % (accuracy * 100.0))"
      ],
      "execution_count": 42,
      "outputs": [
        {
          "output_type": "stream",
          "text": [
            "Accuracy: 90.22%\n"
          ],
          "name": "stdout"
        }
      ]
    },
    {
      "metadata": {
        "id": "sz-1Yr6u7kdF",
        "colab_type": "text"
      },
      "cell_type": "markdown",
      "source": [
        "## Which are the important hyper parameters?\n",
        "\n",
        "* ???\n",
        "* ???\n",
        "* ??? "
      ]
    },
    {
      "metadata": {
        "id": "WaAuLrSE7kdH",
        "colab_type": "code",
        "colab": {}
      },
      "cell_type": "code",
      "source": [
        "from sklearn.model_selection import GridSearchCV\n",
        "from sklearn.model_selection import StratifiedKFold"
      ],
      "execution_count": 0,
      "outputs": []
    },
    {
      "metadata": {
        "id": "q2ivBmRw7kdO",
        "colab_type": "code",
        "outputId": "04879f0a-630e-4c3a-dfce-dc7116f2fa35",
        "colab": {
          "base_uri": "https://localhost:8080/",
          "height": 432
        }
      },
      "cell_type": "code",
      "source": [
        "model = XGBClassifier()\n",
        "n_estimators = range(50, 400, 50)\n",
        "param_grid = dict(n_estimators=n_estimators)\n",
        "kfold = StratifiedKFold(n_splits=10, shuffle=True, random_state=7)\n",
        "grid_search = GridSearchCV(model, param_grid, scoring=\"neg_log_loss\", n_jobs=-1, cv=kfold)\n",
        "grid_result = grid_search.fit(X_train, y_train)\n",
        "# summarize results\n",
        "print(\"Best: %f using %s\" % (grid_result.best_score_, grid_result.best_params_))\n",
        "means = grid_result.cv_results_['mean_test_score']\n",
        "stds = grid_result.cv_results_['std_test_score']\n",
        "params = grid_result.cv_results_['params']\n",
        "for mean, stdev, param in zip(means, stds, params):\n",
        "\tprint(\"%f (%f) with: %r\" % (mean, stdev, param))\n",
        "# plot\n",
        "plt.errorbar(n_estimators, means, yerr=stds)\n",
        "plt.title(\"XGBoost n_estimators vs Log Loss\")\n",
        "plt.xlabel('n_estimators')\n",
        "plt.ylabel('Log Loss')\n",
        "plt.savefig('n_estimators.png')"
      ],
      "execution_count": 44,
      "outputs": [
        {
          "output_type": "stream",
          "text": [
            "Best: -0.208450 using {'n_estimators': 350}\n",
            "-0.255014 (0.011552) with: {'n_estimators': 50}\n",
            "-0.229210 (0.014131) with: {'n_estimators': 100}\n",
            "-0.219229 (0.015172) with: {'n_estimators': 150}\n",
            "-0.213947 (0.015256) with: {'n_estimators': 200}\n",
            "-0.210932 (0.015996) with: {'n_estimators': 250}\n",
            "-0.209474 (0.016349) with: {'n_estimators': 300}\n",
            "-0.208450 (0.016627) with: {'n_estimators': 350}\n"
          ],
          "name": "stdout"
        },
        {
          "output_type": "display_data",
          "data": {
            "image/png": "[encoded data removed]",
            "text/plain": [
              "<Figure size 432x288 with 1 Axes>"
            ]
          },
          "metadata": {
            "tags": []
          }
        }
      ]
    },
    {
      "metadata": {
        "id": "c4whN_RE7kdS",
        "colab_type": "text"
      },
      "cell_type": "markdown",
      "source": [
        "We can see that the cross validation log loss scores are negative. This is because the scikit-learn cross validation framework inverted them. The reason is that internally, the framework requires that all metrics that are being optimized are to be maximized, whereas log loss is a minimization metric. It can easily be made maximizing by inverting the scores.\n",
        "\n",
        "The best number of trees was n_estimators=350 resulting in a log loss of -0.213537, but really not a significant difference from n_estimators=200. In fact, there is not a large relative difference in the number of trees between 100 and 350 if we plot the results."
      ]
    },
    {
      "metadata": {
        "id": "YpbwdlaW7kdU",
        "colab_type": "text"
      },
      "cell_type": "markdown",
      "source": [
        "## Tune the Size of Decision Trees in XGBoost"
      ]
    },
    {
      "metadata": {
        "id": "UKIBWSJo7kdU",
        "colab_type": "text"
      },
      "cell_type": "markdown",
      "source": [
        "In gradient boosting, we can control the size of decision trees, also called the number of layers or the depth.\n",
        "\n",
        "Shallow trees are expected to have poor performance because they capture few details of the problem and are generally referred to as weak learners. Deeper trees generally capture too many details of the problem and overfit the training dataset, limiting the ability to make good predictions on new data.\n",
        "\n",
        "Generally, boosting algorithms are configured with weak learners, decision trees with few layers, sometimes as simple as just a root node, also called a decision stump rather than a decision tree.\n",
        "\n",
        "The maximum depth can be specified in the XGBClassifier and XGBRegressor wrapper classes for XGBoost in the max_depth parameter. This parameter takes an integer value and defaults to a value of 3."
      ]
    },
    {
      "metadata": {
        "id": "2vmpjaBX-rJd",
        "colab_type": "text"
      },
      "cell_type": "markdown",
      "source": [
        ""
      ]
    },
    {
      "metadata": {
        "id": "ddyFFSXM7kdX",
        "colab_type": "code",
        "outputId": "563fddbb-a452-46bf-a97d-11034f0b57ec",
        "colab": {
          "base_uri": "https://localhost:8080/",
          "height": 207
        }
      },
      "cell_type": "code",
      "source": [
        "model = XGBClassifier()\n",
        "max_depth = range(1, 11, 2)\n",
        "print(max_depth)\n",
        "param_grid = dict(max_depth=max_depth)\n",
        "kfold = StratifiedKFold(n_splits=10, shuffle=True, random_state=7)\n",
        "grid_search = GridSearchCV(model, param_grid, scoring=\"neg_log_loss\", n_jobs=-1, cv=kfold, verbose=1)\n",
        "grid_result = grid_search.fit(X_train, y_train)\n",
        "# summarize results\n",
        "print(\"Best: %f using %s\" % (grid_result.best_score_, grid_result.best_params_))\n",
        "means = grid_result.cv_results_['mean_test_score']\n",
        "stds = grid_result.cv_results_['std_test_score']\n",
        "params = grid_result.cv_results_['params']\n",
        "for mean, stdev, param in zip(means, stds, params):\n",
        "\tprint(\"%f (%f) with: %r\" % (mean, stdev, param))\n"
      ],
      "execution_count": 45,
      "outputs": [
        {
          "output_type": "stream",
          "text": [
            "range(1, 11, 2)\n",
            "Fitting 10 folds for each of 5 candidates, totalling 50 fits\n"
          ],
          "name": "stdout"
        },
        {
          "output_type": "stream",
          "text": [
            "[Parallel(n_jobs=-1)]: Using backend LokyBackend with 2 concurrent workers.\n",
            "[Parallel(n_jobs=-1)]: Done  46 tasks      | elapsed:  1.6min\n",
            "[Parallel(n_jobs=-1)]: Done  50 out of  50 | elapsed:  1.9min finished\n"
          ],
          "name": "stderr"
        },
        {
          "output_type": "stream",
          "text": [
            "Best: -0.207587 using {'max_depth': 7}\n",
            "-0.329052 (0.009228) with: {'max_depth': 1}\n",
            "-0.229210 (0.014131) with: {'max_depth': 3}\n",
            "-0.210217 (0.015769) with: {'max_depth': 5}\n",
            "-0.207587 (0.017958) with: {'max_depth': 7}\n",
            "-0.210897 (0.021299) with: {'max_depth': 9}\n"
          ],
          "name": "stdout"
        }
      ]
    },
    {
      "metadata": {
        "id": "ZD6Tm6BF7kdb",
        "colab_type": "code",
        "outputId": "31aa106a-6e33-4c62-8bd8-105efb828298",
        "colab": {
          "base_uri": "https://localhost:8080/",
          "height": 294
        }
      },
      "cell_type": "code",
      "source": [
        "# plot\n",
        "plt.errorbar(max_depth, means, yerr=stds)\n",
        "plt.title(\"XGBoost max_depth vs Log Loss\")\n",
        "plt.xlabel('max_depth')\n",
        "plt.ylabel('Log Loss')\n",
        "plt.savefig('max_depth.png')"
      ],
      "execution_count": 46,
      "outputs": [
        {
          "output_type": "display_data",
          "data": {
            "image/png": "[encoded data removed]",
            "text/plain": [
              "<Figure size 432x288 with 1 Axes>"
            ]
          },
          "metadata": {
            "tags": []
          }
        }
      ]
    },
    {
      "metadata": {
        "id": "sLPngeDh7kde",
        "colab_type": "text"
      },
      "cell_type": "markdown",
      "source": [
        "Reviewing the plot of log loss scores, we can see a marked jump from max_depth=1 to max_depth=3 then pretty even performance for the rest the values of max_depth.\n",
        "\n",
        "Although the best score was observed for max_depth=5, it is interesting to note that there was practically little difference between using max_depth=3 or max_depth=7.\n",
        "\n",
        "This suggests a point of diminishing returns in max_depth on a problem that you can tease out using grid search. A graph of max_depth values is plotted against (inverted) logarithmic loss below."
      ]
    },
    {
      "metadata": {
        "id": "FxQjoaMj7kdf",
        "colab_type": "text"
      },
      "cell_type": "markdown",
      "source": [
        "### Tune The Number of Trees and Max Depth in XGBoost"
      ]
    },
    {
      "metadata": {
        "id": "ajI3asJS7kdg",
        "colab_type": "text"
      },
      "cell_type": "markdown",
      "source": [
        "There is a relationship between the number of trees in the model and the depth of each tree.\n",
        "\n",
        "We would expect that deeper trees would result in fewer trees being required in the model, and the inverse where simpler trees (such as decision stumps) require many more trees to achieve similar results.\n",
        "\n",
        "We can investigate this relationship by evaluating a grid of n_estimators and max_depth configuration values. To avoid the evaluation taking too long, we will limit the total number of configuration values evaluated. Parameters were chosen to tease out the relationship rather than optimize the model.\n",
        "\n",
        "We will create a grid of 4 different n_estimators values (350, 300, 250, 400) and 4 different max_depth values (6, 7, 8, 9) and each combination will be evaluated using 10-fold cross validation. A total of 4*4*10 or 160 models will be trained and evaluated.\n",
        "\n"
      ]
    },
    {
      "metadata": {
        "id": "wXvt-hOq7kdh",
        "colab_type": "code",
        "outputId": "cbe8d4c4-40f8-46a8-f8d8-784ecb581249",
        "colab": {
          "base_uri": "https://localhost:8080/",
          "height": 86
        }
      },
      "cell_type": "code",
      "source": [
        "# grid search\n",
        "model = XGBClassifier()\n",
        "n_estimators = [350, 300, 250, 400]\n",
        "max_depth = [6, 7, 8, 9]\n",
        "print(max_depth)\n",
        "param_grid = dict(max_depth=max_depth, n_estimators=n_estimators)\n",
        "kfold = StratifiedKFold(n_splits=10, shuffle=True, random_state=7)\n",
        "grid_search = GridSearchCV(model, param_grid, scoring=\"neg_log_loss\", n_jobs=-1, cv=kfold, verbose=1)\n",
        "grid_result = grid_search.fit(X_train, y_train)\n",
        "# summarize results\n",
        "print(\"Best: %f using %s\" % (grid_result.best_score_, grid_result.best_params_))\n",
        "means = grid_result.cv_results_['mean_test_score']\n",
        "stds = grid_result.cv_results_['std_test_score']\n",
        "params = grid_result.cv_results_['params']\n",
        "for mean, stdev, param in zip(means, stds, params):\n",
        "\tprint(\"%f (%f) with: %r\" % (mean, stdev, param))\n"
      ],
      "execution_count": 0,
      "outputs": [
        {
          "output_type": "stream",
          "text": [
            "[6, 7, 8, 9]\n",
            "Fitting 10 folds for each of 16 candidates, totalling 160 fits\n"
          ],
          "name": "stdout"
        },
        {
          "output_type": "stream",
          "text": [
            "[Parallel(n_jobs=-1)]: Using backend LokyBackend with 2 concurrent workers.\n",
            "[Parallel(n_jobs=-1)]: Done  46 tasks      | elapsed:  6.4min\n"
          ],
          "name": "stderr"
        }
      ]
    },
    {
      "metadata": {
        "scrolled": true,
        "id": "7CZCRJj37kdj",
        "colab_type": "code",
        "colab": {}
      },
      "cell_type": "code",
      "source": [
        "# plot results\n",
        "scores = np.array(means).reshape(len(max_depth), len(n_estimators))\n",
        "for i, value in enumerate(max_depth):\n",
        "    plt.plot(n_estimators, scores[i], label='depth: ' + str(value))\n",
        "plt.legend()\n",
        "plt.xlabel('n_estimators')\n",
        "plt.ylabel('Log Loss')\n",
        "plt.savefig('n_estimators_vs_max_depth.png')"
      ],
      "execution_count": 0,
      "outputs": []
    },
    {
      "metadata": {
        "id": "jowXGDqM7kdp",
        "colab_type": "text"
      },
      "cell_type": "markdown",
      "source": [
        "We can see that the best result was achieved with a n_estimators=250 and max_depth=6, similar to the best values found from the previous two rounds of standalone parameter tuning (n_estimators=250, max_depth=5).\n",
        "\n",
        "We can plot the relationship between each series of max_depth values for a given n_estimators."
      ]
    },
    {
      "metadata": {
        "id": "8NH6fF7x7kdq",
        "colab_type": "text"
      },
      "cell_type": "markdown",
      "source": [
        "Fewer boosted trees are required with increased tree depth.\n",
        "\n",
        "Further, we would expect the increase complexity provided by deeper individual trees to result in greater overfitting of the training data which would be exacerbated by having more trees, in turn resulting in a lower cross validation score. We don’t see this here as our trees are not that deep nor do we have too many. Exploring this expectation  is left as an exercise you could explore yourself."
      ]
    },
    {
      "metadata": {
        "id": "pPqwlzdI7kdr",
        "colab_type": "text"
      },
      "cell_type": "markdown",
      "source": [
        "## Creating the model with the best values for Hyper parameters\n"
      ]
    },
    {
      "metadata": {
        "id": "Ze0o50zm7kdr",
        "colab_type": "code",
        "colab": {}
      },
      "cell_type": "code",
      "source": [
        "model = XGBClassifier(max_depth=6, n_estimators=250)"
      ],
      "execution_count": 0,
      "outputs": []
    },
    {
      "metadata": {
        "id": "vn_yCs3U7kdt",
        "colab_type": "code",
        "colab": {}
      },
      "cell_type": "code",
      "source": [
        "print(model)"
      ],
      "execution_count": 0,
      "outputs": []
    },
    {
      "metadata": {
        "scrolled": true,
        "id": "bEfcaYg97kdv",
        "colab_type": "code",
        "colab": {}
      },
      "cell_type": "code",
      "source": [
        "model.fit(X_train, y_train)\n",
        "y_pred = model.predict(X_test)\n",
        "predictions = [round(value) for value in y_pred]"
      ],
      "execution_count": 0,
      "outputs": []
    },
    {
      "metadata": {
        "scrolled": true,
        "id": "LCso__hg7kdx",
        "colab_type": "code",
        "colab": {}
      },
      "cell_type": "code",
      "source": [
        "print('ROC for the XGBoost model is: ' + str(evaluate(model, X_train,y_train, X_test, y_test)))"
      ],
      "execution_count": 0,
      "outputs": []
    },
    {
      "metadata": {
        "id": "OotTSSHd7kdz",
        "colab_type": "text"
      },
      "cell_type": "markdown",
      "source": [
        "## Thus we got a higher ROC for XGBoost model than the bagging models tried earlier"
      ]
    },
    {
      "metadata": {
        "id": "SvBnUEK47kd0",
        "colab_type": "text"
      },
      "cell_type": "markdown",
      "source": [
        "## Classification with Logistic Regression\n",
        "\n",
        "Compare logistic regression with the based tree algorithms in Part A on the same data. Answer the following questions for logistic regression:\n",
        "\n",
        "* Which independent variables are important?\n",
        "* Is there multi-colinearity?\n",
        "* How does it compare to the the models in Part A?"
      ]
    },
    {
      "metadata": {
        "id": "vk9iwN_M7kd0",
        "colab_type": "text"
      },
      "cell_type": "markdown",
      "source": [
        "We need to develop a Nominal Logistic Regression model which will predict whether the house price is HIGH(1) or LOW(-1)"
      ]
    },
    {
      "metadata": {
        "id": "PTeDRSZn7kd1",
        "colab_type": "code",
        "colab": {}
      },
      "cell_type": "code",
      "source": [
        "import statsmodels.api as sm\n",
        "import statsmodels.formula.api as smf\n",
        "import pandas as pd\n",
        "from sklearn.linear_model import LogisticRegression"
      ],
      "execution_count": 0,
      "outputs": []
    },
    {
      "metadata": {
        "id": "X3b3nM-B7kd3",
        "colab_type": "code",
        "colab": {}
      },
      "cell_type": "code",
      "source": [
        "features['price_cat_log'] = features['price'].apply(lambda x: 1 if x > median_price else 0)"
      ],
      "execution_count": 0,
      "outputs": []
    },
    {
      "metadata": {
        "scrolled": true,
        "id": "QmbQgvOr7kd4",
        "colab_type": "code",
        "colab": {}
      },
      "cell_type": "code",
      "source": [
        "features.columns"
      ],
      "execution_count": 0,
      "outputs": []
    },
    {
      "metadata": {
        "id": "cZA4vVIA7kd7",
        "colab_type": "code",
        "colab": {}
      },
      "cell_type": "code",
      "source": [
        "price_cat_log=features['price_cat_log']\n",
        "y_log=price_cat_log"
      ],
      "execution_count": 0,
      "outputs": []
    },
    {
      "metadata": {
        "id": "Vnecjuf67kd8",
        "colab_type": "code",
        "colab": {}
      },
      "cell_type": "code",
      "source": [
        "X_train_log,X_test_log,y_train_log,y_test_log=train_test_split(features[['bedrooms', 'sqft_living', 'waterfront', 'sqft_basement', 'yr_built', 'bathrooms']]\n",
        "                                                               ,y_log,test_size=0.3,random_state=0)"
      ],
      "execution_count": 0,
      "outputs": []
    },
    {
      "metadata": {
        "id": "Xm4tw8x87kd-",
        "colab_type": "code",
        "colab": {}
      },
      "cell_type": "code",
      "source": [
        "logreg=LogisticRegression().fit(X_train_log,y_train_log)\n",
        "logreg\n",
        "print(\"Training set score: {:.3f}\".format(logreg.score(X_train_log,y_train_log)))\n",
        "print(\"Test set score: {:.3f}\".format(logreg.score(X_test_log,y_test_log)))"
      ],
      "execution_count": 0,
      "outputs": []
    },
    {
      "metadata": {
        "id": "E3W0dAPk7keC",
        "colab_type": "code",
        "colab": {}
      },
      "cell_type": "code",
      "source": [
        "logit_model=sm.Logit(y_train_log,X_train_log)\n",
        "result=logit_model.fit()\n",
        "print(result.summary())"
      ],
      "execution_count": 0,
      "outputs": []
    },
    {
      "metadata": {
        "id": "deiDLZYx7keD",
        "colab_type": "text"
      },
      "cell_type": "markdown",
      "source": [
        "### Looking at the z scores, we know that, sqft_living is the most significant followed by yr_built and then the rest."
      ]
    },
    {
      "metadata": {
        "scrolled": true,
        "id": "Ol41A1_H7keE",
        "colab_type": "code",
        "colab": {}
      },
      "cell_type": "code",
      "source": [
        "from sklearn.metrics import roc_curve\n",
        "falsepos,truepos,thresholds=roc_curve(y_test_log,logreg.decision_function(X_test_log))\n",
        "\n",
        "plt.plot(falsepos,truepos,label=\"ROC\")\n",
        "plt.xlabel(\"False Positive Rate\")\n",
        "plt.ylabel(\"True Positive Rate\")\n",
        "\n",
        "cutoff=np.argmin(np.abs(thresholds))\n",
        "plt.plot(falsepos[cutoff],truepos[cutoff],'o',markersize=10,label=\"cutoff\",fillstyle=\"none\")\n",
        "plt.show()"
      ],
      "execution_count": 0,
      "outputs": []
    },
    {
      "metadata": {
        "id": "O2C8VCxj7keH",
        "colab_type": "code",
        "colab": {}
      },
      "cell_type": "code",
      "source": [
        "from sklearn import metrics\n",
        "metrics.auc(falsepos, truepos)"
      ],
      "execution_count": 0,
      "outputs": []
    },
    {
      "metadata": {
        "id": "P7kDeKc07keJ",
        "colab_type": "text"
      },
      "cell_type": "markdown",
      "source": [
        "## As compared to Models in Part A, the accuracy of the Logistic Regression model is less. "
      ]
    },
    {
      "metadata": {
        "id": "r2Hwk7eU7keJ",
        "colab_type": "text"
      },
      "cell_type": "markdown",
      "source": [
        "## Regression with Trees \n",
        "Compare at least one bagging based tree algorithm (e.g. Random Forest) with a boosting based tree algorithm on a regression problem.\n",
        "Answer the following questions for each supervised learner:\n",
        "\n",
        "* Which hyper-parameters are important?    \n",
        "* What hyper-parameter values work best?   \n",
        "* Which supervised learner works best on the test data?  \n"
      ]
    },
    {
      "metadata": {
        "id": "wqHzZJ_r7keK",
        "colab_type": "text"
      },
      "cell_type": "markdown",
      "source": [
        "### Random Forest based Regression"
      ]
    },
    {
      "metadata": {
        "id": "S207Dmne7keK",
        "colab_type": "text"
      },
      "cell_type": "markdown",
      "source": [
        "To look at the available hyperparameters, we can create a random forest and examine the default values."
      ]
    },
    {
      "metadata": {
        "id": "0snT3fcp7keK",
        "colab_type": "code",
        "colab": {}
      },
      "cell_type": "code",
      "source": [
        "from sklearn.ensemble import RandomForestRegressor\n",
        "rf = RandomForestRegressor(random_state = 42)\n",
        "from pprint import pprint\n",
        "# Look at parameters used by our current forest\n",
        "print('Parameters currently in use:\\n')\n",
        "pprint(rf.get_params())"
      ],
      "execution_count": 0,
      "outputs": []
    },
    {
      "metadata": {
        "id": "RUQxST6H7keP",
        "colab_type": "text"
      },
      "cell_type": "markdown",
      "source": [
        "* estimators = number of trees in the foreset\n",
        "* max_features = max number of features considered for splitting a node\n",
        "* max_depth = max number of levels in each decision tree\n",
        "* min_samples_split = min number of data points placed in a node before the node is split\n",
        "* min_samples_leaf = min number of data points allowed in a leaf node\n",
        "* bootstrap = method for sampling data points (with or without replacement)"
      ]
    },
    {
      "metadata": {
        "id": "383Me_p07keQ",
        "colab_type": "code",
        "colab": {}
      },
      "cell_type": "code",
      "source": [
        "X_features_reg = ['bedrooms', 'bathrooms', 'sqft_living', 'sqft_lot',\n",
        "       'waterfront', 'sqft_above', 'sqft_basement', 'yr_built', 'yr_renovated',\n",
        "       'lat', 'long', 'sqft_living15', 'sqft_lot15', 'basement_present',\n",
        "       'renovated', 'floors#1.0', 'floors#1.5', 'floors#2.0', 'floors#2.5',\n",
        "       'floors#3.0', 'floors#3.5', 'view#0', 'view#1', 'view#2', 'view#3',\n",
        "       'view#4', 'condition#1', 'condition#2', 'condition#3', 'condition#4',\n",
        "       'condition#5', 'grade#1', 'grade#3', 'grade#4', 'grade#5', 'grade#6',\n",
        "       'grade#7', 'grade#8', 'grade#9', 'grade#10', 'grade#11', 'grade#12',\n",
        "       'grade#13', 'zipcode#98004', 'zipcode#98102', 'zipcode#98109',\n",
        "       'zipcode#98112', 'zipcode#98039', 'zipcode#98040']\n",
        "\n",
        "X_reg=features[['bedrooms', 'bathrooms', 'sqft_living', 'sqft_lot',\n",
        "       'waterfront', 'sqft_above', 'sqft_basement', 'yr_built', 'yr_renovated',\n",
        "       'lat', 'long', 'sqft_living15', 'sqft_lot15', 'basement_present',\n",
        "       'renovated', 'floors#1.0', 'floors#1.5', 'floors#2.0', 'floors#2.5',\n",
        "       'floors#3.0', 'floors#3.5', 'view#0', 'view#1', 'view#2', 'view#3',\n",
        "       'view#4', 'condition#1', 'condition#2', 'condition#3', 'condition#4',\n",
        "       'condition#5', 'grade#1', 'grade#3', 'grade#4', 'grade#5', 'grade#6',\n",
        "       'grade#7', 'grade#8', 'grade#9', 'grade#10', 'grade#11', 'grade#12',\n",
        "       'grade#13', 'zipcode#98004', 'zipcode#98102', 'zipcode#98109',\n",
        "       'zipcode#98112', 'zipcode#98039', 'zipcode#98040']]  # Features\n",
        "\n",
        "y_reg=features['price']  # Labels\n",
        "       \n",
        "# Split dataset into training set and test set\n",
        "X_train_reg, X_test_reg, y_train_reg, y_test_reg = train_test_split(X_reg, y_reg, test_size=0.3) # 70% training and 30% test"
      ],
      "execution_count": 0,
      "outputs": []
    },
    {
      "metadata": {
        "id": "0h8h6pfX7keS",
        "colab_type": "text"
      },
      "cell_type": "markdown",
      "source": [
        "### Random Search Cross Validation in Scikit-Learn"
      ]
    },
    {
      "metadata": {
        "id": "mSjTIAAf7keS",
        "colab_type": "text"
      },
      "cell_type": "markdown",
      "source": [
        "To use RandomizedSearchCV, we first need to create a parameter grid to sample from during fitting:"
      ]
    },
    {
      "metadata": {
        "id": "lq3ptvDP7keS",
        "colab_type": "code",
        "colab": {}
      },
      "cell_type": "code",
      "source": [
        "from sklearn.model_selection import RandomizedSearchCV\n",
        "# Number of trees in random forest\n",
        "n_estimators = [int(x) for x in np.linspace(start = 10, stop = 200, num = 5)]\n",
        "# Number of features to consider at every split\n",
        "max_features = ['auto', 'sqrt']\n",
        "# Maximum number of levels in tree\n",
        "max_depth = [int(x) for x in np.linspace(2, 10, num = 5)]\n",
        "max_depth.append(None)\n",
        "# Minimum number of samples required to split a node\n",
        "min_samples_split = [5, 10]\n",
        "# Minimum number of samples required at each leaf node\n",
        "min_samples_leaf = [2, 4]\n",
        "# Method of selecting samples for training each tree\n",
        "#bootstrap = [True, False]\n",
        "# Create the random grid\n",
        "random_grid = {'n_estimators': n_estimators,\n",
        "               'max_features': max_features,\n",
        "               'max_depth': max_depth,\n",
        "               'min_samples_split': min_samples_split,\n",
        "               'min_samples_leaf': min_samples_leaf}\n",
        "pprint(random_grid)"
      ],
      "execution_count": 0,
      "outputs": []
    },
    {
      "metadata": {
        "id": "G-NpI80S7keV",
        "colab_type": "code",
        "colab": {}
      },
      "cell_type": "code",
      "source": [
        "# Use the random grid to search for best hyperparameters\n",
        "# First create the base model to tune\n",
        "rf = RandomForestRegressor()\n",
        "# Random search of parameters, using 3 fold cross validation, \n",
        "# search across 100 different combinations, and use all available cores\n",
        "rf_random = RandomizedSearchCV(estimator = rf, param_distributions = random_grid, n_iter = 100, cv = 3, verbose=2, random_state=42, n_jobs = -1)\n",
        "# Fit the random search model\n",
        "rf_random.fit(X_train_reg, y_train_reg)"
      ],
      "execution_count": 0,
      "outputs": []
    },
    {
      "metadata": {
        "id": "Aa8imFET7keb",
        "colab_type": "code",
        "colab": {}
      },
      "cell_type": "code",
      "source": [
        "def evaluate_reg(model, test_features, test_labels):\n",
        "    predictions = model.predict(test_features)\n",
        "    errors = abs(predictions - test_labels)\n",
        "    mape = 100 * np.mean(errors / test_labels)\n",
        "    accuracy = 100 - mape\n",
        "    print('Model Performance')\n",
        "    print('Average Error: {:0.4f} degrees.'.format(np.mean(errors)))\n",
        "    print('Accuracy = {:0.2f}%.'.format(accuracy))\n",
        "    \n",
        "    return accuracy\n",
        "base_model = RandomForestRegressor(n_estimators = 10, random_state = 42)\n",
        "base_model.fit(X_train_reg, y_train_reg)\n",
        "base_accuracy = evaluate_reg(base_model, X_test_reg, y_test_reg)"
      ],
      "execution_count": 0,
      "outputs": []
    },
    {
      "metadata": {
        "id": "XE1g9ey27keg",
        "colab_type": "code",
        "colab": {}
      },
      "cell_type": "code",
      "source": [
        "rf_random.best_estimator_"
      ],
      "execution_count": 0,
      "outputs": []
    },
    {
      "metadata": {
        "scrolled": true,
        "id": "3Z4xGcPY7kei",
        "colab_type": "code",
        "colab": {}
      },
      "cell_type": "code",
      "source": [
        "best_random = rf_random.best_estimator_\n",
        "random_accuracy = evaluate_reg(best_random, X_test_reg, y_test_reg)"
      ],
      "execution_count": 0,
      "outputs": []
    },
    {
      "metadata": {
        "id": "yqJrfgCe7kel",
        "colab_type": "text"
      },
      "cell_type": "markdown",
      "source": [
        "### Grid Search with Cross Validation"
      ]
    },
    {
      "metadata": {
        "id": "KT-lyV707kel",
        "colab_type": "code",
        "colab": {}
      },
      "cell_type": "code",
      "source": [
        "from sklearn.model_selection import GridSearchCV\n",
        "# Create the parameter grid based on the results of random search \n",
        "param_grid = {\n",
        "    'bootstrap': [True, False],\n",
        "    'max_depth': [None],\n",
        "    'max_features': [2, 3],\n",
        "    'min_samples_leaf': [2,3,4],\n",
        "    'min_samples_split': [3,5,7],\n",
        "    'n_estimators': [100, 200, 300, 1000]\n",
        "}\n",
        "# Create a based model\n",
        "rf = RandomForestRegressor()\n",
        "\n",
        "# Instantiate the grid search model\n",
        "grid_search = GridSearchCV(estimator = rf, param_grid = param_grid, \n",
        "                          cv = 3, n_jobs = -1, verbose = 2)"
      ],
      "execution_count": 0,
      "outputs": []
    },
    {
      "metadata": {
        "id": "49Oa-cgQ7ken",
        "colab_type": "code",
        "colab": {}
      },
      "cell_type": "code",
      "source": [
        "# Fit the grid search to the data\n",
        "grid_search.fit(X_train_reg, y_train_reg)\n",
        "grid_search.best_params_"
      ],
      "execution_count": 0,
      "outputs": []
    },
    {
      "metadata": {
        "scrolled": true,
        "id": "lRgtH1017kep",
        "colab_type": "code",
        "colab": {}
      },
      "cell_type": "code",
      "source": [
        "grid_search.best_params_"
      ],
      "execution_count": 0,
      "outputs": []
    },
    {
      "metadata": {
        "id": "CW5EkFy47ker",
        "colab_type": "code",
        "colab": {}
      },
      "cell_type": "code",
      "source": [
        "best_grid = grid_search.best_estimator_\n",
        "grid_accuracy = evaluate_reg(best_grid, X_test_reg, y_test_reg)"
      ],
      "execution_count": 0,
      "outputs": []
    },
    {
      "metadata": {
        "id": "vlyaPQzU7kes",
        "colab_type": "text"
      },
      "cell_type": "markdown",
      "source": [
        "## Now lets implement XGBoost (eXtreme Gradient Boosting)"
      ]
    },
    {
      "metadata": {
        "id": "lS425JYI7ket",
        "colab_type": "code",
        "colab": {}
      },
      "cell_type": "code",
      "source": [
        "from xgboost import XGBRegressor"
      ],
      "execution_count": 0,
      "outputs": []
    },
    {
      "metadata": {
        "scrolled": true,
        "id": "vygETYQv7kev",
        "colab_type": "code",
        "colab": {}
      },
      "cell_type": "code",
      "source": [
        "base_model = XGBRegressor()\n",
        "base_model.fit(X_train_reg, y_train_reg)\n",
        "base_accuracy = evaluate_reg(base_model, X_test_reg, y_test_reg)"
      ],
      "execution_count": 0,
      "outputs": []
    },
    {
      "metadata": {
        "id": "DPhap1lh7kex",
        "colab_type": "code",
        "colab": {}
      },
      "cell_type": "code",
      "source": [
        "base_model"
      ],
      "execution_count": 0,
      "outputs": []
    },
    {
      "metadata": {
        "id": "6qiAveGf7key",
        "colab_type": "code",
        "colab": {}
      },
      "cell_type": "code",
      "source": [
        "model = XGBRegressor()\n",
        "n_estimators = range(50, 400, 50)\n",
        "param_grid = dict(n_estimators=n_estimators)\n",
        "kfold = StratifiedKFold(n_splits=10, shuffle=True, random_state=7)\n",
        "grid_search = GridSearchCV(model, param_grid, n_jobs=-1, cv=kfold)\n",
        "grid_result = grid_search.fit(X_train, y_train)\n",
        "# summarize results\n",
        "print(\"Best: %f using %s\" % (grid_result.best_score_, grid_result.best_params_))\n",
        "means = grid_result.cv_results_['mean_test_score']\n",
        "stds = grid_result.cv_results_['std_test_score']\n",
        "params = grid_result.cv_results_['params']\n",
        "for mean, stdev, param in zip(means, stds, params):\n",
        "\tprint(\"%f (%f) with: %r\" % (mean, stdev, param))\n"
      ],
      "execution_count": 0,
      "outputs": []
    },
    {
      "metadata": {
        "scrolled": true,
        "id": "Ml4Qf4uR7ke0",
        "colab_type": "code",
        "colab": {}
      },
      "cell_type": "code",
      "source": [
        "model = XGBRegressor()\n",
        "max_depth = range(1, 11, 2)\n",
        "print(max_depth)\n",
        "param_grid = dict(max_depth=max_depth)\n",
        "kfold = StratifiedKFold(n_splits=10, shuffle=True, random_state=7)\n",
        "grid_search = GridSearchCV(model, param_grid, n_jobs=-1, cv=kfold, verbose=1)\n",
        "grid_result = grid_search.fit(X_train_reg, y_train_reg)\n",
        "# summarize results\n",
        "print(\"Best: %f using %s\" % (grid_result.best_score_, grid_result.best_params_))\n",
        "means = grid_result.cv_results_['mean_test_score']\n",
        "stds = grid_result.cv_results_['std_test_score']\n",
        "params = grid_result.cv_results_['params']\n",
        "for mean, stdev, param in zip(means, stds, params):\n",
        "\tprint(\"%f (%f) with: %r\" % (mean, stdev, param))\n"
      ],
      "execution_count": 0,
      "outputs": []
    },
    {
      "metadata": {
        "id": "OsfpdMPv7ke3",
        "colab_type": "code",
        "colab": {}
      },
      "cell_type": "code",
      "source": [
        "# grid search\n",
        "model = XGBRegressor()\n",
        "n_estimators = [300,350,400]\n",
        "max_depth = [4,5,6,7]\n",
        "print(max_depth)\n",
        "param_grid = dict(max_depth=max_depth, n_estimators=n_estimators)\n",
        "kfold = StratifiedKFold(n_splits=10, shuffle=True, random_state=7)\n",
        "grid_search = GridSearchCV(model, param_grid, n_jobs=-1, cv=kfold, verbose=1)\n",
        "grid_result = grid_search.fit(X_train, y_train)\n",
        "# summarize results\n",
        "print(\"Best: %f using %s\" % (grid_result.best_score_, grid_result.best_params_))\n",
        "means = grid_result.cv_results_['mean_test_score']\n",
        "stds = grid_result.cv_results_['std_test_score']\n",
        "params = grid_result.cv_results_['params']\n",
        "for mean, stdev, param in zip(means, stds, params):\n",
        "\tprint(\"%f (%f) with: %r\" % (mean, stdev, param))"
      ],
      "execution_count": 0,
      "outputs": []
    },
    {
      "metadata": {
        "id": "51qQIB9y7ke6",
        "colab_type": "code",
        "colab": {}
      },
      "cell_type": "code",
      "source": [
        "best_XGBoost = grid_result.best_estimator_\n",
        "best_XGBoost"
      ],
      "execution_count": 0,
      "outputs": []
    },
    {
      "metadata": {
        "scrolled": false,
        "id": "-Z8vQHSg7ke8",
        "colab_type": "code",
        "colab": {}
      },
      "cell_type": "code",
      "source": [
        "best_XGBoost.fit(X_train_reg, y_train_reg)\n",
        "best_accuracy = evaluate_reg(best_XGBoost, X_test_reg, y_test_reg)"
      ],
      "execution_count": 0,
      "outputs": []
    },
    {
      "metadata": {
        "id": "HobRgnmm7ke-",
        "colab_type": "text"
      },
      "cell_type": "markdown",
      "source": [
        "### XGBoost Algo provides better predictions than Random Forest for the regression problem. And both of them provide a lower RMSE than Linear Regression"
      ]
    },
    {
      "metadata": {
        "id": "rZ0x2XFi7kfA",
        "colab_type": "text"
      },
      "cell_type": "markdown",
      "source": [
        "#### Evaluating the regression models\n"
      ]
    },
    {
      "metadata": {
        "id": "Sd9Y2fQP7kfB",
        "colab_type": "code",
        "colab": {}
      },
      "cell_type": "code",
      "source": [
        "from sklearn.metrics import mean_squared_error\n",
        "from math import sqrt"
      ],
      "execution_count": 0,
      "outputs": []
    },
    {
      "metadata": {
        "id": "wbQ63W8M7kfE",
        "colab_type": "code",
        "colab": {}
      },
      "cell_type": "code",
      "source": [
        "#Random Forest best model\n",
        "print('Random forest best model RMSE is : ' + str(round(sqrt(mean_squared_error(best_random.predict(X_test_reg), y_test_reg)),2)))"
      ],
      "execution_count": 0,
      "outputs": []
    },
    {
      "metadata": {
        "id": "QyGD69Xn7kfH",
        "colab_type": "code",
        "outputId": "9d6412d0-00c5-488a-ab6b-6b36801876bd",
        "colab": {}
      },
      "cell_type": "code",
      "source": [
        "#XGBoost Best model\n",
        "print('XGBoost best model RMSE is : ' + str(round(sqrt(mean_squared_error(best_XGBoost.predict(X_test_reg), y_test_reg)),2)))"
      ],
      "execution_count": 0,
      "outputs": [
        {
          "output_type": "stream",
          "text": [
            "XGBoost best model RMSE is : 112075.12\n"
          ],
          "name": "stdout"
        }
      ]
    },
    {
      "metadata": {
        "id": "IT0lcvXJ7kfI",
        "colab_type": "code",
        "outputId": "dac44617-c7cf-43ec-a2b8-3965ccf041ad",
        "colab": {}
      },
      "cell_type": "code",
      "source": [
        "#Linear regression - multiple linear regression model from previous assignment\n",
        "print('Linear regression best model from Assignment 3: ' + str(205986.42))"
      ],
      "execution_count": 0,
      "outputs": [
        {
          "output_type": "stream",
          "text": [
            "Linear regression best model from Assignment 3: 205986.42\n"
          ],
          "name": "stdout"
        }
      ]
    },
    {
      "metadata": {
        "id": "CjA4jpuc7kfK",
        "colab_type": "text"
      },
      "cell_type": "markdown",
      "source": [
        "### Part E\n",
        "\n",
        "* For Part E:\n",
        "    * ??? Another supervised algorithm"
      ]
    },
    {
      "metadata": {
        "id": "dEuJVJDI7kfL",
        "colab_type": "text"
      },
      "cell_type": "markdown",
      "source": [
        "## Conclusions\n",
        "\n",
        "Summarize your results in a few sentences and use this summary to support your conclusion. State whether your results support or contradict your hypothesis. \n",
        "\n",
        "\n",
        "If you are comparing many models create a table that orders the models and their evaluation and hyperparameters.\n",
        "\n"
      ]
    },
    {
      "metadata": {
        "id": "PrIDuhmH7kfM",
        "colab_type": "text"
      },
      "cell_type": "markdown",
      "source": [
        "### Contributions\n",
        "\n",
        "Must explain what was done by you and estimate a percentage of the code written by you."
      ]
    },
    {
      "metadata": {
        "collapsed": true,
        "id": "a-0QHsxz7kfM",
        "colab_type": "text"
      },
      "cell_type": "markdown",
      "source": [
        "## Citations\n",
        "\n",
        "Must cite any code used"
      ]
    },
    {
      "metadata": {
        "id": "VuJxw7zT7kfM",
        "colab_type": "text"
      },
      "cell_type": "markdown",
      "source": [
        "### License\n",
        "\n",
        "Must have a license such as the MIT License [https://opensource.org/licenses/MIT](https://opensource.org/licenses/MIT)    "
      ]
    }
  ]
}