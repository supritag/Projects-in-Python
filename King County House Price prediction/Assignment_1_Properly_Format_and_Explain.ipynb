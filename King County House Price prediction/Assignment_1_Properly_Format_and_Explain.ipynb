{
  "nbformat": 4,
  "nbformat_minor": 0,
  "metadata": {
    "colab": {
      "name": "Assignment_1_Properly_Format_and_Explain.ipynb",
      "version": "0.3.2",
      "provenance": []
    },
    "kernelspec": {
      "display_name": "Python 3",
      "language": "python",
      "name": "python3"
    }
  },
  "cells": [
    {
      "metadata": {
        "id": "AAEIVXEC7kaR",
        "colab_type": "text"
      },
      "cell_type": "markdown",
      "source": [
        "#  King County House Price Prediction"
      ]
    },
    {
      "metadata": {
        "id": "eFdXTLDd7kaV",
        "colab_type": "text"
      },
      "cell_type": "markdown",
      "source": [
        "# Assignment 1\n",
        "\n",
        "\n",
        "\n",
        "\n",
        " An assignment must have:\n",
        " \n",
        " * an abstract   \n",
        " * explainations of the analysis and interpretaions of figures and graphs    \n",
        " * a conclusion      \n",
        " * contributions statement  \n",
        " * citations  \n",
        " * a license \n",
        " \n",
        " \n",
        "**Abstract**  \n",
        "In abstracts, you must get the essence of what your report is about, usually in about 200 words.  \n",
        " * Aim or purpose of research  \n",
        " * Method used  \n",
        " * Findings/results   \n",
        " * Conclusion \n",
        " \n",
        "**Conclusions** \n",
        "\n",
        "Summarize your results in a few sentences and use this summary to support your conclusion. State whether your results support or contradict your hypothesis. \n",
        "\n",
        "\n",
        "If you are comparing many models create a table that orders the models and their evaluation and hyperparameters.\n",
        "\n",
        "\n",
        "**Contributions statement**\n",
        "Must explain what was done by you and estimate a percentage of the code written by you.  Assume everything given to you was not written by you and focus on the additional code that you add for your contributions statement. \n",
        "\n",
        "\n",
        "**Citations**\n",
        "You must cite any code used.\n",
        "\n",
        "Add your additional citations to:\n",
        "* Random forest Classifer : https://www.datacamp.com/community/tutorials/random-forests-classifier-python\n",
        "* Random Forest Regression : https://towardsdatascience.com/hyperparameter-tuning-the-random-forest-in-python-using-scikit-learn-28d2aa77dd74\n",
        "* XGBoost Classifier & XGBoost Regression : \n",
        "    * https://machinelearningmastery.com/develop-first-xgboost-model-python-scikit-learn/\n",
        "    * https://machinelearningmastery.com/tune-number-size-decision-trees-xgboost-python/\n",
        "* Logistic Regression : http://www.michaeljgrogan.com/statsmodels-sklearn-linear-regression/ \n",
        "\n",
        "**License **\n",
        "\n",
        "Must have a license such as the MIT License. [https://opensource.org/licenses/MIT](https://opensource.org/licenses/MIT)\n",
        "\n",
        "**Clean Up Logical Errors**\n",
        "\n",
        "You must clean up logical errors in the code.  \n",
        "\n",
        "For example, if a line like the below is suppossed to represent the best hyper-parameters\n",
        "\n",
        "__best_model = XGBClassifier(max_depth=3, n_estimators=150)__\n",
        "\n",
        "should actually be\n",
        "\n",
        "__best_model = XGBClassifier(max_depth=6, n_estimators=250)__\n",
        "\n",
        "\n",
        "you should rewrite the code so that it is not possible to pass non-optimal parameters.  "
      ]
    },
    {
      "metadata": {
        "id": "KHp-bkYg7kaX",
        "colab_type": "text"
      },
      "cell_type": "markdown",
      "source": [
        "# Abstract\n",
        "This project aims to determine and predict selling price of a house in King County based on various predictor determinants such as year of its building, square feet are of various segments in the house, number of various types of rooms etc. . We consider these parameters independent of each other as an assumption and later predict selling price using Regression models. These Classification and Regression models include Random Forest,XGBoost, Logistic Regression Gradient Boosting method, \n",
        "\n",
        "In abstracts, you must get the essence of what your report is about, usually in about 200 words.  \n",
        " * Aim or purpose of research  \n",
        " * Method used  \n",
        " * Findings/results   \n",
        " * Conclusion   \n",
        "\n"
      ]
    },
    {
      "metadata": {
        "id": "8vwbblZm7kac",
        "colab_type": "text"
      },
      "cell_type": "markdown",
      "source": [
        "## Approach\n",
        "\n",
        "Algorithms used.\n",
        "\n",
        "* For Part B:\n",
        "    * Logistic Regression\n",
        "* For Part C:\n",
        "    * Bagging Algo : Random Forest Regressor\n",
        "    * Boosting Algo : XGBoost Regressor\n",
        "* For Part D:\n",
        "    * You must add Linear Regression and some form of Regression Regularization (like Ridge Regression or Lasso Regression)\n",
        "* For Part E:\n",
        "    * ??? Another supervised algorithm\n",
        "    \n",
        "You need to add linear regression and some form of regression regularization (like ridge regression or lasso regression) and tune at least one hyperparameter for regression regularization.  \n",
        "\n",
        "You need add another supervised algorithm and tune at least one hyperparametert for that algorithm.       \n"
      ]
    },
    {
      "metadata": {
        "id": "QN5YdK_47kae",
        "colab_type": "text"
      },
      "cell_type": "markdown",
      "source": [
        "## Dataset\n",
        "* King County House Price prediction [https://www.kaggle.com/harlfoxem/housesalesprediction/home](https://www.kaggle.com/harlfoxem/housesalesprediction/home)  This dataset contains house sale prices for King County, which includes Seattle. It includes homes sold between May 2014 and May 2015.  \n",
        "* In order to perform classification tasks, I have converted the price quantitative variable to a binary classification variable with HIGH price as 1 and LOW price as -1(For logistic regression I am taking LOW as 0)"
      ]
    },
    {
      "metadata": {
        "id": "ai8u1SR97kaf",
        "colab_type": "code",
        "colab": {}
      },
      "cell_type": "code",
      "source": [
        "import pandas as pd #Data Processing and maipulation\n",
        "import numpy as np\n",
        "from pandas import Series\n",
        "import seaborn as sns # Data Visualisation\n",
        "import matplotlib.pyplot as plt # Data Visualization\n",
        "%matplotlib inline\n"
      ],
      "execution_count": 0,
      "outputs": []
    },
    {
      "metadata": {
        "id": "PlKi865C9RBQ",
        "colab_type": "code",
        "outputId": "56b8f379-47f4-4183-b1f6-14e62fda613f",
        "colab": {
          "resources": {
            "http://localhost:8080/nbextensions/google.colab/files.js": {
              "data": "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",
              "ok": true,
              "headers": [
                [
                  "content-type",
                  "application/javascript"
                ]
              ],
              "status": 200,
              "status_text": ""
            }
          },
          "base_uri": "https://localhost:8080/",
          "height": 72
        }
      },
      "cell_type": "code",
      "source": [
        "#To import dataset file in google colab by uploading from file destination\n",
        "from google.colab import files\n",
        "uploaded = files.upload()\n"
      ],
      "execution_count": 2,
      "outputs": [
        {
          "output_type": "display_data",
          "data": {
            "text/html": [
              "\n",
              "     <input type=\"file\" id=\"files-bf0e14d4-6b5f-44f8-b0d1-356343b14e96\" name=\"files[]\" multiple disabled />\n",
              "     <output id=\"result-bf0e14d4-6b5f-44f8-b0d1-356343b14e96\">\n",
              "      Upload widget is only available when the cell has been executed in the\n",
              "      current browser session. Please rerun this cell to enable.\n",
              "      </output>\n",
              "      <script src=\"/nbextensions/google.colab/files.js\"></script> "
            ],
            "text/plain": [
              "<IPython.core.display.HTML object>"
            ]
          },
          "metadata": {
            "tags": []
          }
        },
        {
          "output_type": "stream",
          "text": [
            "Saving king_county_cleansed.csv to king_county_cleansed.csv\n"
          ],
          "name": "stdout"
        }
      ]
    },
    {
      "metadata": {
        "id": "K66HY6M--uEs",
        "colab_type": "code",
        "colab": {}
      },
      "cell_type": "code",
      "source": [
        "#To read dataset from the uploaded file into desired dataframe via input-output stream\n",
        "import io\n",
        "features = pd.read_csv(io.BytesIO(uploaded['king_county_cleansed.csv']))\n"
      ],
      "execution_count": 0,
      "outputs": []
    },
    {
      "metadata": {
        "scrolled": true,
        "id": "2EAcqTEE7kan",
        "colab_type": "code",
        "outputId": "b07ec18d-621d-473a-f0a1-1d5b7943cfe9",
        "colab": {
          "base_uri": "https://localhost:8080/",
          "height": 255
        }
      },
      "cell_type": "code",
      "source": [
        "#A peep into the dataset to identify types of attributes whether categorical or continuous variable\n",
        "features.head(5)"
      ],
      "execution_count": 5,
      "outputs": [
        {
          "output_type": "execute_result",
          "data": {
            "text/html": [
              "<div>\n",
              "<style scoped>\n",
              "    .dataframe tbody tr th:only-of-type {\n",
              "        vertical-align: middle;\n",
              "    }\n",
              "\n",
              "    .dataframe tbody tr th {\n",
              "        vertical-align: top;\n",
              "    }\n",
              "\n",
              "    .dataframe thead th {\n",
              "        text-align: right;\n",
              "    }\n",
              "</style>\n",
              "<table border=\"1\" class=\"dataframe\">\n",
              "  <thead>\n",
              "    <tr style=\"text-align: right;\">\n",
              "      <th></th>\n",
              "      <th>index</th>\n",
              "      <th>price</th>\n",
              "      <th>bedrooms</th>\n",
              "      <th>bathrooms</th>\n",
              "      <th>sqft_living</th>\n",
              "      <th>sqft_lot</th>\n",
              "      <th>waterfront</th>\n",
              "      <th>sqft_above</th>\n",
              "      <th>sqft_basement</th>\n",
              "      <th>yr_built</th>\n",
              "      <th>...</th>\n",
              "      <th>grade#10</th>\n",
              "      <th>grade#11</th>\n",
              "      <th>grade#12</th>\n",
              "      <th>grade#13</th>\n",
              "      <th>zipcode#98004</th>\n",
              "      <th>zipcode#98102</th>\n",
              "      <th>zipcode#98109</th>\n",
              "      <th>zipcode#98112</th>\n",
              "      <th>zipcode#98039</th>\n",
              "      <th>zipcode#98040</th>\n",
              "    </tr>\n",
              "  </thead>\n",
              "  <tbody>\n",
              "    <tr>\n",
              "      <th>0</th>\n",
              "      <td>16768</td>\n",
              "      <td>437500</td>\n",
              "      <td>3</td>\n",
              "      <td>2.25</td>\n",
              "      <td>1970</td>\n",
              "      <td>35100</td>\n",
              "      <td>0</td>\n",
              "      <td>1970</td>\n",
              "      <td>0</td>\n",
              "      <td>1977</td>\n",
              "      <td>...</td>\n",
              "      <td>0</td>\n",
              "      <td>0</td>\n",
              "      <td>0</td>\n",
              "      <td>0</td>\n",
              "      <td>0</td>\n",
              "      <td>0</td>\n",
              "      <td>0</td>\n",
              "      <td>0</td>\n",
              "      <td>0</td>\n",
              "      <td>0</td>\n",
              "    </tr>\n",
              "    <tr>\n",
              "      <th>1</th>\n",
              "      <td>9596</td>\n",
              "      <td>790000</td>\n",
              "      <td>3</td>\n",
              "      <td>2.50</td>\n",
              "      <td>2600</td>\n",
              "      <td>4750</td>\n",
              "      <td>0</td>\n",
              "      <td>1700</td>\n",
              "      <td>900</td>\n",
              "      <td>1951</td>\n",
              "      <td>...</td>\n",
              "      <td>0</td>\n",
              "      <td>0</td>\n",
              "      <td>0</td>\n",
              "      <td>0</td>\n",
              "      <td>0</td>\n",
              "      <td>0</td>\n",
              "      <td>0</td>\n",
              "      <td>0</td>\n",
              "      <td>0</td>\n",
              "      <td>0</td>\n",
              "    </tr>\n",
              "    <tr>\n",
              "      <th>2</th>\n",
              "      <td>9587</td>\n",
              "      <td>675000</td>\n",
              "      <td>5</td>\n",
              "      <td>2.50</td>\n",
              "      <td>2820</td>\n",
              "      <td>67518</td>\n",
              "      <td>0</td>\n",
              "      <td>2820</td>\n",
              "      <td>0</td>\n",
              "      <td>1979</td>\n",
              "      <td>...</td>\n",
              "      <td>0</td>\n",
              "      <td>0</td>\n",
              "      <td>0</td>\n",
              "      <td>0</td>\n",
              "      <td>0</td>\n",
              "      <td>0</td>\n",
              "      <td>0</td>\n",
              "      <td>0</td>\n",
              "      <td>0</td>\n",
              "      <td>0</td>\n",
              "    </tr>\n",
              "    <tr>\n",
              "      <th>3</th>\n",
              "      <td>20602</td>\n",
              "      <td>555000</td>\n",
              "      <td>4</td>\n",
              "      <td>2.50</td>\n",
              "      <td>3310</td>\n",
              "      <td>6500</td>\n",
              "      <td>0</td>\n",
              "      <td>3310</td>\n",
              "      <td>0</td>\n",
              "      <td>2012</td>\n",
              "      <td>...</td>\n",
              "      <td>0</td>\n",
              "      <td>0</td>\n",
              "      <td>0</td>\n",
              "      <td>0</td>\n",
              "      <td>0</td>\n",
              "      <td>0</td>\n",
              "      <td>0</td>\n",
              "      <td>0</td>\n",
              "      <td>0</td>\n",
              "      <td>0</td>\n",
              "    </tr>\n",
              "    <tr>\n",
              "      <th>4</th>\n",
              "      <td>11577</td>\n",
              "      <td>440000</td>\n",
              "      <td>4</td>\n",
              "      <td>2.25</td>\n",
              "      <td>2160</td>\n",
              "      <td>8119</td>\n",
              "      <td>0</td>\n",
              "      <td>1080</td>\n",
              "      <td>1080</td>\n",
              "      <td>1966</td>\n",
              "      <td>...</td>\n",
              "      <td>0</td>\n",
              "      <td>0</td>\n",
              "      <td>0</td>\n",
              "      <td>0</td>\n",
              "      <td>0</td>\n",
              "      <td>0</td>\n",
              "      <td>0</td>\n",
              "      <td>0</td>\n",
              "      <td>0</td>\n",
              "      <td>0</td>\n",
              "    </tr>\n",
              "  </tbody>\n",
              "</table>\n",
              "<p>5 rows × 51 columns</p>\n",
              "</div>"
            ],
            "text/plain": [
              "   index   price  bedrooms  bathrooms  sqft_living  sqft_lot  waterfront  \\\n",
              "0  16768  437500         3       2.25         1970     35100           0   \n",
              "1   9596  790000         3       2.50         2600      4750           0   \n",
              "2   9587  675000         5       2.50         2820     67518           0   \n",
              "3  20602  555000         4       2.50         3310      6500           0   \n",
              "4  11577  440000         4       2.25         2160      8119           0   \n",
              "\n",
              "   sqft_above  sqft_basement  yr_built      ...        grade#10  grade#11  \\\n",
              "0        1970              0      1977      ...               0         0   \n",
              "1        1700            900      1951      ...               0         0   \n",
              "2        2820              0      1979      ...               0         0   \n",
              "3        3310              0      2012      ...               0         0   \n",
              "4        1080           1080      1966      ...               0         0   \n",
              "\n",
              "   grade#12  grade#13  zipcode#98004  zipcode#98102  zipcode#98109  \\\n",
              "0         0         0              0              0              0   \n",
              "1         0         0              0              0              0   \n",
              "2         0         0              0              0              0   \n",
              "3         0         0              0              0              0   \n",
              "4         0         0              0              0              0   \n",
              "\n",
              "   zipcode#98112  zipcode#98039  zipcode#98040  \n",
              "0              0              0              0  \n",
              "1              0              0              0  \n",
              "2              0              0              0  \n",
              "3              0              0              0  \n",
              "4              0              0              0  \n",
              "\n",
              "[5 rows x 51 columns]"
            ]
          },
          "metadata": {
            "tags": []
          },
          "execution_count": 5
        }
      ]
    },
    {
      "metadata": {
        "scrolled": true,
        "id": "6XW75Uph7kav",
        "colab_type": "code",
        "outputId": "f81a7d2e-6336-4157-e5e0-2e5b43a70c41",
        "colab": {
          "base_uri": "https://localhost:8080/",
          "height": 349
        }
      },
      "cell_type": "code",
      "source": [
        "#To identify  distribution of values in various predictor columns\n",
        "features.describe()"
      ],
      "execution_count": 6,
      "outputs": [
        {
          "output_type": "execute_result",
          "data": {
            "text/html": [
              "<div>\n",
              "<style scoped>\n",
              "    .dataframe tbody tr th:only-of-type {\n",
              "        vertical-align: middle;\n",
              "    }\n",
              "\n",
              "    .dataframe tbody tr th {\n",
              "        vertical-align: top;\n",
              "    }\n",
              "\n",
              "    .dataframe thead th {\n",
              "        text-align: right;\n",
              "    }\n",
              "</style>\n",
              "<table border=\"1\" class=\"dataframe\">\n",
              "  <thead>\n",
              "    <tr style=\"text-align: right;\">\n",
              "      <th></th>\n",
              "      <th>index</th>\n",
              "      <th>price</th>\n",
              "      <th>bedrooms</th>\n",
              "      <th>bathrooms</th>\n",
              "      <th>sqft_living</th>\n",
              "      <th>sqft_lot</th>\n",
              "      <th>waterfront</th>\n",
              "      <th>sqft_above</th>\n",
              "      <th>sqft_basement</th>\n",
              "      <th>yr_built</th>\n",
              "      <th>...</th>\n",
              "      <th>grade#10</th>\n",
              "      <th>grade#11</th>\n",
              "      <th>grade#12</th>\n",
              "      <th>grade#13</th>\n",
              "      <th>zipcode#98004</th>\n",
              "      <th>zipcode#98102</th>\n",
              "      <th>zipcode#98109</th>\n",
              "      <th>zipcode#98112</th>\n",
              "      <th>zipcode#98039</th>\n",
              "      <th>zipcode#98040</th>\n",
              "    </tr>\n",
              "  </thead>\n",
              "  <tbody>\n",
              "    <tr>\n",
              "      <th>count</th>\n",
              "      <td>21613.00000</td>\n",
              "      <td>2.161300e+04</td>\n",
              "      <td>21613.000000</td>\n",
              "      <td>21613.000000</td>\n",
              "      <td>21613.000000</td>\n",
              "      <td>2.161300e+04</td>\n",
              "      <td>21613.000000</td>\n",
              "      <td>21613.000000</td>\n",
              "      <td>21613.000000</td>\n",
              "      <td>21613.000000</td>\n",
              "      <td>...</td>\n",
              "      <td>21613.000000</td>\n",
              "      <td>21613.000000</td>\n",
              "      <td>21613.000000</td>\n",
              "      <td>21613.000000</td>\n",
              "      <td>21613.000000</td>\n",
              "      <td>21613.000000</td>\n",
              "      <td>21613.000000</td>\n",
              "      <td>21613.000000</td>\n",
              "      <td>21613.000000</td>\n",
              "      <td>21613.000000</td>\n",
              "    </tr>\n",
              "    <tr>\n",
              "      <th>mean</th>\n",
              "      <td>10806.00000</td>\n",
              "      <td>5.400881e+05</td>\n",
              "      <td>3.370842</td>\n",
              "      <td>2.114757</td>\n",
              "      <td>2079.899736</td>\n",
              "      <td>1.510697e+04</td>\n",
              "      <td>0.007542</td>\n",
              "      <td>1788.390691</td>\n",
              "      <td>291.509045</td>\n",
              "      <td>1971.005136</td>\n",
              "      <td>...</td>\n",
              "      <td>0.052468</td>\n",
              "      <td>0.018461</td>\n",
              "      <td>0.004164</td>\n",
              "      <td>0.000601</td>\n",
              "      <td>0.014667</td>\n",
              "      <td>0.004858</td>\n",
              "      <td>0.005043</td>\n",
              "      <td>0.012446</td>\n",
              "      <td>0.002313</td>\n",
              "      <td>0.013048</td>\n",
              "    </tr>\n",
              "    <tr>\n",
              "      <th>std</th>\n",
              "      <td>6239.28002</td>\n",
              "      <td>3.671272e+05</td>\n",
              "      <td>0.930062</td>\n",
              "      <td>0.770163</td>\n",
              "      <td>918.440897</td>\n",
              "      <td>4.142051e+04</td>\n",
              "      <td>0.086517</td>\n",
              "      <td>828.090978</td>\n",
              "      <td>442.575043</td>\n",
              "      <td>29.373411</td>\n",
              "      <td>...</td>\n",
              "      <td>0.222975</td>\n",
              "      <td>0.134615</td>\n",
              "      <td>0.064397</td>\n",
              "      <td>0.024518</td>\n",
              "      <td>0.120219</td>\n",
              "      <td>0.069533</td>\n",
              "      <td>0.070838</td>\n",
              "      <td>0.110869</td>\n",
              "      <td>0.048043</td>\n",
              "      <td>0.113482</td>\n",
              "    </tr>\n",
              "    <tr>\n",
              "      <th>min</th>\n",
              "      <td>0.00000</td>\n",
              "      <td>7.500000e+04</td>\n",
              "      <td>0.000000</td>\n",
              "      <td>0.000000</td>\n",
              "      <td>290.000000</td>\n",
              "      <td>5.200000e+02</td>\n",
              "      <td>0.000000</td>\n",
              "      <td>290.000000</td>\n",
              "      <td>0.000000</td>\n",
              "      <td>1900.000000</td>\n",
              "      <td>...</td>\n",
              "      <td>0.000000</td>\n",
              "      <td>0.000000</td>\n",
              "      <td>0.000000</td>\n",
              "      <td>0.000000</td>\n",
              "      <td>0.000000</td>\n",
              "      <td>0.000000</td>\n",
              "      <td>0.000000</td>\n",
              "      <td>0.000000</td>\n",
              "      <td>0.000000</td>\n",
              "      <td>0.000000</td>\n",
              "    </tr>\n",
              "    <tr>\n",
              "      <th>25%</th>\n",
              "      <td>5403.00000</td>\n",
              "      <td>3.219500e+05</td>\n",
              "      <td>3.000000</td>\n",
              "      <td>1.750000</td>\n",
              "      <td>1427.000000</td>\n",
              "      <td>5.040000e+03</td>\n",
              "      <td>0.000000</td>\n",
              "      <td>1190.000000</td>\n",
              "      <td>0.000000</td>\n",
              "      <td>1951.000000</td>\n",
              "      <td>...</td>\n",
              "      <td>0.000000</td>\n",
              "      <td>0.000000</td>\n",
              "      <td>0.000000</td>\n",
              "      <td>0.000000</td>\n",
              "      <td>0.000000</td>\n",
              "      <td>0.000000</td>\n",
              "      <td>0.000000</td>\n",
              "      <td>0.000000</td>\n",
              "      <td>0.000000</td>\n",
              "      <td>0.000000</td>\n",
              "    </tr>\n",
              "    <tr>\n",
              "      <th>50%</th>\n",
              "      <td>10806.00000</td>\n",
              "      <td>4.500000e+05</td>\n",
              "      <td>3.000000</td>\n",
              "      <td>2.250000</td>\n",
              "      <td>1910.000000</td>\n",
              "      <td>7.618000e+03</td>\n",
              "      <td>0.000000</td>\n",
              "      <td>1560.000000</td>\n",
              "      <td>0.000000</td>\n",
              "      <td>1975.000000</td>\n",
              "      <td>...</td>\n",
              "      <td>0.000000</td>\n",
              "      <td>0.000000</td>\n",
              "      <td>0.000000</td>\n",
              "      <td>0.000000</td>\n",
              "      <td>0.000000</td>\n",
              "      <td>0.000000</td>\n",
              "      <td>0.000000</td>\n",
              "      <td>0.000000</td>\n",
              "      <td>0.000000</td>\n",
              "      <td>0.000000</td>\n",
              "    </tr>\n",
              "    <tr>\n",
              "      <th>75%</th>\n",
              "      <td>16209.00000</td>\n",
              "      <td>6.450000e+05</td>\n",
              "      <td>4.000000</td>\n",
              "      <td>2.500000</td>\n",
              "      <td>2550.000000</td>\n",
              "      <td>1.068800e+04</td>\n",
              "      <td>0.000000</td>\n",
              "      <td>2210.000000</td>\n",
              "      <td>560.000000</td>\n",
              "      <td>1997.000000</td>\n",
              "      <td>...</td>\n",
              "      <td>0.000000</td>\n",
              "      <td>0.000000</td>\n",
              "      <td>0.000000</td>\n",
              "      <td>0.000000</td>\n",
              "      <td>0.000000</td>\n",
              "      <td>0.000000</td>\n",
              "      <td>0.000000</td>\n",
              "      <td>0.000000</td>\n",
              "      <td>0.000000</td>\n",
              "      <td>0.000000</td>\n",
              "    </tr>\n",
              "    <tr>\n",
              "      <th>max</th>\n",
              "      <td>21612.00000</td>\n",
              "      <td>7.700000e+06</td>\n",
              "      <td>33.000000</td>\n",
              "      <td>8.000000</td>\n",
              "      <td>13540.000000</td>\n",
              "      <td>1.651359e+06</td>\n",
              "      <td>1.000000</td>\n",
              "      <td>9410.000000</td>\n",
              "      <td>4820.000000</td>\n",
              "      <td>2015.000000</td>\n",
              "      <td>...</td>\n",
              "      <td>1.000000</td>\n",
              "      <td>1.000000</td>\n",
              "      <td>1.000000</td>\n",
              "      <td>1.000000</td>\n",
              "      <td>1.000000</td>\n",
              "      <td>1.000000</td>\n",
              "      <td>1.000000</td>\n",
              "      <td>1.000000</td>\n",
              "      <td>1.000000</td>\n",
              "      <td>1.000000</td>\n",
              "    </tr>\n",
              "  </tbody>\n",
              "</table>\n",
              "<p>8 rows × 51 columns</p>\n",
              "</div>"
            ],
            "text/plain": [
              "             index         price      bedrooms     bathrooms   sqft_living  \\\n",
              "count  21613.00000  2.161300e+04  21613.000000  21613.000000  21613.000000   \n",
              "mean   10806.00000  5.400881e+05      3.370842      2.114757   2079.899736   \n",
              "std     6239.28002  3.671272e+05      0.930062      0.770163    918.440897   \n",
              "min        0.00000  7.500000e+04      0.000000      0.000000    290.000000   \n",
              "25%     5403.00000  3.219500e+05      3.000000      1.750000   1427.000000   \n",
              "50%    10806.00000  4.500000e+05      3.000000      2.250000   1910.000000   \n",
              "75%    16209.00000  6.450000e+05      4.000000      2.500000   2550.000000   \n",
              "max    21612.00000  7.700000e+06     33.000000      8.000000  13540.000000   \n",
              "\n",
              "           sqft_lot    waterfront    sqft_above  sqft_basement      yr_built  \\\n",
              "count  2.161300e+04  21613.000000  21613.000000   21613.000000  21613.000000   \n",
              "mean   1.510697e+04      0.007542   1788.390691     291.509045   1971.005136   \n",
              "std    4.142051e+04      0.086517    828.090978     442.575043     29.373411   \n",
              "min    5.200000e+02      0.000000    290.000000       0.000000   1900.000000   \n",
              "25%    5.040000e+03      0.000000   1190.000000       0.000000   1951.000000   \n",
              "50%    7.618000e+03      0.000000   1560.000000       0.000000   1975.000000   \n",
              "75%    1.068800e+04      0.000000   2210.000000     560.000000   1997.000000   \n",
              "max    1.651359e+06      1.000000   9410.000000    4820.000000   2015.000000   \n",
              "\n",
              "           ...            grade#10      grade#11      grade#12      grade#13  \\\n",
              "count      ...        21613.000000  21613.000000  21613.000000  21613.000000   \n",
              "mean       ...            0.052468      0.018461      0.004164      0.000601   \n",
              "std        ...            0.222975      0.134615      0.064397      0.024518   \n",
              "min        ...            0.000000      0.000000      0.000000      0.000000   \n",
              "25%        ...            0.000000      0.000000      0.000000      0.000000   \n",
              "50%        ...            0.000000      0.000000      0.000000      0.000000   \n",
              "75%        ...            0.000000      0.000000      0.000000      0.000000   \n",
              "max        ...            1.000000      1.000000      1.000000      1.000000   \n",
              "\n",
              "       zipcode#98004  zipcode#98102  zipcode#98109  zipcode#98112  \\\n",
              "count   21613.000000   21613.000000   21613.000000   21613.000000   \n",
              "mean        0.014667       0.004858       0.005043       0.012446   \n",
              "std         0.120219       0.069533       0.070838       0.110869   \n",
              "min         0.000000       0.000000       0.000000       0.000000   \n",
              "25%         0.000000       0.000000       0.000000       0.000000   \n",
              "50%         0.000000       0.000000       0.000000       0.000000   \n",
              "75%         0.000000       0.000000       0.000000       0.000000   \n",
              "max         1.000000       1.000000       1.000000       1.000000   \n",
              "\n",
              "       zipcode#98039  zipcode#98040  \n",
              "count   21613.000000   21613.000000  \n",
              "mean        0.002313       0.013048  \n",
              "std         0.048043       0.113482  \n",
              "min         0.000000       0.000000  \n",
              "25%         0.000000       0.000000  \n",
              "50%         0.000000       0.000000  \n",
              "75%         0.000000       0.000000  \n",
              "max         1.000000       1.000000  \n",
              "\n",
              "[8 rows x 51 columns]"
            ]
          },
          "metadata": {
            "tags": []
          },
          "execution_count": 6
        }
      ]
    },
    {
      "metadata": {
        "id": "D8mR4r7A7kaz",
        "colab_type": "code",
        "outputId": "38582b89-5922-44ca-8f96-7a88e9ef2d3c",
        "colab": {
          "base_uri": "https://localhost:8080/",
          "height": 1031
        }
      },
      "cell_type": "code",
      "source": [
        "#To identify the colinearity between various input attributes and also between input variable and target variable\n",
        "corr = features.corr()\n",
        "mask = np.zeros_like(corr, dtype=np.bool)\n",
        "#To substitute zeros in upper triangular values in correlation matrix\n",
        "mask[np.triu_indices_from(mask)] = True\n",
        "\n",
        "# Set up the matplotlib figure\n",
        "f, ax = plt.subplots(figsize=(20, 20))\n",
        "\n",
        "# Generate a custom diverging colormap\n",
        "cmap = sns.diverging_palette(190, 10, as_cmap=True)\n",
        "\n",
        "# Draw the heatmap with the mask and correct aspect ratio\n",
        "sns.heatmap(corr, mask=mask, cmap=cmap, vmax=.3, center=0,\n",
        "            square=True, linewidths=.5, cbar_kws={\"shrink\": .5})"
      ],
      "execution_count": 7,
      "outputs": [
        {
          "output_type": "execute_result",
          "data": {
            "text/plain": [
              "<matplotlib.axes._subplots.AxesSubplot at 0x7f97cf76eb70>"
            ]
          },
          "metadata": {
            "tags": []
          },
          "execution_count": 7
        },
        {
          "output_type": "display_data",
          "data": {
            "image/png": "[encoded data removed]",
            "text/plain": [
              "<Figure size 1440x1440 with 2 Axes>"
            ]
          },
          "metadata": {
            "tags": []
          }
        }
      ]
    },
    {
      "metadata": {
        "id": "wRW4qa4n7ka9",
        "colab_type": "code",
        "outputId": "d089934e-f8f5-4533-a02e-e258341e470a",
        "colab": {
          "base_uri": "https://localhost:8080/",
          "height": 34
        }
      },
      "cell_type": "code",
      "source": [
        "#To identify the median of the selling price values of houses sold in King County that are recorded in the dataset\n",
        "median_price = features.loc[:,\"price\"].median()\n",
        "print(median_price)"
      ],
      "execution_count": 8,
      "outputs": [
        {
          "output_type": "stream",
          "text": [
            "450000.0\n"
          ],
          "name": "stdout"
        }
      ]
    },
    {
      "metadata": {
        "id": "X0DZg3Fm7kbC",
        "colab_type": "text"
      },
      "cell_type": "markdown",
      "source": [
        "Adding Price Category(price_cat) column to dataframe for holding categorical selling price value : HIGH/LOW\n",
        "\n",
        "where all price values <= median are LOW and denoted by -1\n",
        "and price Values > median are HIGH and denoted by 1"
      ]
    },
    {
      "metadata": {
        "id": "IiEfkj1R7kbC",
        "colab_type": "code",
        "colab": {}
      },
      "cell_type": "code",
      "source": [
        "features['price_cat'] = features['price'].apply(lambda x: 1 if x > median_price else -1)"
      ],
      "execution_count": 0,
      "outputs": []
    },
    {
      "metadata": {
        "id": "3zyRH-Dd7kbG",
        "colab_type": "code",
        "outputId": "7daae884-408e-4e91-bb47-9b72bc672dac",
        "colab": {
          "base_uri": "https://localhost:8080/",
          "height": 362
        }
      },
      "cell_type": "code",
      "source": [
        "features[['price','price_cat']].head(10) # Sample category classification of dataset based on selling price of the house"
      ],
      "execution_count": 10,
      "outputs": [
        {
          "output_type": "execute_result",
          "data": {
            "text/html": [
              "<div>\n",
              "<style scoped>\n",
              "    .dataframe tbody tr th:only-of-type {\n",
              "        vertical-align: middle;\n",
              "    }\n",
              "\n",
              "    .dataframe tbody tr th {\n",
              "        vertical-align: top;\n",
              "    }\n",
              "\n",
              "    .dataframe thead th {\n",
              "        text-align: right;\n",
              "    }\n",
              "</style>\n",
              "<table border=\"1\" class=\"dataframe\">\n",
              "  <thead>\n",
              "    <tr style=\"text-align: right;\">\n",
              "      <th></th>\n",
              "      <th>price</th>\n",
              "      <th>price_cat</th>\n",
              "    </tr>\n",
              "  </thead>\n",
              "  <tbody>\n",
              "    <tr>\n",
              "      <th>0</th>\n",
              "      <td>437500</td>\n",
              "      <td>-1</td>\n",
              "    </tr>\n",
              "    <tr>\n",
              "      <th>1</th>\n",
              "      <td>790000</td>\n",
              "      <td>1</td>\n",
              "    </tr>\n",
              "    <tr>\n",
              "      <th>2</th>\n",
              "      <td>675000</td>\n",
              "      <td>1</td>\n",
              "    </tr>\n",
              "    <tr>\n",
              "      <th>3</th>\n",
              "      <td>555000</td>\n",
              "      <td>1</td>\n",
              "    </tr>\n",
              "    <tr>\n",
              "      <th>4</th>\n",
              "      <td>440000</td>\n",
              "      <td>-1</td>\n",
              "    </tr>\n",
              "    <tr>\n",
              "      <th>5</th>\n",
              "      <td>295000</td>\n",
              "      <td>-1</td>\n",
              "    </tr>\n",
              "    <tr>\n",
              "      <th>6</th>\n",
              "      <td>470000</td>\n",
              "      <td>1</td>\n",
              "    </tr>\n",
              "    <tr>\n",
              "      <th>7</th>\n",
              "      <td>550000</td>\n",
              "      <td>1</td>\n",
              "    </tr>\n",
              "    <tr>\n",
              "      <th>8</th>\n",
              "      <td>313000</td>\n",
              "      <td>-1</td>\n",
              "    </tr>\n",
              "    <tr>\n",
              "      <th>9</th>\n",
              "      <td>626000</td>\n",
              "      <td>1</td>\n",
              "    </tr>\n",
              "  </tbody>\n",
              "</table>\n",
              "</div>"
            ],
            "text/plain": [
              "    price  price_cat\n",
              "0  437500         -1\n",
              "1  790000          1\n",
              "2  675000          1\n",
              "3  555000          1\n",
              "4  440000         -1\n",
              "5  295000         -1\n",
              "6  470000          1\n",
              "7  550000          1\n",
              "8  313000         -1\n",
              "9  626000          1"
            ]
          },
          "metadata": {
            "tags": []
          },
          "execution_count": 10
        }
      ]
    },
    {
      "metadata": {
        "scrolled": true,
        "id": "kGiOjd0L7kbL",
        "colab_type": "code",
        "outputId": "71e630c0-83d1-415c-8389-10d8c3b8537b",
        "colab": {
          "base_uri": "https://localhost:8080/",
          "height": 255
        }
      },
      "cell_type": "code",
      "source": [
        "features.head(5)"
      ],
      "execution_count": 11,
      "outputs": [
        {
          "output_type": "execute_result",
          "data": {
            "text/html": [
              "<div>\n",
              "<style scoped>\n",
              "    .dataframe tbody tr th:only-of-type {\n",
              "        vertical-align: middle;\n",
              "    }\n",
              "\n",
              "    .dataframe tbody tr th {\n",
              "        vertical-align: top;\n",
              "    }\n",
              "\n",
              "    .dataframe thead th {\n",
              "        text-align: right;\n",
              "    }\n",
              "</style>\n",
              "<table border=\"1\" class=\"dataframe\">\n",
              "  <thead>\n",
              "    <tr style=\"text-align: right;\">\n",
              "      <th></th>\n",
              "      <th>index</th>\n",
              "      <th>price</th>\n",
              "      <th>bedrooms</th>\n",
              "      <th>bathrooms</th>\n",
              "      <th>sqft_living</th>\n",
              "      <th>sqft_lot</th>\n",
              "      <th>waterfront</th>\n",
              "      <th>sqft_above</th>\n",
              "      <th>sqft_basement</th>\n",
              "      <th>yr_built</th>\n",
              "      <th>...</th>\n",
              "      <th>grade#11</th>\n",
              "      <th>grade#12</th>\n",
              "      <th>grade#13</th>\n",
              "      <th>zipcode#98004</th>\n",
              "      <th>zipcode#98102</th>\n",
              "      <th>zipcode#98109</th>\n",
              "      <th>zipcode#98112</th>\n",
              "      <th>zipcode#98039</th>\n",
              "      <th>zipcode#98040</th>\n",
              "      <th>price_cat</th>\n",
              "    </tr>\n",
              "  </thead>\n",
              "  <tbody>\n",
              "    <tr>\n",
              "      <th>0</th>\n",
              "      <td>16768</td>\n",
              "      <td>437500</td>\n",
              "      <td>3</td>\n",
              "      <td>2.25</td>\n",
              "      <td>1970</td>\n",
              "      <td>35100</td>\n",
              "      <td>0</td>\n",
              "      <td>1970</td>\n",
              "      <td>0</td>\n",
              "      <td>1977</td>\n",
              "      <td>...</td>\n",
              "      <td>0</td>\n",
              "      <td>0</td>\n",
              "      <td>0</td>\n",
              "      <td>0</td>\n",
              "      <td>0</td>\n",
              "      <td>0</td>\n",
              "      <td>0</td>\n",
              "      <td>0</td>\n",
              "      <td>0</td>\n",
              "      <td>-1</td>\n",
              "    </tr>\n",
              "    <tr>\n",
              "      <th>1</th>\n",
              "      <td>9596</td>\n",
              "      <td>790000</td>\n",
              "      <td>3</td>\n",
              "      <td>2.50</td>\n",
              "      <td>2600</td>\n",
              "      <td>4750</td>\n",
              "      <td>0</td>\n",
              "      <td>1700</td>\n",
              "      <td>900</td>\n",
              "      <td>1951</td>\n",
              "      <td>...</td>\n",
              "      <td>0</td>\n",
              "      <td>0</td>\n",
              "      <td>0</td>\n",
              "      <td>0</td>\n",
              "      <td>0</td>\n",
              "      <td>0</td>\n",
              "      <td>0</td>\n",
              "      <td>0</td>\n",
              "      <td>0</td>\n",
              "      <td>1</td>\n",
              "    </tr>\n",
              "    <tr>\n",
              "      <th>2</th>\n",
              "      <td>9587</td>\n",
              "      <td>675000</td>\n",
              "      <td>5</td>\n",
              "      <td>2.50</td>\n",
              "      <td>2820</td>\n",
              "      <td>67518</td>\n",
              "      <td>0</td>\n",
              "      <td>2820</td>\n",
              "      <td>0</td>\n",
              "      <td>1979</td>\n",
              "      <td>...</td>\n",
              "      <td>0</td>\n",
              "      <td>0</td>\n",
              "      <td>0</td>\n",
              "      <td>0</td>\n",
              "      <td>0</td>\n",
              "      <td>0</td>\n",
              "      <td>0</td>\n",
              "      <td>0</td>\n",
              "      <td>0</td>\n",
              "      <td>1</td>\n",
              "    </tr>\n",
              "    <tr>\n",
              "      <th>3</th>\n",
              "      <td>20602</td>\n",
              "      <td>555000</td>\n",
              "      <td>4</td>\n",
              "      <td>2.50</td>\n",
              "      <td>3310</td>\n",
              "      <td>6500</td>\n",
              "      <td>0</td>\n",
              "      <td>3310</td>\n",
              "      <td>0</td>\n",
              "      <td>2012</td>\n",
              "      <td>...</td>\n",
              "      <td>0</td>\n",
              "      <td>0</td>\n",
              "      <td>0</td>\n",
              "      <td>0</td>\n",
              "      <td>0</td>\n",
              "      <td>0</td>\n",
              "      <td>0</td>\n",
              "      <td>0</td>\n",
              "      <td>0</td>\n",
              "      <td>1</td>\n",
              "    </tr>\n",
              "    <tr>\n",
              "      <th>4</th>\n",
              "      <td>11577</td>\n",
              "      <td>440000</td>\n",
              "      <td>4</td>\n",
              "      <td>2.25</td>\n",
              "      <td>2160</td>\n",
              "      <td>8119</td>\n",
              "      <td>0</td>\n",
              "      <td>1080</td>\n",
              "      <td>1080</td>\n",
              "      <td>1966</td>\n",
              "      <td>...</td>\n",
              "      <td>0</td>\n",
              "      <td>0</td>\n",
              "      <td>0</td>\n",
              "      <td>0</td>\n",
              "      <td>0</td>\n",
              "      <td>0</td>\n",
              "      <td>0</td>\n",
              "      <td>0</td>\n",
              "      <td>0</td>\n",
              "      <td>-1</td>\n",
              "    </tr>\n",
              "  </tbody>\n",
              "</table>\n",
              "<p>5 rows × 52 columns</p>\n",
              "</div>"
            ],
            "text/plain": [
              "   index   price  bedrooms  bathrooms  sqft_living  sqft_lot  waterfront  \\\n",
              "0  16768  437500         3       2.25         1970     35100           0   \n",
              "1   9596  790000         3       2.50         2600      4750           0   \n",
              "2   9587  675000         5       2.50         2820     67518           0   \n",
              "3  20602  555000         4       2.50         3310      6500           0   \n",
              "4  11577  440000         4       2.25         2160      8119           0   \n",
              "\n",
              "   sqft_above  sqft_basement  yr_built    ...      grade#11  grade#12  \\\n",
              "0        1970              0      1977    ...             0         0   \n",
              "1        1700            900      1951    ...             0         0   \n",
              "2        2820              0      1979    ...             0         0   \n",
              "3        3310              0      2012    ...             0         0   \n",
              "4        1080           1080      1966    ...             0         0   \n",
              "\n",
              "   grade#13  zipcode#98004  zipcode#98102  zipcode#98109  zipcode#98112  \\\n",
              "0         0              0              0              0              0   \n",
              "1         0              0              0              0              0   \n",
              "2         0              0              0              0              0   \n",
              "3         0              0              0              0              0   \n",
              "4         0              0              0              0              0   \n",
              "\n",
              "   zipcode#98039  zipcode#98040  price_cat  \n",
              "0              0              0         -1  \n",
              "1              0              0          1  \n",
              "2              0              0          1  \n",
              "3              0              0          1  \n",
              "4              0              0         -1  \n",
              "\n",
              "[5 rows x 52 columns]"
            ]
          },
          "metadata": {
            "tags": []
          },
          "execution_count": 11
        }
      ]
    },
    {
      "metadata": {
        "id": "68Mg8t7F7kbP",
        "colab_type": "text"
      },
      "cell_type": "markdown",
      "source": [
        "## Part A\n",
        "\n",
        "**Comparing a  Bagging Algorithm i.e,  Random Forest Classifier with a Boosting Algorithm i.e, XGBoost Classifier for generating Classification model of the dataset .**    \n",
        "\n"
      ]
    },
    {
      "metadata": {
        "id": "UPd2OyUS7kbQ",
        "colab_type": "text"
      },
      "cell_type": "markdown",
      "source": [
        "## Random Forest Classifier\n"
      ]
    },
    {
      "metadata": {
        "id": "LArmZVhh7kbR",
        "colab_type": "code",
        "colab": {}
      },
      "cell_type": "code",
      "source": [
        "from sklearn.model_selection import train_test_split"
      ],
      "execution_count": 0,
      "outputs": []
    },
    {
      "metadata": {
        "id": "QqdS-9HB7kbW",
        "colab_type": "code",
        "outputId": "a2c8fdb7-de72-4cdc-d753-a460c11f1fdf",
        "colab": {
          "base_uri": "https://localhost:8080/",
          "height": 207
        }
      },
      "cell_type": "code",
      "source": [
        "features.columns #To enumerate all columns of the dataset including target variable price_cat"
      ],
      "execution_count": 13,
      "outputs": [
        {
          "output_type": "execute_result",
          "data": {
            "text/plain": [
              "Index(['index', 'price', 'bedrooms', 'bathrooms', 'sqft_living', 'sqft_lot',\n",
              "       'waterfront', 'sqft_above', 'sqft_basement', 'yr_built', 'yr_renovated',\n",
              "       'lat', 'long', 'sqft_living15', 'sqft_lot15', 'basement_present',\n",
              "       'renovated', 'floors#1.0', 'floors#1.5', 'floors#2.0', 'floors#2.5',\n",
              "       'floors#3.0', 'floors#3.5', 'view#0', 'view#1', 'view#2', 'view#3',\n",
              "       'view#4', 'condition#1', 'condition#2', 'condition#3', 'condition#4',\n",
              "       'condition#5', 'grade#1', 'grade#3', 'grade#4', 'grade#5', 'grade#6',\n",
              "       'grade#7', 'grade#8', 'grade#9', 'grade#10', 'grade#11', 'grade#12',\n",
              "       'grade#13', 'zipcode#98004', 'zipcode#98102', 'zipcode#98109',\n",
              "       'zipcode#98112', 'zipcode#98039', 'zipcode#98040', 'price_cat'],\n",
              "      dtype='object')"
            ]
          },
          "metadata": {
            "tags": []
          },
          "execution_count": 13
        }
      ]
    },
    {
      "metadata": {
        "id": "pXfHxxzA7kbd",
        "colab_type": "code",
        "colab": {}
      },
      "cell_type": "code",
      "source": [
        "\n",
        "X=features[['bedrooms', 'bathrooms', 'sqft_living', 'sqft_lot',\n",
        "       'waterfront', 'sqft_above', 'sqft_basement', 'yr_built', 'yr_renovated',\n",
        "       'lat', 'long', 'sqft_living15', 'sqft_lot15', 'basement_present',\n",
        "       'renovated', 'floors#1.0', 'floors#1.5', 'floors#2.0', 'floors#2.5',\n",
        "       'floors#3.0', 'floors#3.5', 'view#0', 'view#1', 'view#2', 'view#3',\n",
        "       'view#4', 'condition#1', 'condition#2', 'condition#3', 'condition#4',\n",
        "       'condition#5', 'grade#1', 'grade#3', 'grade#4', 'grade#5', 'grade#6',\n",
        "       'grade#7', 'grade#8', 'grade#9', 'grade#10', 'grade#11', 'grade#12',\n",
        "       'grade#13', 'zipcode#98004', 'zipcode#98102', 'zipcode#98109',\n",
        "       'zipcode#98112', 'zipcode#98039', 'zipcode#98040']]  # Features excluding target variable 'price_cat'\n",
        "\n",
        "y=features['price_cat']  # The target variable for classification\n",
        "       \n",
        "# Split dataset into training set and test set\n",
        "X_train, X_test, y_train, y_test = train_test_split(X, y, test_size=0.3) \n",
        "# Splitting the dataset such that 70% of data values form training set  and 30% form test set"
      ],
      "execution_count": 0,
      "outputs": []
    },
    {
      "metadata": {
        "id": "rj01_44i8i6N",
        "colab_type": "code",
        "colab": {}
      },
      "cell_type": "code",
      "source": [
        "X_features = ['bedrooms', 'bathrooms', 'sqft_living', 'sqft_lot',\n",
        "       'waterfront', 'sqft_above', 'sqft_basement', 'yr_built', 'yr_renovated',\n",
        "      'lat', 'long', 'sqft_living15', 'sqft_lot15', 'basement_present',\n",
        "       'renovated', 'floors#1.0', 'floors#1.5', 'floors#2.0', 'floors#2.5',\n",
        "       'floors#3.0', 'floors#3.5', 'view#0', 'view#1', 'view#2', 'view#3',\n",
        "       'view#4', 'condition#1', 'condition#2', 'condition#3', 'condition#4',\n",
        "       'condition#5', 'grade#1', 'grade#3', 'grade#4', 'grade#5', 'grade#6',\n",
        "       'grade#7', 'grade#8', 'grade#9', 'grade#10', 'grade#11', 'grade#12',\n",
        "       'grade#13', 'zipcode#98004', 'zipcode#98102', 'zipcode#98109',\n",
        "       'zipcode#98112', 'zipcode#98039', 'zipcode#98040']\n"
      ],
      "execution_count": 0,
      "outputs": []
    },
    {
      "metadata": {
        "id": "TzQLHyVt7kbh",
        "colab_type": "code",
        "colab": {}
      },
      "cell_type": "code",
      "source": [
        "#Import Random Forest Model from ensemble learning algorithms in sklearn's predefined library\n",
        "from sklearn.ensemble import RandomForestClassifier\n",
        "\n",
        "#Create a Random Forest Classifier\n",
        "clf=RandomForestClassifier(bootstrap=True, class_weight=None, criterion='gini',\n",
        "            max_depth=None, max_features='auto', max_leaf_nodes=None,\n",
        "            min_impurity_split=None,\n",
        "            min_samples_leaf=1, min_samples_split=2,\n",
        "            min_weight_fraction_leaf=0.0, n_estimators=100, n_jobs=1,\n",
        "            oob_score=False, random_state=None, verbose=0,\n",
        "            warm_start=False)\n",
        "#Train the model using the training sets y_pred=clf.predict(X_test)\n",
        "clf.fit(X_train,y_train)\n",
        "\n",
        "y_pred=clf.predict(X_test)\n"
      ],
      "execution_count": 0,
      "outputs": []
    },
    {
      "metadata": {
        "id": "roTTKUgo7kbj",
        "colab_type": "code",
        "colab": {
          "base_uri": "https://localhost:8080/",
          "height": 34
        },
        "outputId": "8b482528-065e-47c3-d312-a5ee2c435c3e"
      },
      "cell_type": "code",
      "source": [
        "#Import scikit-learn metrics module for accuracy calculation\n",
        "from sklearn import metrics\n",
        "# Model Accuracy, how often is the classifier correct?\n",
        "print(\"Accuracy:\",metrics.accuracy_score(y_test, y_pred))\n"
      ],
      "execution_count": 16,
      "outputs": [
        {
          "output_type": "stream",
          "text": [
            "Accuracy: 0.8985194324491055\n"
          ],
          "name": "stdout"
        }
      ]
    },
    {
      "metadata": {
        "id": "ADrKsvcV7kbq",
        "colab_type": "code",
        "outputId": "2cd42c7c-17f4-4303-c5bc-d5e2315f6da6",
        "colab": {
          "base_uri": "https://localhost:8080/",
          "height": 883
        }
      },
      "cell_type": "code",
      "source": [
        "feature_imp = pd.Series(clf.feature_importances_,index=X_features).sort_values(ascending=False)\n",
        "feature_imp"
      ],
      "execution_count": 21,
      "outputs": [
        {
          "output_type": "execute_result",
          "data": {
            "text/plain": [
              "lat                 2.697742e-01\n",
              "sqft_living         1.226665e-01\n",
              "sqft_living15       9.189138e-02\n",
              "sqft_above          8.137260e-02\n",
              "long                5.747681e-02\n",
              "sqft_lot15          5.310455e-02\n",
              "sqft_lot            4.874104e-02\n",
              "yr_built            4.742907e-02\n",
              "bathrooms           3.507602e-02\n",
              "grade#7             2.724022e-02\n",
              "sqft_basement       2.709043e-02\n",
              "bedrooms            1.744841e-02\n",
              "grade#9             1.557751e-02\n",
              "grade#8             1.492627e-02\n",
              "grade#6             1.326984e-02\n",
              "basement_present    1.089940e-02\n",
              "floors#1.0          9.440315e-03\n",
              "view#0              8.329291e-03\n",
              "condition#3         5.735689e-03\n",
              "floors#2.0          5.629234e-03\n",
              "grade#10            5.369212e-03\n",
              "condition#4         4.485170e-03\n",
              "condition#5         3.552223e-03\n",
              "floors#1.5          3.496388e-03\n",
              "yr_renovated        3.156549e-03\n",
              "view#2              2.106331e-03\n",
              "renovated           2.009703e-03\n",
              "view#4              1.343474e-03\n",
              "waterfront          1.242733e-03\n",
              "view#3              1.162074e-03\n",
              "zipcode#98004       1.116286e-03\n",
              "zipcode#98040       1.089740e-03\n",
              "floors#3.0          1.059794e-03\n",
              "zipcode#98112       1.003498e-03\n",
              "condition#2         8.126231e-04\n",
              "view#1              7.551889e-04\n",
              "grade#5             5.391159e-04\n",
              "zipcode#98102       4.946585e-04\n",
              "floors#2.5          4.708056e-04\n",
              "zipcode#98109       4.662846e-04\n",
              "grade#11            4.168633e-04\n",
              "zipcode#98039       3.022176e-04\n",
              "condition#1         2.325116e-04\n",
              "floors#3.5          1.115267e-04\n",
              "grade#4             5.801290e-05\n",
              "grade#12            2.779355e-05\n",
              "grade#1             3.527918e-07\n",
              "grade#13            8.359684e-08\n",
              "grade#3             0.000000e+00\n",
              "dtype: float64"
            ]
          },
          "metadata": {
            "tags": []
          },
          "execution_count": 21
        }
      ]
    },
    {
      "metadata": {
        "id": "3MENIhRV7kbt",
        "colab_type": "code",
        "outputId": "0ab1e3c1-b22e-45e9-c71c-1e1af26b36fc",
        "colab": {
          "base_uri": "https://localhost:8080/",
          "height": 207
        }
      },
      "cell_type": "code",
      "source": [
        "top_features = feature_imp.head(10)\n",
        "top_features"
      ],
      "execution_count": 22,
      "outputs": [
        {
          "output_type": "execute_result",
          "data": {
            "text/plain": [
              "lat              0.269774\n",
              "sqft_living      0.122666\n",
              "sqft_living15    0.091891\n",
              "sqft_above       0.081373\n",
              "long             0.057477\n",
              "sqft_lot15       0.053105\n",
              "sqft_lot         0.048741\n",
              "yr_built         0.047429\n",
              "bathrooms        0.035076\n",
              "grade#7          0.027240\n",
              "dtype: float64"
            ]
          },
          "metadata": {
            "tags": []
          },
          "execution_count": 22
        }
      ]
    },
    {
      "metadata": {
        "id": "0OkQO-bq7kbw",
        "colab_type": "code",
        "outputId": "609e8036-6eac-4797-8fda-c334487158b8",
        "colab": {
          "base_uri": "https://localhost:8080/",
          "height": 346
        }
      },
      "cell_type": "code",
      "source": [
        "# Creating a bar plot of most Important features\n",
        "sns.barplot(x=top_features, y=top_features.index)\n",
        "# Add labels to your graph\n",
        "plt.xlabel('Feature Importance Score in House price prediction')\n",
        "plt.ylabel('Predictor Variable')\n",
        "plt.title(\"Most Important Features in determining house price in King County\")\n",
        "plt.legend()\n",
        "plt.show()"
      ],
      "execution_count": 23,
      "outputs": [
        {
          "output_type": "stream",
          "text": [
            "/usr/local/lib/python3.6/dist-packages/seaborn/categorical.py:1428: FutureWarning: remove_na is deprecated and is a private function. Do not use.\n",
            "  stat_data = remove_na(group_data)\n",
            "No handles with labels found to put in legend.\n"
          ],
          "name": "stderr"
        },
        {
          "output_type": "display_data",
          "data": {
            "image/png": "[encoded data removed]",
            "text/plain": [
              "<Figure size 432x288 with 1 Axes>"
            ]
          },
          "metadata": {
            "tags": []
          }
        }
      ]
    },
    {
      "metadata": {
        "id": "viPaQczg7kb1",
        "colab_type": "code",
        "colab": {}
      },
      "cell_type": "code",
      "source": [
        "from pprint import pprint"
      ],
      "execution_count": 0,
      "outputs": []
    },
    {
      "metadata": {
        "id": "AuybEbTr7kb3",
        "colab_type": "code",
        "outputId": "51fb3aa3-b794-4fea-fed7-f4a4119eba15",
        "colab": {
          "base_uri": "https://localhost:8080/",
          "height": 346
        }
      },
      "cell_type": "code",
      "source": [
        "# Look at parameters used by our current forest\n",
        "print('Parameters currently in use:\\n')\n",
        "pprint(clf.get_params())"
      ],
      "execution_count": 25,
      "outputs": [
        {
          "output_type": "stream",
          "text": [
            "Parameters currently in use:\n",
            "\n",
            "{'bootstrap': True,\n",
            " 'class_weight': None,\n",
            " 'criterion': 'gini',\n",
            " 'max_depth': None,\n",
            " 'max_features': 'auto',\n",
            " 'max_leaf_nodes': None,\n",
            " 'min_impurity_decrease': 0.0,\n",
            " 'min_impurity_split': None,\n",
            " 'min_samples_leaf': 1,\n",
            " 'min_samples_split': 2,\n",
            " 'min_weight_fraction_leaf': 0.0,\n",
            " 'n_estimators': 100,\n",
            " 'n_jobs': 1,\n",
            " 'oob_score': False,\n",
            " 'random_state': None,\n",
            " 'verbose': 0,\n",
            " 'warm_start': False}\n"
          ],
          "name": "stdout"
        }
      ]
    },
    {
      "metadata": {
        "colab_type": "text",
        "id": "cq16PL7OJKtI"
      },
      "cell_type": "markdown",
      "source": [
        "\n",
        "**Which hyper-parameters are important?**\n",
        " According to the documentation, the most important settings are the number of trees in the forest (n_estimators) and the number of features considered for splitting at each leaf node (max_features), Maximum number of levels in tree(max_depth), Minimum number of samples (min_samples_split), Minimum number of samples required at each leaf node (min_samples_leaf\n"
      ]
    },
    {
      "metadata": {
        "id": "LRgLflSl7kb8",
        "colab_type": "text"
      },
      "cell_type": "markdown",
      "source": [
        "We will try adjusting the following set of hyperparameters:\n",
        "\n"
      ]
    },
    {
      "metadata": {
        "id": "OtbK3GmC7kb9",
        "colab_type": "text"
      },
      "cell_type": "markdown",
      "source": [
        "### Finding important hyper-parameters\n",
        "\n",
        "\n",
        "### We will use RandomSearchCV and GridSearchCV to find the best values for the same"
      ]
    },
    {
      "metadata": {
        "id": "eiY6sImP7kb-",
        "colab_type": "code",
        "colab": {}
      },
      "cell_type": "code",
      "source": [
        "from sklearn.model_selection import RandomizedSearchCV"
      ],
      "execution_count": 0,
      "outputs": []
    },
    {
      "metadata": {
        "id": "4Gn7VW-l7kcA",
        "colab_type": "code",
        "outputId": "bdd79e86-fd4f-4478-9ed9-ac666a7c7cba",
        "colab": {
          "base_uri": "https://localhost:8080/",
          "height": 103
        }
      },
      "cell_type": "code",
      "source": [
        "# Number of trees in random forest\n",
        "n_estimators = [int(x) for x in np.linspace(start = 10, stop = 200, num = 5)]\n",
        "# Number of features to consider at every split\n",
        "max_features = ['auto', 'sqrt']\n",
        "# Maximum number of levels in tree\n",
        "max_depth = [int(x) for x in np.linspace(2, 10, num = 5)]\n",
        "max_depth.append(None)\n",
        "# Minimum number of samples required to split a node\n",
        "min_samples_split = [5, 10]\n",
        "# Minimum number of samples required at each leaf node\n",
        "min_samples_leaf = [2, 4]\n",
        "# Method of selecting samples for training each tree\n",
        "#bootstrap = [True, False]\n",
        "# Create the random grid\n",
        "random_grid = {'n_estimators': n_estimators,\n",
        "               'max_features': max_features,\n",
        "               'max_depth': max_depth,\n",
        "               'min_samples_split': min_samples_split,\n",
        "               'min_samples_leaf': min_samples_leaf}\n",
        "pprint(random_grid)"
      ],
      "execution_count": 27,
      "outputs": [
        {
          "output_type": "stream",
          "text": [
            "{'max_depth': [2, 4, 6, 8, 10, None],\n",
            " 'max_features': ['auto', 'sqrt'],\n",
            " 'min_samples_leaf': [2, 4],\n",
            " 'min_samples_split': [5, 10],\n",
            " 'n_estimators': [10, 57, 105, 152, 200]}\n"
          ],
          "name": "stdout"
        }
      ]
    },
    {
      "metadata": {
        "id": "NlSvKwQd7kcD",
        "colab_type": "code",
        "outputId": "20c52505-84f3-4a2e-e205-aaac9100c908",
        "colab": {
          "base_uri": "https://localhost:8080/",
          "height": 331
        }
      },
      "cell_type": "code",
      "source": [
        "# Use the random grid to search for best hyperparameters\n",
        "# First create the base model to tune\n",
        "clf_base = RandomForestClassifier()\n",
        "# Random search of parameters, using 3 fold cross validation, \n",
        "# search across 100 different combinations, and use all available cores\n",
        "clf_random = RandomizedSearchCV(estimator = clf_base, param_distributions = random_grid, n_iter = 100, cv = 3, verbose=2, random_state=42, n_jobs = -1)\n",
        "# Fit the random search model\n",
        "clf_random.fit(X_train,y_train)"
      ],
      "execution_count": 28,
      "outputs": [
        {
          "output_type": "stream",
          "text": [
            "Fitting 3 folds for each of 100 candidates, totalling 300 fits\n"
          ],
          "name": "stdout"
        },
        {
          "output_type": "stream",
          "text": [
            "[Parallel(n_jobs=-1)]: Using backend LokyBackend with 2 concurrent workers.\n",
            "[Parallel(n_jobs=-1)]: Done  37 tasks      | elapsed:   37.0s\n",
            "[Parallel(n_jobs=-1)]: Done 158 tasks      | elapsed:  2.0min\n",
            "[Parallel(n_jobs=-1)]: Done 300 out of 300 | elapsed:  4.1min finished\n"
          ],
          "name": "stderr"
        },
        {
          "output_type": "execute_result",
          "data": {
            "text/plain": [
              "RandomizedSearchCV(cv=3, error_score='raise-deprecating',\n",
              "          estimator=RandomForestClassifier(bootstrap=True, class_weight=None, criterion='gini',\n",
              "            max_depth=None, max_features='auto', max_leaf_nodes=None,\n",
              "            min_impurity_decrease=0.0, min_impurity_split=None,\n",
              "            min_samples_leaf=1, min_samples_split=2,\n",
              "            min_weight_fraction_leaf=0.0, n_estimators='warn', n_jobs=None,\n",
              "            oob_score=False, random_state=None, verbose=0,\n",
              "            warm_start=False),\n",
              "          fit_params=None, iid='warn', n_iter=100, n_jobs=-1,\n",
              "          param_distributions={'n_estimators': [10, 57, 105, 152, 200], 'max_features': ['auto', 'sqrt'], 'max_depth': [2, 4, 6, 8, 10, None], 'min_samples_split': [5, 10], 'min_samples_leaf': [2, 4]},\n",
              "          pre_dispatch='2*n_jobs', random_state=42, refit=True,\n",
              "          return_train_score='warn', scoring=None, verbose=2)"
            ]
          },
          "metadata": {
            "tags": []
          },
          "execution_count": 28
        }
      ]
    },
    {
      "metadata": {
        "id": "pBfTFgIpDUa5",
        "colab_type": "code",
        "colab": {
          "base_uri": "https://localhost:8080/",
          "height": 16018
        },
        "outputId": "e82c58b8-2c05-4d03-8998-476566296a9e"
      },
      "cell_type": "code",
      "source": [
        "clf_random.cv_results_"
      ],
      "execution_count": 30,
      "outputs": [
        {
          "output_type": "stream",
          "text": [
            "/usr/local/lib/python3.6/dist-packages/sklearn/utils/deprecation.py:125: FutureWarning: You are accessing a training score ('mean_train_score'), which will not be available by default any more in 0.21. If you need training scores, please set return_train_score=True\n",
            "  warnings.warn(*warn_args, **warn_kwargs)\n",
            "/usr/local/lib/python3.6/dist-packages/sklearn/utils/deprecation.py:125: FutureWarning: You are accessing a training score ('split0_train_score'), which will not be available by default any more in 0.21. If you need training scores, please set return_train_score=True\n",
            "  warnings.warn(*warn_args, **warn_kwargs)\n",
            "/usr/local/lib/python3.6/dist-packages/sklearn/utils/deprecation.py:125: FutureWarning: You are accessing a training score ('split1_train_score'), which will not be available by default any more in 0.21. If you need training scores, please set return_train_score=True\n",
            "  warnings.warn(*warn_args, **warn_kwargs)\n",
            "/usr/local/lib/python3.6/dist-packages/sklearn/utils/deprecation.py:125: FutureWarning: You are accessing a training score ('split2_train_score'), which will not be available by default any more in 0.21. If you need training scores, please set return_train_score=True\n",
            "  warnings.warn(*warn_args, **warn_kwargs)\n",
            "/usr/local/lib/python3.6/dist-packages/sklearn/utils/deprecation.py:125: FutureWarning: You are accessing a training score ('std_train_score'), which will not be available by default any more in 0.21. If you need training scores, please set return_train_score=True\n",
            "  warnings.warn(*warn_args, **warn_kwargs)\n"
          ],
          "name": "stderr"
        },
        {
          "output_type": "execute_result",
          "data": {
            "text/plain": [
              "{'mean_fit_time': array([1.14732138, 0.33694029, 1.81906915, 2.39664984, 2.42284258,\n",
              "        1.79807615, 3.09085457, 0.69013262, 1.14743702, 2.27569501,\n",
              "        0.0996445 , 1.19700027, 2.38489978, 2.62369418, 1.81057   ,\n",
              "        0.20776884, 0.18496521, 0.06614788, 1.56653468, 0.15543461,\n",
              "        1.56423704, 1.1674691 , 0.20740509, 0.07551455, 1.00186125,\n",
              "        0.16425069, 0.0688862 , 1.28777965, 2.20734421, 2.34022244,\n",
              "        0.68107891, 3.16199684, 0.06561772, 1.82288671, 0.87277921,\n",
              "        1.78896364, 1.84700211, 0.09480453, 1.79382324, 0.17348027,\n",
              "        2.21423467, 1.25781155, 1.25145713, 0.33668796, 0.86690243,\n",
              "        0.5063289 , 0.18317691, 0.88466875, 2.95293307, 0.09626126,\n",
              "        4.34232871, 0.99501093, 2.19310149, 2.60139672, 4.31866741,\n",
              "        4.20210918, 0.12761076, 4.02116998, 1.37867665, 0.88692514,\n",
              "        0.13596352, 0.90068523, 0.15763895, 0.94373926, 0.68083954,\n",
              "        1.35646868, 1.8265454 , 2.3987608 , 1.25023874, 3.43444848,\n",
              "        1.79546706, 0.70239139, 1.15080388, 2.99651106, 0.09559941,\n",
              "        1.27589719, 0.06582189, 0.52068265, 3.47337031, 2.94034457,\n",
              "        1.26935426, 0.10763597, 2.12802092, 3.19648107, 1.5709792 ,\n",
              "        0.33516097, 0.61502806, 0.06777294, 0.87267613, 0.94370683,\n",
              "        3.25818849, 2.25388463, 1.00630379, 0.51898511, 1.58948628,\n",
              "        0.18078327, 0.51431227, 0.5147775 , 1.85131073, 0.79139551]),\n",
              " 'mean_score_time': array([0.0977308 , 0.03097844, 0.10783116, 0.13817461, 0.1397237 ,\n",
              "        0.10076078, 0.18233275, 0.04313787, 0.09621183, 0.12530835,\n",
              "        0.00957108, 0.06523816, 0.14074969, 0.13888446, 0.10810971,\n",
              "        0.01424464, 0.01276668, 0.00849319, 0.0880328 , 0.01193722,\n",
              "        0.08567047, 0.09622677, 0.01411295, 0.00877746, 0.05520805,\n",
              "        0.01257761, 0.00894189, 0.07397342, 0.12007912, 0.12799915,\n",
              "        0.04554733, 0.16808279, 0.00844606, 0.0979867 , 0.07330155,\n",
              "        0.11740128, 0.09872365, 0.00967065, 0.11791897, 0.01260177,\n",
              "        0.11952504, 0.07813374, 0.06955417, 0.03004018, 0.0526038 ,\n",
              "        0.0366265 , 0.01307257, 0.07419546, 0.1615231 , 0.00960716,\n",
              "        0.23107656, 0.05596248, 0.1188124 , 0.1401643 , 0.23107028,\n",
              "        0.22414287, 0.010789  , 0.21803681, 0.09368165, 0.05053171,\n",
              "        0.01149138, 0.05161413, 0.01254567, 0.06410607, 0.04963557,\n",
              "        0.08883182, 0.10530901, 0.13824749, 0.07415541, 0.18030763,\n",
              "        0.09738231, 0.04337001, 0.09973105, 0.16388059, 0.00972303,\n",
              "        0.07621511, 0.00856543, 0.03699708, 0.18715437, 0.16478554,\n",
              "        0.07585613, 0.0094738 , 0.11213303, 0.16685446, 0.08671419,\n",
              "        0.03015765, 0.05359681, 0.00843883, 0.07368636, 0.06329679,\n",
              "        0.17450054, 0.12322354, 0.05627227, 0.03626355, 0.08776927,\n",
              "        0.01288517, 0.03624026, 0.03658946, 0.10180855, 0.04481753]),\n",
              " 'mean_test_score': array([0.80501025, 0.8177672 , 0.87666072, 0.87699121, 0.87646242,\n",
              "        0.89490383, 0.8995307 , 0.87970124, 0.80064776, 0.88875669,\n",
              "        0.85623637, 0.8994646 , 0.87633023, 0.89496993, 0.87659462,\n",
              "        0.8922599 , 0.884923  , 0.7734153 , 0.88736863, 0.884923  ,\n",
              "        0.89034305, 0.80534074, 0.89378016, 0.79747505, 0.89364796,\n",
              "        0.87837927, 0.80415097, 0.90052218, 0.90072047, 0.88816181,\n",
              "        0.87269482, 0.90243902, 0.79086523, 0.89629189, 0.80157314,\n",
              "        0.85273316, 0.89305308, 0.8366052 , 0.85319585, 0.88571617,\n",
              "        0.9033644 , 0.87837927, 0.90224073, 0.80163924, 0.88809571,\n",
              "        0.85438562, 0.88512129, 0.79337696, 0.88974817, 0.83323419,\n",
              "        0.90157975, 0.89536651, 0.90144755, 0.89344967, 0.90197634,\n",
              "        0.90197634, 0.86899332, 0.90217463, 0.8551127 , 0.89252429,\n",
              "        0.87223214, 0.89014476, 0.88056051, 0.85683125, 0.87771829,\n",
              "        0.85815322, 0.87705731, 0.87870976, 0.87672682, 0.89543261,\n",
              "        0.89470553, 0.87454557, 0.81076079, 0.8886245 , 0.8400423 ,\n",
              "        0.87619803, 0.7882874 , 0.8586159 , 0.89741556, 0.88974817,\n",
              "        0.87791658, 0.8437438 , 0.90091877, 0.90382709, 0.88974817,\n",
              "        0.79793774, 0.80051557, 0.80190363, 0.80144094, 0.85656686,\n",
              "        0.90105096, 0.88968207, 0.89510212, 0.85550929, 0.888294  ,\n",
              "        0.88697204, 0.85365854, 0.85583978, 0.89629189, 0.88783132]),\n",
              " 'mean_train_score': array([0.80950429, 0.82288911, 0.89064047, 0.89110323, 0.89014471,\n",
              "        0.92841565, 0.95663948, 0.89216074, 0.80319218, 0.91403928,\n",
              "        0.86145843, 0.96483562, 0.88938465, 0.93218319, 0.8908058 ,\n",
              "        0.94652645, 0.91998844, 0.77758084, 0.90957775, 0.9075613 ,\n",
              "        0.91205649, 0.80980183, 0.94345301, 0.79859881, 0.92696155,\n",
              "        0.90233964, 0.80613295, 0.97907989, 0.95392952, 0.91129639,\n",
              "        0.8864764 , 0.96721521, 0.7891467 , 0.93614902, 0.80388607,\n",
              "        0.85967322, 0.92960536, 0.84433791, 0.86112752, 0.91671593,\n",
              "        0.96612459, 0.8894177 , 0.98046792, 0.80520903, 0.90987518,\n",
              "        0.8594748 , 0.91998843, 0.79764036, 0.91202321, 0.83967943,\n",
              "        0.9810959 , 0.93099341, 0.96662033, 0.92831647, 0.98142633,\n",
              "        0.96705   , 0.87983351, 0.95475572, 0.86251569, 0.91377486,\n",
              "        0.88442728, 0.91377489, 0.90703297, 0.86231724, 0.89054123,\n",
              "        0.86436642, 0.88971509, 0.89358186, 0.88951681, 0.93036544,\n",
              "        0.9276555 , 0.8887238 , 0.81380095, 0.91347753, 0.84622191,\n",
              "        0.89050825, 0.78904656, 0.86463063, 0.9372067 , 0.91189109,\n",
              "        0.88908718, 0.85098074, 0.95716827, 0.96688467, 0.91588995,\n",
              "        0.79790447, 0.80276266, 0.80454762, 0.80319238, 0.86367216,\n",
              "        0.98155851, 0.91374177, 0.9362483 , 0.86178878, 0.91089955,\n",
              "        0.92058271, 0.85907826, 0.86360648, 0.93677703, 0.91291557]),\n",
              " 'param_max_depth': masked_array(data=[2, 2, 6, 6, 6, 10, None, 6, 2, 8, 4, None, 6, 10, 6,\n",
              "                    None, 10, 2, 8, 8, 8, 2, None, 2, 10, 8, 2, None, None,\n",
              "                    8, 6, None, 2, 10, 2, 4, 10, 4, 4, 10, None, 6, None,\n",
              "                    2, 8, 4, 10, 2, 8, 4, None, 10, None, 10, None, None,\n",
              "                    6, None, 4, 8, 6, 8, 8, 4, 6, 4, 6, 6, 6, 10, 10, 6, 2,\n",
              "                    8, 4, 6, 2, 4, 10, 8, 6, 4, None, None, 8, 2, 2, 2, 2,\n",
              "                    4, None, 8, 10, 4, 8, 10, 4, 4, 10, 8],\n",
              "              mask=[False, False, False, False, False, False, False, False,\n",
              "                    False, False, False, False, False, False, False, False,\n",
              "                    False, False, False, False, False, False, False, False,\n",
              "                    False, False, False, False, False, False, False, False,\n",
              "                    False, False, False, False, False, False, False, False,\n",
              "                    False, False, False, False, False, False, False, False,\n",
              "                    False, False, False, False, False, False, False, False,\n",
              "                    False, False, False, False, False, False, False, False,\n",
              "                    False, False, False, False, False, False, False, False,\n",
              "                    False, False, False, False, False, False, False, False,\n",
              "                    False, False, False, False, False, False, False, False,\n",
              "                    False, False, False, False, False, False, False, False,\n",
              "                    False, False, False, False],\n",
              "        fill_value='?',\n",
              "             dtype=object),\n",
              " 'param_max_features': masked_array(data=['sqrt', 'auto', 'auto', 'sqrt', 'sqrt', 'auto', 'sqrt',\n",
              "                    'auto', 'auto', 'sqrt', 'auto', 'auto', 'sqrt', 'auto',\n",
              "                    'sqrt', 'sqrt', 'sqrt', 'auto', 'sqrt', 'auto', 'auto',\n",
              "                    'auto', 'sqrt', 'sqrt', 'auto', 'sqrt', 'auto', 'auto',\n",
              "                    'sqrt', 'sqrt', 'auto', 'sqrt', 'sqrt', 'sqrt', 'auto',\n",
              "                    'sqrt', 'sqrt', 'auto', 'sqrt', 'auto', 'sqrt', 'sqrt',\n",
              "                    'sqrt', 'auto', 'sqrt', 'sqrt', 'auto', 'sqrt', 'auto',\n",
              "                    'sqrt', 'auto', 'sqrt', 'auto', 'sqrt', 'sqrt', 'auto',\n",
              "                    'sqrt', 'auto', 'sqrt', 'auto', 'auto', 'auto', 'auto',\n",
              "                    'sqrt', 'sqrt', 'sqrt', 'sqrt', 'auto', 'sqrt', 'sqrt',\n",
              "                    'auto', 'sqrt', 'sqrt', 'auto', 'sqrt', 'auto', 'auto',\n",
              "                    'auto', 'auto', 'sqrt', 'auto', 'sqrt', 'auto', 'auto',\n",
              "                    'sqrt', 'sqrt', 'auto', 'sqrt', 'sqrt', 'auto', 'sqrt',\n",
              "                    'sqrt', 'auto', 'auto', 'auto', 'sqrt', 'sqrt', 'auto',\n",
              "                    'auto', 'sqrt'],\n",
              "              mask=[False, False, False, False, False, False, False, False,\n",
              "                    False, False, False, False, False, False, False, False,\n",
              "                    False, False, False, False, False, False, False, False,\n",
              "                    False, False, False, False, False, False, False, False,\n",
              "                    False, False, False, False, False, False, False, False,\n",
              "                    False, False, False, False, False, False, False, False,\n",
              "                    False, False, False, False, False, False, False, False,\n",
              "                    False, False, False, False, False, False, False, False,\n",
              "                    False, False, False, False, False, False, False, False,\n",
              "                    False, False, False, False, False, False, False, False,\n",
              "                    False, False, False, False, False, False, False, False,\n",
              "                    False, False, False, False, False, False, False, False,\n",
              "                    False, False, False, False],\n",
              "        fill_value='?',\n",
              "             dtype=object),\n",
              " 'param_min_samples_leaf': masked_array(data=[2, 2, 4, 2, 2, 4, 4, 2, 2, 2, 2, 2, 4, 2, 4, 4, 2, 4,\n",
              "                    4, 2, 2, 4, 4, 4, 4, 4, 4, 2, 4, 4, 4, 2, 2, 2, 4, 2,\n",
              "                    4, 4, 4, 4, 2, 4, 2, 4, 4, 2, 2, 4, 4, 2, 2, 2, 2, 4,\n",
              "                    2, 2, 4, 4, 4, 4, 4, 2, 2, 2, 2, 2, 2, 2, 4, 4, 4, 4,\n",
              "                    2, 2, 4, 2, 2, 4, 2, 4, 4, 2, 4, 2, 2, 4, 4, 4, 2, 2,\n",
              "                    2, 2, 2, 4, 4, 4, 4, 2, 2, 2],\n",
              "              mask=[False, False, False, False, False, False, False, False,\n",
              "                    False, False, False, False, False, False, False, False,\n",
              "                    False, False, False, False, False, False, False, False,\n",
              "                    False, False, False, False, False, False, False, False,\n",
              "                    False, False, False, False, False, False, False, False,\n",
              "                    False, False, False, False, False, False, False, False,\n",
              "                    False, False, False, False, False, False, False, False,\n",
              "                    False, False, False, False, False, False, False, False,\n",
              "                    False, False, False, False, False, False, False, False,\n",
              "                    False, False, False, False, False, False, False, False,\n",
              "                    False, False, False, False, False, False, False, False,\n",
              "                    False, False, False, False, False, False, False, False,\n",
              "                    False, False, False, False],\n",
              "        fill_value='?',\n",
              "             dtype=object),\n",
              " 'param_min_samples_split': masked_array(data=[5, 10, 5, 10, 5, 5, 5, 10, 10, 5, 10, 10, 5, 10, 5, 5,\n",
              "                    10, 10, 5, 10, 10, 10, 10, 5, 10, 5, 5, 5, 10, 5, 10,\n",
              "                    10, 10, 5, 10, 10, 5, 10, 10, 10, 10, 5, 5, 10, 10, 10,\n",
              "                    10, 10, 10, 5, 5, 10, 10, 5, 5, 10, 10, 10, 5, 10, 10,\n",
              "                    10, 5, 10, 5, 10, 10, 5, 10, 5, 10, 5, 10, 5, 10, 5,\n",
              "                    10, 10, 5, 10, 10, 10, 5, 10, 5, 5, 5, 10, 10, 5, 5,\n",
              "                    10, 5, 5, 10, 5, 10, 5, 5, 10],\n",
              "              mask=[False, False, False, False, False, False, False, False,\n",
              "                    False, False, False, False, False, False, False, False,\n",
              "                    False, False, False, False, False, False, False, False,\n",
              "                    False, False, False, False, False, False, False, False,\n",
              "                    False, False, False, False, False, False, False, False,\n",
              "                    False, False, False, False, False, False, False, False,\n",
              "                    False, False, False, False, False, False, False, False,\n",
              "                    False, False, False, False, False, False, False, False,\n",
              "                    False, False, False, False, False, False, False, False,\n",
              "                    False, False, False, False, False, False, False, False,\n",
              "                    False, False, False, False, False, False, False, False,\n",
              "                    False, False, False, False, False, False, False, False,\n",
              "                    False, False, False, False],\n",
              "        fill_value='?',\n",
              "             dtype=object),\n",
              " 'param_n_estimators': masked_array(data=[200, 57, 152, 200, 200, 105, 152, 57, 200, 152, 10, 57,\n",
              "                    200, 152, 152, 10, 10, 10, 105, 10, 105, 200, 10, 10,\n",
              "                    57, 10, 10, 57, 105, 152, 57, 152, 10, 105, 152, 200,\n",
              "                    105, 10, 200, 10, 105, 105, 57, 57, 57, 57, 10, 152,\n",
              "                    200, 10, 200, 57, 105, 152, 200, 200, 10, 200, 152, 57,\n",
              "                    10, 57, 10, 105, 57, 152, 152, 200, 105, 200, 105, 57,\n",
              "                    200, 200, 10, 105, 10, 57, 200, 200, 105, 10, 105, 152,\n",
              "                    105, 57, 105, 10, 152, 105, 152, 152, 57, 57, 105, 10,\n",
              "                    57, 57, 105, 57],\n",
              "              mask=[False, False, False, False, False, False, False, False,\n",
              "                    False, False, False, False, False, False, False, False,\n",
              "                    False, False, False, False, False, False, False, False,\n",
              "                    False, False, False, False, False, False, False, False,\n",
              "                    False, False, False, False, False, False, False, False,\n",
              "                    False, False, False, False, False, False, False, False,\n",
              "                    False, False, False, False, False, False, False, False,\n",
              "                    False, False, False, False, False, False, False, False,\n",
              "                    False, False, False, False, False, False, False, False,\n",
              "                    False, False, False, False, False, False, False, False,\n",
              "                    False, False, False, False, False, False, False, False,\n",
              "                    False, False, False, False, False, False, False, False,\n",
              "                    False, False, False, False],\n",
              "        fill_value='?',\n",
              "             dtype=object),\n",
              " 'params': [{'max_depth': 2,\n",
              "   'max_features': 'sqrt',\n",
              "   'min_samples_leaf': 2,\n",
              "   'min_samples_split': 5,\n",
              "   'n_estimators': 200},\n",
              "  {'max_depth': 2,\n",
              "   'max_features': 'auto',\n",
              "   'min_samples_leaf': 2,\n",
              "   'min_samples_split': 10,\n",
              "   'n_estimators': 57},\n",
              "  {'max_depth': 6,\n",
              "   'max_features': 'auto',\n",
              "   'min_samples_leaf': 4,\n",
              "   'min_samples_split': 5,\n",
              "   'n_estimators': 152},\n",
              "  {'max_depth': 6,\n",
              "   'max_features': 'sqrt',\n",
              "   'min_samples_leaf': 2,\n",
              "   'min_samples_split': 10,\n",
              "   'n_estimators': 200},\n",
              "  {'max_depth': 6,\n",
              "   'max_features': 'sqrt',\n",
              "   'min_samples_leaf': 2,\n",
              "   'min_samples_split': 5,\n",
              "   'n_estimators': 200},\n",
              "  {'max_depth': 10,\n",
              "   'max_features': 'auto',\n",
              "   'min_samples_leaf': 4,\n",
              "   'min_samples_split': 5,\n",
              "   'n_estimators': 105},\n",
              "  {'max_depth': None,\n",
              "   'max_features': 'sqrt',\n",
              "   'min_samples_leaf': 4,\n",
              "   'min_samples_split': 5,\n",
              "   'n_estimators': 152},\n",
              "  {'max_depth': 6,\n",
              "   'max_features': 'auto',\n",
              "   'min_samples_leaf': 2,\n",
              "   'min_samples_split': 10,\n",
              "   'n_estimators': 57},\n",
              "  {'max_depth': 2,\n",
              "   'max_features': 'auto',\n",
              "   'min_samples_leaf': 2,\n",
              "   'min_samples_split': 10,\n",
              "   'n_estimators': 200},\n",
              "  {'max_depth': 8,\n",
              "   'max_features': 'sqrt',\n",
              "   'min_samples_leaf': 2,\n",
              "   'min_samples_split': 5,\n",
              "   'n_estimators': 152},\n",
              "  {'max_depth': 4,\n",
              "   'max_features': 'auto',\n",
              "   'min_samples_leaf': 2,\n",
              "   'min_samples_split': 10,\n",
              "   'n_estimators': 10},\n",
              "  {'max_depth': None,\n",
              "   'max_features': 'auto',\n",
              "   'min_samples_leaf': 2,\n",
              "   'min_samples_split': 10,\n",
              "   'n_estimators': 57},\n",
              "  {'max_depth': 6,\n",
              "   'max_features': 'sqrt',\n",
              "   'min_samples_leaf': 4,\n",
              "   'min_samples_split': 5,\n",
              "   'n_estimators': 200},\n",
              "  {'max_depth': 10,\n",
              "   'max_features': 'auto',\n",
              "   'min_samples_leaf': 2,\n",
              "   'min_samples_split': 10,\n",
              "   'n_estimators': 152},\n",
              "  {'max_depth': 6,\n",
              "   'max_features': 'sqrt',\n",
              "   'min_samples_leaf': 4,\n",
              "   'min_samples_split': 5,\n",
              "   'n_estimators': 152},\n",
              "  {'max_depth': None,\n",
              "   'max_features': 'sqrt',\n",
              "   'min_samples_leaf': 4,\n",
              "   'min_samples_split': 5,\n",
              "   'n_estimators': 10},\n",
              "  {'max_depth': 10,\n",
              "   'max_features': 'sqrt',\n",
              "   'min_samples_leaf': 2,\n",
              "   'min_samples_split': 10,\n",
              "   'n_estimators': 10},\n",
              "  {'max_depth': 2,\n",
              "   'max_features': 'auto',\n",
              "   'min_samples_leaf': 4,\n",
              "   'min_samples_split': 10,\n",
              "   'n_estimators': 10},\n",
              "  {'max_depth': 8,\n",
              "   'max_features': 'sqrt',\n",
              "   'min_samples_leaf': 4,\n",
              "   'min_samples_split': 5,\n",
              "   'n_estimators': 105},\n",
              "  {'max_depth': 8,\n",
              "   'max_features': 'auto',\n",
              "   'min_samples_leaf': 2,\n",
              "   'min_samples_split': 10,\n",
              "   'n_estimators': 10},\n",
              "  {'max_depth': 8,\n",
              "   'max_features': 'auto',\n",
              "   'min_samples_leaf': 2,\n",
              "   'min_samples_split': 10,\n",
              "   'n_estimators': 105},\n",
              "  {'max_depth': 2,\n",
              "   'max_features': 'auto',\n",
              "   'min_samples_leaf': 4,\n",
              "   'min_samples_split': 10,\n",
              "   'n_estimators': 200},\n",
              "  {'max_depth': None,\n",
              "   'max_features': 'sqrt',\n",
              "   'min_samples_leaf': 4,\n",
              "   'min_samples_split': 10,\n",
              "   'n_estimators': 10},\n",
              "  {'max_depth': 2,\n",
              "   'max_features': 'sqrt',\n",
              "   'min_samples_leaf': 4,\n",
              "   'min_samples_split': 5,\n",
              "   'n_estimators': 10},\n",
              "  {'max_depth': 10,\n",
              "   'max_features': 'auto',\n",
              "   'min_samples_leaf': 4,\n",
              "   'min_samples_split': 10,\n",
              "   'n_estimators': 57},\n",
              "  {'max_depth': 8,\n",
              "   'max_features': 'sqrt',\n",
              "   'min_samples_leaf': 4,\n",
              "   'min_samples_split': 5,\n",
              "   'n_estimators': 10},\n",
              "  {'max_depth': 2,\n",
              "   'max_features': 'auto',\n",
              "   'min_samples_leaf': 4,\n",
              "   'min_samples_split': 5,\n",
              "   'n_estimators': 10},\n",
              "  {'max_depth': None,\n",
              "   'max_features': 'auto',\n",
              "   'min_samples_leaf': 2,\n",
              "   'min_samples_split': 5,\n",
              "   'n_estimators': 57},\n",
              "  {'max_depth': None,\n",
              "   'max_features': 'sqrt',\n",
              "   'min_samples_leaf': 4,\n",
              "   'min_samples_split': 10,\n",
              "   'n_estimators': 105},\n",
              "  {'max_depth': 8,\n",
              "   'max_features': 'sqrt',\n",
              "   'min_samples_leaf': 4,\n",
              "   'min_samples_split': 5,\n",
              "   'n_estimators': 152},\n",
              "  {'max_depth': 6,\n",
              "   'max_features': 'auto',\n",
              "   'min_samples_leaf': 4,\n",
              "   'min_samples_split': 10,\n",
              "   'n_estimators': 57},\n",
              "  {'max_depth': None,\n",
              "   'max_features': 'sqrt',\n",
              "   'min_samples_leaf': 2,\n",
              "   'min_samples_split': 10,\n",
              "   'n_estimators': 152},\n",
              "  {'max_depth': 2,\n",
              "   'max_features': 'sqrt',\n",
              "   'min_samples_leaf': 2,\n",
              "   'min_samples_split': 10,\n",
              "   'n_estimators': 10},\n",
              "  {'max_depth': 10,\n",
              "   'max_features': 'sqrt',\n",
              "   'min_samples_leaf': 2,\n",
              "   'min_samples_split': 5,\n",
              "   'n_estimators': 105},\n",
              "  {'max_depth': 2,\n",
              "   'max_features': 'auto',\n",
              "   'min_samples_leaf': 4,\n",
              "   'min_samples_split': 10,\n",
              "   'n_estimators': 152},\n",
              "  {'max_depth': 4,\n",
              "   'max_features': 'sqrt',\n",
              "   'min_samples_leaf': 2,\n",
              "   'min_samples_split': 10,\n",
              "   'n_estimators': 200},\n",
              "  {'max_depth': 10,\n",
              "   'max_features': 'sqrt',\n",
              "   'min_samples_leaf': 4,\n",
              "   'min_samples_split': 5,\n",
              "   'n_estimators': 105},\n",
              "  {'max_depth': 4,\n",
              "   'max_features': 'auto',\n",
              "   'min_samples_leaf': 4,\n",
              "   'min_samples_split': 10,\n",
              "   'n_estimators': 10},\n",
              "  {'max_depth': 4,\n",
              "   'max_features': 'sqrt',\n",
              "   'min_samples_leaf': 4,\n",
              "   'min_samples_split': 10,\n",
              "   'n_estimators': 200},\n",
              "  {'max_depth': 10,\n",
              "   'max_features': 'auto',\n",
              "   'min_samples_leaf': 4,\n",
              "   'min_samples_split': 10,\n",
              "   'n_estimators': 10},\n",
              "  {'max_depth': None,\n",
              "   'max_features': 'sqrt',\n",
              "   'min_samples_leaf': 2,\n",
              "   'min_samples_split': 10,\n",
              "   'n_estimators': 105},\n",
              "  {'max_depth': 6,\n",
              "   'max_features': 'sqrt',\n",
              "   'min_samples_leaf': 4,\n",
              "   'min_samples_split': 5,\n",
              "   'n_estimators': 105},\n",
              "  {'max_depth': None,\n",
              "   'max_features': 'sqrt',\n",
              "   'min_samples_leaf': 2,\n",
              "   'min_samples_split': 5,\n",
              "   'n_estimators': 57},\n",
              "  {'max_depth': 2,\n",
              "   'max_features': 'auto',\n",
              "   'min_samples_leaf': 4,\n",
              "   'min_samples_split': 10,\n",
              "   'n_estimators': 57},\n",
              "  {'max_depth': 8,\n",
              "   'max_features': 'sqrt',\n",
              "   'min_samples_leaf': 4,\n",
              "   'min_samples_split': 10,\n",
              "   'n_estimators': 57},\n",
              "  {'max_depth': 4,\n",
              "   'max_features': 'sqrt',\n",
              "   'min_samples_leaf': 2,\n",
              "   'min_samples_split': 10,\n",
              "   'n_estimators': 57},\n",
              "  {'max_depth': 10,\n",
              "   'max_features': 'auto',\n",
              "   'min_samples_leaf': 2,\n",
              "   'min_samples_split': 10,\n",
              "   'n_estimators': 10},\n",
              "  {'max_depth': 2,\n",
              "   'max_features': 'sqrt',\n",
              "   'min_samples_leaf': 4,\n",
              "   'min_samples_split': 10,\n",
              "   'n_estimators': 152},\n",
              "  {'max_depth': 8,\n",
              "   'max_features': 'auto',\n",
              "   'min_samples_leaf': 4,\n",
              "   'min_samples_split': 10,\n",
              "   'n_estimators': 200},\n",
              "  {'max_depth': 4,\n",
              "   'max_features': 'sqrt',\n",
              "   'min_samples_leaf': 2,\n",
              "   'min_samples_split': 5,\n",
              "   'n_estimators': 10},\n",
              "  {'max_depth': None,\n",
              "   'max_features': 'auto',\n",
              "   'min_samples_leaf': 2,\n",
              "   'min_samples_split': 5,\n",
              "   'n_estimators': 200},\n",
              "  {'max_depth': 10,\n",
              "   'max_features': 'sqrt',\n",
              "   'min_samples_leaf': 2,\n",
              "   'min_samples_split': 10,\n",
              "   'n_estimators': 57},\n",
              "  {'max_depth': None,\n",
              "   'max_features': 'auto',\n",
              "   'min_samples_leaf': 2,\n",
              "   'min_samples_split': 10,\n",
              "   'n_estimators': 105},\n",
              "  {'max_depth': 10,\n",
              "   'max_features': 'sqrt',\n",
              "   'min_samples_leaf': 4,\n",
              "   'min_samples_split': 5,\n",
              "   'n_estimators': 152},\n",
              "  {'max_depth': None,\n",
              "   'max_features': 'sqrt',\n",
              "   'min_samples_leaf': 2,\n",
              "   'min_samples_split': 5,\n",
              "   'n_estimators': 200},\n",
              "  {'max_depth': None,\n",
              "   'max_features': 'auto',\n",
              "   'min_samples_leaf': 2,\n",
              "   'min_samples_split': 10,\n",
              "   'n_estimators': 200},\n",
              "  {'max_depth': 6,\n",
              "   'max_features': 'sqrt',\n",
              "   'min_samples_leaf': 4,\n",
              "   'min_samples_split': 10,\n",
              "   'n_estimators': 10},\n",
              "  {'max_depth': None,\n",
              "   'max_features': 'auto',\n",
              "   'min_samples_leaf': 4,\n",
              "   'min_samples_split': 10,\n",
              "   'n_estimators': 200},\n",
              "  {'max_depth': 4,\n",
              "   'max_features': 'sqrt',\n",
              "   'min_samples_leaf': 4,\n",
              "   'min_samples_split': 5,\n",
              "   'n_estimators': 152},\n",
              "  {'max_depth': 8,\n",
              "   'max_features': 'auto',\n",
              "   'min_samples_leaf': 4,\n",
              "   'min_samples_split': 10,\n",
              "   'n_estimators': 57},\n",
              "  {'max_depth': 6,\n",
              "   'max_features': 'auto',\n",
              "   'min_samples_leaf': 4,\n",
              "   'min_samples_split': 10,\n",
              "   'n_estimators': 10},\n",
              "  {'max_depth': 8,\n",
              "   'max_features': 'auto',\n",
              "   'min_samples_leaf': 2,\n",
              "   'min_samples_split': 10,\n",
              "   'n_estimators': 57},\n",
              "  {'max_depth': 8,\n",
              "   'max_features': 'auto',\n",
              "   'min_samples_leaf': 2,\n",
              "   'min_samples_split': 5,\n",
              "   'n_estimators': 10},\n",
              "  {'max_depth': 4,\n",
              "   'max_features': 'sqrt',\n",
              "   'min_samples_leaf': 2,\n",
              "   'min_samples_split': 10,\n",
              "   'n_estimators': 105},\n",
              "  {'max_depth': 6,\n",
              "   'max_features': 'sqrt',\n",
              "   'min_samples_leaf': 2,\n",
              "   'min_samples_split': 5,\n",
              "   'n_estimators': 57},\n",
              "  {'max_depth': 4,\n",
              "   'max_features': 'sqrt',\n",
              "   'min_samples_leaf': 2,\n",
              "   'min_samples_split': 10,\n",
              "   'n_estimators': 152},\n",
              "  {'max_depth': 6,\n",
              "   'max_features': 'sqrt',\n",
              "   'min_samples_leaf': 2,\n",
              "   'min_samples_split': 10,\n",
              "   'n_estimators': 152},\n",
              "  {'max_depth': 6,\n",
              "   'max_features': 'auto',\n",
              "   'min_samples_leaf': 2,\n",
              "   'min_samples_split': 5,\n",
              "   'n_estimators': 200},\n",
              "  {'max_depth': 6,\n",
              "   'max_features': 'sqrt',\n",
              "   'min_samples_leaf': 4,\n",
              "   'min_samples_split': 10,\n",
              "   'n_estimators': 105},\n",
              "  {'max_depth': 10,\n",
              "   'max_features': 'sqrt',\n",
              "   'min_samples_leaf': 4,\n",
              "   'min_samples_split': 5,\n",
              "   'n_estimators': 200},\n",
              "  {'max_depth': 10,\n",
              "   'max_features': 'auto',\n",
              "   'min_samples_leaf': 4,\n",
              "   'min_samples_split': 10,\n",
              "   'n_estimators': 105},\n",
              "  {'max_depth': 6,\n",
              "   'max_features': 'sqrt',\n",
              "   'min_samples_leaf': 4,\n",
              "   'min_samples_split': 5,\n",
              "   'n_estimators': 57},\n",
              "  {'max_depth': 2,\n",
              "   'max_features': 'sqrt',\n",
              "   'min_samples_leaf': 2,\n",
              "   'min_samples_split': 10,\n",
              "   'n_estimators': 200},\n",
              "  {'max_depth': 8,\n",
              "   'max_features': 'auto',\n",
              "   'min_samples_leaf': 2,\n",
              "   'min_samples_split': 5,\n",
              "   'n_estimators': 200},\n",
              "  {'max_depth': 4,\n",
              "   'max_features': 'sqrt',\n",
              "   'min_samples_leaf': 4,\n",
              "   'min_samples_split': 10,\n",
              "   'n_estimators': 10},\n",
              "  {'max_depth': 6,\n",
              "   'max_features': 'auto',\n",
              "   'min_samples_leaf': 2,\n",
              "   'min_samples_split': 5,\n",
              "   'n_estimators': 105},\n",
              "  {'max_depth': 2,\n",
              "   'max_features': 'auto',\n",
              "   'min_samples_leaf': 2,\n",
              "   'min_samples_split': 10,\n",
              "   'n_estimators': 10},\n",
              "  {'max_depth': 4,\n",
              "   'max_features': 'auto',\n",
              "   'min_samples_leaf': 4,\n",
              "   'min_samples_split': 10,\n",
              "   'n_estimators': 57},\n",
              "  {'max_depth': 10,\n",
              "   'max_features': 'auto',\n",
              "   'min_samples_leaf': 2,\n",
              "   'min_samples_split': 5,\n",
              "   'n_estimators': 200},\n",
              "  {'max_depth': 8,\n",
              "   'max_features': 'sqrt',\n",
              "   'min_samples_leaf': 4,\n",
              "   'min_samples_split': 10,\n",
              "   'n_estimators': 200},\n",
              "  {'max_depth': 6,\n",
              "   'max_features': 'auto',\n",
              "   'min_samples_leaf': 4,\n",
              "   'min_samples_split': 10,\n",
              "   'n_estimators': 105},\n",
              "  {'max_depth': 4,\n",
              "   'max_features': 'sqrt',\n",
              "   'min_samples_leaf': 2,\n",
              "   'min_samples_split': 10,\n",
              "   'n_estimators': 10},\n",
              "  {'max_depth': None,\n",
              "   'max_features': 'auto',\n",
              "   'min_samples_leaf': 4,\n",
              "   'min_samples_split': 5,\n",
              "   'n_estimators': 105},\n",
              "  {'max_depth': None,\n",
              "   'max_features': 'auto',\n",
              "   'min_samples_leaf': 2,\n",
              "   'min_samples_split': 10,\n",
              "   'n_estimators': 152},\n",
              "  {'max_depth': 8,\n",
              "   'max_features': 'sqrt',\n",
              "   'min_samples_leaf': 2,\n",
              "   'min_samples_split': 5,\n",
              "   'n_estimators': 105},\n",
              "  {'max_depth': 2,\n",
              "   'max_features': 'sqrt',\n",
              "   'min_samples_leaf': 4,\n",
              "   'min_samples_split': 5,\n",
              "   'n_estimators': 57},\n",
              "  {'max_depth': 2,\n",
              "   'max_features': 'auto',\n",
              "   'min_samples_leaf': 4,\n",
              "   'min_samples_split': 5,\n",
              "   'n_estimators': 105},\n",
              "  {'max_depth': 2,\n",
              "   'max_features': 'sqrt',\n",
              "   'min_samples_leaf': 4,\n",
              "   'min_samples_split': 10,\n",
              "   'n_estimators': 10},\n",
              "  {'max_depth': 2,\n",
              "   'max_features': 'sqrt',\n",
              "   'min_samples_leaf': 2,\n",
              "   'min_samples_split': 10,\n",
              "   'n_estimators': 152},\n",
              "  {'max_depth': 4,\n",
              "   'max_features': 'auto',\n",
              "   'min_samples_leaf': 2,\n",
              "   'min_samples_split': 5,\n",
              "   'n_estimators': 105},\n",
              "  {'max_depth': None,\n",
              "   'max_features': 'sqrt',\n",
              "   'min_samples_leaf': 2,\n",
              "   'min_samples_split': 5,\n",
              "   'n_estimators': 152},\n",
              "  {'max_depth': 8,\n",
              "   'max_features': 'sqrt',\n",
              "   'min_samples_leaf': 2,\n",
              "   'min_samples_split': 10,\n",
              "   'n_estimators': 152},\n",
              "  {'max_depth': 10,\n",
              "   'max_features': 'auto',\n",
              "   'min_samples_leaf': 2,\n",
              "   'min_samples_split': 5,\n",
              "   'n_estimators': 57},\n",
              "  {'max_depth': 4,\n",
              "   'max_features': 'auto',\n",
              "   'min_samples_leaf': 4,\n",
              "   'min_samples_split': 5,\n",
              "   'n_estimators': 57},\n",
              "  {'max_depth': 8,\n",
              "   'max_features': 'auto',\n",
              "   'min_samples_leaf': 4,\n",
              "   'min_samples_split': 10,\n",
              "   'n_estimators': 105},\n",
              "  {'max_depth': 10,\n",
              "   'max_features': 'sqrt',\n",
              "   'min_samples_leaf': 4,\n",
              "   'min_samples_split': 5,\n",
              "   'n_estimators': 10},\n",
              "  {'max_depth': 4,\n",
              "   'max_features': 'sqrt',\n",
              "   'min_samples_leaf': 4,\n",
              "   'min_samples_split': 10,\n",
              "   'n_estimators': 57},\n",
              "  {'max_depth': 4,\n",
              "   'max_features': 'auto',\n",
              "   'min_samples_leaf': 2,\n",
              "   'min_samples_split': 5,\n",
              "   'n_estimators': 57},\n",
              "  {'max_depth': 10,\n",
              "   'max_features': 'auto',\n",
              "   'min_samples_leaf': 2,\n",
              "   'min_samples_split': 5,\n",
              "   'n_estimators': 105},\n",
              "  {'max_depth': 8,\n",
              "   'max_features': 'sqrt',\n",
              "   'min_samples_leaf': 2,\n",
              "   'min_samples_split': 10,\n",
              "   'n_estimators': 57}],\n",
              " 'rank_test_score': array([ 87,  84,  59,  57,  61,  23,  14,  50,  93,  37,  72,  15,  62,\n",
              "         22,  60,  30,  47, 100,  43,  47,  31,  86,  25,  96,  26,  52,\n",
              "         88,  13,  12,  40,  65,   3,  98,  17,  91,  79,  28,  82,  78,\n",
              "         45,   2,  52,   4,  90,  41,  76,  46,  97,  33,  83,   8,  20,\n",
              "          9,  27,   6,   6,  67,   5,  75,  29,  66,  32,  49,  70,  55,\n",
              "         69,  56,  51,  58,  19,  24,  64,  85,  38,  81,  63,  99,  68,\n",
              "         16,  33,  54,  80,  11,   1,  33,  95,  94,  89,  92,  71,  10,\n",
              "         36,  21,  74,  39,  44,  77,  73,  17,  42], dtype=int32),\n",
              " 'split0_test_score': array([0.79381443, 0.81423473, 0.879659  , 0.87767645, 0.87628866,\n",
              "        0.89710547, 0.9036479 , 0.87985726, 0.7944092 , 0.89155432,\n",
              "        0.85507534, 0.90047581, 0.88045202, 0.89571768, 0.87906423,\n",
              "        0.89175258, 0.89135607, 0.79758128, 0.88818398, 0.88025377,\n",
              "        0.89333862, 0.79579699, 0.89770024, 0.78053132, 0.89571768,\n",
              "        0.87946075, 0.79381443, 0.90206186, 0.9018636 , 0.88996828,\n",
              "        0.8739096 , 0.90344964, 0.78925456, 0.89551943, 0.79321967,\n",
              "        0.85527359, 0.89413164, 0.82969865, 0.85804917, 0.88005551,\n",
              "        0.90424266, 0.88084853, 0.9036479 , 0.81145916, 0.89214909,\n",
              "        0.85844568, 0.88996828, 0.78945282, 0.88917526, 0.84080095,\n",
              "        0.90265662, 0.89472641, 0.90463918, 0.89512292, 0.90245837,\n",
              "        0.90344964, 0.87232355, 0.90444092, 0.85983347, 0.89314036,\n",
              "        0.87648692, 0.888977  , 0.88183981, 0.85943695, 0.87807296,\n",
              "        0.85963521, 0.88065028, 0.879659  , 0.87906423, 0.89651071,\n",
              "        0.89591594, 0.87747819, 0.80888184, 0.888977  , 0.84575734,\n",
              "        0.87589215, 0.78429818, 0.85765266, 0.89869151, 0.89036479,\n",
              "        0.87767645, 0.83643933, 0.90245837, 0.90642347, 0.888977  ,\n",
              "        0.79421094, 0.80154639, 0.80432197, 0.79877082, 0.85804917,\n",
              "        0.90126883, 0.89036479, 0.89571768, 0.86221253, 0.88798573,\n",
              "        0.88362411, 0.8538858 , 0.86360032, 0.89551943, 0.888977  ]),\n",
              " 'split0_train_score': array([0.79851264, 0.81368369, 0.89023302, 0.89271195, 0.88993555,\n",
              "        0.92999504, 0.95547843, 0.89251363, 0.79563708, 0.9155181 ,\n",
              "        0.85929598, 0.96281606, 0.88953892, 0.93158156, 0.89172038,\n",
              "        0.94447199, 0.92464056, 0.79990084, 0.91254338, 0.90252851,\n",
              "        0.91512147, 0.7993059 , 0.9446703 , 0.78235002, 0.92830937,\n",
              "        0.90282598, 0.80009916, 0.97868121, 0.95389192, 0.91531978,\n",
              "        0.88666336, 0.96638572, 0.78879524, 0.93455627, 0.79643034,\n",
              "        0.85612295, 0.92969757, 0.83123451, 0.86058503, 0.91254338,\n",
              "        0.96559246, 0.89142291, 0.979177  , 0.81199802, 0.91313832,\n",
              "        0.85592464, 0.92622707, 0.79266237, 0.91125434, 0.84670302,\n",
              "        0.9812593 , 0.93019336, 0.96539415, 0.92850768, 0.98026772,\n",
              "        0.96717898, 0.88319286, 0.95448686, 0.86524541, 0.91432821,\n",
              "        0.88775409, 0.9134358 , 0.91075855, 0.85969261, 0.88884482,\n",
              "        0.86385721, 0.89062965, 0.89340605, 0.88973723, 0.92880516,\n",
              "        0.9280119 , 0.89191869, 0.80991572, 0.91541894, 0.84828954,\n",
              "        0.88973723, 0.78413485, 0.8608825 , 0.93802677, 0.91284085,\n",
              "        0.88815072, 0.83787804, 0.9557759 , 0.96519584, 0.91581557,\n",
              "        0.7958354 , 0.80317303, 0.80704016, 0.80297471, 0.85969261,\n",
              "        0.98026772, 0.91363411, 0.93802677, 0.86415469, 0.91155181,\n",
              "        0.91512147, 0.8546356 , 0.86613783, 0.93683689, 0.91284085]),\n",
              " 'split1_test_score': array([0.80785247, 0.81479278, 0.8774539 , 0.87586754, 0.87904025,\n",
              "        0.89311918, 0.89549871, 0.88201467, 0.80884394, 0.88796351,\n",
              "        0.86853064, 0.89767995, 0.87785049, 0.89549871, 0.87765219,\n",
              "        0.89331747, 0.88994646, 0.76720206, 0.88875669, 0.8883601 ,\n",
              "        0.88954987, 0.8104303 , 0.89430894, 0.83957962, 0.89311918,\n",
              "        0.87051358, 0.78901448, 0.8996629 , 0.8994646 , 0.88974817,\n",
              "        0.87884196, 0.90025778, 0.79397184, 0.8958953 , 0.80586952,\n",
              "        0.85108071, 0.89192941, 0.83501884, 0.85008923, 0.88816181,\n",
              "        0.90124926, 0.87884196, 0.90105096, 0.80527464, 0.88340274,\n",
              "        0.84810629, 0.87983343, 0.80924053, 0.88895499, 0.84076938,\n",
              "        0.90085267, 0.89708507, 0.89767995, 0.89292088, 0.90263732,\n",
              "        0.90045608, 0.86932382, 0.90085267, 0.85187388, 0.89351576,\n",
              "        0.86912552, 0.89073964, 0.88360103, 0.85802102, 0.87904025,\n",
              "        0.85980567, 0.87646242, 0.88062661, 0.87646242, 0.89490383,\n",
              "        0.89430894, 0.87626413, 0.80725758, 0.88895499, 0.81856038,\n",
              "        0.8774539 , 0.77572873, 0.86159032, 0.89708507, 0.88895499,\n",
              "        0.8810232 , 0.84513187, 0.8994646 , 0.90124926, 0.88895499,\n",
              "        0.79813603, 0.79575649, 0.80111045, 0.80230022, 0.85782272,\n",
              "        0.90204244, 0.89133452, 0.89311918, 0.85623637, 0.88796351,\n",
              "        0.88935158, 0.85385683, 0.85623637, 0.89688677, 0.88736863]),\n",
              " 'split1_train_score': array([0.8123141 , 0.82004759, 0.89083879, 0.88945072, 0.88925243,\n",
              "        0.92593694, 0.95647432, 0.89123538, 0.80725758, 0.91156058,\n",
              "        0.87487607, 0.96510014, 0.88984731, 0.93238152, 0.89093793,\n",
              "        0.9478485 , 0.92088043, 0.77404323, 0.9071981 , 0.90729724,\n",
              "        0.91106484, 0.81469363, 0.94229625, 0.83392822, 0.92692842,\n",
              "        0.89430894, 0.78891533, 0.97907991, 0.95330161, 0.90947849,\n",
              "        0.88915328, 0.96658735, 0.79079913, 0.93624826, 0.80358913,\n",
              "        0.85921079, 0.92841563, 0.84701567, 0.8588142 , 0.91562562,\n",
              "        0.96510014, 0.88607971, 0.9813603 , 0.80636526, 0.90660321,\n",
              "        0.85494745, 0.91731112, 0.80963712, 0.91175887, 0.8458259 ,\n",
              "        0.98046798, 0.93119175, 0.96688479, 0.92772159, 0.98175689,\n",
              "        0.96579417, 0.8753718 , 0.95379734, 0.8569304 , 0.91235376,\n",
              "        0.87834622, 0.91512988, 0.90313306, 0.86248265, 0.8904422 ,\n",
              "        0.86466389, 0.88717034, 0.89391235, 0.88875669, 0.93089431,\n",
              "        0.92712671, 0.88717034, 0.81082689, 0.91275035, 0.82450922,\n",
              "        0.89064049, 0.76968075, 0.86575451, 0.93575253, 0.91056911,\n",
              "        0.89083879, 0.85236962, 0.95756494, 0.96658735, 0.91403926,\n",
              "        0.79545905, 0.79436843, 0.80130874, 0.79863177, 0.86387071,\n",
              "        0.98165774, 0.91255205, 0.93367043, 0.86188777, 0.90828872,\n",
              "        0.92316082, 0.85792187, 0.86337498, 0.93604997, 0.91245291]),\n",
              " 'split2_test_score': array([0.81336771, 0.82427608, 0.87286791, 0.87742959, 0.87405791,\n",
              "        0.89448631, 0.89944466, 0.87723126, 0.798691  , 0.88675129,\n",
              "        0.84510115, 0.900238  , 0.87068624, 0.89369298, 0.87306624,\n",
              "        0.89170964, 0.87346291, 0.75545418, 0.88516462, 0.88615629,\n",
              "        0.88813963, 0.8097977 , 0.88932963, 0.77231257, 0.89210631,\n",
              "        0.88516462, 0.8296311 , 0.89984133, 0.900833  , 0.88476795,\n",
              "        0.86533122, 0.90360968, 0.7893693 , 0.89746132, 0.80563269,\n",
              "        0.85184451, 0.89309798, 0.84510115, 0.85144784, 0.88893296,\n",
              "        0.90460135, 0.87544625, 0.90202301, 0.78817929, 0.88873463,\n",
              "        0.85660452, 0.88556129, 0.78143594, 0.89111464, 0.81812773,\n",
              "        0.90122967, 0.89428798, 0.90202301, 0.89230464, 0.900833  ,\n",
              "        0.90202301, 0.86533122, 0.90122967, 0.85362951, 0.8909163 ,\n",
              "        0.8710829 , 0.89071797, 0.87623959, 0.85303451, 0.87604125,\n",
              "        0.85501785, 0.87405791, 0.87584292, 0.87465292, 0.89488298,\n",
              "        0.89389131, 0.8698929 , 0.81614439, 0.88794129, 0.85581119,\n",
              "        0.87524792, 0.80483935, 0.85660452, 0.89646965, 0.88992463,\n",
              "        0.87504958, 0.84966283, 0.900833  , 0.90380801, 0.89131297,\n",
              "        0.80146767, 0.80424435, 0.80027767, 0.80325268, 0.85382785,\n",
              "        0.89984133, 0.88734629, 0.89646965, 0.84807616, 0.88893296,\n",
              "        0.88794129, 0.85323284, 0.84767949, 0.89646965, 0.88714796]),\n",
              " 'split2_train_score': array([0.81768613, 0.83493606, 0.89084961, 0.89114702, 0.89124616,\n",
              "        0.92931496, 0.9579657 , 0.89273322, 0.80668187, 0.91503916,\n",
              "        0.85020323, 0.96659066, 0.88876772, 0.9325865 , 0.8897591 ,\n",
              "        0.94725885, 0.91444433, 0.75879845, 0.90899177, 0.91285813,\n",
              "        0.90998315, 0.81540597, 0.94339249, 0.77951819, 0.92564687,\n",
              "        0.90988401, 0.82938436, 0.97947854, 0.95459502, 0.90909091,\n",
              "        0.88361257, 0.96867255, 0.78784574, 0.93764251, 0.81163874,\n",
              "        0.86368593, 0.93070288, 0.85476356, 0.86398334, 0.92197878,\n",
              "        0.96768117, 0.89075047, 0.98086646, 0.7972638 , 0.90988401,\n",
              "        0.8675523 , 0.91642708, 0.79062159, 0.91305641, 0.82650937,\n",
              "        0.98156042, 0.93159512, 0.96758204, 0.92872013, 0.98225439,\n",
              "        0.96817686, 0.88093586, 0.95598295, 0.86537127, 0.91464261,\n",
              "        0.88718152, 0.912759  , 0.9072073 , 0.86477644, 0.89233667,\n",
              "        0.86457817, 0.8913453 , 0.89342718, 0.89005651, 0.93139685,\n",
              "        0.9278279 , 0.88708238, 0.82066026, 0.91226331, 0.86586696,\n",
              "        0.89114702, 0.81332408, 0.86725488, 0.93784079, 0.91226331,\n",
              "        0.88827203, 0.86269456, 0.95816397, 0.96887082, 0.91781501,\n",
              "        0.80241896, 0.81074651, 0.80529394, 0.80797066, 0.86745316,\n",
              "        0.98275007, 0.91503916, 0.93704769, 0.85932388, 0.91285813,\n",
              "        0.92346585, 0.86467731, 0.86130663, 0.93744424, 0.91345296]),\n",
              " 'std_fit_time': array([0.00453181, 0.01832867, 0.01385539, 0.00498585, 0.0175753 ,\n",
              "        0.01854088, 0.01376966, 0.00476618, 0.00671002, 0.03768782,\n",
              "        0.00226715, 0.00170052, 0.01954251, 0.02178431, 0.00399879,\n",
              "        0.002562  , 0.00425026, 0.000636  , 0.03711115, 0.00618859,\n",
              "        0.01013665, 0.00550675, 0.0026253 , 0.0076189 , 0.04670629,\n",
              "        0.00038793, 0.00218536, 0.00133423, 0.01664242, 0.03730327,\n",
              "        0.00098984, 0.01280802, 0.00389839, 0.00782018, 0.01034927,\n",
              "        0.04073661, 0.02074586, 0.00245902, 0.00696937, 0.00223121,\n",
              "        0.012182  , 0.0042043 , 0.0181985 , 0.00485459, 0.01162799,\n",
              "        0.0065237 , 0.00269914, 0.00059082, 0.04069911, 0.00206633,\n",
              "        0.05186086, 0.0132216 , 0.01638092, 0.0065844 , 0.00401062,\n",
              "        0.02451225, 0.00311955, 0.0262228 , 0.02755933, 0.01105833,\n",
              "        0.00164957, 0.0049396 , 0.00342431, 0.00397866, 0.0057512 ,\n",
              "        0.00930161, 0.01183806, 0.01071585, 0.00812332, 0.01538933,\n",
              "        0.00223586, 0.00734259, 0.02273832, 0.02098158, 0.0026171 ,\n",
              "        0.01315223, 0.00403105, 0.00398048, 0.01249062, 0.0094629 ,\n",
              "        0.037193  , 0.0107093 , 0.01024936, 0.02444342, 0.0108058 ,\n",
              "        0.0073779 , 0.02019274, 0.00254152, 0.0046802 , 0.00992492,\n",
              "        0.02922265, 0.01852843, 0.02232265, 0.00544749, 0.02403571,\n",
              "        0.0018424 , 0.00807222, 0.0066836 , 0.00510765, 0.09745615]),\n",
              " 'std_score_time': array([1.36739968e-03, 1.23069446e-03, 1.42152262e-03, 2.24455979e-04,\n",
              "        9.38085652e-04, 1.29890403e-03, 1.67425348e-02, 1.38292950e-03,\n",
              "        1.28418366e-03, 1.46366684e-03, 1.15465997e-04, 3.12248633e-04,\n",
              "        2.97521723e-03, 1.26311671e-03, 1.55594260e-03, 2.05849772e-04,\n",
              "        8.27511319e-05, 1.27867658e-04, 1.89916884e-03, 6.82730611e-05,\n",
              "        1.12151625e-03, 3.20067646e-04, 1.13047119e-04, 2.66259178e-04,\n",
              "        1.08967572e-03, 3.79994357e-04, 1.79750006e-04, 9.68464153e-04,\n",
              "        4.33361226e-04, 4.68973243e-03, 3.92162913e-03, 3.49927891e-04,\n",
              "        5.26555527e-05, 2.25193880e-03, 2.61019241e-04, 1.14789949e-03,\n",
              "        1.82709660e-03, 1.10812471e-04, 1.42301850e-03, 1.42736929e-04,\n",
              "        2.09861503e-03, 1.81736934e-03, 2.16565201e-03, 5.57758727e-04,\n",
              "        3.81800604e-03, 8.48985167e-04, 2.07673607e-04, 3.51544743e-04,\n",
              "        2.30588178e-03, 7.67772815e-05, 1.97408802e-03, 8.60289151e-04,\n",
              "        1.74094496e-03, 1.41692074e-03, 4.22252556e-03, 3.03060609e-03,\n",
              "        1.89742980e-04, 2.59010548e-04, 2.16001359e-03, 2.15255611e-04,\n",
              "        3.32313214e-04, 3.12789703e-03, 1.26445241e-04, 1.41429028e-03,\n",
              "        5.37801221e-03, 8.12326874e-04, 2.94670768e-04, 7.33672918e-04,\n",
              "        2.99885989e-04, 1.20614469e-03, 6.21934594e-04, 9.91195262e-04,\n",
              "        4.10679498e-03, 2.83782235e-03, 1.19949164e-04, 2.67131394e-03,\n",
              "        1.38242897e-04, 1.06329567e-03, 4.45365772e-03, 7.75274492e-04,\n",
              "        2.16136318e-03, 1.41016612e-04, 4.39779469e-04, 8.56690703e-04,\n",
              "        1.36714314e-03, 6.89884400e-04, 1.22201381e-03, 1.79194364e-04,\n",
              "        1.46097474e-03, 1.01183457e-03, 1.60001941e-04, 5.76436401e-04,\n",
              "        6.24575773e-04, 4.12916216e-04, 2.65494882e-03, 2.30315337e-04,\n",
              "        3.55941736e-04, 1.04058209e-03, 6.79379197e-04, 6.87747093e-03]),\n",
              " 'std_test_score': array([0.0082317 , 0.00460742, 0.00282861, 0.00080092, 0.00203764,\n",
              "        0.00165403, 0.00332761, 0.00195584, 0.00605345, 0.00203947,\n",
              "        0.00959975, 0.00126567, 0.00412925, 0.00090722, 0.00256031,\n",
              "        0.00074802, 0.00812271, 0.01775061, 0.00157569, 0.0034225 ,\n",
              "        0.00219533, 0.00675439, 0.00343768, 0.0299609 , 0.00152101,\n",
              "        0.00602967, 0.01812077, 0.00109131, 0.00098266, 0.00240115,\n",
              "        0.00558197, 0.00154375, 0.00219721, 0.00084091, 0.00590847,\n",
              "        0.00182348, 0.00089966, 0.00638731, 0.00347685, 0.00401565,\n",
              "        0.00150278, 0.00222961, 0.00107136, 0.00984548, 0.00359932,\n",
              "        0.00450333, 0.00414942, 0.01168496, 0.00097027, 0.0106803 ,\n",
              "        0.00077697, 0.00122831, 0.00287021, 0.00120979, 0.00081163,\n",
              "        0.00122262, 0.00286416, 0.00161012, 0.00341464, 0.00114713,\n",
              "        0.00311332, 0.0008259 , 0.00313838, 0.00274584, 0.00124971,\n",
              "        0.0022178 , 0.002724  , 0.002065  , 0.00181059, 0.00076249,\n",
              "        0.00087283, 0.00332658, 0.00386355, 0.00048311, 0.01573477,\n",
              "        0.00092616, 0.01221406, 0.00214632, 0.00093669, 0.00058894,\n",
              "        0.0024445 , 0.00548697, 0.00122376, 0.00211251, 0.00110636,\n",
              "        0.00296586, 0.00354084, 0.00174374, 0.00192796, 0.00193869,\n",
              "        0.00091167, 0.00169819, 0.00143537, 0.005794  , 0.00045184,\n",
              "        0.00243669, 0.0003012 , 0.0065057 , 0.00057222, 0.00081523]),\n",
              " 'std_train_score': array([0.00807576, 0.00890586, 0.00028815, 0.00133175, 0.00082727,\n",
              "        0.00177456, 0.00102212, 0.00066045, 0.00534743, 0.00176358,\n",
              "        0.01018804, 0.00155228, 0.00045404, 0.00043357, 0.00080612,\n",
              "        0.00147253, 0.0042101 , 0.01696541, 0.00222119, 0.00422118,\n",
              "        0.0022118 , 0.00742744, 0.00097015, 0.0250084 , 0.00108721,\n",
              "        0.00636779, 0.01706342, 0.00032551, 0.0005287 , 0.00284936,\n",
              "        0.00226585, 0.00103378, 0.00123106, 0.0012619 , 0.00621235,\n",
              "        0.00310484, 0.00093604, 0.00979053, 0.00214488, 0.00392838,\n",
              "        0.00111887, 0.00237622, 0.00093482, 0.00607052, 0.00266796,\n",
              "        0.00572557, 0.00442613, 0.00852381, 0.00075906, 0.00931952,\n",
              "        0.00046071, 0.0005892 , 0.00091257, 0.00042949, 0.00084406,\n",
              "        0.000977  , 0.0032867 , 0.0009123 , 0.00394973, 0.00101303,\n",
              "        0.0043063 , 0.00099717, 0.00311554, 0.00207876, 0.00142726,\n",
              "        0.00036176, 0.00182298, 0.00023385, 0.00055306, 0.0011222 ,\n",
              "        0.00038138, 0.00225941, 0.0048645 , 0.00138711, 0.01694741,\n",
              "        0.00058309, 0.01815266, 0.00272019, 0.00103105, 0.00096406,\n",
              "        0.00123956, 0.01017879, 0.00101447, 0.00151497, 0.00154234,\n",
              "        0.00319592, 0.00669261, 0.00239861, 0.00381569, 0.00317134,\n",
              "        0.00101584, 0.00101821, 0.00186613, 0.00197341, 0.00192163,\n",
              "        0.00386369, 0.00418026, 0.00197911, 0.00057078, 0.00041167])}"
            ]
          },
          "metadata": {
            "tags": []
          },
          "execution_count": 30
        }
      ]
    },
    {
      "metadata": {
        "id": "_gGSENNqJyKC",
        "colab_type": "text"
      },
      "cell_type": "markdown",
      "source": [
        "*** What hyper-parameter values work best?\n",
        "**"
      ]
    },
    {
      "metadata": {
        "scrolled": true,
        "id": "jJswq3o27kcH",
        "colab_type": "code",
        "outputId": "09bafe81-305b-4eed-fd55-643a0cf40430",
        "colab": {
          "base_uri": "https://localhost:8080/",
          "height": 103
        }
      },
      "cell_type": "code",
      "source": [
        "clf_random.best_params_ #The Hyperparameter values that work the best for the Random forest classifier "
      ],
      "execution_count": 31,
      "outputs": [
        {
          "output_type": "execute_result",
          "data": {
            "text/plain": [
              "{'max_depth': None,\n",
              " 'max_features': 'auto',\n",
              " 'min_samples_leaf': 2,\n",
              " 'min_samples_split': 10,\n",
              " 'n_estimators': 152}"
            ]
          },
          "metadata": {
            "tags": []
          },
          "execution_count": 31
        }
      ]
    },
    {
      "metadata": {
        "id": "skBpKjmPFTSo",
        "colab_type": "code",
        "colab": {
          "base_uri": "https://localhost:8080/",
          "height": 34
        },
        "outputId": "c84cbdad-c9f9-479c-9635-bd395b2b3714"
      },
      "cell_type": "code",
      "source": [
        "clf_random.best_score_ # The accuracy of classification with the specified best hyperparameters"
      ],
      "execution_count": 33,
      "outputs": [
        {
          "output_type": "execute_result",
          "data": {
            "text/plain": [
              "0.9038270870513583"
            ]
          },
          "metadata": {
            "tags": []
          },
          "execution_count": 33
        }
      ]
    },
    {
      "metadata": {
        "id": "V9Psud6CHNyI",
        "colab_type": "code",
        "colab": {
          "base_uri": "https://localhost:8080/",
          "height": 138
        },
        "outputId": "96ef502a-fd62-4844-b07a-ec1ec7801fa0"
      },
      "cell_type": "code",
      "source": [
        "clf_random.best_estimator_# Description of Random forest classifier with hyperparameters that resulted in beat fit"
      ],
      "execution_count": 34,
      "outputs": [
        {
          "output_type": "execute_result",
          "data": {
            "text/plain": [
              "RandomForestClassifier(bootstrap=True, class_weight=None, criterion='gini',\n",
              "            max_depth=None, max_features='auto', max_leaf_nodes=None,\n",
              "            min_impurity_decrease=0.0, min_impurity_split=None,\n",
              "            min_samples_leaf=2, min_samples_split=10,\n",
              "            min_weight_fraction_leaf=0.0, n_estimators=152, n_jobs=None,\n",
              "            oob_score=False, random_state=None, verbose=0,\n",
              "            warm_start=False)"
            ]
          },
          "metadata": {
            "tags": []
          },
          "execution_count": 34
        }
      ]
    },
    {
      "metadata": {
        "id": "aKCl-a7q7kcO",
        "colab_type": "text"
      },
      "cell_type": "markdown",
      "source": [
        "### Evaluate Random Search"
      ]
    },
    {
      "metadata": {
        "id": "iYvdyitb7kcQ",
        "colab_type": "code",
        "colab": {}
      },
      "cell_type": "code",
      "source": [
        "## Common Classification algorithm evaluator. It returns the roc_auc\n",
        "from sklearn.metrics import roc_curve, auc\n",
        "def evaluate(model, X_train,y_train, X_test, y_test):\n",
        "    model.fit(X_train,y_train)\n",
        "    predictions = model.predict(X_test)\n",
        "    false_positive_rate, true_positive_rate, thresholds = roc_curve(y_test, predictions)\n",
        "    roc_auc = auc(false_positive_rate, true_positive_rate)\n",
        "    #print(roc)\n",
        "    return roc_auc"
      ],
      "execution_count": 0,
      "outputs": []
    },
    {
      "metadata": {
        "id": "1gbqkNyH7kcU",
        "colab_type": "code",
        "colab": {}
      },
      "cell_type": "code",
      "source": [
        "base_model = RandomForestClassifier(n_estimators = 10, random_state = 42)"
      ],
      "execution_count": 0,
      "outputs": []
    },
    {
      "metadata": {
        "id": "TjVb2idR7kcW",
        "colab_type": "code",
        "colab": {}
      },
      "cell_type": "code",
      "source": [
        "best_random = clf_random.best_estimator_"
      ],
      "execution_count": 0,
      "outputs": []
    },
    {
      "metadata": {
        "scrolled": true,
        "id": "Ss3hb-CH7kcZ",
        "colab_type": "code",
        "outputId": "61a045c5-fe2e-44bd-929d-9b4a7845fd98",
        "colab": {
          "base_uri": "https://localhost:8080/",
          "height": 51
        }
      },
      "cell_type": "code",
      "source": [
        "print('AUC for ROC Curve for base model : ' + str(evaluate(base_model,X_train,y_train, X_test, y_test)))\n",
        "print('AUC for ROC curve for best model : ' + str(evaluate(best_random,X_train,y_train, X_test, y_test)))"
      ],
      "execution_count": 38,
      "outputs": [
        {
          "output_type": "stream",
          "text": [
            "AUC for ROC Curve for base model : 0.8875191846809128\n",
            "AUC for ROC curve for best model : 0.9002558813754722\n"
          ],
          "name": "stdout"
        }
      ]
    },
    {
      "metadata": {
        "id": "AuJqCjDO7kcc",
        "colab_type": "text"
      },
      "cell_type": "markdown",
      "source": [
        "### Grid Search with Cross Validation"
      ]
    },
    {
      "metadata": {
        "colab_type": "code",
        "id": "-iAdRJGqbyO3",
        "colab": {}
      },
      "cell_type": "code",
      "source": [
        "param_grid = {\n",
        "    'max_depth': ['None'],\n",
        "    'max_features': ['auto'],\n",
        "    'min_samples_leaf': [1,2,4],\n",
        "    'min_samples_split': [10],\n",
        "    'n_estimators': [152]\n",
        "}\n",
        "# Create a based model\n",
        "clf = RandomForestClassifier()\n",
        "# Instantiate the grid search model\n",
        "grid_search = GridSearchCV(estimator = clf, param_grid = param_grid, \n",
        "                          cv = 3, n_jobs = -1, verbose = 2)"
      ],
      "execution_count": 0,
      "outputs": []
    },
    {
      "metadata": {
        "id": "17PwZp6f7kcd",
        "colab_type": "code",
        "colab": {}
      },
      "cell_type": "code",
      "source": [
        "from sklearn.model_selection import GridSearchCV\n",
        "# Create the parameter grid based on the results of random search \n",
        "param_grid = {\n",
        "    'max_depth': ['None'],\n",
        "    'max_features': ['auto'],\n",
        "    'min_samples_leaf': [2],\n",
        "    'min_samples_split': [10],\n",
        "    'n_estimators': [10,100, 152,200, 500, 2000]\n",
        "}\n",
        "# Create a based model\n",
        "clf = RandomForestClassifier()\n",
        "# Instantiate the grid search model\n",
        "grid_search = GridSearchCV(estimator = clf, param_grid = param_grid, \n",
        "                          cv = 3, n_jobs = -1, verbose = 2)"
      ],
      "execution_count": 0,
      "outputs": []
    },
    {
      "metadata": {
        "scrolled": false,
        "id": "P82DAtZQ7kcg",
        "colab_type": "code",
        "outputId": "19938573-5099-4e22-cc70-a2f6dd142b68",
        "colab": {
          "base_uri": "https://localhost:8080/",
          "height": 349
        }
      },
      "cell_type": "code",
      "source": [
        "grid_search.fit(X_train, y_train)"
      ],
      "execution_count": 40,
      "outputs": [
        {
          "output_type": "stream",
          "text": [
            "Fitting 3 folds for each of 48 candidates, totalling 144 fits\n"
          ],
          "name": "stdout"
        },
        {
          "output_type": "stream",
          "text": [
            "[Parallel(n_jobs=-1)]: Using backend LokyBackend with 2 concurrent workers.\n",
            "/usr/local/lib/python3.6/dist-packages/sklearn/externals/joblib/externals/loky/process_executor.py:706: UserWarning: A worker stopped while some jobs were given to the executor. This can be caused by a too short worker timeout or by a memory leak.\n",
            "  \"timeout or by a memory leak.\", UserWarning\n",
            "[Parallel(n_jobs=-1)]: Done  37 tasks      | elapsed:  5.3min\n",
            "[Parallel(n_jobs=-1)]: Done 144 out of 144 | elapsed: 21.2min finished\n"
          ],
          "name": "stderr"
        },
        {
          "output_type": "execute_result",
          "data": {
            "text/plain": [
              "GridSearchCV(cv=3, error_score='raise-deprecating',\n",
              "       estimator=RandomForestClassifier(bootstrap=True, class_weight=None, criterion='gini',\n",
              "            max_depth=None, max_features='auto', max_leaf_nodes=None,\n",
              "            min_impurity_decrease=0.0, min_impurity_split=None,\n",
              "            min_samples_leaf=1, min_samples_split=2,\n",
              "            min_weight_fraction_leaf=0.0, n_estimators='warn', n_jobs=None,\n",
              "            oob_score=False, random_state=None, verbose=0,\n",
              "            warm_start=False),\n",
              "       fit_params=None, iid='warn', n_jobs=-1,\n",
              "       param_grid={'bootstrap': [True], 'max_features': ['auto'], 'min_samples_leaf': [1, 2, 3], 'min_samples_split': [5, 7, 10, 12], 'n_estimators': [100, 200, 500, 2000]},\n",
              "       pre_dispatch='2*n_jobs', refit=True, return_train_score='warn',\n",
              "       scoring=None, verbose=2)"
            ]
          },
          "metadata": {
            "tags": []
          },
          "execution_count": 40
        }
      ]
    },
    {
      "metadata": {
        "id": "jzWd01YlSBYW",
        "colab_type": "code",
        "colab": {
          "base_uri": "https://localhost:8080/",
          "height": 8045
        },
        "outputId": "bd70cd36-9e04-4749-c342-18dc4e0600ac"
      },
      "cell_type": "code",
      "source": [
        "grid_search.cv_results_"
      ],
      "execution_count": 42,
      "outputs": [
        {
          "output_type": "stream",
          "text": [
            "/usr/local/lib/python3.6/dist-packages/sklearn/utils/deprecation.py:125: FutureWarning: You are accessing a training score ('mean_train_score'), which will not be available by default any more in 0.21. If you need training scores, please set return_train_score=True\n",
            "  warnings.warn(*warn_args, **warn_kwargs)\n",
            "/usr/local/lib/python3.6/dist-packages/sklearn/utils/deprecation.py:125: FutureWarning: You are accessing a training score ('split0_train_score'), which will not be available by default any more in 0.21. If you need training scores, please set return_train_score=True\n",
            "  warnings.warn(*warn_args, **warn_kwargs)\n",
            "/usr/local/lib/python3.6/dist-packages/sklearn/utils/deprecation.py:125: FutureWarning: You are accessing a training score ('split1_train_score'), which will not be available by default any more in 0.21. If you need training scores, please set return_train_score=True\n",
            "  warnings.warn(*warn_args, **warn_kwargs)\n",
            "/usr/local/lib/python3.6/dist-packages/sklearn/utils/deprecation.py:125: FutureWarning: You are accessing a training score ('split2_train_score'), which will not be available by default any more in 0.21. If you need training scores, please set return_train_score=True\n",
            "  warnings.warn(*warn_args, **warn_kwargs)\n",
            "/usr/local/lib/python3.6/dist-packages/sklearn/utils/deprecation.py:125: FutureWarning: You are accessing a training score ('std_train_score'), which will not be available by default any more in 0.21. If you need training scores, please set return_train_score=True\n",
            "  warnings.warn(*warn_args, **warn_kwargs)\n"
          ],
          "name": "stderr"
        },
        {
          "output_type": "execute_result",
          "data": {
            "text/plain": [
              "{'mean_fit_time': array([ 2.28518518,  4.5263985 , 11.30676961, 45.89927522,  2.21515846,\n",
              "         4.43148804, 11.12551681, 44.81785814,  2.21545458,  4.4237473 ,\n",
              "        10.97963858, 44.4476219 ,  2.23930828,  4.47041321, 11.13237715,\n",
              "        43.70361924,  2.16862059,  4.34160439, 10.87494985, 43.57654015,\n",
              "         2.15975459,  4.3913091 , 10.79899764, 43.45811478,  2.11739675,\n",
              "         4.27030182, 10.69896563, 42.60382199,  2.09183709,  4.16593957,\n",
              "        10.52946035, 42.00241446,  2.12713718,  4.21922056, 10.59158262,\n",
              "        42.11742743,  2.07454133,  4.16625698, 10.43544221, 41.77771378,\n",
              "         2.10082285,  4.14792609, 10.21221352, 41.13380996,  2.06207307,\n",
              "         4.03752764, 10.13672296, 38.48325713]),\n",
              " 'mean_score_time': array([0.12440785, 0.24116182, 0.59544714, 2.44291043, 0.11980677,\n",
              "        0.23524578, 0.58779208, 2.3854727 , 0.11743633, 0.237089  ,\n",
              "        0.58002631, 2.56424991, 0.11788694, 0.2399164 , 0.61852551,\n",
              "        2.29277039, 0.11586022, 0.23458505, 0.57630404, 2.2857012 ,\n",
              "        0.11582438, 0.23480511, 0.58425832, 2.41942859, 0.11439308,\n",
              "        0.2230986 , 0.55076345, 2.22127724, 0.11293117, 0.21843576,\n",
              "        0.55348047, 2.18757327, 0.1166025 , 0.22464657, 0.55218967,\n",
              "        2.30762831, 0.11188809, 0.22815291, 0.54626592, 2.18014105,\n",
              "        0.11067152, 0.21961594, 0.54138788, 2.1697615 , 0.10960197,\n",
              "        0.21413024, 0.52986574, 2.00757488]),\n",
              " 'mean_test_score': array([0.90303391, 0.90310001, 0.90415758, 0.90415758, 0.90237293,\n",
              "        0.90395928, 0.90257122, 0.90276952, 0.90402538, 0.90310001,\n",
              "        0.90402538, 0.9031661 , 0.90204244, 0.90237293, 0.9034966 ,\n",
              "        0.90290171, 0.90257122, 0.90124926, 0.90230683, 0.90210853,\n",
              "        0.90197634, 0.90356269, 0.90191024, 0.90217463, 0.9031661 ,\n",
              "        0.90085267, 0.90270342, 0.90210853, 0.90197634, 0.90177804,\n",
              "        0.90243902, 0.90257122, 0.90210853, 0.90204244, 0.90118316,\n",
              "        0.90184414, 0.90098486, 0.90197634, 0.90098486, 0.90177804,\n",
              "        0.90118316, 0.90124926, 0.90138145, 0.90131535, 0.90171194,\n",
              "        0.90085267, 0.90164585, 0.90098486]),\n",
              " 'mean_train_score': array([0.99339014, 0.99398507, 0.994613  , 0.99477824, 0.98644982,\n",
              "        0.98714386, 0.98754044, 0.98720995, 0.97726215, 0.97855105,\n",
              "        0.97815449, 0.97865023, 0.97137941, 0.9721065 , 0.97276752,\n",
              "        0.97306495, 0.98069926, 0.98119499, 0.98169072, 0.98195513,\n",
              "        0.97438694, 0.97501484, 0.97584105, 0.975808  , 0.96718218,\n",
              "        0.96705   , 0.96744658, 0.96774401, 0.96242314, 0.96281971,\n",
              "        0.96205955, 0.96367895, 0.96781007, 0.9688016 , 0.96903294,\n",
              "        0.96942952, 0.96642208, 0.96638901, 0.96685168, 0.96747961,\n",
              "        0.96030797, 0.96057242, 0.96027492, 0.96090281, 0.95617684,\n",
              "        0.9558133 , 0.95683784, 0.95654038]),\n",
              " 'param_bootstrap': masked_array(data=[True, True, True, True, True, True, True, True, True,\n",
              "                    True, True, True, True, True, True, True, True, True,\n",
              "                    True, True, True, True, True, True, True, True, True,\n",
              "                    True, True, True, True, True, True, True, True, True,\n",
              "                    True, True, True, True, True, True, True, True, True,\n",
              "                    True, True, True],\n",
              "              mask=[False, False, False, False, False, False, False, False,\n",
              "                    False, False, False, False, False, False, False, False,\n",
              "                    False, False, False, False, False, False, False, False,\n",
              "                    False, False, False, False, False, False, False, False,\n",
              "                    False, False, False, False, False, False, False, False,\n",
              "                    False, False, False, False, False, False, False, False],\n",
              "        fill_value='?',\n",
              "             dtype=object),\n",
              " 'param_max_features': masked_array(data=['auto', 'auto', 'auto', 'auto', 'auto', 'auto', 'auto',\n",
              "                    'auto', 'auto', 'auto', 'auto', 'auto', 'auto', 'auto',\n",
              "                    'auto', 'auto', 'auto', 'auto', 'auto', 'auto', 'auto',\n",
              "                    'auto', 'auto', 'auto', 'auto', 'auto', 'auto', 'auto',\n",
              "                    'auto', 'auto', 'auto', 'auto', 'auto', 'auto', 'auto',\n",
              "                    'auto', 'auto', 'auto', 'auto', 'auto', 'auto', 'auto',\n",
              "                    'auto', 'auto', 'auto', 'auto', 'auto', 'auto'],\n",
              "              mask=[False, False, False, False, False, False, False, False,\n",
              "                    False, False, False, False, False, False, False, False,\n",
              "                    False, False, False, False, False, False, False, False,\n",
              "                    False, False, False, False, False, False, False, False,\n",
              "                    False, False, False, False, False, False, False, False,\n",
              "                    False, False, False, False, False, False, False, False],\n",
              "        fill_value='?',\n",
              "             dtype=object),\n",
              " 'param_min_samples_leaf': masked_array(data=[1, 1, 1, 1, 1, 1, 1, 1, 1, 1, 1, 1, 1, 1, 1, 1, 2, 2,\n",
              "                    2, 2, 2, 2, 2, 2, 2, 2, 2, 2, 2, 2, 2, 2, 3, 3, 3, 3,\n",
              "                    3, 3, 3, 3, 3, 3, 3, 3, 3, 3, 3, 3],\n",
              "              mask=[False, False, False, False, False, False, False, False,\n",
              "                    False, False, False, False, False, False, False, False,\n",
              "                    False, False, False, False, False, False, False, False,\n",
              "                    False, False, False, False, False, False, False, False,\n",
              "                    False, False, False, False, False, False, False, False,\n",
              "                    False, False, False, False, False, False, False, False],\n",
              "        fill_value='?',\n",
              "             dtype=object),\n",
              " 'param_min_samples_split': masked_array(data=[5, 5, 5, 5, 7, 7, 7, 7, 10, 10, 10, 10, 12, 12, 12, 12,\n",
              "                    5, 5, 5, 5, 7, 7, 7, 7, 10, 10, 10, 10, 12, 12, 12, 12,\n",
              "                    5, 5, 5, 5, 7, 7, 7, 7, 10, 10, 10, 10, 12, 12, 12, 12],\n",
              "              mask=[False, False, False, False, False, False, False, False,\n",
              "                    False, False, False, False, False, False, False, False,\n",
              "                    False, False, False, False, False, False, False, False,\n",
              "                    False, False, False, False, False, False, False, False,\n",
              "                    False, False, False, False, False, False, False, False,\n",
              "                    False, False, False, False, False, False, False, False],\n",
              "        fill_value='?',\n",
              "             dtype=object),\n",
              " 'param_n_estimators': masked_array(data=[100, 200, 500, 2000, 100, 200, 500, 2000, 100, 200,\n",
              "                    500, 2000, 100, 200, 500, 2000, 100, 200, 500, 2000,\n",
              "                    100, 200, 500, 2000, 100, 200, 500, 2000, 100, 200,\n",
              "                    500, 2000, 100, 200, 500, 2000, 100, 200, 500, 2000,\n",
              "                    100, 200, 500, 2000, 100, 200, 500, 2000],\n",
              "              mask=[False, False, False, False, False, False, False, False,\n",
              "                    False, False, False, False, False, False, False, False,\n",
              "                    False, False, False, False, False, False, False, False,\n",
              "                    False, False, False, False, False, False, False, False,\n",
              "                    False, False, False, False, False, False, False, False,\n",
              "                    False, False, False, False, False, False, False, False],\n",
              "        fill_value='?',\n",
              "             dtype=object),\n",
              " 'params': [{'bootstrap': True,\n",
              "   'max_features': 'auto',\n",
              "   'min_samples_leaf': 1,\n",
              "   'min_samples_split': 5,\n",
              "   'n_estimators': 100},\n",
              "  {'bootstrap': True,\n",
              "   'max_features': 'auto',\n",
              "   'min_samples_leaf': 1,\n",
              "   'min_samples_split': 5,\n",
              "   'n_estimators': 200},\n",
              "  {'bootstrap': True,\n",
              "   'max_features': 'auto',\n",
              "   'min_samples_leaf': 1,\n",
              "   'min_samples_split': 5,\n",
              "   'n_estimators': 500},\n",
              "  {'bootstrap': True,\n",
              "   'max_features': 'auto',\n",
              "   'min_samples_leaf': 1,\n",
              "   'min_samples_split': 5,\n",
              "   'n_estimators': 2000},\n",
              "  {'bootstrap': True,\n",
              "   'max_features': 'auto',\n",
              "   'min_samples_leaf': 1,\n",
              "   'min_samples_split': 7,\n",
              "   'n_estimators': 100},\n",
              "  {'bootstrap': True,\n",
              "   'max_features': 'auto',\n",
              "   'min_samples_leaf': 1,\n",
              "   'min_samples_split': 7,\n",
              "   'n_estimators': 200},\n",
              "  {'bootstrap': True,\n",
              "   'max_features': 'auto',\n",
              "   'min_samples_leaf': 1,\n",
              "   'min_samples_split': 7,\n",
              "   'n_estimators': 500},\n",
              "  {'bootstrap': True,\n",
              "   'max_features': 'auto',\n",
              "   'min_samples_leaf': 1,\n",
              "   'min_samples_split': 7,\n",
              "   'n_estimators': 2000},\n",
              "  {'bootstrap': True,\n",
              "   'max_features': 'auto',\n",
              "   'min_samples_leaf': 1,\n",
              "   'min_samples_split': 10,\n",
              "   'n_estimators': 100},\n",
              "  {'bootstrap': True,\n",
              "   'max_features': 'auto',\n",
              "   'min_samples_leaf': 1,\n",
              "   'min_samples_split': 10,\n",
              "   'n_estimators': 200},\n",
              "  {'bootstrap': True,\n",
              "   'max_features': 'auto',\n",
              "   'min_samples_leaf': 1,\n",
              "   'min_samples_split': 10,\n",
              "   'n_estimators': 500},\n",
              "  {'bootstrap': True,\n",
              "   'max_features': 'auto',\n",
              "   'min_samples_leaf': 1,\n",
              "   'min_samples_split': 10,\n",
              "   'n_estimators': 2000},\n",
              "  {'bootstrap': True,\n",
              "   'max_features': 'auto',\n",
              "   'min_samples_leaf': 1,\n",
              "   'min_samples_split': 12,\n",
              "   'n_estimators': 100},\n",
              "  {'bootstrap': True,\n",
              "   'max_features': 'auto',\n",
              "   'min_samples_leaf': 1,\n",
              "   'min_samples_split': 12,\n",
              "   'n_estimators': 200},\n",
              "  {'bootstrap': True,\n",
              "   'max_features': 'auto',\n",
              "   'min_samples_leaf': 1,\n",
              "   'min_samples_split': 12,\n",
              "   'n_estimators': 500},\n",
              "  {'bootstrap': True,\n",
              "   'max_features': 'auto',\n",
              "   'min_samples_leaf': 1,\n",
              "   'min_samples_split': 12,\n",
              "   'n_estimators': 2000},\n",
              "  {'bootstrap': True,\n",
              "   'max_features': 'auto',\n",
              "   'min_samples_leaf': 2,\n",
              "   'min_samples_split': 5,\n",
              "   'n_estimators': 100},\n",
              "  {'bootstrap': True,\n",
              "   'max_features': 'auto',\n",
              "   'min_samples_leaf': 2,\n",
              "   'min_samples_split': 5,\n",
              "   'n_estimators': 200},\n",
              "  {'bootstrap': True,\n",
              "   'max_features': 'auto',\n",
              "   'min_samples_leaf': 2,\n",
              "   'min_samples_split': 5,\n",
              "   'n_estimators': 500},\n",
              "  {'bootstrap': True,\n",
              "   'max_features': 'auto',\n",
              "   'min_samples_leaf': 2,\n",
              "   'min_samples_split': 5,\n",
              "   'n_estimators': 2000},\n",
              "  {'bootstrap': True,\n",
              "   'max_features': 'auto',\n",
              "   'min_samples_leaf': 2,\n",
              "   'min_samples_split': 7,\n",
              "   'n_estimators': 100},\n",
              "  {'bootstrap': True,\n",
              "   'max_features': 'auto',\n",
              "   'min_samples_leaf': 2,\n",
              "   'min_samples_split': 7,\n",
              "   'n_estimators': 200},\n",
              "  {'bootstrap': True,\n",
              "   'max_features': 'auto',\n",
              "   'min_samples_leaf': 2,\n",
              "   'min_samples_split': 7,\n",
              "   'n_estimators': 500},\n",
              "  {'bootstrap': True,\n",
              "   'max_features': 'auto',\n",
              "   'min_samples_leaf': 2,\n",
              "   'min_samples_split': 7,\n",
              "   'n_estimators': 2000},\n",
              "  {'bootstrap': True,\n",
              "   'max_features': 'auto',\n",
              "   'min_samples_leaf': 2,\n",
              "   'min_samples_split': 10,\n",
              "   'n_estimators': 100},\n",
              "  {'bootstrap': True,\n",
              "   'max_features': 'auto',\n",
              "   'min_samples_leaf': 2,\n",
              "   'min_samples_split': 10,\n",
              "   'n_estimators': 200},\n",
              "  {'bootstrap': True,\n",
              "   'max_features': 'auto',\n",
              "   'min_samples_leaf': 2,\n",
              "   'min_samples_split': 10,\n",
              "   'n_estimators': 500},\n",
              "  {'bootstrap': True,\n",
              "   'max_features': 'auto',\n",
              "   'min_samples_leaf': 2,\n",
              "   'min_samples_split': 10,\n",
              "   'n_estimators': 2000},\n",
              "  {'bootstrap': True,\n",
              "   'max_features': 'auto',\n",
              "   'min_samples_leaf': 2,\n",
              "   'min_samples_split': 12,\n",
              "   'n_estimators': 100},\n",
              "  {'bootstrap': True,\n",
              "   'max_features': 'auto',\n",
              "   'min_samples_leaf': 2,\n",
              "   'min_samples_split': 12,\n",
              "   'n_estimators': 200},\n",
              "  {'bootstrap': True,\n",
              "   'max_features': 'auto',\n",
              "   'min_samples_leaf': 2,\n",
              "   'min_samples_split': 12,\n",
              "   'n_estimators': 500},\n",
              "  {'bootstrap': True,\n",
              "   'max_features': 'auto',\n",
              "   'min_samples_leaf': 2,\n",
              "   'min_samples_split': 12,\n",
              "   'n_estimators': 2000},\n",
              "  {'bootstrap': True,\n",
              "   'max_features': 'auto',\n",
              "   'min_samples_leaf': 3,\n",
              "   'min_samples_split': 5,\n",
              "   'n_estimators': 100},\n",
              "  {'bootstrap': True,\n",
              "   'max_features': 'auto',\n",
              "   'min_samples_leaf': 3,\n",
              "   'min_samples_split': 5,\n",
              "   'n_estimators': 200},\n",
              "  {'bootstrap': True,\n",
              "   'max_features': 'auto',\n",
              "   'min_samples_leaf': 3,\n",
              "   'min_samples_split': 5,\n",
              "   'n_estimators': 500},\n",
              "  {'bootstrap': True,\n",
              "   'max_features': 'auto',\n",
              "   'min_samples_leaf': 3,\n",
              "   'min_samples_split': 5,\n",
              "   'n_estimators': 2000},\n",
              "  {'bootstrap': True,\n",
              "   'max_features': 'auto',\n",
              "   'min_samples_leaf': 3,\n",
              "   'min_samples_split': 7,\n",
              "   'n_estimators': 100},\n",
              "  {'bootstrap': True,\n",
              "   'max_features': 'auto',\n",
              "   'min_samples_leaf': 3,\n",
              "   'min_samples_split': 7,\n",
              "   'n_estimators': 200},\n",
              "  {'bootstrap': True,\n",
              "   'max_features': 'auto',\n",
              "   'min_samples_leaf': 3,\n",
              "   'min_samples_split': 7,\n",
              "   'n_estimators': 500},\n",
              "  {'bootstrap': True,\n",
              "   'max_features': 'auto',\n",
              "   'min_samples_leaf': 3,\n",
              "   'min_samples_split': 7,\n",
              "   'n_estimators': 2000},\n",
              "  {'bootstrap': True,\n",
              "   'max_features': 'auto',\n",
              "   'min_samples_leaf': 3,\n",
              "   'min_samples_split': 10,\n",
              "   'n_estimators': 100},\n",
              "  {'bootstrap': True,\n",
              "   'max_features': 'auto',\n",
              "   'min_samples_leaf': 3,\n",
              "   'min_samples_split': 10,\n",
              "   'n_estimators': 200},\n",
              "  {'bootstrap': True,\n",
              "   'max_features': 'auto',\n",
              "   'min_samples_leaf': 3,\n",
              "   'min_samples_split': 10,\n",
              "   'n_estimators': 500},\n",
              "  {'bootstrap': True,\n",
              "   'max_features': 'auto',\n",
              "   'min_samples_leaf': 3,\n",
              "   'min_samples_split': 10,\n",
              "   'n_estimators': 2000},\n",
              "  {'bootstrap': True,\n",
              "   'max_features': 'auto',\n",
              "   'min_samples_leaf': 3,\n",
              "   'min_samples_split': 12,\n",
              "   'n_estimators': 100},\n",
              "  {'bootstrap': True,\n",
              "   'max_features': 'auto',\n",
              "   'min_samples_leaf': 3,\n",
              "   'min_samples_split': 12,\n",
              "   'n_estimators': 200},\n",
              "  {'bootstrap': True,\n",
              "   'max_features': 'auto',\n",
              "   'min_samples_leaf': 3,\n",
              "   'min_samples_split': 12,\n",
              "   'n_estimators': 500},\n",
              "  {'bootstrap': True,\n",
              "   'max_features': 'auto',\n",
              "   'min_samples_leaf': 3,\n",
              "   'min_samples_split': 12,\n",
              "   'n_estimators': 2000}],\n",
              " 'rank_test_score': array([12, 10,  1,  1, 20,  5, 16, 14,  3, 10,  3,  8, 27, 20,  7, 13, 16,\n",
              "        40, 22, 24, 29,  6, 32, 23,  8, 47, 15, 24, 29, 34, 19, 16, 24, 27,\n",
              "        42, 33, 44, 29, 44, 34, 42, 40, 38, 39, 36, 47, 37, 44],\n",
              "       dtype=int32),\n",
              " 'split0_test_score': array([0.90265662, 0.90483743, 0.90503569, 0.90563045, 0.90206186,\n",
              "        0.90444092, 0.90523394, 0.90463918, 0.90602696, 0.90622522,\n",
              "        0.90662173, 0.90563045, 0.90285488, 0.90444092, 0.90582871,\n",
              "        0.90483743, 0.90483743, 0.90245837, 0.90463918, 0.90344964,\n",
              "        0.90285488, 0.90523394, 0.90404441, 0.90463918, 0.90523394,\n",
              "        0.9018636 , 0.90384615, 0.90384615, 0.9036479 , 0.90325139,\n",
              "        0.90503569, 0.90424266, 0.9036479 , 0.9036479 , 0.90226011,\n",
              "        0.90384615, 0.90444092, 0.90226011, 0.90226011, 0.90305313,\n",
              "        0.90146709, 0.90126883, 0.90285488, 0.90245837, 0.90483743,\n",
              "        0.9054322 , 0.90325139, 0.90325139]),\n",
              " 'split0_train_score': array([0.99276153, 0.99414973, 0.99494298, 0.99484383, 0.986118  ,\n",
              "        0.98601884, 0.98661378, 0.98621715, 0.97640059, 0.9777888 ,\n",
              "        0.97798711, 0.97808627, 0.97045117, 0.97193852, 0.97322757,\n",
              "        0.97332672, 0.9798711 , 0.98016857, 0.98046604, 0.9812593 ,\n",
              "        0.97461577, 0.97481408, 0.97511155, 0.97501239, 0.96688151,\n",
              "        0.96668319, 0.96707982, 0.96707982, 0.96202281, 0.96222112,\n",
              "        0.96103123, 0.96261775, 0.96707982, 0.96826971, 0.96866634,\n",
              "        0.96856718, 0.96648488, 0.96598909, 0.96569162, 0.96638572,\n",
              "        0.95984135, 0.96122955, 0.96003966, 0.95954388, 0.95607338,\n",
              "        0.95557759, 0.95617253, 0.95637085]),\n",
              " 'split1_test_score': array([0.90263732, 0.90085267, 0.9034305 , 0.90184414, 0.90204244,\n",
              "        0.90303391, 0.90065437, 0.90045608, 0.90263732, 0.89986119,\n",
              "        0.90164585, 0.90065437, 0.90085267, 0.90085267, 0.90263732,\n",
              "        0.90065437, 0.8996629 , 0.90085267, 0.90025778, 0.90085267,\n",
              "        0.90105096, 0.90065437, 0.89926631, 0.90105096, 0.90045608,\n",
              "        0.8996629 , 0.90105096, 0.90005949, 0.90164585, 0.89926631,\n",
              "        0.90085267, 0.90005949, 0.90144755, 0.90025778, 0.89886972,\n",
              "        0.8994646 , 0.89867143, 0.90164585, 0.8996629 , 0.89986119,\n",
              "        0.89886972, 0.90124926, 0.89906802, 0.8994646 , 0.89847313,\n",
              "        0.89629189, 0.89926631, 0.89847313]),\n",
              " 'split1_train_score': array([0.99345628, 0.99385287, 0.99424945, 0.99474519, 0.98572278,\n",
              "        0.98839976, 0.98810232, 0.98790403, 0.97719611, 0.97769185,\n",
              "        0.97719611, 0.97828673, 0.97154472, 0.97104898, 0.97134642,\n",
              "        0.97174301, 0.98046798, 0.98126115, 0.98195519, 0.9815586 ,\n",
              "        0.9738251 , 0.97441999, 0.9759072 , 0.97600635, 0.96619076,\n",
              "        0.96658735, 0.96688479, 0.96728138, 0.96252231, 0.96281975,\n",
              "        0.96202657, 0.96351378, 0.9664882 , 0.96876859, 0.9685703 ,\n",
              "        0.96946262, 0.96569502, 0.96579417, 0.96728138, 0.96757882,\n",
              "        0.95974618, 0.95964704, 0.95934959, 0.96073766, 0.95528455,\n",
              "        0.95498711, 0.95746579, 0.95578029]),\n",
              " 'split2_test_score': array([0.90380801, 0.90360968, 0.90400635, 0.90499802, 0.90301468,\n",
              "        0.90440301, 0.90182467, 0.90321301, 0.90341134, 0.90321301,\n",
              "        0.90380801, 0.90321301, 0.90241967, 0.90182467, 0.90202301,\n",
              "        0.90321301, 0.90321301, 0.90043633, 0.90202301, 0.90202301,\n",
              "        0.90202301, 0.90479968, 0.90241967, 0.900833  , 0.90380801,\n",
              "        0.90103134, 0.90321301, 0.90241967, 0.90063467, 0.90281634,\n",
              "        0.901428  , 0.90341134, 0.90122967, 0.90222134, 0.90241967,\n",
              "        0.90222134, 0.89984133, 0.90202301, 0.90103134, 0.90241967,\n",
              "        0.90321301, 0.90122967, 0.90222134, 0.90202301, 0.90182467,\n",
              "        0.900833  , 0.90241967, 0.90122967]),\n",
              " 'split2_train_score': array([0.99395261, 0.99395261, 0.99464657, 0.99474571, 0.98750867,\n",
              "        0.98701299, 0.98790522, 0.98750867, 0.97818975, 0.9801725 ,\n",
              "        0.97928026, 0.97957767, 0.97214236, 0.97333201, 0.97372856,\n",
              "        0.97412511, 0.9817587 , 0.98215525, 0.98265094, 0.98304749,\n",
              "        0.97471994, 0.97581045, 0.97650441, 0.97640527, 0.96847427,\n",
              "        0.96787945, 0.96837514, 0.96887082, 0.9627243 , 0.96341826,\n",
              "        0.96312085, 0.96490532, 0.9698622 , 0.96936651, 0.9698622 ,\n",
              "        0.97025875, 0.96708635, 0.96738376, 0.96758204, 0.96847427,\n",
              "        0.96133637, 0.96084069, 0.96143551, 0.96242689, 0.9571726 ,\n",
              "        0.95687519, 0.95687519, 0.95747001]),\n",
              " 'std_fit_time': array([0.05658967, 0.01338457, 0.10201328, 0.288771  , 0.02082865,\n",
              "        0.03339316, 0.02269944, 0.40131001, 0.01173337, 0.02838389,\n",
              "        0.0387195 , 0.31374253, 0.00958962, 0.04687996, 0.25430555,\n",
              "        0.17886172, 0.01372037, 0.02519451, 0.11884035, 0.34984481,\n",
              "        0.02427776, 0.02210209, 0.14353921, 0.43885175, 0.01008517,\n",
              "        0.0685088 , 0.21336777, 0.29686684, 0.01382296, 0.02267664,\n",
              "        0.08331641, 0.32072275, 0.00570162, 0.03061373, 0.08354743,\n",
              "        0.11572469, 0.01123244, 0.08562784, 0.05636807, 0.46987079,\n",
              "        0.03180404, 0.04033453, 0.07650326, 0.19058676, 0.04589943,\n",
              "        0.02793918, 0.07356902, 3.4901359 ]),\n",
              " 'std_score_time': array([0.00307441, 0.00491918, 0.0028881 , 0.04099943, 0.0022652 ,\n",
              "        0.00039172, 0.00174729, 0.02742541, 0.00052014, 0.00089532,\n",
              "        0.00662824, 0.14448132, 0.00083301, 0.0043206 , 0.03295238,\n",
              "        0.01392557, 0.00081936, 0.00332153, 0.00464787, 0.02241206,\n",
              "        0.00040723, 0.00366343, 0.00182298, 0.0598329 , 0.00089503,\n",
              "        0.00108493, 0.00688662, 0.00190933, 0.00090047, 0.00121414,\n",
              "        0.00289505, 0.01892811, 0.00074002, 0.0019383 , 0.00527102,\n",
              "        0.06886988, 0.00147124, 0.00747626, 0.00372748, 0.0311025 ,\n",
              "        0.00066954, 0.00218701, 0.00593437, 0.00786517, 0.00036322,\n",
              "        0.00146241, 0.00491171, 0.19858223]),\n",
              " 'std_test_score': array([5.47349735e-04, 1.66628228e-03, 6.64012702e-04, 1.65609769e-03,\n",
              "        4.53787952e-04, 6.54521972e-04, 1.94276588e-03, 1.73637209e-03,\n",
              "        1.45037991e-03, 2.59945890e-03, 2.03730101e-03, 2.03184734e-03,\n",
              "        8.59849282e-04, 1.51538291e-03, 1.66825393e-03, 1.72193423e-03,\n",
              "        2.16077711e-03, 8.71823843e-04, 1.80000427e-03, 1.06198644e-03,\n",
              "        7.37220625e-04, 2.06412157e-03, 1.98371880e-03, 1.74522442e-03,\n",
              "        2.00274865e-03, 9.07313455e-04, 1.19671065e-03, 1.56154824e-03,\n",
              "        1.25214656e-03, 1.78492127e-03, 1.85134869e-03, 1.80819856e-03,\n",
              "        1.09228488e-03, 1.38984502e-03, 1.63714403e-03, 1.80861789e-03,\n",
              "        2.49038764e-03, 2.52946489e-04, 1.06086883e-03, 1.37986669e-03,\n",
              "        1.78438707e-03, 1.59884287e-05, 1.65616783e-03, 1.32069218e-03,\n",
              "        2.59956522e-03, 3.73172553e-03, 1.71650426e-03, 1.95847471e-03]),\n",
              " 'std_train_score': array([4.88502238e-04, 1.23347211e-04, 2.84125745e-04, 4.63752081e-05,\n",
              "        7.65911367e-04, 9.76402923e-04, 6.60169280e-04, 7.20328745e-04,\n",
              "        7.31910329e-04, 1.14722193e-03, 8.59042847e-04, 6.60892491e-04,\n",
              "        7.00252196e-04, 9.39582528e-04, 1.02546994e-03, 9.89948241e-04,\n",
              "        7.87773308e-04, 8.12407836e-04, 9.11373086e-04, 7.82020386e-04,\n",
              "        3.99544578e-04, 5.85134474e-04, 5.70552895e-04, 5.85680561e-04,\n",
              "        9.56177327e-04, 5.87814856e-04, 6.61396432e-04, 8.01016469e-04,\n",
              "        2.94843472e-04, 4.88730626e-04, 8.53400080e-04, 9.41173086e-04,\n",
              "        1.47103503e-03, 4.48376379e-04, 5.87681499e-04, 6.90977155e-04,\n",
              "        5.69739360e-04, 7.07883795e-04, 8.29417241e-04, 8.55529367e-04,\n",
              "        7.28229423e-04, 6.73330392e-04, 8.67668649e-04, 1.18276266e-03,\n",
              "        7.74255746e-04, 7.88616747e-04, 5.28631548e-04, 7.00164824e-04])}"
            ]
          },
          "metadata": {
            "tags": []
          },
          "execution_count": 42
        }
      ]
    },
    {
      "metadata": {
        "id": "q7_xzm3FWqcC",
        "colab_type": "code",
        "colab": {}
      },
      "cell_type": "code",
      "source": [
        "grid_outputdf=pd.DataFrame(grid_search.params)\n"
      ],
      "execution_count": 0,
      "outputs": []
    },
    {
      "metadata": {
        "id": "kp7yIx7WTZv5",
        "colab_type": "text"
      },
      "cell_type": "markdown",
      "source": [
        "Increase in n_estimators \n",
        "0.90303391, 0.90310001, 0.90415758, 0.90415758\n",
        "0.90237293, 0.90395928, 0.90257122, 0.90276952,\n"
      ]
    },
    {
      "metadata": {
        "id": "ts5_5HZzWpf8",
        "colab_type": "text"
      },
      "cell_type": "markdown",
      "source": [
        ""
      ]
    },
    {
      "metadata": {
        "id": "kRJMVuXq7kcj",
        "colab_type": "code",
        "outputId": "1e924f84-b61f-4ec0-c4d3-e11da684aec8",
        "colab": {
          "base_uri": "https://localhost:8080/",
          "height": 103
        }
      },
      "cell_type": "code",
      "source": [
        "grid_search.best_params_"
      ],
      "execution_count": 41,
      "outputs": [
        {
          "output_type": "execute_result",
          "data": {
            "text/plain": [
              "{'bootstrap': True,\n",
              " 'max_features': 'auto',\n",
              " 'min_samples_leaf': 1,\n",
              " 'min_samples_split': 5,\n",
              " 'n_estimators': 500}"
            ]
          },
          "metadata": {
            "tags": []
          },
          "execution_count": 41
        }
      ]
    },
    {
      "metadata": {
        "id": "OleXPfQ27kcr",
        "colab_type": "code",
        "colab": {}
      },
      "cell_type": "code",
      "source": [
        "best_grid = grid_search.best_estimator_"
      ],
      "execution_count": 0,
      "outputs": []
    },
    {
      "metadata": {
        "id": "Y6oWCO1pNf5I",
        "colab_type": "code",
        "colab": {}
      },
      "cell_type": "code",
      "source": [
        "grid_search.best_score"
      ],
      "execution_count": 0,
      "outputs": []
    },
    {
      "metadata": {
        "id": "kYjouIof7kcv",
        "colab_type": "code",
        "outputId": "8d1e1368-6bd0-4c34-b7a2-3d65e8d94c84",
        "colab": {
          "base_uri": "https://localhost:8080/",
          "height": 34
        }
      },
      "cell_type": "code",
      "source": [
        "print('ROC for best grid search model : ' + str(evaluate(best_grid,X_train,y_train, X_test, y_test)))"
      ],
      "execution_count": 38,
      "outputs": [
        {
          "output_type": "stream",
          "text": [
            "ROC for best grid search model : 0.9048386532056241\n"
          ],
          "name": "stdout"
        }
      ]
    },
    {
      "metadata": {
        "id": "W3SQpqKc1oog",
        "colab_type": "text"
      },
      "cell_type": "markdown",
      "source": [
        "* Which supervised learner works best on the test data?\n",
        "\n",
        "> Indented block\n",
        "\n"
      ]
    },
    {
      "metadata": {
        "id": "M91zR3Qs7kc1",
        "colab_type": "text"
      },
      "cell_type": "markdown",
      "source": [
        "### Now lets implement XGBoost (eXtreme Gradient Boosting) "
      ]
    },
    {
      "metadata": {
        "id": "-P5qAUzW7kc2",
        "colab_type": "text"
      },
      "cell_type": "markdown",
      "source": [
        "I’ll consider only tree booster here because it always outperforms the linear booster and thus the later is rarely used."
      ]
    },
    {
      "metadata": {
        "id": "b3Zsaisa7kc4",
        "colab_type": "code",
        "colab": {}
      },
      "cell_type": "code",
      "source": [
        "from xgboost import XGBClassifier\n",
        "from sklearn.metrics import accuracy_score"
      ],
      "execution_count": 0,
      "outputs": []
    },
    {
      "metadata": {
        "scrolled": false,
        "id": "m940WYb47kc8",
        "colab_type": "code",
        "outputId": "58931cf9-33f7-454e-a39c-6debb941e11e",
        "colab": {
          "base_uri": "https://localhost:8080/",
          "height": 121
        }
      },
      "cell_type": "code",
      "source": [
        "# fit model on training data\n",
        "xgBoostClassifierModel = XGBClassifier()\n",
        "xgBoostClassifierModel.fit(X_train, y_train)"
      ],
      "execution_count": 40,
      "outputs": [
        {
          "output_type": "execute_result",
          "data": {
            "text/plain": [
              "XGBClassifier(base_score=0.5, booster='gbtree', colsample_bylevel=1,\n",
              "       colsample_bytree=1, gamma=0, learning_rate=0.1, max_delta_step=0,\n",
              "       max_depth=3, min_child_weight=1, missing=None, n_estimators=100,\n",
              "       n_jobs=1, nthread=None, objective='binary:logistic', random_state=0,\n",
              "       reg_alpha=0, reg_lambda=1, scale_pos_weight=1, seed=None,\n",
              "       silent=True, subsample=1)"
            ]
          },
          "metadata": {
            "tags": []
          },
          "execution_count": 40
        }
      ]
    },
    {
      "metadata": {
        "id": "i7declRa7kc-",
        "colab_type": "code",
        "colab": {}
      },
      "cell_type": "code",
      "source": [
        "# make predictions for test data\n",
        "y_pred = xgBoostClassifierModel.predict(X_test)\n",
        "predictions = [round(value) for value in y_pred]"
      ],
      "execution_count": 0,
      "outputs": []
    },
    {
      "metadata": {
        "id": "ue85nGyU7kdB",
        "colab_type": "code",
        "outputId": "1784470e-e477-45c5-85da-984034f03ee4",
        "colab": {
          "base_uri": "https://localhost:8080/",
          "height": 34
        }
      },
      "cell_type": "code",
      "source": [
        "# evaluate predictions\n",
        "accuracy = accuracy_score(y_test, predictions)\n",
        "print(\"Accuracy: %.2f%%\" % (accuracy * 100.0))"
      ],
      "execution_count": 42,
      "outputs": [
        {
          "output_type": "stream",
          "text": [
            "Accuracy: 90.22%\n"
          ],
          "name": "stdout"
        }
      ]
    },
    {
      "metadata": {
        "id": "sz-1Yr6u7kdF",
        "colab_type": "text"
      },
      "cell_type": "markdown",
      "source": [
        "## Which are the important hyper parameters?\n",
        "\n",
        "* ???\n",
        "* ???\n",
        "* ??? "
      ]
    },
    {
      "metadata": {
        "id": "WaAuLrSE7kdH",
        "colab_type": "code",
        "colab": {}
      },
      "cell_type": "code",
      "source": [
        "from sklearn.model_selection import GridSearchCV\n",
        "from sklearn.model_selection import StratifiedKFold"
      ],
      "execution_count": 0,
      "outputs": []
    },
    {
      "metadata": {
        "id": "q2ivBmRw7kdO",
        "colab_type": "code",
        "outputId": "04879f0a-630e-4c3a-dfce-dc7116f2fa35",
        "colab": {
          "base_uri": "https://localhost:8080/",
          "height": 432
        }
      },
      "cell_type": "code",
      "source": [
        "model = XGBClassifier()\n",
        "n_estimators = range(50, 400, 50)\n",
        "param_grid = dict(n_estimators=n_estimators)\n",
        "kfold = StratifiedKFold(n_splits=10, shuffle=True, random_state=7)\n",
        "grid_search = GridSearchCV(model, param_grid, scoring=\"neg_log_loss\", n_jobs=-1, cv=kfold)\n",
        "grid_result = grid_search.fit(X_train, y_train)\n",
        "# summarize results\n",
        "print(\"Best: %f using %s\" % (grid_result.best_score_, grid_result.best_params_))\n",
        "means = grid_result.cv_results_['mean_test_score']\n",
        "stds = grid_result.cv_results_['std_test_score']\n",
        "params = grid_result.cv_results_['params']\n",
        "for mean, stdev, param in zip(means, stds, params):\n",
        "\tprint(\"%f (%f) with: %r\" % (mean, stdev, param))\n",
        "# plot\n",
        "plt.errorbar(n_estimators, means, yerr=stds)\n",
        "plt.title(\"XGBoost n_estimators vs Log Loss\")\n",
        "plt.xlabel('n_estimators')\n",
        "plt.ylabel('Log Loss')\n",
        "plt.savefig('n_estimators.png')"
      ],
      "execution_count": 44,
      "outputs": [
        {
          "output_type": "stream",
          "text": [
            "Best: -0.208450 using {'n_estimators': 350}\n",
            "-0.255014 (0.011552) with: {'n_estimators': 50}\n",
            "-0.229210 (0.014131) with: {'n_estimators': 100}\n",
            "-0.219229 (0.015172) with: {'n_estimators': 150}\n",
            "-0.213947 (0.015256) with: {'n_estimators': 200}\n",
            "-0.210932 (0.015996) with: {'n_estimators': 250}\n",
            "-0.209474 (0.016349) with: {'n_estimators': 300}\n",
            "-0.208450 (0.016627) with: {'n_estimators': 350}\n"
          ],
          "name": "stdout"
        },
        {
          "output_type": "display_data",
          "data": {
            "image/png": "[encoded data removed]",
            "text/plain": [
              "<Figure size 432x288 with 1 Axes>"
            ]
          },
          "metadata": {
            "tags": []
          }
        }
      ]
    },
    {
      "metadata": {
        "id": "c4whN_RE7kdS",
        "colab_type": "text"
      },
      "cell_type": "markdown",
      "source": [
        "We can see that the cross validation log loss scores are negative. This is because the scikit-learn cross validation framework inverted them. The reason is that internally, the framework requires that all metrics that are being optimized are to be maximized, whereas log loss is a minimization metric. It can easily be made maximizing by inverting the scores.\n",
        "\n",
        "The best number of trees was n_estimators=350 resulting in a log loss of -0.213537, but really not a significant difference from n_estimators=200. In fact, there is not a large relative difference in the number of trees between 100 and 350 if we plot the results."
      ]
    },
    {
      "metadata": {
        "id": "YpbwdlaW7kdU",
        "colab_type": "text"
      },
      "cell_type": "markdown",
      "source": [
        "## Tune the Size of Decision Trees in XGBoost"
      ]
    },
    {
      "metadata": {
        "id": "UKIBWSJo7kdU",
        "colab_type": "text"
      },
      "cell_type": "markdown",
      "source": [
        "In gradient boosting, we can control the size of decision trees, also called the number of layers or the depth.\n",
        "\n",
        "Shallow trees are expected to have poor performance because they capture few details of the problem and are generally referred to as weak learners. Deeper trees generally capture too many details of the problem and overfit the training dataset, limiting the ability to make good predictions on new data.\n",
        "\n",
        "Generally, boosting algorithms are configured with weak learners, decision trees with few layers, sometimes as simple as just a root node, also called a decision stump rather than a decision tree.\n",
        "\n",
        "The maximum depth can be specified in the XGBClassifier and XGBRegressor wrapper classes for XGBoost in the max_depth parameter. This parameter takes an integer value and defaults to a value of 3."
      ]
    },
    {
      "metadata": {
        "id": "2vmpjaBX-rJd",
        "colab_type": "text"
      },
      "cell_type": "markdown",
      "source": [
        ""
      ]
    },
    {
      "metadata": {
        "id": "ddyFFSXM7kdX",
        "colab_type": "code",
        "outputId": "563fddbb-a452-46bf-a97d-11034f0b57ec",
        "colab": {
          "base_uri": "https://localhost:8080/",
          "height": 207
        }
      },
      "cell_type": "code",
      "source": [
        "model = XGBClassifier()\n",
        "max_depth = range(1, 11, 2)\n",
        "print(max_depth)\n",
        "param_grid = dict(max_depth=max_depth)\n",
        "kfold = StratifiedKFold(n_splits=10, shuffle=True, random_state=7)\n",
        "grid_search = GridSearchCV(model, param_grid, scoring=\"neg_log_loss\", n_jobs=-1, cv=kfold, verbose=1)\n",
        "grid_result = grid_search.fit(X_train, y_train)\n",
        "# summarize results\n",
        "print(\"Best: %f using %s\" % (grid_result.best_score_, grid_result.best_params_))\n",
        "means = grid_result.cv_results_['mean_test_score']\n",
        "stds = grid_result.cv_results_['std_test_score']\n",
        "params = grid_result.cv_results_['params']\n",
        "for mean, stdev, param in zip(means, stds, params):\n",
        "\tprint(\"%f (%f) with: %r\" % (mean, stdev, param))\n"
      ],
      "execution_count": 45,
      "outputs": [
        {
          "output_type": "stream",
          "text": [
            "range(1, 11, 2)\n",
            "Fitting 10 folds for each of 5 candidates, totalling 50 fits\n"
          ],
          "name": "stdout"
        },
        {
          "output_type": "stream",
          "text": [
            "[Parallel(n_jobs=-1)]: Using backend LokyBackend with 2 concurrent workers.\n",
            "[Parallel(n_jobs=-1)]: Done  46 tasks      | elapsed:  1.6min\n",
            "[Parallel(n_jobs=-1)]: Done  50 out of  50 | elapsed:  1.9min finished\n"
          ],
          "name": "stderr"
        },
        {
          "output_type": "stream",
          "text": [
            "Best: -0.207587 using {'max_depth': 7}\n",
            "-0.329052 (0.009228) with: {'max_depth': 1}\n",
            "-0.229210 (0.014131) with: {'max_depth': 3}\n",
            "-0.210217 (0.015769) with: {'max_depth': 5}\n",
            "-0.207587 (0.017958) with: {'max_depth': 7}\n",
            "-0.210897 (0.021299) with: {'max_depth': 9}\n"
          ],
          "name": "stdout"
        }
      ]
    },
    {
      "metadata": {
        "id": "ZD6Tm6BF7kdb",
        "colab_type": "code",
        "outputId": "31aa106a-6e33-4c62-8bd8-105efb828298",
        "colab": {
          "base_uri": "https://localhost:8080/",
          "height": 294
        }
      },
      "cell_type": "code",
      "source": [
        "# plot\n",
        "plt.errorbar(max_depth, means, yerr=stds)\n",
        "plt.title(\"XGBoost max_depth vs Log Loss\")\n",
        "plt.xlabel('max_depth')\n",
        "plt.ylabel('Log Loss')\n",
        "plt.savefig('max_depth.png')"
      ],
      "execution_count": 46,
      "outputs": [
        {
          "output_type": "display_data",
          "data": {
            "image/png": "[encoded data removed]",
            "text/plain": [
              "<Figure size 432x288 with 1 Axes>"
            ]
          },
          "metadata": {
            "tags": []
          }
        }
      ]
    },
    {
      "metadata": {
        "id": "sLPngeDh7kde",
        "colab_type": "text"
      },
      "cell_type": "markdown",
      "source": [
        "Reviewing the plot of log loss scores, we can see a marked jump from max_depth=1 to max_depth=3 then pretty even performance for the rest the values of max_depth.\n",
        "\n",
        "Although the best score was observed for max_depth=5, it is interesting to note that there was practically little difference between using max_depth=3 or max_depth=7.\n",
        "\n",
        "This suggests a point of diminishing returns in max_depth on a problem that you can tease out using grid search. A graph of max_depth values is plotted against (inverted) logarithmic loss below."
      ]
    },
    {
      "metadata": {
        "id": "FxQjoaMj7kdf",
        "colab_type": "text"
      },
      "cell_type": "markdown",
      "source": [
        "### Tune The Number of Trees and Max Depth in XGBoost"
      ]
    },
    {
      "metadata": {
        "id": "ajI3asJS7kdg",
        "colab_type": "text"
      },
      "cell_type": "markdown",
      "source": [
        "There is a relationship between the number of trees in the model and the depth of each tree.\n",
        "\n",
        "We would expect that deeper trees would result in fewer trees being required in the model, and the inverse where simpler trees (such as decision stumps) require many more trees to achieve similar results.\n",
        "\n",
        "We can investigate this relationship by evaluating a grid of n_estimators and max_depth configuration values. To avoid the evaluation taking too long, we will limit the total number of configuration values evaluated. Parameters were chosen to tease out the relationship rather than optimize the model.\n",
        "\n",
        "We will create a grid of 4 different n_estimators values (350, 300, 250, 400) and 4 different max_depth values (6, 7, 8, 9) and each combination will be evaluated using 10-fold cross validation. A total of 4*4*10 or 160 models will be trained and evaluated.\n",
        "\n"
      ]
    },
    {
      "metadata": {
        "id": "wXvt-hOq7kdh",
        "colab_type": "code",
        "outputId": "cbe8d4c4-40f8-46a8-f8d8-784ecb581249",
        "colab": {
          "base_uri": "https://localhost:8080/",
          "height": 86
        }
      },
      "cell_type": "code",
      "source": [
        "# grid search\n",
        "model = XGBClassifier()\n",
        "n_estimators = [350, 300, 250, 400]\n",
        "max_depth = [6, 7, 8, 9]\n",
        "print(max_depth)\n",
        "param_grid = dict(max_depth=max_depth, n_estimators=n_estimators)\n",
        "kfold = StratifiedKFold(n_splits=10, shuffle=True, random_state=7)\n",
        "grid_search = GridSearchCV(model, param_grid, scoring=\"neg_log_loss\", n_jobs=-1, cv=kfold, verbose=1)\n",
        "grid_result = grid_search.fit(X_train, y_train)\n",
        "# summarize results\n",
        "print(\"Best: %f using %s\" % (grid_result.best_score_, grid_result.best_params_))\n",
        "means = grid_result.cv_results_['mean_test_score']\n",
        "stds = grid_result.cv_results_['std_test_score']\n",
        "params = grid_result.cv_results_['params']\n",
        "for mean, stdev, param in zip(means, stds, params):\n",
        "\tprint(\"%f (%f) with: %r\" % (mean, stdev, param))\n"
      ],
      "execution_count": 0,
      "outputs": [
        {
          "output_type": "stream",
          "text": [
            "[6, 7, 8, 9]\n",
            "Fitting 10 folds for each of 16 candidates, totalling 160 fits\n"
          ],
          "name": "stdout"
        },
        {
          "output_type": "stream",
          "text": [
            "[Parallel(n_jobs=-1)]: Using backend LokyBackend with 2 concurrent workers.\n",
            "[Parallel(n_jobs=-1)]: Done  46 tasks      | elapsed:  6.4min\n"
          ],
          "name": "stderr"
        }
      ]
    },
    {
      "metadata": {
        "scrolled": true,
        "id": "7CZCRJj37kdj",
        "colab_type": "code",
        "colab": {}
      },
      "cell_type": "code",
      "source": [
        "# plot results\n",
        "scores = np.array(means).reshape(len(max_depth), len(n_estimators))\n",
        "for i, value in enumerate(max_depth):\n",
        "    plt.plot(n_estimators, scores[i], label='depth: ' + str(value))\n",
        "plt.legend()\n",
        "plt.xlabel('n_estimators')\n",
        "plt.ylabel('Log Loss')\n",
        "plt.savefig('n_estimators_vs_max_depth.png')"
      ],
      "execution_count": 0,
      "outputs": []
    },
    {
      "metadata": {
        "id": "jowXGDqM7kdp",
        "colab_type": "text"
      },
      "cell_type": "markdown",
      "source": [
        "We can see that the best result was achieved with a n_estimators=250 and max_depth=6, similar to the best values found from the previous two rounds of standalone parameter tuning (n_estimators=250, max_depth=5).\n",
        "\n",
        "We can plot the relationship between each series of max_depth values for a given n_estimators."
      ]
    },
    {
      "metadata": {
        "id": "8NH6fF7x7kdq",
        "colab_type": "text"
      },
      "cell_type": "markdown",
      "source": [
        "Fewer boosted trees are required with increased tree depth.\n",
        "\n",
        "Further, we would expect the increase complexity provided by deeper individual trees to result in greater overfitting of the training data which would be exacerbated by having more trees, in turn resulting in a lower cross validation score. We don’t see this here as our trees are not that deep nor do we have too many. Exploring this expectation  is left as an exercise you could explore yourself."
      ]
    },
    {
      "metadata": {
        "id": "pPqwlzdI7kdr",
        "colab_type": "text"
      },
      "cell_type": "markdown",
      "source": [
        "## Creating the model with the best values for Hyper parameters\n"
      ]
    },
    {
      "metadata": {
        "id": "Ze0o50zm7kdr",
        "colab_type": "code",
        "colab": {}
      },
      "cell_type": "code",
      "source": [
        "model = XGBClassifier(max_depth=6, n_estimators=250)"
      ],
      "execution_count": 0,
      "outputs": []
    },
    {
      "metadata": {
        "id": "vn_yCs3U7kdt",
        "colab_type": "code",
        "colab": {}
      },
      "cell_type": "code",
      "source": [
        "print(model)"
      ],
      "execution_count": 0,
      "outputs": []
    },
    {
      "metadata": {
        "scrolled": true,
        "id": "bEfcaYg97kdv",
        "colab_type": "code",
        "colab": {}
      },
      "cell_type": "code",
      "source": [
        "model.fit(X_train, y_train)\n",
        "y_pred = model.predict(X_test)\n",
        "predictions = [round(value) for value in y_pred]"
      ],
      "execution_count": 0,
      "outputs": []
    },
    {
      "metadata": {
        "scrolled": true,
        "id": "LCso__hg7kdx",
        "colab_type": "code",
        "colab": {}
      },
      "cell_type": "code",
      "source": [
        "print('ROC for the XGBoost model is: ' + str(evaluate(model, X_train,y_train, X_test, y_test)))"
      ],
      "execution_count": 0,
      "outputs": []
    },
    {
      "metadata": {
        "id": "OotTSSHd7kdz",
        "colab_type": "text"
      },
      "cell_type": "markdown",
      "source": [
        "## Thus we got a higher ROC for XGBoost model than the bagging models tried earlier"
      ]
    },
    {
      "metadata": {
        "id": "SvBnUEK47kd0",
        "colab_type": "text"
      },
      "cell_type": "markdown",
      "source": [
        "## Classification with Logistic Regression\n",
        "\n",
        "Compare logistic regression with the based tree algorithms in Part A on the same data. Answer the following questions for logistic regression:\n",
        "\n",
        "* Which independent variables are important?\n",
        "* Is there multi-colinearity?\n",
        "* How does it compare to the the models in Part A?"
      ]
    },
    {
      "metadata": {
        "id": "vk9iwN_M7kd0",
        "colab_type": "text"
      },
      "cell_type": "markdown",
      "source": [
        "We need to develop a Nominal Logistic Regression model which will predict whether the house price is HIGH(1) or LOW(-1)"
      ]
    },
    {
      "metadata": {
        "id": "PTeDRSZn7kd1",
        "colab_type": "code",
        "colab": {}
      },
      "cell_type": "code",
      "source": [
        "import statsmodels.api as sm\n",
        "import statsmodels.formula.api as smf\n",
        "import pandas as pd\n",
        "from sklearn.linear_model import LogisticRegression"
      ],
      "execution_count": 0,
      "outputs": []
    },
    {
      "metadata": {
        "id": "X3b3nM-B7kd3",
        "colab_type": "code",
        "colab": {}
      },
      "cell_type": "code",
      "source": [
        "features['price_cat_log'] = features['price'].apply(lambda x: 1 if x > median_price else 0)"
      ],
      "execution_count": 0,
      "outputs": []
    },
    {
      "metadata": {
        "scrolled": true,
        "id": "QmbQgvOr7kd4",
        "colab_type": "code",
        "colab": {}
      },
      "cell_type": "code",
      "source": [
        "features.columns"
      ],
      "execution_count": 0,
      "outputs": []
    },
    {
      "metadata": {
        "id": "cZA4vVIA7kd7",
        "colab_type": "code",
        "colab": {}
      },
      "cell_type": "code",
      "source": [
        "price_cat_log=features['price_cat_log']\n",
        "y_log=price_cat_log"
      ],
      "execution_count": 0,
      "outputs": []
    },
    {
      "metadata": {
        "id": "Vnecjuf67kd8",
        "colab_type": "code",
        "colab": {}
      },
      "cell_type": "code",
      "source": [
        "X_train_log,X_test_log,y_train_log,y_test_log=train_test_split(features[['bedrooms', 'sqft_living', 'waterfront', 'sqft_basement', 'yr_built', 'bathrooms']]\n",
        "                                                               ,y_log,test_size=0.3,random_state=0)"
      ],
      "execution_count": 0,
      "outputs": []
    },
    {
      "metadata": {
        "id": "Xm4tw8x87kd-",
        "colab_type": "code",
        "colab": {}
      },
      "cell_type": "code",
      "source": [
        "logreg=LogisticRegression().fit(X_train_log,y_train_log)\n",
        "logreg\n",
        "print(\"Training set score: {:.3f}\".format(logreg.score(X_train_log,y_train_log)))\n",
        "print(\"Test set score: {:.3f}\".format(logreg.score(X_test_log,y_test_log)))"
      ],
      "execution_count": 0,
      "outputs": []
    },
    {
      "metadata": {
        "id": "E3W0dAPk7keC",
        "colab_type": "code",
        "colab": {}
      },
      "cell_type": "code",
      "source": [
        "logit_model=sm.Logit(y_train_log,X_train_log)\n",
        "result=logit_model.fit()\n",
        "print(result.summary())"
      ],
      "execution_count": 0,
      "outputs": []
    },
    {
      "metadata": {
        "id": "deiDLZYx7keD",
        "colab_type": "text"
      },
      "cell_type": "markdown",
      "source": [
        "### Looking at the z scores, we know that, sqft_living is the most significant followed by yr_built and then the rest."
      ]
    },
    {
      "metadata": {
        "scrolled": true,
        "id": "Ol41A1_H7keE",
        "colab_type": "code",
        "colab": {}
      },
      "cell_type": "code",
      "source": [
        "from sklearn.metrics import roc_curve\n",
        "falsepos,truepos,thresholds=roc_curve(y_test_log,logreg.decision_function(X_test_log))\n",
        "\n",
        "plt.plot(falsepos,truepos,label=\"ROC\")\n",
        "plt.xlabel(\"False Positive Rate\")\n",
        "plt.ylabel(\"True Positive Rate\")\n",
        "\n",
        "cutoff=np.argmin(np.abs(thresholds))\n",
        "plt.plot(falsepos[cutoff],truepos[cutoff],'o',markersize=10,label=\"cutoff\",fillstyle=\"none\")\n",
        "plt.show()"
      ],
      "execution_count": 0,
      "outputs": []
    },
    {
      "metadata": {
        "id": "O2C8VCxj7keH",
        "colab_type": "code",
        "colab": {}
      },
      "cell_type": "code",
      "source": [
        "from sklearn import metrics\n",
        "metrics.auc(falsepos, truepos)"
      ],
      "execution_count": 0,
      "outputs": []
    },
    {
      "metadata": {
        "id": "P7kDeKc07keJ",
        "colab_type": "text"
      },
      "cell_type": "markdown",
      "source": [
        "## As compared to Models in Part A, the accuracy of the Logistic Regression model is less. "
      ]
    },
    {
      "metadata": {
        "id": "r2Hwk7eU7keJ",
        "colab_type": "text"
      },
      "cell_type": "markdown",
      "source": [
        "## Regression with Trees \n",
        "Compare at least one bagging based tree algorithm (e.g. Random Forest) with a boosting based tree algorithm on a regression problem.\n",
        "Answer the following questions for each supervised learner:\n",
        "\n",
        "* Which hyper-parameters are important?    \n",
        "* What hyper-parameter values work best?   \n",
        "* Which supervised learner works best on the test data?  \n"
      ]
    },
    {
      "metadata": {
        "id": "wqHzZJ_r7keK",
        "colab_type": "text"
      },
      "cell_type": "markdown",
      "source": [
        "### Random Forest based Regression"
      ]
    },
    {
      "metadata": {
        "id": "S207Dmne7keK",
        "colab_type": "text"
      },
      "cell_type": "markdown",
      "source": [
        "To look at the available hyperparameters, we can create a random forest and examine the default values."
      ]
    },
    {
      "metadata": {
        "id": "0snT3fcp7keK",
        "colab_type": "code",
        "colab": {}
      },
      "cell_type": "code",
      "source": [
        "from sklearn.ensemble import RandomForestRegressor\n",
        "rf = RandomForestRegressor(random_state = 42)\n",
        "from pprint import pprint\n",
        "# Look at parameters used by our current forest\n",
        "print('Parameters currently in use:\\n')\n",
        "pprint(rf.get_params())"
      ],
      "execution_count": 0,
      "outputs": []
    },
    {
      "metadata": {
        "id": "RUQxST6H7keP",
        "colab_type": "text"
      },
      "cell_type": "markdown",
      "source": [
        "* estimators = number of trees in the foreset\n",
        "* max_features = max number of features considered for splitting a node\n",
        "* max_depth = max number of levels in each decision tree\n",
        "* min_samples_split = min number of data points placed in a node before the node is split\n",
        "* min_samples_leaf = min number of data points allowed in a leaf node\n",
        "* bootstrap = method for sampling data points (with or without replacement)"
      ]
    },
    {
      "metadata": {
        "id": "383Me_p07keQ",
        "colab_type": "code",
        "colab": {}
      },
      "cell_type": "code",
      "source": [
        "X_features_reg = ['bedrooms', 'bathrooms', 'sqft_living', 'sqft_lot',\n",
        "       'waterfront', 'sqft_above', 'sqft_basement', 'yr_built', 'yr_renovated',\n",
        "       'lat', 'long', 'sqft_living15', 'sqft_lot15', 'basement_present',\n",
        "       'renovated', 'floors#1.0', 'floors#1.5', 'floors#2.0', 'floors#2.5',\n",
        "       'floors#3.0', 'floors#3.5', 'view#0', 'view#1', 'view#2', 'view#3',\n",
        "       'view#4', 'condition#1', 'condition#2', 'condition#3', 'condition#4',\n",
        "       'condition#5', 'grade#1', 'grade#3', 'grade#4', 'grade#5', 'grade#6',\n",
        "       'grade#7', 'grade#8', 'grade#9', 'grade#10', 'grade#11', 'grade#12',\n",
        "       'grade#13', 'zipcode#98004', 'zipcode#98102', 'zipcode#98109',\n",
        "       'zipcode#98112', 'zipcode#98039', 'zipcode#98040']\n",
        "\n",
        "X_reg=features[['bedrooms', 'bathrooms', 'sqft_living', 'sqft_lot',\n",
        "       'waterfront', 'sqft_above', 'sqft_basement', 'yr_built', 'yr_renovated',\n",
        "       'lat', 'long', 'sqft_living15', 'sqft_lot15', 'basement_present',\n",
        "       'renovated', 'floors#1.0', 'floors#1.5', 'floors#2.0', 'floors#2.5',\n",
        "       'floors#3.0', 'floors#3.5', 'view#0', 'view#1', 'view#2', 'view#3',\n",
        "       'view#4', 'condition#1', 'condition#2', 'condition#3', 'condition#4',\n",
        "       'condition#5', 'grade#1', 'grade#3', 'grade#4', 'grade#5', 'grade#6',\n",
        "       'grade#7', 'grade#8', 'grade#9', 'grade#10', 'grade#11', 'grade#12',\n",
        "       'grade#13', 'zipcode#98004', 'zipcode#98102', 'zipcode#98109',\n",
        "       'zipcode#98112', 'zipcode#98039', 'zipcode#98040']]  # Features\n",
        "\n",
        "y_reg=features['price']  # Labels\n",
        "       \n",
        "# Split dataset into training set and test set\n",
        "X_train_reg, X_test_reg, y_train_reg, y_test_reg = train_test_split(X_reg, y_reg, test_size=0.3) # 70% training and 30% test"
      ],
      "execution_count": 0,
      "outputs": []
    },
    {
      "metadata": {
        "id": "0h8h6pfX7keS",
        "colab_type": "text"
      },
      "cell_type": "markdown",
      "source": [
        "### Random Search Cross Validation in Scikit-Learn"
      ]
    },
    {
      "metadata": {
        "id": "mSjTIAAf7keS",
        "colab_type": "text"
      },
      "cell_type": "markdown",
      "source": [
        "To use RandomizedSearchCV, we first need to create a parameter grid to sample from during fitting:"
      ]
    },
    {
      "metadata": {
        "id": "lq3ptvDP7keS",
        "colab_type": "code",
        "colab": {}
      },
      "cell_type": "code",
      "source": [
        "from sklearn.model_selection import RandomizedSearchCV\n",
        "# Number of trees in random forest\n",
        "n_estimators = [int(x) for x in np.linspace(start = 10, stop = 200, num = 5)]\n",
        "# Number of features to consider at every split\n",
        "max_features = ['auto', 'sqrt']\n",
        "# Maximum number of levels in tree\n",
        "max_depth = [int(x) for x in np.linspace(2, 10, num = 5)]\n",
        "max_depth.append(None)\n",
        "# Minimum number of samples required to split a node\n",
        "min_samples_split = [5, 10]\n",
        "# Minimum number of samples required at each leaf node\n",
        "min_samples_leaf = [2, 4]\n",
        "# Method of selecting samples for training each tree\n",
        "#bootstrap = [True, False]\n",
        "# Create the random grid\n",
        "random_grid = {'n_estimators': n_estimators,\n",
        "               'max_features': max_features,\n",
        "               'max_depth': max_depth,\n",
        "               'min_samples_split': min_samples_split,\n",
        "               'min_samples_leaf': min_samples_leaf}\n",
        "pprint(random_grid)"
      ],
      "execution_count": 0,
      "outputs": []
    },
    {
      "metadata": {
        "id": "G-NpI80S7keV",
        "colab_type": "code",
        "colab": {}
      },
      "cell_type": "code",
      "source": [
        "# Use the random grid to search for best hyperparameters\n",
        "# First create the base model to tune\n",
        "rf = RandomForestRegressor()\n",
        "# Random search of parameters, using 3 fold cross validation, \n",
        "# search across 100 different combinations, and use all available cores\n",
        "rf_random = RandomizedSearchCV(estimator = rf, param_distributions = random_grid, n_iter = 100, cv = 3, verbose=2, random_state=42, n_jobs = -1)\n",
        "# Fit the random search model\n",
        "rf_random.fit(X_train_reg, y_train_reg)"
      ],
      "execution_count": 0,
      "outputs": []
    },
    {
      "metadata": {
        "id": "Aa8imFET7keb",
        "colab_type": "code",
        "colab": {}
      },
      "cell_type": "code",
      "source": [
        "def evaluate_reg(model, test_features, test_labels):\n",
        "    predictions = model.predict(test_features)\n",
        "    errors = abs(predictions - test_labels)\n",
        "    mape = 100 * np.mean(errors / test_labels)\n",
        "    accuracy = 100 - mape\n",
        "    print('Model Performance')\n",
        "    print('Average Error: {:0.4f} degrees.'.format(np.mean(errors)))\n",
        "    print('Accuracy = {:0.2f}%.'.format(accuracy))\n",
        "    \n",
        "    return accuracy\n",
        "base_model = RandomForestRegressor(n_estimators = 10, random_state = 42)\n",
        "base_model.fit(X_train_reg, y_train_reg)\n",
        "base_accuracy = evaluate_reg(base_model, X_test_reg, y_test_reg)"
      ],
      "execution_count": 0,
      "outputs": []
    },
    {
      "metadata": {
        "id": "XE1g9ey27keg",
        "colab_type": "code",
        "colab": {}
      },
      "cell_type": "code",
      "source": [
        "rf_random.best_estimator_"
      ],
      "execution_count": 0,
      "outputs": []
    },
    {
      "metadata": {
        "scrolled": true,
        "id": "3Z4xGcPY7kei",
        "colab_type": "code",
        "colab": {}
      },
      "cell_type": "code",
      "source": [
        "best_random = rf_random.best_estimator_\n",
        "random_accuracy = evaluate_reg(best_random, X_test_reg, y_test_reg)"
      ],
      "execution_count": 0,
      "outputs": []
    },
    {
      "metadata": {
        "id": "yqJrfgCe7kel",
        "colab_type": "text"
      },
      "cell_type": "markdown",
      "source": [
        "### Grid Search with Cross Validation"
      ]
    },
    {
      "metadata": {
        "id": "KT-lyV707kel",
        "colab_type": "code",
        "colab": {}
      },
      "cell_type": "code",
      "source": [
        "from sklearn.model_selection import GridSearchCV\n",
        "# Create the parameter grid based on the results of random search \n",
        "param_grid = {\n",
        "    'bootstrap': [True, False],\n",
        "    'max_depth': [None],\n",
        "    'max_features': [2, 3],\n",
        "    'min_samples_leaf': [2,3,4],\n",
        "    'min_samples_split': [3,5,7],\n",
        "    'n_estimators': [100, 200, 300, 1000]\n",
        "}\n",
        "# Create a based model\n",
        "rf = RandomForestRegressor()\n",
        "\n",
        "# Instantiate the grid search model\n",
        "grid_search = GridSearchCV(estimator = rf, param_grid = param_grid, \n",
        "                          cv = 3, n_jobs = -1, verbose = 2)"
      ],
      "execution_count": 0,
      "outputs": []
    },
    {
      "metadata": {
        "id": "49Oa-cgQ7ken",
        "colab_type": "code",
        "colab": {}
      },
      "cell_type": "code",
      "source": [
        "# Fit the grid search to the data\n",
        "grid_search.fit(X_train_reg, y_train_reg)\n",
        "grid_search.best_params_"
      ],
      "execution_count": 0,
      "outputs": []
    },
    {
      "metadata": {
        "scrolled": true,
        "id": "lRgtH1017kep",
        "colab_type": "code",
        "colab": {}
      },
      "cell_type": "code",
      "source": [
        "grid_search.best_params_"
      ],
      "execution_count": 0,
      "outputs": []
    },
    {
      "metadata": {
        "id": "CW5EkFy47ker",
        "colab_type": "code",
        "colab": {}
      },
      "cell_type": "code",
      "source": [
        "best_grid = grid_search.best_estimator_\n",
        "grid_accuracy = evaluate_reg(best_grid, X_test_reg, y_test_reg)"
      ],
      "execution_count": 0,
      "outputs": []
    },
    {
      "metadata": {
        "id": "vlyaPQzU7kes",
        "colab_type": "text"
      },
      "cell_type": "markdown",
      "source": [
        "## Now lets implement XGBoost (eXtreme Gradient Boosting)"
      ]
    },
    {
      "metadata": {
        "id": "lS425JYI7ket",
        "colab_type": "code",
        "colab": {}
      },
      "cell_type": "code",
      "source": [
        "from xgboost import XGBRegressor"
      ],
      "execution_count": 0,
      "outputs": []
    },
    {
      "metadata": {
        "scrolled": true,
        "id": "vygETYQv7kev",
        "colab_type": "code",
        "colab": {}
      },
      "cell_type": "code",
      "source": [
        "base_model = XGBRegressor()\n",
        "base_model.fit(X_train_reg, y_train_reg)\n",
        "base_accuracy = evaluate_reg(base_model, X_test_reg, y_test_reg)"
      ],
      "execution_count": 0,
      "outputs": []
    },
    {
      "metadata": {
        "id": "DPhap1lh7kex",
        "colab_type": "code",
        "colab": {}
      },
      "cell_type": "code",
      "source": [
        "base_model"
      ],
      "execution_count": 0,
      "outputs": []
    },
    {
      "metadata": {
        "id": "6qiAveGf7key",
        "colab_type": "code",
        "colab": {}
      },
      "cell_type": "code",
      "source": [
        "model = XGBRegressor()\n",
        "n_estimators = range(50, 400, 50)\n",
        "param_grid = dict(n_estimators=n_estimators)\n",
        "kfold = StratifiedKFold(n_splits=10, shuffle=True, random_state=7)\n",
        "grid_search = GridSearchCV(model, param_grid, n_jobs=-1, cv=kfold)\n",
        "grid_result = grid_search.fit(X_train, y_train)\n",
        "# summarize results\n",
        "print(\"Best: %f using %s\" % (grid_result.best_score_, grid_result.best_params_))\n",
        "means = grid_result.cv_results_['mean_test_score']\n",
        "stds = grid_result.cv_results_['std_test_score']\n",
        "params = grid_result.cv_results_['params']\n",
        "for mean, stdev, param in zip(means, stds, params):\n",
        "\tprint(\"%f (%f) with: %r\" % (mean, stdev, param))\n"
      ],
      "execution_count": 0,
      "outputs": []
    },
    {
      "metadata": {
        "scrolled": true,
        "id": "Ml4Qf4uR7ke0",
        "colab_type": "code",
        "colab": {}
      },
      "cell_type": "code",
      "source": [
        "model = XGBRegressor()\n",
        "max_depth = range(1, 11, 2)\n",
        "print(max_depth)\n",
        "param_grid = dict(max_depth=max_depth)\n",
        "kfold = StratifiedKFold(n_splits=10, shuffle=True, random_state=7)\n",
        "grid_search = GridSearchCV(model, param_grid, n_jobs=-1, cv=kfold, verbose=1)\n",
        "grid_result = grid_search.fit(X_train_reg, y_train_reg)\n",
        "# summarize results\n",
        "print(\"Best: %f using %s\" % (grid_result.best_score_, grid_result.best_params_))\n",
        "means = grid_result.cv_results_['mean_test_score']\n",
        "stds = grid_result.cv_results_['std_test_score']\n",
        "params = grid_result.cv_results_['params']\n",
        "for mean, stdev, param in zip(means, stds, params):\n",
        "\tprint(\"%f (%f) with: %r\" % (mean, stdev, param))\n"
      ],
      "execution_count": 0,
      "outputs": []
    },
    {
      "metadata": {
        "id": "OsfpdMPv7ke3",
        "colab_type": "code",
        "colab": {}
      },
      "cell_type": "code",
      "source": [
        "# grid search\n",
        "model = XGBRegressor()\n",
        "n_estimators = [300,350,400]\n",
        "max_depth = [4,5,6,7]\n",
        "print(max_depth)\n",
        "param_grid = dict(max_depth=max_depth, n_estimators=n_estimators)\n",
        "kfold = StratifiedKFold(n_splits=10, shuffle=True, random_state=7)\n",
        "grid_search = GridSearchCV(model, param_grid, n_jobs=-1, cv=kfold, verbose=1)\n",
        "grid_result = grid_search.fit(X_train, y_train)\n",
        "# summarize results\n",
        "print(\"Best: %f using %s\" % (grid_result.best_score_, grid_result.best_params_))\n",
        "means = grid_result.cv_results_['mean_test_score']\n",
        "stds = grid_result.cv_results_['std_test_score']\n",
        "params = grid_result.cv_results_['params']\n",
        "for mean, stdev, param in zip(means, stds, params):\n",
        "\tprint(\"%f (%f) with: %r\" % (mean, stdev, param))"
      ],
      "execution_count": 0,
      "outputs": []
    },
    {
      "metadata": {
        "id": "51qQIB9y7ke6",
        "colab_type": "code",
        "colab": {}
      },
      "cell_type": "code",
      "source": [
        "best_XGBoost = grid_result.best_estimator_\n",
        "best_XGBoost"
      ],
      "execution_count": 0,
      "outputs": []
    },
    {
      "metadata": {
        "scrolled": false,
        "id": "-Z8vQHSg7ke8",
        "colab_type": "code",
        "colab": {}
      },
      "cell_type": "code",
      "source": [
        "best_XGBoost.fit(X_train_reg, y_train_reg)\n",
        "best_accuracy = evaluate_reg(best_XGBoost, X_test_reg, y_test_reg)"
      ],
      "execution_count": 0,
      "outputs": []
    },
    {
      "metadata": {
        "id": "HobRgnmm7ke-",
        "colab_type": "text"
      },
      "cell_type": "markdown",
      "source": [
        "### XGBoost Algo provides better predictions than Random Forest for the regression problem. And both of them provide a lower RMSE than Linear Regression"
      ]
    },
    {
      "metadata": {
        "id": "rZ0x2XFi7kfA",
        "colab_type": "text"
      },
      "cell_type": "markdown",
      "source": [
        "#### Evaluating the regression models\n"
      ]
    },
    {
      "metadata": {
        "id": "Sd9Y2fQP7kfB",
        "colab_type": "code",
        "colab": {}
      },
      "cell_type": "code",
      "source": [
        "from sklearn.metrics import mean_squared_error\n",
        "from math import sqrt"
      ],
      "execution_count": 0,
      "outputs": []
    },
    {
      "metadata": {
        "id": "wbQ63W8M7kfE",
        "colab_type": "code",
        "colab": {}
      },
      "cell_type": "code",
      "source": [
        "#Random Forest best model\n",
        "print('Random forest best model RMSE is : ' + str(round(sqrt(mean_squared_error(best_random.predict(X_test_reg), y_test_reg)),2)))"
      ],
      "execution_count": 0,
      "outputs": []
    },
    {
      "metadata": {
        "id": "QyGD69Xn7kfH",
        "colab_type": "code",
        "outputId": "9d6412d0-00c5-488a-ab6b-6b36801876bd",
        "colab": {}
      },
      "cell_type": "code",
      "source": [
        "#XGBoost Best model\n",
        "print('XGBoost best model RMSE is : ' + str(round(sqrt(mean_squared_error(best_XGBoost.predict(X_test_reg), y_test_reg)),2)))"
      ],
      "execution_count": 0,
      "outputs": [
        {
          "output_type": "stream",
          "text": [
            "XGBoost best model RMSE is : 112075.12\n"
          ],
          "name": "stdout"
        }
      ]
    },
    {
      "metadata": {
        "id": "IT0lcvXJ7kfI",
        "colab_type": "code",
        "outputId": "dac44617-c7cf-43ec-a2b8-3965ccf041ad",
        "colab": {}
      },
      "cell_type": "code",
      "source": [
        "#Linear regression - multiple linear regression model from previous assignment\n",
        "print('Linear regression best model from Assignment 3: ' + str(205986.42))"
      ],
      "execution_count": 0,
      "outputs": [
        {
          "output_type": "stream",
          "text": [
            "Linear regression best model from Assignment 3: 205986.42\n"
          ],
          "name": "stdout"
        }
      ]
    },
    {
      "metadata": {
        "id": "CjA4jpuc7kfK",
        "colab_type": "text"
      },
      "cell_type": "markdown",
      "source": [
        "### Part E\n",
        "\n",
        "* For Part E:\n",
        "    * ??? Another supervised algorithm"
      ]
    },
    {
      "metadata": {
        "id": "dEuJVJDI7kfL",
        "colab_type": "text"
      },
      "cell_type": "markdown",
      "source": [
        "## Conclusions\n",
        "\n",
        "Summarize your results in a few sentences and use this summary to support your conclusion. State whether your results support or contradict your hypothesis. \n",
        "\n",
        "\n",
        "If you are comparing many models create a table that orders the models and their evaluation and hyperparameters.\n",
        "\n"
      ]
    },
    {
      "metadata": {
        "id": "PrIDuhmH7kfM",
        "colab_type": "text"
      },
      "cell_type": "markdown",
      "source": [
        "### Contributions\n",
        "\n",
        "Must explain what was done by you and estimate a percentage of the code written by you."
      ]
    },
    {
      "metadata": {
        "collapsed": true,
        "id": "a-0QHsxz7kfM",
        "colab_type": "text"
      },
      "cell_type": "markdown",
      "source": [
        "## Citations\n",
        "\n",
        "Must cite any code used"
      ]
    },
    {
      "metadata": {
        "id": "VuJxw7zT7kfM",
        "colab_type": "text"
      },
      "cell_type": "markdown",
      "source": [
        "### License\n",
        "\n",
        "Must have a license such as the MIT License [https://opensource.org/licenses/MIT](https://opensource.org/licenses/MIT)    "
      ]
    }
  ]
}